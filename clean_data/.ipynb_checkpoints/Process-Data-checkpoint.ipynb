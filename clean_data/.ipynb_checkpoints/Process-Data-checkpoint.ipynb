{
 "cells": [
  {
   "cell_type": "code",
   "execution_count": 1,
   "id": "4b9e8522-5859-42ea-8452-e62f8f192ec1",
   "metadata": {},
   "outputs": [],
   "source": [
    "import numpy as np\n",
    "import pandas as pd\n",
    "import matplotlib.pyplot as plt\n",
    "import seaborn as sns\n",
    "\n",
    "# sets the theme of the charts\n",
    "plt.style.use('seaborn-v0_8-darkgrid')\n",
    "\n",
    "%matplotlib inline"
   ]
  },
  {
   "cell_type": "code",
   "execution_count": 2,
   "id": "e0f4f1e3-31ba-4be1-b092-85dd125cbed8",
   "metadata": {},
   "outputs": [],
   "source": [
    "# imports the csv files\n",
    "px_df = pd.read_csv('px.csv', low_memory=False)\n",
    "doctors_df = pd.read_csv('doctors.csv', low_memory=False, encoding='unicode_escape')\n",
    "clinics_df = pd.read_csv('clinics.csv', low_memory=False, encoding='unicode_escape')\n",
    "appointments_df = pd.read_csv('appointments.csv', low_memory=False, encoding='unicode_escape')"
   ]
  },
  {
   "cell_type": "code",
   "execution_count": 4,
   "id": "b2620b7c-2f7c-4557-9242-5d1186e1228c",
   "metadata": {},
   "outputs": [
    {
     "name": "stdout",
     "output_type": "stream",
     "text": [
      "<class 'pandas.core.frame.DataFrame'>\n",
      "RangeIndex: 6507813 entries, 0 to 6507812\n",
      "Data columns (total 3 columns):\n",
      " #   Column  Dtype \n",
      "---  ------  ----- \n",
      " 0   pxid    object\n",
      " 1   age     object\n",
      " 2   gender  object\n",
      "dtypes: object(3)\n",
      "memory usage: 149.0+ MB\n",
      "<class 'pandas.core.frame.DataFrame'>\n",
      "RangeIndex: 60024 entries, 0 to 60023\n",
      "Data columns (total 3 columns):\n",
      " #   Column         Non-Null Count  Dtype  \n",
      "---  ------         --------------  -----  \n",
      " 0   doctorid       60024 non-null  object \n",
      " 1   mainspecialty  27055 non-null  object \n",
      " 2   age            20028 non-null  float64\n",
      "dtypes: float64(1), object(2)\n",
      "memory usage: 1.4+ MB\n",
      "<class 'pandas.core.frame.DataFrame'>\n",
      "RangeIndex: 53962 entries, 0 to 53961\n",
      "Data columns (total 6 columns):\n",
      " #   Column        Non-Null Count  Dtype \n",
      "---  ------        --------------  ----- \n",
      " 0   clinicid      53962 non-null  object\n",
      " 1   hospitalname  17538 non-null  object\n",
      " 2   IsHospital    53962 non-null  bool  \n",
      " 3   City          53962 non-null  object\n",
      " 4   Province      53962 non-null  object\n",
      " 5   RegionName    53962 non-null  object\n",
      "dtypes: bool(1), object(5)\n",
      "memory usage: 2.1+ MB\n",
      "<class 'pandas.core.frame.DataFrame'>\n",
      "RangeIndex: 9752932 entries, 0 to 9752931\n",
      "Data columns (total 11 columns):\n",
      " #   Column      Dtype \n",
      "---  ------      ----- \n",
      " 0   pxid        object\n",
      " 1   clinicid    object\n",
      " 2   doctorid    object\n",
      " 3   apptid      object\n",
      " 4   status      object\n",
      " 5   TimeQueued  object\n",
      " 6   QueueDate   object\n",
      " 7   StartTime   object\n",
      " 8   EndTime     object\n",
      " 9   type        object\n",
      " 10  Virtual     object\n",
      "dtypes: object(11)\n",
      "memory usage: 818.5+ MB\n"
     ]
    }
   ],
   "source": [
    "# checks the content of the csv files\n",
    "px_df.info()\n",
    "doctors_df.info()\n",
    "clinics_df.info()\n",
    "appointments_df.info()"
   ]
  },
  {
   "cell_type": "code",
   "execution_count": 5,
   "id": "ab000f8c-a396-44ec-b930-b8fce4584684",
   "metadata": {},
   "outputs": [
    {
     "name": "stdout",
     "output_type": "stream",
     "text": [
      "<class 'pandas.core.frame.DataFrame'>\n",
      "RangeIndex: 53962 entries, 0 to 53961\n",
      "Data columns (total 6 columns):\n",
      " #   Column        Non-Null Count  Dtype \n",
      "---  ------        --------------  ----- \n",
      " 0   clinicid      53962 non-null  object\n",
      " 1   hospitalname  17538 non-null  object\n",
      " 2   IsHospital    53962 non-null  bool  \n",
      " 3   City          53962 non-null  object\n",
      " 4   Province      53962 non-null  object\n",
      " 5   RegionName    53962 non-null  object\n",
      "dtypes: bool(1), object(5)\n",
      "memory usage: 2.1+ MB\n"
     ]
    }
   ],
   "source": [
    "clinics_df.info()"
   ]
  },
  {
   "cell_type": "markdown",
   "id": "78cbf890",
   "metadata": {},
   "source": [
    "## Clinics Dataset\n",
    "1. `clinicid`: unique indentifiers for the clinics (no missing values)\n",
    "2. `hospitalname`: names of hospitals (with missing values)\n",
    "3. `isHospital`: indicator if entity is hospital or not (no missing values)\n",
    "4. `City`: names of the cities (no missing values)\n",
    "5. `Province`: names of the provinces (no missing values)\n",
    "6. `RegionName` names of the regions (no missing values)"
   ]
  },
  {
   "cell_type": "markdown",
   "id": "02479669",
   "metadata": {},
   "source": [
    "`clinicid` data cleaning"
   ]
  },
  {
   "cell_type": "code",
   "execution_count": 16,
   "id": "978ac1d9",
   "metadata": {},
   "outputs": [
    {
     "data": {
      "text/plain": [
       "0        77EE3BC58CE560B86C2B59363281E914\n",
       "1        98C39996BF1543E974747A2549B3107C\n",
       "2        9AEADE7BEADA35C83D3B344FBAFE43B0\n",
       "3        FDBD31F2027F20378B1A80125FC862DB\n",
       "4        205C3608ECB984C1F5F5D2F52C934428\n",
       "                       ...               \n",
       "53957    8DE279A56DBCECE9F9FFC514A7D5A378\n",
       "53958    55A64961C9AA4134016786AE7202682E\n",
       "53959    075E464A7D15E6E5B9D8F8F5B5B16BB9\n",
       "53960    01063BCF7624297FBB408495BCB62904\n",
       "53961    5DA48026B54B6EEB6062817CAA7C30EA\n",
       "Name: clinicid, Length: 53962, dtype: object"
      ]
     },
     "execution_count": 16,
     "metadata": {},
     "output_type": "execute_result"
    }
   ],
   "source": [
    "clinics_df['clinicid']"
   ]
  },
  {
   "cell_type": "code",
   "execution_count": 18,
   "id": "a714e06f",
   "metadata": {},
   "outputs": [
    {
     "name": "stdout",
     "output_type": "stream",
     "text": [
      "no. of unique clinic ids: 53962\n",
      "no. of missing values: 0\n",
      "no. of lowercase values: 0\n",
      "no. of non-string values: 0\n"
     ]
    }
   ],
   "source": [
    "# step 1: check for duplicates\n",
    "unique_clinicid_count = clinics_df['clinicid'].nunique()\n",
    "\n",
    "# step 2: check for missing values\n",
    "missing_clinicid = clinics_df['clinicid'].isnull().sum()\n",
    "\n",
    "# step 3: check if values are in capital letters\n",
    "lowercase_clinicid = clinics_df['clinicid'].str.islower().sum()\n",
    "\n",
    "# step 4: check if datatype is consistent\n",
    "nonstring_clinicid = clinics_df['clinicid'].apply(type).ne(str).sum()\n",
    "\n",
    "print(\"no. of unique clinic ids:\", unique_clinicid_count)\n",
    "print(\"no. of missing values:\", missing_clinicid)\n",
    "print(\"no. of lowercase values:\",  lowercase_clinicid)\n",
    "print(\"no. of non-string values:\", nonstring_clinicid)"
   ]
  },
  {
   "cell_type": "markdown",
   "id": "fd8edb9e",
   "metadata": {},
   "source": [
    "`hospitalname` data cleaning"
   ]
  },
  {
   "cell_type": "code",
   "execution_count": 19,
   "id": "7c4e0586",
   "metadata": {},
   "outputs": [
    {
     "data": {
      "text/plain": [
       "0        St. Luke's Medical Center-Global City\n",
       "1                 Our Lady of Lourdes Hospital\n",
       "2                        Makati Medical Center\n",
       "3               Cardinal Santos Medical Center\n",
       "4                                          NaN\n",
       "                         ...                  \n",
       "53957                                      NaN\n",
       "53958                                      NaN\n",
       "53959                                      NaN\n",
       "53960      Malabon Hospital and Medical Center\n",
       "53961                                      NaN\n",
       "Name: hospitalname, Length: 53962, dtype: object"
      ]
     },
     "execution_count": 19,
     "metadata": {},
     "output_type": "execute_result"
    }
   ],
   "source": [
    "clinics_df['hospitalname']"
   ]
  },
  {
   "cell_type": "code",
   "execution_count": 21,
   "id": "131eade2",
   "metadata": {},
   "outputs": [
    {
     "name": "stdout",
     "output_type": "stream",
     "text": [
      "no. of missing values: 36424\n",
      "no. of non-string values: 0\n"
     ]
    }
   ],
   "source": [
    "# step 1: check for missing values\n",
    "missing_hospitalname = clinics_df['hospitalname'].isnull().sum()\n",
    "\n",
    "# step 2: check if datatype is consistent\n",
    "nonstring_hospitalname = clinics_df['clinicid'].apply(type).ne(str).sum()\n",
    "\n",
    "print(\"no. of missing values:\", missing_hospitalname)\n",
    "print(\"no. of non-string values:\", nonstring_hospitalname)"
   ]
  },
  {
   "cell_type": "code",
   "execution_count": 32,
   "id": "5105748a",
   "metadata": {},
   "outputs": [
    {
     "name": "stdout",
     "output_type": "stream",
     "text": [
      "no. of missing values (before): 36424\n",
      "no. of missing values (after): 0\n",
      "no. of missing values (final): 0\n"
     ]
    }
   ],
   "source": [
    "# address missing values by replacing null with \"N/A\"\n",
    "clinics_df_copy = clinics_df\n",
    "clinics_df_copy['hospitalname'].fillna(\"N/A\", inplace=True)\n",
    "\n",
    "# check for missing values\n",
    "missing_hospitalname_copy = clinics_df_copy['hospitalname'].isnull().sum()\n",
    "print(\"no. of missing values (before):\", missing_hospitalname)\n",
    "print(\"no. of missing values (after):\", missing_hospitalname_copy)\n",
    "\n",
    "# copy back the duplicate\n",
    "clinics_df = clinics_df_copy\n",
    "missing_hospitalname_final = clinics_df['hospitalname'].isnull().sum()\n",
    "print(\"no. of missing values (final):\", missing_hospitalname_copy)\n"
   ]
  },
  {
   "cell_type": "markdown",
   "id": "438d1b14",
   "metadata": {},
   "source": [
    "`isHospital` data cleaning"
   ]
  },
  {
   "cell_type": "code",
   "execution_count": 24,
   "id": "8c253ba7",
   "metadata": {},
   "outputs": [
    {
     "data": {
      "text/plain": [
       "0         True\n",
       "1         True\n",
       "2         True\n",
       "3         True\n",
       "4        False\n",
       "         ...  \n",
       "53957    False\n",
       "53958    False\n",
       "53959    False\n",
       "53960     True\n",
       "53961    False\n",
       "Name: IsHospital, Length: 53962, dtype: bool"
      ]
     },
     "execution_count": 24,
     "metadata": {},
     "output_type": "execute_result"
    }
   ],
   "source": [
    "clinics_df['IsHospital']"
   ]
  },
  {
   "cell_type": "code",
   "execution_count": 28,
   "id": "43b463ec",
   "metadata": {},
   "outputs": [
    {
     "name": "stdout",
     "output_type": "stream",
     "text": [
      "no. of missing values: 0\n",
      "no. of invalid values: 0\n"
     ]
    }
   ],
   "source": [
    "# step 1: check for missing values\n",
    "missing_isHospital = clinics_df['IsHospital'].isnull().sum()\n",
    "\n",
    "# step 2: check for data consistency\n",
    "valid_values = [True, False]\n",
    "invalid_values = clinics_df[~clinics_df['IsHospital'].isin(valid_values)]['IsHospital'].sum()\n",
    "\n",
    "print(\"no. of missing values:\", missing_isHospital)\n",
    "print(\"no. of invalid values:\", invalid_values)"
   ]
  }
 ],
 "metadata": {
  "kernelspec": {
   "display_name": "Python 3 (ipykernel)",
   "language": "python",
   "name": "python3"
  },
  "language_info": {
   "codemirror_mode": {
    "name": "ipython",
    "version": 3
   },
   "file_extension": ".py",
   "mimetype": "text/x-python",
   "name": "python",
   "nbconvert_exporter": "python",
   "pygments_lexer": "ipython3",
   "version": "3.10.11"
  }
 },
 "nbformat": 4,
 "nbformat_minor": 5
}
