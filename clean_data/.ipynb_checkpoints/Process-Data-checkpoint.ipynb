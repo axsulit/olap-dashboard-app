{
 "cells": [
  {
   "cell_type": "code",
   "execution_count": 1,
   "id": "4b9e8522-5859-42ea-8452-e62f8f192ec1",
   "metadata": {},
   "outputs": [],
   "source": [
    "import numpy as np\n",
    "import pandas as pd\n",
    "import matplotlib.pyplot as plt\n",
    "import seaborn as sns\n",
    "\n",
    "# sets the theme of the charts\n",
    "plt.style.use('seaborn-v0_8-darkgrid')\n",
    "\n",
    "%matplotlib inline"
   ]
  },
  {
   "cell_type": "code",
   "execution_count": 2,
   "id": "e0f4f1e3-31ba-4be1-b092-85dd125cbed8",
   "metadata": {},
   "outputs": [],
   "source": [
    "# imports the csv files\n",
    "appointments_df = pd.read_csv('appointments.csv', low_memory=False, encoding='unicode_escape')"
   ]
  },
  {
   "cell_type": "code",
   "execution_count": 3,
   "id": "b2620b7c-2f7c-4557-9242-5d1186e1228c",
   "metadata": {},
   "outputs": [
    {
     "name": "stdout",
     "output_type": "stream",
     "text": [
      "<class 'pandas.core.frame.DataFrame'>\n",
      "RangeIndex: 9752932 entries, 0 to 9752931\n",
      "Data columns (total 11 columns):\n",
      " #   Column      Dtype \n",
      "---  ------      ----- \n",
      " 0   pxid        object\n",
      " 1   clinicid    object\n",
      " 2   doctorid    object\n",
      " 3   apptid      object\n",
      " 4   status      object\n",
      " 5   TimeQueued  object\n",
      " 6   QueueDate   object\n",
      " 7   StartTime   object\n",
      " 8   EndTime     object\n",
      " 9   type        object\n",
      " 10  Virtual     object\n",
      "dtypes: object(11)\n",
      "memory usage: 818.5+ MB\n"
     ]
    }
   ],
   "source": [
    "# checks the content of the csv files\n",
    "appointments_df.info()"
   ]
  },
  {
   "cell_type": "markdown",
   "id": "b46d635c-d346-489b-a572-954143feaece",
   "metadata": {
    "jp-MarkdownHeadingCollapsed": true
   },
   "source": [
    "### `pxid` variable"
   ]
  },
  {
   "cell_type": "code",
   "execution_count": 4,
   "id": "ab000f8c-a396-44ec-b930-b8fce4584684",
   "metadata": {},
   "outputs": [
    {
     "data": {
      "text/plain": [
       "0          EF196B348A49FB32DABC9834DC4FAAD9\n",
       "1          EAE3C87D0B33351272F2E9B9B1B56217\n",
       "2          7C5C93809D626CC702D08F33985B2B58\n",
       "3          C300C2B9E0E5D4C46E8093BCDBFA05CA\n",
       "4          B3DBE7F9E4DC33CBC5660E0A923CF8E8\n",
       "                         ...               \n",
       "9752927    2583E761CF4CAB4813AAEAFDAA883CC6\n",
       "9752928    F51E6BF96EA5028AE5F5C01EBF08E3BD\n",
       "9752929    84E3EB4A060096C3702D33F5A52E8B43\n",
       "9752930    2B9F701BED6F68800637ADB7EF4CACE2\n",
       "9752931    2ED01D09EF929AE3CA7564A2CB09DC2C\n",
       "Name: pxid, Length: 9752932, dtype: object"
      ]
     },
     "execution_count": 4,
     "metadata": {},
     "output_type": "execute_result"
    }
   ],
   "source": [
    "# check values of pxid\n",
    "appointments_df['pxid']"
   ]
  },
  {
   "cell_type": "code",
   "execution_count": 5,
   "id": "fc21783f-1c4f-45ea-96b7-8cd3214f0c27",
   "metadata": {},
   "outputs": [
    {
     "data": {
      "text/plain": [
       "array(['EF196B348A49FB32DABC9834DC4FAAD9',\n",
       "       'EAE3C87D0B33351272F2E9B9B1B56217',\n",
       "       '7C5C93809D626CC702D08F33985B2B58', ...,\n",
       "       '84E3EB4A060096C3702D33F5A52E8B43',\n",
       "       '2B9F701BED6F68800637ADB7EF4CACE2',\n",
       "       '2ED01D09EF929AE3CA7564A2CB09DC2C'], dtype=object)"
      ]
     },
     "execution_count": 5,
     "metadata": {},
     "output_type": "execute_result"
    }
   ],
   "source": [
    "# check unique values of pxid\n",
    "appointments_df['pxid'].unique()"
   ]
  },
  {
   "cell_type": "code",
   "execution_count": 13,
   "id": "3b1091f5-9f4c-49be-a592-2539cf9eb332",
   "metadata": {},
   "outputs": [
    {
     "data": {
      "text/plain": [
       "pxid\n",
       "7CB50A8783C05F2788D7AE1EE79A4CF7    1249\n",
       "0761C17912CDEF7AEF25D118E1936D9A     590\n",
       "B4A945E181DE1FFB82D1D18CA9A51687     583\n",
       "B2B657D3C301FFCBFDA0B2ED17E7A5EB     516\n",
       "A2536B80CAD05E14355410332513D550     374\n",
       "                                    ... \n",
       "8AFAF290232A5A2738924D93DEE9DCC7       1\n",
       "31E474891F3CB25A7E5A386E04549375       1\n",
       "CF29CECFA79A3A9C93DF553B7223F4B7       1\n",
       "ABD0DCF0DD4D2581718EF6C945053FBE       1\n",
       "2ED01D09EF929AE3CA7564A2CB09DC2C       1\n",
       "Name: count, Length: 3946064, dtype: int64"
      ]
     },
     "execution_count": 13,
     "metadata": {},
     "output_type": "execute_result"
    }
   ],
   "source": [
    "# check value counts of pxid\n",
    "appointments_df['pxid'].value_counts()"
   ]
  },
  {
   "cell_type": "code",
   "execution_count": 6,
   "id": "3e00f6f1-f26a-45af-9f8b-110c44a2b71c",
   "metadata": {},
   "outputs": [],
   "source": [
    "# check for null values of pxid\n",
    "pxid_count = appointments_df['pxid'].isnull().sum()"
   ]
  },
  {
   "cell_type": "markdown",
   "id": "83b3f27a-619d-463f-b2c2-f9e65860ea83",
   "metadata": {},
   "source": [
    "### `clinicid` variable"
   ]
  },
  {
   "cell_type": "code",
   "execution_count": 7,
   "id": "990b5679-ca80-4ba3-bf9b-c1556a16d835",
   "metadata": {},
   "outputs": [
    {
     "data": {
      "text/plain": [
       "0          ADF7EE2DCF142B0E11888E72B43FCB75\n",
       "1          1E0F65EB20ACBFB27EE05DDC000B50EC\n",
       "2          1E0F65EB20ACBFB27EE05DDC000B50EC\n",
       "3          98C39996BF1543E974747A2549B3107C\n",
       "4          77EE3BC58CE560B86C2B59363281E914\n",
       "                         ...               \n",
       "9752927    CCFC2D538DDFF519D893A6B966A1C4F1\n",
       "9752928    CCFC2D538DDFF519D893A6B966A1C4F1\n",
       "9752929    CCFC2D538DDFF519D893A6B966A1C4F1\n",
       "9752930    CCFC2D538DDFF519D893A6B966A1C4F1\n",
       "9752931    40F4775D64533EE66E3E20AE64228661\n",
       "Name: clinicid, Length: 9752932, dtype: object"
      ]
     },
     "execution_count": 7,
     "metadata": {},
     "output_type": "execute_result"
    }
   ],
   "source": [
    "# check values of clinicid\n",
    "appointments_df['clinicid']"
   ]
  },
  {
   "cell_type": "code",
   "execution_count": 8,
   "id": "6af26979-b453-487f-9a27-79449299d551",
   "metadata": {},
   "outputs": [
    {
     "data": {
      "text/plain": [
       "array(['ADF7EE2DCF142B0E11888E72B43FCB75',\n",
       "       '1E0F65EB20ACBFB27EE05DDC000B50EC',\n",
       "       '98C39996BF1543E974747A2549B3107C', ...,\n",
       "       '772C1C73D4FFE88046A3CDB8772E53EB',\n",
       "       'CCFC2D538DDFF519D893A6B966A1C4F1',\n",
       "       '40F4775D64533EE66E3E20AE64228661'], dtype=object)"
      ]
     },
     "execution_count": 8,
     "metadata": {},
     "output_type": "execute_result"
    }
   ],
   "source": [
    "# check unique values of clinicid\n",
    "appointments_df['clinicid'].unique()"
   ]
  },
  {
   "cell_type": "code",
   "execution_count": 14,
   "id": "eb8e45ee-ffc4-47c3-81b9-cf4f2c84a9c1",
   "metadata": {},
   "outputs": [
    {
     "data": {
      "text/plain": [
       "clinicid\n",
       "7522A10DDF6916ABCCF0163B58CA0543    109517\n",
       "6467C327EAF8940B4DD07A08C63C5E85    102465\n",
       "D7FD83EAF0A5593A190E8E9C8D7ECE84     72096\n",
       "F2B4053221961416D47D497814A8064F     70546\n",
       "A7BF3F5462CC82062E41B3A2262E1A21     57308\n",
       "                                     ...  \n",
       "5B92E4945EB3A04990671A4DA604FF17         1\n",
       "933BD65AC164FA84EBEF0C17AE189B43         1\n",
       "966BC24F56AB8397AB2303E8E4CDB4C7         1\n",
       "86A2587A85BE5C0CC7E8D02F82DF6CC1         1\n",
       "40F4775D64533EE66E3E20AE64228661         1\n",
       "Name: count, Length: 25262, dtype: int64"
      ]
     },
     "execution_count": 14,
     "metadata": {},
     "output_type": "execute_result"
    }
   ],
   "source": [
    "# check value counts of clinicid\n",
    "appointments_df['clinicid'].value_counts()"
   ]
  },
  {
   "cell_type": "code",
   "execution_count": 9,
   "id": "be343974-ebf7-41f8-bde0-e70231a79d6f",
   "metadata": {},
   "outputs": [
    {
     "data": {
      "text/plain": [
       "0"
      ]
     },
     "execution_count": 9,
     "metadata": {},
     "output_type": "execute_result"
    }
   ],
   "source": [
    "# check for null values of clinicid\n",
    "appointments_df['clinicid'].isnull().sum()"
   ]
  },
  {
   "cell_type": "markdown",
   "id": "2f93f1b8-ad3a-470d-b743-3e82adc0ce88",
   "metadata": {},
   "source": [
    "### `doctorid` variable"
   ]
  },
  {
   "cell_type": "code",
   "execution_count": 10,
   "id": "793d74f7-e517-42a9-a7bd-8ca5b3419d6e",
   "metadata": {},
   "outputs": [
    {
     "data": {
      "text/plain": [
       "0          BB04AF0F7ECAEE4AAE62035497DA1387\n",
       "1          82AA4B0AF34C2313A562076992E50AA3\n",
       "2          82AA4B0AF34C2313A562076992E50AA3\n",
       "3          AD61AB143223EFBC24C7D2583BE69251\n",
       "4          AD61AB143223EFBC24C7D2583BE69251\n",
       "                         ...               \n",
       "9752927    B706835DE79A2B4E80506F582AF3676A\n",
       "9752928    B706835DE79A2B4E80506F582AF3676A\n",
       "9752929    B706835DE79A2B4E80506F582AF3676A\n",
       "9752930    B706835DE79A2B4E80506F582AF3676A\n",
       "9752931    B706835DE79A2B4E80506F582AF3676A\n",
       "Name: doctorid, Length: 9752932, dtype: object"
      ]
     },
     "execution_count": 10,
     "metadata": {},
     "output_type": "execute_result"
    }
   ],
   "source": [
    "# check values of doctorid\n",
    "appointments_df['doctorid']"
   ]
  },
  {
   "cell_type": "code",
   "execution_count": 11,
   "id": "85e17b1a-34c5-430e-80fc-667d38d34968",
   "metadata": {},
   "outputs": [
    {
     "data": {
      "text/plain": [
       "array(['BB04AF0F7ECAEE4AAE62035497DA1387',\n",
       "       '82AA4B0AF34C2313A562076992E50AA3',\n",
       "       'AD61AB143223EFBC24C7D2583BE69251', ...,\n",
       "       '69B4FA3BE19BDF400DF34E41B93636A4',\n",
       "       '4FC8ED929E539525E3590F1607718F97',\n",
       "       'B706835DE79A2B4E80506F582AF3676A'], dtype=object)"
      ]
     },
     "execution_count": 11,
     "metadata": {},
     "output_type": "execute_result"
    }
   ],
   "source": [
    "# check unique values of doctorid\n",
    "appointments_df['doctorid'].unique()"
   ]
  },
  {
   "cell_type": "code",
   "execution_count": 15,
   "id": "aded244f-9cef-42be-9b43-89af321888f3",
   "metadata": {},
   "outputs": [
    {
     "data": {
      "text/plain": [
       "doctorid\n",
       "3349958A3E56580D4E415DA345703886    238997\n",
       "4F05D4821FE9967817DEA5A20C4E7B35    133513\n",
       "95177E528F8D6C7C28A5473FD5A471B6    106222\n",
       "9F93557D309F655FF06F109A08DCF7C4     72596\n",
       "852C296DFA59522F563AEF29D8D0ADF6     72453\n",
       "                                     ...  \n",
       "ADF7E293599134777339FDC40DDFA818         1\n",
       "32B127307A606EFFDCC8E51F60A45922         1\n",
       "9903F53EB5F12F84F496530B0DC2526C         1\n",
       "6FB993285D56E6927284FF9B11AC6851         1\n",
       "A381C2C35C9157F6B67FD07D5A200AE1         1\n",
       "Name: count, Length: 10832, dtype: int64"
      ]
     },
     "execution_count": 15,
     "metadata": {},
     "output_type": "execute_result"
    }
   ],
   "source": [
    "# check value counts of doctorid\n",
    "appointments_df['doctorid'].value_counts()"
   ]
  },
  {
   "cell_type": "code",
   "execution_count": 12,
   "id": "248d397d-87dc-4eaf-af5b-2fc17791a285",
   "metadata": {},
   "outputs": [
    {
     "data": {
      "text/plain": [
       "0"
      ]
     },
     "execution_count": 12,
     "metadata": {},
     "output_type": "execute_result"
    }
   ],
   "source": [
    "# check null values of doctorid\n",
    "appointments_df['doctorid'].isnull().sum()"
   ]
  },
  {
   "cell_type": "markdown",
   "id": "b511c31c-139a-4ff9-a574-e7e7bba3a1d1",
   "metadata": {},
   "source": [
    "### `apptid` variable"
   ]
  },
  {
   "cell_type": "code",
   "execution_count": 16,
   "id": "a3cc4970-c56d-444c-b8e3-638c525d6d5b",
   "metadata": {},
   "outputs": [
    {
     "data": {
      "text/plain": [
       "0          C1CC0949B93D00A559F7A0BD38361E80\n",
       "1          6585A31C60A1886FBA1433C50012B504\n",
       "2          7250DCFF615E6580295C7E6ED4322371\n",
       "3          F5BBDCC08E39332F0AC27BB95CF1396A\n",
       "4          55783FB42A02DABC3B2ED239B924DC87\n",
       "                         ...               \n",
       "9752927    215A26E2E5B831D87C41A5C1CC382B1C\n",
       "9752928    E9EB60E3DA311FAE308A2DB53B6CCBAC\n",
       "9752929    EFE2DDFD855E2B4E1C67956CE1CE8A6E\n",
       "9752930    434410208F17F50143E1CE66E4CEF23F\n",
       "9752931    62D462EFFD157E70C4301E555962D44B\n",
       "Name: apptid, Length: 9752932, dtype: object"
      ]
     },
     "execution_count": 16,
     "metadata": {},
     "output_type": "execute_result"
    }
   ],
   "source": [
    "# check values of apptid\n",
    "appointments_df['apptid']"
   ]
  },
  {
   "cell_type": "code",
   "execution_count": 17,
   "id": "3293edf8-521e-448b-b287-86051fb7578c",
   "metadata": {},
   "outputs": [
    {
     "data": {
      "text/plain": [
       "array(['C1CC0949B93D00A559F7A0BD38361E80',\n",
       "       '6585A31C60A1886FBA1433C50012B504',\n",
       "       '7250DCFF615E6580295C7E6ED4322371', ...,\n",
       "       'EFE2DDFD855E2B4E1C67956CE1CE8A6E',\n",
       "       '434410208F17F50143E1CE66E4CEF23F',\n",
       "       '62D462EFFD157E70C4301E555962D44B'], dtype=object)"
      ]
     },
     "execution_count": 17,
     "metadata": {},
     "output_type": "execute_result"
    }
   ],
   "source": [
    "# check unique values of apptid\n",
    "appointments_df['apptid'].unique()"
   ]
  },
  {
   "cell_type": "code",
   "execution_count": 18,
   "id": "4501bcd2-6a7f-45b2-ae39-6d0e3a4aab53",
   "metadata": {},
   "outputs": [
    {
     "data": {
      "text/plain": [
       "apptid\n",
       "C1CC0949B93D00A559F7A0BD38361E80    1\n",
       "F7C605ADA76D7F1CC8C6F74741B0C582    1\n",
       "4E698A1E6BF55AF28BFC1BFD60F8A1EB    1\n",
       "6D3C94EB38F1784D71350CED302D1F22    1\n",
       "EF431FD37AEF6661C3B1412E2D9A13C8    1\n",
       "                                   ..\n",
       "B50B4D1703A101F81F86DAEFC0A3C784    1\n",
       "C4AADFD59C168610BD7A465FA54F492B    1\n",
       "7C87DAD8B177D7C0ABAC3573BC627301    1\n",
       "F8AA2DDF109DB830D01A49808B18F7B6    1\n",
       "62D462EFFD157E70C4301E555962D44B    1\n",
       "Name: count, Length: 9752932, dtype: int64"
      ]
     },
     "execution_count": 18,
     "metadata": {},
     "output_type": "execute_result"
    }
   ],
   "source": [
    "# check value counts of apptid\n",
    "appointments_df['apptid'].value_counts()"
   ]
  },
  {
   "cell_type": "code",
   "execution_count": 19,
   "id": "3df5000d-1b14-48ea-a6d6-50f55083d59e",
   "metadata": {},
   "outputs": [
    {
     "data": {
      "text/plain": [
       "0"
      ]
     },
     "execution_count": 19,
     "metadata": {},
     "output_type": "execute_result"
    }
   ],
   "source": [
    "# check null values of apptid\n",
    "appointments_df['apptid'].isnull().sum()"
   ]
  },
  {
   "cell_type": "markdown",
   "id": "255c08b1-0bac-432a-852e-2bff4ebb4ced",
   "metadata": {},
   "source": [
    "### `status` variable"
   ]
  },
  {
   "cell_type": "code",
   "execution_count": 20,
   "id": "3ab94113-1131-446e-b0d0-b6a36848c091",
   "metadata": {},
   "outputs": [
    {
     "data": {
      "text/plain": [
       "0          Complete\n",
       "1            Queued\n",
       "2            Queued\n",
       "3            Queued\n",
       "4            Queued\n",
       "             ...   \n",
       "9752927      Queued\n",
       "9752928      Queued\n",
       "9752929      Queued\n",
       "9752930      Queued\n",
       "9752931      Queued\n",
       "Name: status, Length: 9752932, dtype: object"
      ]
     },
     "execution_count": 20,
     "metadata": {},
     "output_type": "execute_result"
    }
   ],
   "source": [
    "# check values of status\n",
    "appointments_df['status']"
   ]
  },
  {
   "cell_type": "code",
   "execution_count": 21,
   "id": "6d1446b2-583f-487c-b44b-2216ed78200f",
   "metadata": {},
   "outputs": [
    {
     "data": {
      "text/plain": [
       "array(['Complete', 'Queued', 'NoShow', 'Serving', 'Cancel', 'Skip',\n",
       "       'Completed', 'Admitted'], dtype=object)"
      ]
     },
     "execution_count": 21,
     "metadata": {},
     "output_type": "execute_result"
    }
   ],
   "source": [
    "# check unique values of status\n",
    "appointments_df['status'].unique()"
   ]
  },
  {
   "cell_type": "code",
   "execution_count": 22,
   "id": "3d5f9006-5611-4b8b-99fc-65268b9375eb",
   "metadata": {},
   "outputs": [
    {
     "name": "stdout",
     "output_type": "stream",
     "text": [
      "status\n",
      "Complete     6473675\n",
      "Queued       2523855\n",
      "Serving       284774\n",
      "NoShow        230048\n",
      "Cancel        213270\n",
      "Skip           27298\n",
      "Completed         10\n",
      "Admitted           2\n",
      "Name: count, dtype: int64\n"
     ]
    }
   ],
   "source": [
    "# check count for status since there are two values for 'Complete'\n",
    "status_vc = appointments_df['status'].value_counts()\n",
    "print(status_vc)"
   ]
  },
  {
   "cell_type": "code",
   "execution_count": 23,
   "id": "ecaa5a27-ac49-42f4-afbf-7f8c820917ef",
   "metadata": {},
   "outputs": [
    {
     "name": "stdout",
     "output_type": "stream",
     "text": [
      "status\n",
      "Complete    6473685\n",
      "Queued      2523855\n",
      "Serving      284774\n",
      "NoShow       230048\n",
      "Cancel       213270\n",
      "Skip          27298\n",
      "Admitted          2\n",
      "Name: count, dtype: int64\n"
     ]
    }
   ],
   "source": [
    "# replace Completed with Complete\n",
    "appointments_df['status'] = appointments_df['status'].replace({'Completed': 'Complete'}, regex=True)\n",
    "status_vc = appointments_df['status'].value_counts()\n",
    "print(status_vc)"
   ]
  },
  {
   "cell_type": "code",
   "execution_count": 24,
   "id": "520c1552-352b-432f-aac3-2b346c238f98",
   "metadata": {},
   "outputs": [
    {
     "data": {
      "text/plain": [
       "0"
      ]
     },
     "execution_count": 24,
     "metadata": {},
     "output_type": "execute_result"
    }
   ],
   "source": [
    "# check null values of status\n",
    "appointments_df['status'].isnull().sum()"
   ]
  },
  {
   "cell_type": "markdown",
   "id": "31fe6f52-92d5-4421-9d6d-c974d5ad9538",
   "metadata": {},
   "source": [
    "### `TimeQueued` variable"
   ]
  },
  {
   "cell_type": "code",
   "execution_count": 25,
   "id": "22bf1593-1ecc-41f8-9950-ca217815f8ce",
   "metadata": {},
   "outputs": [
    {
     "data": {
      "text/plain": [
       "0                    2018-04-11 01:59:58\n",
       "1                    2018-04-10 10:34:16\n",
       "2                    2018-04-03 15:26:19\n",
       "3          2015-11-24 08:01:13.920000000\n",
       "4          2015-11-24 08:01:00.420000000\n",
       "                       ...              \n",
       "9752927    2023-11-20 00:34:25.337000000\n",
       "9752928    2023-12-05 07:51:25.443000000\n",
       "9752929    2024-01-04 06:11:06.437000000\n",
       "9752930    2024-01-13 06:12:54.737000000\n",
       "9752931    2024-01-04 00:45:05.063000000\n",
       "Name: TimeQueued, Length: 9752932, dtype: object"
      ]
     },
     "execution_count": 25,
     "metadata": {},
     "output_type": "execute_result"
    }
   ],
   "source": [
    "# check values of TimeQueued\n",
    "appointments_df['TimeQueued']"
   ]
  },
  {
   "cell_type": "code",
   "execution_count": 26,
   "id": "ba5f7bcd-58b6-4fbb-a038-8f978ea78c98",
   "metadata": {},
   "outputs": [
    {
     "data": {
      "text/plain": [
       "array(['2018-04-11 01:59:58', '2018-04-10 10:34:16',\n",
       "       '2018-04-03 15:26:19', ..., '2024-01-04 06:11:06.437000000',\n",
       "       '2024-01-13 06:12:54.737000000', '2024-01-04 00:45:05.063000000'],\n",
       "      dtype=object)"
      ]
     },
     "execution_count": 26,
     "metadata": {},
     "output_type": "execute_result"
    }
   ],
   "source": [
    "# check unique values of TimeQueued\n",
    "appointments_df['TimeQueued'].unique()"
   ]
  },
  {
   "cell_type": "code",
   "execution_count": 27,
   "id": "e33b1200-a749-441c-bfc4-1485eace57de",
   "metadata": {},
   "outputs": [
    {
     "data": {
      "text/plain": [
       "TimeQueued\n",
       "2005-05-23 16:00:00              917\n",
       "2016-12-16 16:00:00              362\n",
       "2017-12-03 16:00:00              300\n",
       "2016-11-25 16:00:00              281\n",
       "2017-06-30 16:00:00              256\n",
       "                                ... \n",
       "2022-04-02 05:43:15.457000000      1\n",
       "2022-04-01 13:13:45.913000000      1\n",
       "2022-04-02 03:52:41.693000000      1\n",
       "2022-04-01 12:54:41.753000000      1\n",
       "2024-01-04 00:45:05.063000000      1\n",
       "Name: count, Length: 9415233, dtype: int64"
      ]
     },
     "execution_count": 27,
     "metadata": {},
     "output_type": "execute_result"
    }
   ],
   "source": [
    "# check value counts of TimeQueued\n",
    "appointments_df['TimeQueued'].value_counts()"
   ]
  },
  {
   "cell_type": "code",
   "execution_count": 28,
   "id": "3dcab03b-b282-4681-a6a5-a9d6c8850fa4",
   "metadata": {},
   "outputs": [
    {
     "data": {
      "text/plain": [
       "0"
      ]
     },
     "execution_count": 28,
     "metadata": {},
     "output_type": "execute_result"
    }
   ],
   "source": [
    "# check null values of TimeQueued\n",
    "appointments_df['TimeQueued'].isnull().sum()"
   ]
  },
  {
   "cell_type": "markdown",
   "id": "9bb3daa4-f521-4ae8-b30c-ba5b70577547",
   "metadata": {},
   "source": [
    "### `QueueDate` variable"
   ]
  },
  {
   "cell_type": "code",
   "execution_count": 29,
   "id": "8b0a4124-6355-463a-8e12-0c7b79038ef4",
   "metadata": {},
   "outputs": [
    {
     "data": {
      "text/plain": [
       "0          2018-04-10 16:00:00\n",
       "1          2018-04-08 16:00:00\n",
       "2          2018-03-30 16:00:00\n",
       "3                          NaN\n",
       "4                          NaN\n",
       "                  ...         \n",
       "9752927    2023-11-22 16:00:00\n",
       "9752928    2023-12-04 16:00:00\n",
       "9752929    2024-01-03 16:00:00\n",
       "9752930    2024-01-12 16:00:00\n",
       "9752931    2024-01-03 16:00:00\n",
       "Name: QueueDate, Length: 9752932, dtype: object"
      ]
     },
     "execution_count": 29,
     "metadata": {},
     "output_type": "execute_result"
    }
   ],
   "source": [
    "# check values of QueueDate\n",
    "appointments_df['QueueDate']"
   ]
  },
  {
   "cell_type": "code",
   "execution_count": 30,
   "id": "04f85cb1-9e25-4208-8524-5f0af318a186",
   "metadata": {},
   "outputs": [
    {
     "data": {
      "text/plain": [
       "array(['2018-04-10 16:00:00', '2018-04-08 16:00:00',\n",
       "       '2018-03-30 16:00:00', ..., '2026-01-22 16:00:00',\n",
       "       '2008-12-30 16:00:00', '2026-07-14 16:00:00'], dtype=object)"
      ]
     },
     "execution_count": 30,
     "metadata": {},
     "output_type": "execute_result"
    }
   ],
   "source": [
    "# check unique values of QueueDate\n",
    "appointments_df['QueueDate'].unique()"
   ]
  },
  {
   "cell_type": "code",
   "execution_count": 31,
   "id": "7923da57-85dd-4344-9d93-963408167cf4",
   "metadata": {},
   "outputs": [
    {
     "data": {
      "text/plain": [
       "QueueDate\n",
       "2024-01-07 16:00:00    14044\n",
       "2024-01-08 16:00:00    13398\n",
       "2024-01-21 16:00:00    13299\n",
       "2024-01-14 16:00:00    13257\n",
       "2023-11-12 16:00:00    13134\n",
       "                       ...  \n",
       "2000-08-11 16:00:00        1\n",
       "2000-06-30 16:00:00        1\n",
       "2000-04-12 16:00:00        1\n",
       "2000-04-09 16:00:00        1\n",
       "2026-07-14 16:00:00        1\n",
       "Name: count, Length: 6290, dtype: int64"
      ]
     },
     "execution_count": 31,
     "metadata": {},
     "output_type": "execute_result"
    }
   ],
   "source": [
    "# check value counts of QueueDate\n",
    "appointments_df['QueueDate'].value_counts()"
   ]
  },
  {
   "cell_type": "code",
   "execution_count": 32,
   "id": "88a45f6a-42ac-43c3-b18c-3367cd24a590",
   "metadata": {},
   "outputs": [
    {
     "data": {
      "text/plain": [
       "18"
      ]
     },
     "execution_count": 32,
     "metadata": {},
     "output_type": "execute_result"
    }
   ],
   "source": [
    "# check null values of QueueDate\n",
    "appointments_df['QueueDate'].isnull().sum()"
   ]
  },
  {
   "cell_type": "markdown",
   "id": "b875726f-e4d6-4db3-96f8-fdfa0c6500d0",
   "metadata": {},
   "source": [
    "### `StartTime` variable"
   ]
  },
  {
   "cell_type": "code",
   "execution_count": 33,
   "id": "b914bd66-7dca-4f40-b5c7-ede44287efe1",
   "metadata": {},
   "outputs": [
    {
     "data": {
      "text/plain": [
       "0                          NaN\n",
       "1          2018-04-09 10:33:00\n",
       "2          2018-03-31 15:25:00\n",
       "3                          NaN\n",
       "4                          NaN\n",
       "                  ...         \n",
       "9752927                    NaN\n",
       "9752928                    NaN\n",
       "9752929    2024-01-04 08:00:00\n",
       "9752930    2024-01-13 08:00:00\n",
       "9752931    2024-01-04 02:30:00\n",
       "Name: StartTime, Length: 9752932, dtype: object"
      ]
     },
     "execution_count": 33,
     "metadata": {},
     "output_type": "execute_result"
    }
   ],
   "source": [
    "# check values of StartTime\n",
    "appointments_df['StartTime']"
   ]
  },
  {
   "cell_type": "code",
   "execution_count": 34,
   "id": "4b7e2e2f-e935-4df8-a340-b5021fbabdcf",
   "metadata": {},
   "outputs": [
    {
     "data": {
      "text/plain": [
       "array([nan, '2018-04-09 10:33:00', '2018-03-31 15:25:00', ...,\n",
       "       '2023-07-20 07:30:33', '2023-08-08 08:00:55',\n",
       "       '2023-11-03 19:30:00'], dtype=object)"
      ]
     },
     "execution_count": 34,
     "metadata": {},
     "output_type": "execute_result"
    }
   ],
   "source": [
    "# check unique values of StartTime\n",
    "appointments_df['StartTime'].unique()"
   ]
  },
  {
   "cell_type": "code",
   "execution_count": 35,
   "id": "e05ac944-aeed-40bf-9db0-bea2384b8778",
   "metadata": {},
   "outputs": [
    {
     "data": {
      "text/plain": [
       "StartTime\n",
       "2005-05-23 16:00:00    917\n",
       "2023-03-03 02:00:00    359\n",
       "2023-08-12 02:00:00    331\n",
       "2023-11-11 02:00:00    319\n",
       "2023-11-25 02:00:00    310\n",
       "                      ... \n",
       "2023-01-20 06:15:57      1\n",
       "2023-01-20 06:45:26      1\n",
       "2023-01-23 06:45:38      1\n",
       "2023-01-23 06:15:42      1\n",
       "2023-11-03 19:30:00      1\n",
       "Name: count, Length: 1058279, dtype: int64"
      ]
     },
     "execution_count": 35,
     "metadata": {},
     "output_type": "execute_result"
    }
   ],
   "source": [
    "# check value counts of StartTime\n",
    "appointments_df['StartTime'].value_counts()"
   ]
  },
  {
   "cell_type": "code",
   "execution_count": 36,
   "id": "5f892ded-8c69-43e4-aff4-4e1899cbd8cd",
   "metadata": {},
   "outputs": [
    {
     "data": {
      "text/plain": [
       "5879400"
      ]
     },
     "execution_count": 36,
     "metadata": {},
     "output_type": "execute_result"
    }
   ],
   "source": [
    "# check null values of StartTime\n",
    "appointments_df['StartTime'].isnull().sum()"
   ]
  },
  {
   "cell_type": "markdown",
   "id": "3269e99e-3a20-4f08-8e54-a551dd0a9c83",
   "metadata": {},
   "source": [
    "### `EndTime` variable"
   ]
  },
  {
   "cell_type": "code",
   "execution_count": 37,
   "id": "0680be02-c383-44a0-a514-f2b44719af50",
   "metadata": {},
   "outputs": [
    {
     "data": {
      "text/plain": [
       "0                          NaN\n",
       "1          2018-04-12 05:29:57\n",
       "2          2018-04-05 15:51:47\n",
       "3                          NaN\n",
       "4                          NaN\n",
       "                  ...         \n",
       "9752927                    NaN\n",
       "9752928                    NaN\n",
       "9752929    2024-01-04 08:15:00\n",
       "9752930    2024-01-13 08:15:00\n",
       "9752931    2024-01-04 02:45:00\n",
       "Name: EndTime, Length: 9752932, dtype: object"
      ]
     },
     "execution_count": 37,
     "metadata": {},
     "output_type": "execute_result"
    }
   ],
   "source": [
    "# check values of EndTime\n",
    "appointments_df['EndTime']"
   ]
  },
  {
   "cell_type": "code",
   "execution_count": 38,
   "id": "cf0cba19-29c2-4d18-af21-67a39c738baf",
   "metadata": {},
   "outputs": [
    {
     "data": {
      "text/plain": [
       "array([nan, '2018-04-12 05:29:57', '2018-04-05 15:51:47', ...,\n",
       "       '2023-07-20 07:45:33', '2023-08-08 08:15:55',\n",
       "       '2023-11-03 19:45:00'], dtype=object)"
      ]
     },
     "execution_count": 38,
     "metadata": {},
     "output_type": "execute_result"
    }
   ],
   "source": [
    "# check unique values of EndTime\n",
    "appointments_df['EndTime'].unique()"
   ]
  },
  {
   "cell_type": "code",
   "execution_count": 39,
   "id": "1c5c6aae-2f47-4f17-ada5-af6016cdc531",
   "metadata": {},
   "outputs": [
    {
     "data": {
      "text/plain": [
       "EndTime\n",
       "2023-03-03 02:15:00    263\n",
       "2023-11-24 09:15:00    220\n",
       "2023-08-12 02:15:00    210\n",
       "2023-11-25 02:15:00    188\n",
       "2023-11-11 02:15:00    180\n",
       "                      ... \n",
       "2023-01-20 06:20:32      1\n",
       "2023-01-20 06:10:27      1\n",
       "2023-01-20 06:40:05      1\n",
       "2023-01-20 07:00:38      1\n",
       "2023-11-03 19:45:00      1\n",
       "Name: count, Length: 962856, dtype: int64"
      ]
     },
     "execution_count": 39,
     "metadata": {},
     "output_type": "execute_result"
    }
   ],
   "source": [
    "# check value counts of EndTime\n",
    "appointments_df['EndTime'].value_counts()"
   ]
  },
  {
   "cell_type": "code",
   "execution_count": 40,
   "id": "7a032e0e-41b2-4c2f-a397-d343d2b21f32",
   "metadata": {},
   "outputs": [
    {
     "data": {
      "text/plain": [
       "6036781"
      ]
     },
     "execution_count": 40,
     "metadata": {},
     "output_type": "execute_result"
    }
   ],
   "source": [
    "# check null values of EndTime\n",
    "appointments_df['EndTime'].isnull().sum()"
   ]
  },
  {
   "cell_type": "markdown",
   "id": "8916a120-8717-4b3e-95ae-c6184e697918",
   "metadata": {},
   "source": [
    "### `type` variable"
   ]
  },
  {
   "cell_type": "code",
   "execution_count": 41,
   "id": "6a83d793-2586-4284-8af7-ca68a11c4535",
   "metadata": {},
   "outputs": [
    {
     "data": {
      "text/plain": [
       "0          Consultation\n",
       "1             Inpatient\n",
       "2             Inpatient\n",
       "3          Consultation\n",
       "4          Consultation\n",
       "               ...     \n",
       "9752927    Consultation\n",
       "9752928    Consultation\n",
       "9752929    Consultation\n",
       "9752930    Consultation\n",
       "9752931    Consultation\n",
       "Name: type, Length: 9752932, dtype: object"
      ]
     },
     "execution_count": 41,
     "metadata": {},
     "output_type": "execute_result"
    }
   ],
   "source": [
    "# check values of type\n",
    "appointments_df['type']"
   ]
  },
  {
   "cell_type": "code",
   "execution_count": 42,
   "id": "f90437d5-1464-43e4-a9ea-669be5dff986",
   "metadata": {},
   "outputs": [
    {
     "data": {
      "text/plain": [
       "array(['Consultation', 'Inpatient'], dtype=object)"
      ]
     },
     "execution_count": 42,
     "metadata": {},
     "output_type": "execute_result"
    }
   ],
   "source": [
    "# check unique values of type\n",
    "appointments_df['type'].unique()"
   ]
  },
  {
   "cell_type": "code",
   "execution_count": 43,
   "id": "8c0d03a4-c0eb-436d-82e3-f5f951d70933",
   "metadata": {},
   "outputs": [
    {
     "name": "stdout",
     "output_type": "stream",
     "text": [
      "type\n",
      "Consultation    9640181\n",
      "Inpatient        112751\n",
      "Name: count, dtype: int64\n"
     ]
    }
   ],
   "source": [
    "type_vc = appointments_df['type'].value_counts()\n",
    "print(type_vc)"
   ]
  },
  {
   "cell_type": "code",
   "execution_count": 44,
   "id": "eebbd13b-fbbb-424c-a779-c79a924813db",
   "metadata": {},
   "outputs": [
    {
     "data": {
      "text/plain": [
       "0"
      ]
     },
     "execution_count": 44,
     "metadata": {},
     "output_type": "execute_result"
    }
   ],
   "source": [
    "# check null values of type\n",
    "appointments_df['type'].isnull().sum()"
   ]
  },
  {
   "cell_type": "markdown",
   "id": "b0a84da7-f652-4410-80a2-29f84c5e2077",
   "metadata": {},
   "source": [
    "### `Virtual` variable"
   ]
  },
  {
   "cell_type": "code",
   "execution_count": 45,
   "id": "6e53d58c-b0c0-492c-be11-bb219ea41d42",
   "metadata": {},
   "outputs": [
    {
     "data": {
      "text/plain": [
       "0            NaN\n",
       "1            NaN\n",
       "2            NaN\n",
       "3            NaN\n",
       "4            NaN\n",
       "           ...  \n",
       "9752927    False\n",
       "9752928    False\n",
       "9752929    False\n",
       "9752930    False\n",
       "9752931    False\n",
       "Name: Virtual, Length: 9752932, dtype: object"
      ]
     },
     "execution_count": 45,
     "metadata": {},
     "output_type": "execute_result"
    }
   ],
   "source": [
    "# check values of Virtual\n",
    "appointments_df['Virtual']"
   ]
  },
  {
   "cell_type": "code",
   "execution_count": 46,
   "id": "4be47a7a-a264-46f4-ab3f-878202126a76",
   "metadata": {},
   "outputs": [
    {
     "data": {
      "text/plain": [
       "array([nan, False, True], dtype=object)"
      ]
     },
     "execution_count": 46,
     "metadata": {},
     "output_type": "execute_result"
    }
   ],
   "source": [
    "# check unique values of Virtual\n",
    "appointments_df['Virtual'].unique()"
   ]
  },
  {
   "cell_type": "code",
   "execution_count": 47,
   "id": "8796ca80-ef03-42c7-85c6-ff14f2f539fa",
   "metadata": {},
   "outputs": [
    {
     "name": "stdout",
     "output_type": "stream",
     "text": [
      "Virtual\n",
      "False    6276648\n",
      "True     1523691\n",
      "Name: count, dtype: int64\n"
     ]
    }
   ],
   "source": [
    "virtual_vc = appointments_df['Virtual'].value_counts()\n",
    "print(virtual_vc)"
   ]
  },
  {
   "cell_type": "code",
   "execution_count": 48,
   "id": "512626f4-1b1c-4b7f-ad08-a8b07ebdc0d1",
   "metadata": {},
   "outputs": [
    {
     "data": {
      "text/plain": [
       "1952593"
      ]
     },
     "execution_count": 48,
     "metadata": {},
     "output_type": "execute_result"
    }
   ],
   "source": [
    "# check null values of Virtual\n",
    "appointments_df['Virtual'].isnull().sum()"
   ]
  },
  {
   "cell_type": "code",
   "execution_count": 49,
   "id": "12973279-878f-4a86-84b5-ca55f73942b3",
   "metadata": {},
   "outputs": [],
   "source": [
    "# Select the column you want to export\n",
    "selected_column = appointments_df['QueueDate']\n",
    "\n",
    "# Write the selected column to a new CSV file\n",
    "selected_column.to_csv('newfile.csv', index=False)"
   ]
  },
  {
   "cell_type": "code",
   "execution_count": null,
   "id": "8f887146-d409-4b95-933c-ced36ef51544",
   "metadata": {},
   "outputs": [],
   "source": []
  }
 ],
 "metadata": {
  "kernelspec": {
   "display_name": "Python 3 (ipykernel)",
   "language": "python",
   "name": "python3"
  },
  "language_info": {
   "codemirror_mode": {
    "name": "ipython",
    "version": 3
   },
   "file_extension": ".py",
   "mimetype": "text/x-python",
   "name": "python",
   "nbconvert_exporter": "python",
   "pygments_lexer": "ipython3",
   "version": "3.9.5"
  }
 },
 "nbformat": 4,
 "nbformat_minor": 5
}
