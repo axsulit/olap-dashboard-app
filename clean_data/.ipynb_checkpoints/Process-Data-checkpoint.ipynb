{
 "cells": [
  {
   "cell_type": "code",
   "execution_count": 63,
   "id": "b2620b7c-2f7c-4557-9242-5d1186e1228c",
   "metadata": {},
   "outputs": [
    {
     "name": "stdout",
     "output_type": "stream",
     "text": [
      "<class 'pandas.core.frame.DataFrame'>\n",
      "Index: 500481 entries, 1 to 9752917\n",
      "Data columns (total 11 columns):\n",
      " #   Column      Non-Null Count   Dtype                         \n",
      "---  ------      --------------   -----                         \n",
      " 0   pxid        500481 non-null  object                        \n",
      " 1   clinicid    500481 non-null  object                        \n",
      " 2   doctorid    500481 non-null  object                        \n",
      " 3   apptid      500481 non-null  object                        \n",
      " 4   status      500481 non-null  object                        \n",
      " 5   TimeQueued  500481 non-null  datetime64[ns, Asia/Singapore]\n",
      " 6   QueueDate   500481 non-null  datetime64[ns, Asia/Singapore]\n",
      " 7   StartTime   500481 non-null  datetime64[ns, Asia/Singapore]\n",
      " 8   EndTime     498649 non-null  datetime64[ns, Asia/Singapore]\n",
      " 9   type        500481 non-null  object                        \n",
      " 10  Virtual     500481 non-null  object                        \n",
      "dtypes: datetime64[ns, Asia/Singapore](4), object(7)\n",
      "memory usage: 45.8+ MB\n"
     ]
    }
   ],
   "source": [
    "# checks the content of the csv files\n",
    "appointments_df.info()"
   ]
  },
  {
   "cell_type": "code",
   "execution_count": 49,
   "id": "5ef29a58-f4c4-4c5e-9ac4-cc3e6f9e0468",
   "metadata": {},
   "outputs": [],
   "source": [
    "appointments_df_copy = appointments_df"
   ]
  },
  {
   "cell_type": "code",
   "execution_count": 64,
   "id": "46185bc1-2b82-4637-82bb-7977202fc60a",
   "metadata": {},
   "outputs": [
    {
     "data": {
      "text/html": [
       "<div>\n",
       "<style scoped>\n",
       "    .dataframe tbody tr th:only-of-type {\n",
       "        vertical-align: middle;\n",
       "    }\n",
       "\n",
       "    .dataframe tbody tr th {\n",
       "        vertical-align: top;\n",
       "    }\n",
       "\n",
       "    .dataframe thead th {\n",
       "        text-align: right;\n",
       "    }\n",
       "</style>\n",
       "<table border=\"1\" class=\"dataframe\">\n",
       "  <thead>\n",
       "    <tr style=\"text-align: right;\">\n",
       "      <th></th>\n",
       "      <th>pxid</th>\n",
       "      <th>clinicid</th>\n",
       "      <th>doctorid</th>\n",
       "      <th>apptid</th>\n",
       "      <th>status</th>\n",
       "      <th>TimeQueued</th>\n",
       "      <th>QueueDate</th>\n",
       "      <th>StartTime</th>\n",
       "      <th>EndTime</th>\n",
       "      <th>type</th>\n",
       "      <th>Virtual</th>\n",
       "    </tr>\n",
       "  </thead>\n",
       "  <tbody>\n",
       "    <tr>\n",
       "      <th>1</th>\n",
       "      <td>EAE3C87D0B33351272F2E9B9B1B56217</td>\n",
       "      <td>1E0F65EB20ACBFB27EE05DDC000B50EC</td>\n",
       "      <td>82AA4B0AF34C2313A562076992E50AA3</td>\n",
       "      <td>6585A31C60A1886FBA1433C50012B504</td>\n",
       "      <td>Queued</td>\n",
       "      <td>2018-04-10 18:34:16+08:00</td>\n",
       "      <td>2018-04-09 00:00:00+08:00</td>\n",
       "      <td>2018-04-09 18:33:00+08:00</td>\n",
       "      <td>2018-04-12 13:29:57+08:00</td>\n",
       "      <td>Inpatient</td>\n",
       "      <td>False</td>\n",
       "    </tr>\n",
       "    <tr>\n",
       "      <th>2</th>\n",
       "      <td>7C5C93809D626CC702D08F33985B2B58</td>\n",
       "      <td>1E0F65EB20ACBFB27EE05DDC000B50EC</td>\n",
       "      <td>82AA4B0AF34C2313A562076992E50AA3</td>\n",
       "      <td>7250DCFF615E6580295C7E6ED4322371</td>\n",
       "      <td>Queued</td>\n",
       "      <td>2018-04-03 23:26:19+08:00</td>\n",
       "      <td>2018-03-31 00:00:00+08:00</td>\n",
       "      <td>2018-03-31 23:25:00+08:00</td>\n",
       "      <td>2018-04-05 23:51:47+08:00</td>\n",
       "      <td>Inpatient</td>\n",
       "      <td>False</td>\n",
       "    </tr>\n",
       "    <tr>\n",
       "      <th>39</th>\n",
       "      <td>138BCDD2BB2FD204C6CA43C988C0A7D5</td>\n",
       "      <td>E3D2B39D8BC215F6540218D20280232A</td>\n",
       "      <td>6EB887126D24E8F1CD8AD5033482C781</td>\n",
       "      <td>AD81FCC8E4B73C3B465CB420B17630C0</td>\n",
       "      <td>Complete</td>\n",
       "      <td>2021-07-07 12:18:20+08:00</td>\n",
       "      <td>2021-07-07 00:00:00+08:00</td>\n",
       "      <td>2021-07-07 19:00:00+08:00</td>\n",
       "      <td>2021-07-07 19:15:00+08:00</td>\n",
       "      <td>Consultation</td>\n",
       "      <td>True</td>\n",
       "    </tr>\n",
       "    <tr>\n",
       "      <th>41</th>\n",
       "      <td>63415D610633FD2A37A63B494E046E8A</td>\n",
       "      <td>E3D2B39D8BC215F6540218D20280232A</td>\n",
       "      <td>6EB887126D24E8F1CD8AD5033482C781</td>\n",
       "      <td>4FEDF132D114656A42BA7AE765D606B8</td>\n",
       "      <td>Complete</td>\n",
       "      <td>2021-07-21 07:39:33+08:00</td>\n",
       "      <td>2021-07-21 00:00:00+08:00</td>\n",
       "      <td>2021-07-21 13:00:00+08:00</td>\n",
       "      <td>2021-07-21 13:15:00+08:00</td>\n",
       "      <td>Consultation</td>\n",
       "      <td>False</td>\n",
       "    </tr>\n",
       "    <tr>\n",
       "      <th>71</th>\n",
       "      <td>590CA1CA247F1352073DB454A012EA61</td>\n",
       "      <td>E3D2B39D8BC215F6540218D20280232A</td>\n",
       "      <td>6EB887126D24E8F1CD8AD5033482C781</td>\n",
       "      <td>6DAE7EC7319952C2CDD38BD848B04E6A</td>\n",
       "      <td>Complete</td>\n",
       "      <td>2021-12-08 07:20:04+08:00</td>\n",
       "      <td>2021-12-08 00:00:00+08:00</td>\n",
       "      <td>2021-12-08 13:19:00+08:00</td>\n",
       "      <td>2021-12-08 13:34:00+08:00</td>\n",
       "      <td>Consultation</td>\n",
       "      <td>False</td>\n",
       "    </tr>\n",
       "    <tr>\n",
       "      <th>...</th>\n",
       "      <td>...</td>\n",
       "      <td>...</td>\n",
       "      <td>...</td>\n",
       "      <td>...</td>\n",
       "      <td>...</td>\n",
       "      <td>...</td>\n",
       "      <td>...</td>\n",
       "      <td>...</td>\n",
       "      <td>...</td>\n",
       "      <td>...</td>\n",
       "      <td>...</td>\n",
       "    </tr>\n",
       "    <tr>\n",
       "      <th>9752130</th>\n",
       "      <td>937B3AAE14DE1A7D5A391F10CCF18525</td>\n",
       "      <td>9E106E26D5EC709CE1B63D12C5447791</td>\n",
       "      <td>9F5506939986201D55A4353FF8B4028E</td>\n",
       "      <td>A1DC6613EB0C6D3B5053534861B9F753</td>\n",
       "      <td>Complete</td>\n",
       "      <td>2024-01-23 02:35:49+08:00</td>\n",
       "      <td>2024-01-23 00:00:00+08:00</td>\n",
       "      <td>2024-01-23 14:30:00+08:00</td>\n",
       "      <td>2024-01-23 15:00:00+08:00</td>\n",
       "      <td>Consultation</td>\n",
       "      <td>True</td>\n",
       "    </tr>\n",
       "    <tr>\n",
       "      <th>9752132</th>\n",
       "      <td>6D31676A70BDB68DCE25F39A04AB1709</td>\n",
       "      <td>2A44FC01550DE95485464916CFCFDBF1</td>\n",
       "      <td>4FC8ED929E539525E3590F1607718F97</td>\n",
       "      <td>F44BFF7AEE83C42380B5098B8416597F</td>\n",
       "      <td>Complete</td>\n",
       "      <td>2021-12-18 19:20:26+08:00</td>\n",
       "      <td>2021-12-18 00:00:00+08:00</td>\n",
       "      <td>2021-12-18 20:00:00+08:00</td>\n",
       "      <td>2021-12-18 21:00:00+08:00</td>\n",
       "      <td>Consultation</td>\n",
       "      <td>True</td>\n",
       "    </tr>\n",
       "    <tr>\n",
       "      <th>9752908</th>\n",
       "      <td>E269D82BC53F7BED168916E4E5FB1447</td>\n",
       "      <td>772C1C73D4FFE88046A3CDB8772E53EB</td>\n",
       "      <td>B706835DE79A2B4E80506F582AF3676A</td>\n",
       "      <td>322D90415C2211389B388FC7A8E2FC81</td>\n",
       "      <td>Complete</td>\n",
       "      <td>2023-07-06 09:21:13+08:00</td>\n",
       "      <td>2023-07-06 00:00:00+08:00</td>\n",
       "      <td>2023-07-06 10:00:00+08:00</td>\n",
       "      <td>2023-07-06 10:15:00+08:00</td>\n",
       "      <td>Consultation</td>\n",
       "      <td>True</td>\n",
       "    </tr>\n",
       "    <tr>\n",
       "      <th>9752912</th>\n",
       "      <td>F8F4B4765E25159D179D7BF1110A0794</td>\n",
       "      <td>CCFC2D538DDFF519D893A6B966A1C4F1</td>\n",
       "      <td>B706835DE79A2B4E80506F582AF3676A</td>\n",
       "      <td>5448C9C7C3FEF298F47DB4A8EFC1CC8B</td>\n",
       "      <td>Complete</td>\n",
       "      <td>2023-07-08 15:03:17+08:00</td>\n",
       "      <td>2023-07-08 00:00:00+08:00</td>\n",
       "      <td>2023-07-08 16:00:00+08:00</td>\n",
       "      <td>2023-07-08 16:15:00+08:00</td>\n",
       "      <td>Consultation</td>\n",
       "      <td>False</td>\n",
       "    </tr>\n",
       "    <tr>\n",
       "      <th>9752917</th>\n",
       "      <td>F8F4B4765E25159D179D7BF1110A0794</td>\n",
       "      <td>CCFC2D538DDFF519D893A6B966A1C4F1</td>\n",
       "      <td>B706835DE79A2B4E80506F582AF3676A</td>\n",
       "      <td>8EE8215B30F7CC875384AFF080370285</td>\n",
       "      <td>Queued</td>\n",
       "      <td>2023-08-08 13:01:00+08:00</td>\n",
       "      <td>2023-08-08 00:00:00+08:00</td>\n",
       "      <td>2023-08-08 16:00:55+08:00</td>\n",
       "      <td>2023-08-08 16:15:55+08:00</td>\n",
       "      <td>Consultation</td>\n",
       "      <td>False</td>\n",
       "    </tr>\n",
       "  </tbody>\n",
       "</table>\n",
       "<p>500481 rows × 11 columns</p>\n",
       "</div>"
      ],
      "text/plain": [
       "                                     pxid                          clinicid  \\\n",
       "1        EAE3C87D0B33351272F2E9B9B1B56217  1E0F65EB20ACBFB27EE05DDC000B50EC   \n",
       "2        7C5C93809D626CC702D08F33985B2B58  1E0F65EB20ACBFB27EE05DDC000B50EC   \n",
       "39       138BCDD2BB2FD204C6CA43C988C0A7D5  E3D2B39D8BC215F6540218D20280232A   \n",
       "41       63415D610633FD2A37A63B494E046E8A  E3D2B39D8BC215F6540218D20280232A   \n",
       "71       590CA1CA247F1352073DB454A012EA61  E3D2B39D8BC215F6540218D20280232A   \n",
       "...                                   ...                               ...   \n",
       "9752130  937B3AAE14DE1A7D5A391F10CCF18525  9E106E26D5EC709CE1B63D12C5447791   \n",
       "9752132  6D31676A70BDB68DCE25F39A04AB1709  2A44FC01550DE95485464916CFCFDBF1   \n",
       "9752908  E269D82BC53F7BED168916E4E5FB1447  772C1C73D4FFE88046A3CDB8772E53EB   \n",
       "9752912  F8F4B4765E25159D179D7BF1110A0794  CCFC2D538DDFF519D893A6B966A1C4F1   \n",
       "9752917  F8F4B4765E25159D179D7BF1110A0794  CCFC2D538DDFF519D893A6B966A1C4F1   \n",
       "\n",
       "                                 doctorid                            apptid  \\\n",
       "1        82AA4B0AF34C2313A562076992E50AA3  6585A31C60A1886FBA1433C50012B504   \n",
       "2        82AA4B0AF34C2313A562076992E50AA3  7250DCFF615E6580295C7E6ED4322371   \n",
       "39       6EB887126D24E8F1CD8AD5033482C781  AD81FCC8E4B73C3B465CB420B17630C0   \n",
       "41       6EB887126D24E8F1CD8AD5033482C781  4FEDF132D114656A42BA7AE765D606B8   \n",
       "71       6EB887126D24E8F1CD8AD5033482C781  6DAE7EC7319952C2CDD38BD848B04E6A   \n",
       "...                                   ...                               ...   \n",
       "9752130  9F5506939986201D55A4353FF8B4028E  A1DC6613EB0C6D3B5053534861B9F753   \n",
       "9752132  4FC8ED929E539525E3590F1607718F97  F44BFF7AEE83C42380B5098B8416597F   \n",
       "9752908  B706835DE79A2B4E80506F582AF3676A  322D90415C2211389B388FC7A8E2FC81   \n",
       "9752912  B706835DE79A2B4E80506F582AF3676A  5448C9C7C3FEF298F47DB4A8EFC1CC8B   \n",
       "9752917  B706835DE79A2B4E80506F582AF3676A  8EE8215B30F7CC875384AFF080370285   \n",
       "\n",
       "           status                TimeQueued                 QueueDate  \\\n",
       "1          Queued 2018-04-10 18:34:16+08:00 2018-04-09 00:00:00+08:00   \n",
       "2          Queued 2018-04-03 23:26:19+08:00 2018-03-31 00:00:00+08:00   \n",
       "39       Complete 2021-07-07 12:18:20+08:00 2021-07-07 00:00:00+08:00   \n",
       "41       Complete 2021-07-21 07:39:33+08:00 2021-07-21 00:00:00+08:00   \n",
       "71       Complete 2021-12-08 07:20:04+08:00 2021-12-08 00:00:00+08:00   \n",
       "...           ...                       ...                       ...   \n",
       "9752130  Complete 2024-01-23 02:35:49+08:00 2024-01-23 00:00:00+08:00   \n",
       "9752132  Complete 2021-12-18 19:20:26+08:00 2021-12-18 00:00:00+08:00   \n",
       "9752908  Complete 2023-07-06 09:21:13+08:00 2023-07-06 00:00:00+08:00   \n",
       "9752912  Complete 2023-07-08 15:03:17+08:00 2023-07-08 00:00:00+08:00   \n",
       "9752917    Queued 2023-08-08 13:01:00+08:00 2023-08-08 00:00:00+08:00   \n",
       "\n",
       "                        StartTime                   EndTime          type  \\\n",
       "1       2018-04-09 18:33:00+08:00 2018-04-12 13:29:57+08:00     Inpatient   \n",
       "2       2018-03-31 23:25:00+08:00 2018-04-05 23:51:47+08:00     Inpatient   \n",
       "39      2021-07-07 19:00:00+08:00 2021-07-07 19:15:00+08:00  Consultation   \n",
       "41      2021-07-21 13:00:00+08:00 2021-07-21 13:15:00+08:00  Consultation   \n",
       "71      2021-12-08 13:19:00+08:00 2021-12-08 13:34:00+08:00  Consultation   \n",
       "...                           ...                       ...           ...   \n",
       "9752130 2024-01-23 14:30:00+08:00 2024-01-23 15:00:00+08:00  Consultation   \n",
       "9752132 2021-12-18 20:00:00+08:00 2021-12-18 21:00:00+08:00  Consultation   \n",
       "9752908 2023-07-06 10:00:00+08:00 2023-07-06 10:15:00+08:00  Consultation   \n",
       "9752912 2023-07-08 16:00:00+08:00 2023-07-08 16:15:00+08:00  Consultation   \n",
       "9752917 2023-08-08 16:00:55+08:00 2023-08-08 16:15:55+08:00  Consultation   \n",
       "\n",
       "        Virtual  \n",
       "1         False  \n",
       "2         False  \n",
       "39         True  \n",
       "41        False  \n",
       "71        False  \n",
       "...         ...  \n",
       "9752130    True  \n",
       "9752132    True  \n",
       "9752908    True  \n",
       "9752912   False  \n",
       "9752917   False  \n",
       "\n",
       "[500481 rows x 11 columns]"
      ]
     },
     "execution_count": 64,
     "metadata": {},
     "output_type": "execute_result"
    }
   ],
   "source": [
    "appointments_df"
   ]
  },
  {
   "cell_type": "markdown",
   "id": "042a8b48-a109-4a0c-b2fd-1350aaa6c10d",
   "metadata": {
    "jp-MarkdownHeadingCollapsed": true
   },
   "source": [
    "## SETUP"
   ]
  },
  {
   "cell_type": "code",
   "execution_count": 1,
   "id": "4b9e8522-5859-42ea-8452-e62f8f192ec1",
   "metadata": {},
   "outputs": [],
   "source": [
    "import numpy as np\n",
    "import pandas as pd\n",
    "import matplotlib.pyplot as plt\n",
    "import seaborn as sns\n",
    "import pytz\n",
    "\n",
    "# sets the theme of the charts\n",
    "plt.style.use('seaborn-v0_8-darkgrid')\n",
    "\n",
    "%matplotlib inline"
   ]
  },
  {
   "cell_type": "code",
   "execution_count": 2,
   "id": "e0f4f1e3-31ba-4be1-b092-85dd125cbed8",
   "metadata": {},
   "outputs": [],
   "source": [
    "# imports the csv files\n",
    "appointments_df = pd.read_csv('appointments.csv', low_memory=False, encoding='unicode_escape')"
   ]
  },
  {
   "cell_type": "code",
   "execution_count": 3,
   "id": "2a8eff5b-908c-47bc-ae7a-9d66e1a41892",
   "metadata": {},
   "outputs": [],
   "source": [
    "final_appointments_df = appointments_df"
   ]
  },
  {
   "cell_type": "code",
   "execution_count": 4,
   "id": "6598aa4f-0415-40b5-8995-a44b149e40ee",
   "metadata": {},
   "outputs": [
    {
     "name": "stdout",
     "output_type": "stream",
     "text": [
      "<class 'pandas.core.frame.DataFrame'>\n",
      "RangeIndex: 9752932 entries, 0 to 9752931\n",
      "Data columns (total 11 columns):\n",
      " #   Column      Dtype \n",
      "---  ------      ----- \n",
      " 0   pxid        object\n",
      " 1   clinicid    object\n",
      " 2   doctorid    object\n",
      " 3   apptid      object\n",
      " 4   status      object\n",
      " 5   TimeQueued  object\n",
      " 6   QueueDate   object\n",
      " 7   StartTime   object\n",
      " 8   EndTime     object\n",
      " 9   type        object\n",
      " 10  Virtual     object\n",
      "dtypes: object(11)\n",
      "memory usage: 818.5+ MB\n"
     ]
    }
   ],
   "source": [
    "final_appointments_df.info()"
   ]
  },
  {
   "cell_type": "markdown",
   "id": "789142b6-87b5-4b4a-99f4-fb85bbf214f1",
   "metadata": {
    "jp-MarkdownHeadingCollapsed": true
   },
   "source": [
    "## `id` variables"
   ]
  },
  {
   "cell_type": "markdown",
   "id": "b46d635c-d346-489b-a572-954143feaece",
   "metadata": {
    "jp-MarkdownHeadingCollapsed": true
   },
   "source": [
    "### `pxid` variable"
   ]
  },
  {
   "cell_type": "code",
   "execution_count": null,
   "id": "ab000f8c-a396-44ec-b930-b8fce4584684",
   "metadata": {},
   "outputs": [],
   "source": [
    "# check values of pxid\n",
    "appointments_df['pxid']"
   ]
  },
  {
   "cell_type": "code",
   "execution_count": null,
   "id": "fc21783f-1c4f-45ea-96b7-8cd3214f0c27",
   "metadata": {},
   "outputs": [],
   "source": [
    "# check unique values of pxid\n",
    "appointments_df['pxid'].unique()"
   ]
  },
  {
   "cell_type": "code",
   "execution_count": null,
   "id": "3b1091f5-9f4c-49be-a592-2539cf9eb332",
   "metadata": {},
   "outputs": [],
   "source": [
    "# check value counts of pxid\n",
    "appointments_df['pxid'].value_counts()"
   ]
  },
  {
   "cell_type": "code",
   "execution_count": null,
   "id": "3e00f6f1-f26a-45af-9f8b-110c44a2b71c",
   "metadata": {},
   "outputs": [],
   "source": [
    "# check for null values of pxid\n",
    "pxid_count = appointments_df['pxid'].isnull().sum()"
   ]
  },
  {
   "cell_type": "markdown",
   "id": "83b3f27a-619d-463f-b2c2-f9e65860ea83",
   "metadata": {
    "jp-MarkdownHeadingCollapsed": true
   },
   "source": [
    "### `clinicid` variable"
   ]
  },
  {
   "cell_type": "code",
   "execution_count": null,
   "id": "990b5679-ca80-4ba3-bf9b-c1556a16d835",
   "metadata": {},
   "outputs": [],
   "source": [
    "# check values of clinicid\n",
    "appointments_df['clinicid']"
   ]
  },
  {
   "cell_type": "code",
   "execution_count": null,
   "id": "6af26979-b453-487f-9a27-79449299d551",
   "metadata": {},
   "outputs": [],
   "source": [
    "# check unique values of clinicid\n",
    "appointments_df['clinicid'].unique()"
   ]
  },
  {
   "cell_type": "code",
   "execution_count": null,
   "id": "eb8e45ee-ffc4-47c3-81b9-cf4f2c84a9c1",
   "metadata": {},
   "outputs": [],
   "source": [
    "# check value counts of clinicid\n",
    "appointments_df['clinicid'].value_counts()"
   ]
  },
  {
   "cell_type": "code",
   "execution_count": null,
   "id": "be343974-ebf7-41f8-bde0-e70231a79d6f",
   "metadata": {},
   "outputs": [],
   "source": [
    "# check for null values of clinicid\n",
    "appointments_df['clinicid'].isnull().sum()"
   ]
  },
  {
   "cell_type": "markdown",
   "id": "2f93f1b8-ad3a-470d-b743-3e82adc0ce88",
   "metadata": {
    "jp-MarkdownHeadingCollapsed": true
   },
   "source": [
    "### `doctorid` variable"
   ]
  },
  {
   "cell_type": "code",
   "execution_count": null,
   "id": "793d74f7-e517-42a9-a7bd-8ca5b3419d6e",
   "metadata": {},
   "outputs": [],
   "source": [
    "# check values of doctorid\n",
    "appointments_df['doctorid']"
   ]
  },
  {
   "cell_type": "code",
   "execution_count": null,
   "id": "85e17b1a-34c5-430e-80fc-667d38d34968",
   "metadata": {},
   "outputs": [],
   "source": [
    "# check unique values of doctorid\n",
    "appointments_df['doctorid'].unique()"
   ]
  },
  {
   "cell_type": "code",
   "execution_count": null,
   "id": "aded244f-9cef-42be-9b43-89af321888f3",
   "metadata": {},
   "outputs": [],
   "source": [
    "# check value counts of doctorid\n",
    "appointments_df['doctorid'].value_counts()"
   ]
  },
  {
   "cell_type": "code",
   "execution_count": null,
   "id": "248d397d-87dc-4eaf-af5b-2fc17791a285",
   "metadata": {},
   "outputs": [],
   "source": [
    "# check null values of doctorid\n",
    "appointments_df['doctorid'].isnull().sum()"
   ]
  },
  {
   "cell_type": "markdown",
   "id": "b511c31c-139a-4ff9-a574-e7e7bba3a1d1",
   "metadata": {},
   "source": [
    "### `apptid` variable"
   ]
  },
  {
   "cell_type": "code",
   "execution_count": null,
   "id": "a3cc4970-c56d-444c-b8e3-638c525d6d5b",
   "metadata": {},
   "outputs": [],
   "source": [
    "# check values of apptid\n",
    "appointments_df['apptid']"
   ]
  },
  {
   "cell_type": "code",
   "execution_count": null,
   "id": "3293edf8-521e-448b-b287-86051fb7578c",
   "metadata": {},
   "outputs": [],
   "source": [
    "# check unique values of apptid\n",
    "appointments_df['apptid'].unique()"
   ]
  },
  {
   "cell_type": "code",
   "execution_count": null,
   "id": "4501bcd2-6a7f-45b2-ae39-6d0e3a4aab53",
   "metadata": {},
   "outputs": [],
   "source": [
    "# check value counts of apptid\n",
    "appointments_df['apptid'].value_counts()"
   ]
  },
  {
   "cell_type": "code",
   "execution_count": null,
   "id": "3df5000d-1b14-48ea-a6d6-50f55083d59e",
   "metadata": {},
   "outputs": [],
   "source": [
    "# check null values of apptid\n",
    "appointments_df['apptid'].isnull().sum()"
   ]
  },
  {
   "cell_type": "markdown",
   "id": "50121d1b-d6f3-46ec-bde1-8cdeb7563b7c",
   "metadata": {},
   "source": [
    "## TO CLEAN"
   ]
  },
  {
   "cell_type": "markdown",
   "id": "255c08b1-0bac-432a-852e-2bff4ebb4ced",
   "metadata": {
    "jp-MarkdownHeadingCollapsed": true
   },
   "source": [
    "### `status` variable"
   ]
  },
  {
   "cell_type": "code",
   "execution_count": 7,
   "id": "3ab94113-1131-446e-b0d0-b6a36848c091",
   "metadata": {},
   "outputs": [
    {
     "data": {
      "text/plain": [
       "0          Complete\n",
       "1            Queued\n",
       "2            Queued\n",
       "3            Queued\n",
       "4            Queued\n",
       "             ...   \n",
       "9752927      Queued\n",
       "9752928      Queued\n",
       "9752929      Queued\n",
       "9752930      Queued\n",
       "9752931      Queued\n",
       "Name: status, Length: 9752932, dtype: object"
      ]
     },
     "execution_count": 7,
     "metadata": {},
     "output_type": "execute_result"
    }
   ],
   "source": [
    "# check values of status\n",
    "appointments_df['status']"
   ]
  },
  {
   "cell_type": "code",
   "execution_count": 8,
   "id": "6d1446b2-583f-487c-b44b-2216ed78200f",
   "metadata": {},
   "outputs": [
    {
     "data": {
      "text/plain": [
       "array(['Complete', 'Queued', 'NoShow', 'Serving', 'Cancel', 'Skip',\n",
       "       'Completed', 'Admitted'], dtype=object)"
      ]
     },
     "execution_count": 8,
     "metadata": {},
     "output_type": "execute_result"
    }
   ],
   "source": [
    "# check unique values of status\n",
    "appointments_df['status'].unique()"
   ]
  },
  {
   "cell_type": "code",
   "execution_count": 9,
   "id": "3d5f9006-5611-4b8b-99fc-65268b9375eb",
   "metadata": {},
   "outputs": [
    {
     "data": {
      "text/plain": [
       "status\n",
       "Complete     6473675\n",
       "Queued       2523855\n",
       "Serving       284774\n",
       "NoShow        230048\n",
       "Cancel        213270\n",
       "Skip           27298\n",
       "Completed         10\n",
       "Admitted           2\n",
       "Name: count, dtype: int64"
      ]
     },
     "execution_count": 9,
     "metadata": {},
     "output_type": "execute_result"
    }
   ],
   "source": [
    "# check count for status since there are two values for 'Complete'\n",
    "appointments_df['status'].value_counts()"
   ]
  },
  {
   "cell_type": "code",
   "execution_count": 10,
   "id": "ecaa5a27-ac49-42f4-afbf-7f8c820917ef",
   "metadata": {},
   "outputs": [
    {
     "name": "stdout",
     "output_type": "stream",
     "text": [
      "status\n",
      "Complete    6473685\n",
      "Queued      2523855\n",
      "Serving      284774\n",
      "NoShow       230048\n",
      "Cancel       213270\n",
      "Skip          27298\n",
      "Admitted          2\n",
      "Name: count, dtype: int64\n"
     ]
    }
   ],
   "source": [
    "# replace Completed with Complete\n",
    "appointments_df['status'] = appointments_df['status'].replace({'Completed': 'Complete'}, regex=True)\n",
    "status_vc = appointments_df['status'].value_counts()\n",
    "print(status_vc)"
   ]
  },
  {
   "cell_type": "code",
   "execution_count": 11,
   "id": "520c1552-352b-432f-aac3-2b346c238f98",
   "metadata": {},
   "outputs": [
    {
     "data": {
      "text/plain": [
       "0"
      ]
     },
     "execution_count": 11,
     "metadata": {},
     "output_type": "execute_result"
    }
   ],
   "source": [
    "# check null values of status\n",
    "appointments_df['status'].isnull().sum()"
   ]
  },
  {
   "cell_type": "markdown",
   "id": "9bb3daa4-f521-4ae8-b30c-ba5b70577547",
   "metadata": {
    "jp-MarkdownHeadingCollapsed": true
   },
   "source": [
    "### `QueueDate` variable"
   ]
  },
  {
   "cell_type": "code",
   "execution_count": 12,
   "id": "8b0a4124-6355-463a-8e12-0c7b79038ef4",
   "metadata": {},
   "outputs": [
    {
     "data": {
      "text/plain": [
       "0          2018-04-10 16:00:00\n",
       "1          2018-04-08 16:00:00\n",
       "2          2018-03-30 16:00:00\n",
       "3                          NaN\n",
       "4                          NaN\n",
       "                  ...         \n",
       "9752927    2023-11-22 16:00:00\n",
       "9752928    2023-12-04 16:00:00\n",
       "9752929    2024-01-03 16:00:00\n",
       "9752930    2024-01-12 16:00:00\n",
       "9752931    2024-01-03 16:00:00\n",
       "Name: QueueDate, Length: 9752932, dtype: object"
      ]
     },
     "execution_count": 12,
     "metadata": {},
     "output_type": "execute_result"
    }
   ],
   "source": [
    "# check values of QueueDate\n",
    "appointments_df['QueueDate']"
   ]
  },
  {
   "cell_type": "code",
   "execution_count": 13,
   "id": "fc23053b-08d8-4dc9-b75f-cb0f2e6b70c6",
   "metadata": {},
   "outputs": [],
   "source": [
    "# convert to datetime data type\n",
    "appointments_df['QueueDate'] = pd.to_datetime(appointments_df['QueueDate'], errors='coerce')"
   ]
  },
  {
   "cell_type": "code",
   "execution_count": 14,
   "id": "88a45f6a-42ac-43c3-b18c-3367cd24a590",
   "metadata": {},
   "outputs": [
    {
     "data": {
      "text/plain": [
       "99"
      ]
     },
     "execution_count": 14,
     "metadata": {},
     "output_type": "execute_result"
    }
   ],
   "source": [
    "# check null values of QueueDate\n",
    "appointments_df['QueueDate'].isnull().sum()"
   ]
  },
  {
   "cell_type": "code",
   "execution_count": 15,
   "id": "51ca1bf1-1574-47e0-bd72-651246472587",
   "metadata": {},
   "outputs": [],
   "source": [
    "# drop rows that have invalid Queuedate\n",
    "appointments_df = appointments_df.dropna(subset=['QueueDate'])"
   ]
  },
  {
   "cell_type": "code",
   "execution_count": 16,
   "id": "ed1771a8-a672-43af-8ae4-e84b6e040025",
   "metadata": {},
   "outputs": [
    {
     "name": "stderr",
     "output_type": "stream",
     "text": [
      "C:\\Users\\Anne Sulit\\AppData\\Local\\Temp\\ipykernel_4952\\2623430957.py:4: SettingWithCopyWarning: \n",
      "A value is trying to be set on a copy of a slice from a DataFrame.\n",
      "Try using .loc[row_indexer,col_indexer] = value instead\n",
      "\n",
      "See the caveats in the documentation: https://pandas.pydata.org/pandas-docs/stable/user_guide/indexing.html#returning-a-view-versus-a-copy\n",
      "  appointments_df['QueueDate'] = appointments_df['QueueDate'].dt.tz_localize('UTC').dt.tz_convert(asian_tz)\n"
     ]
    }
   ],
   "source": [
    "# Set the timezone to GMT+8 (Asia/Singapore)\n",
    "asian_tz = pytz.timezone('Asia/Singapore')\n",
    "# Convert the 'QueueDate' column to the new timezone\n",
    "appointments_df['QueueDate'] = appointments_df['QueueDate'].dt.tz_localize('UTC').dt.tz_convert(asian_tz)"
   ]
  },
  {
   "cell_type": "markdown",
   "id": "31fe6f52-92d5-4421-9d6d-c974d5ad9538",
   "metadata": {
    "jp-MarkdownHeadingCollapsed": true
   },
   "source": [
    "### `TimeQueued` variable"
   ]
  },
  {
   "cell_type": "code",
   "execution_count": 17,
   "id": "22bf1593-1ecc-41f8-9950-ca217815f8ce",
   "metadata": {},
   "outputs": [
    {
     "data": {
      "text/plain": [
       "0                    2018-04-11 01:59:58\n",
       "1                    2018-04-10 10:34:16\n",
       "2                    2018-04-03 15:26:19\n",
       "21         2020-08-03 02:05:14.693000000\n",
       "22         2020-08-07 04:39:30.713000000\n",
       "                       ...              \n",
       "9752927    2023-11-20 00:34:25.337000000\n",
       "9752928    2023-12-05 07:51:25.443000000\n",
       "9752929    2024-01-04 06:11:06.437000000\n",
       "9752930    2024-01-13 06:12:54.737000000\n",
       "9752931    2024-01-04 00:45:05.063000000\n",
       "Name: TimeQueued, Length: 9752833, dtype: object"
      ]
     },
     "execution_count": 17,
     "metadata": {},
     "output_type": "execute_result"
    }
   ],
   "source": [
    "# check values of TimeQueued\n",
    "appointments_df['TimeQueued']"
   ]
  },
  {
   "cell_type": "code",
   "execution_count": 18,
   "id": "eb36e9e1-7594-409f-b593-4b8b4feae3f0",
   "metadata": {},
   "outputs": [
    {
     "name": "stderr",
     "output_type": "stream",
     "text": [
      "C:\\Users\\Anne Sulit\\AppData\\Local\\Temp\\ipykernel_4952\\1334969640.py:2: SettingWithCopyWarning: \n",
      "A value is trying to be set on a copy of a slice from a DataFrame.\n",
      "Try using .loc[row_indexer,col_indexer] = value instead\n",
      "\n",
      "See the caveats in the documentation: https://pandas.pydata.org/pandas-docs/stable/user_guide/indexing.html#returning-a-view-versus-a-copy\n",
      "  appointments_df['TimeQueued'] = pd.to_datetime(appointments_df['TimeQueued'], errors='coerce')\n"
     ]
    }
   ],
   "source": [
    "# convert to datetime data type\n",
    "appointments_df['TimeQueued'] = pd.to_datetime(appointments_df['TimeQueued'], errors='coerce')"
   ]
  },
  {
   "cell_type": "code",
   "execution_count": 19,
   "id": "3dcab03b-b282-4681-a6a5-a9d6c8850fa4",
   "metadata": {},
   "outputs": [
    {
     "data": {
      "text/plain": [
       "5663460"
      ]
     },
     "execution_count": 19,
     "metadata": {},
     "output_type": "execute_result"
    }
   ],
   "source": [
    "# check null values of TimeQueued\n",
    "appointments_df['TimeQueued'].isnull().sum()"
   ]
  },
  {
   "cell_type": "code",
   "execution_count": 20,
   "id": "6aacbd88-eefb-4016-9910-aaa9f1bdaf25",
   "metadata": {},
   "outputs": [],
   "source": [
    "# drop rows that have invalid TimeQueued\n",
    "appointments_df = appointments_df.dropna(subset=['TimeQueued'])"
   ]
  },
  {
   "cell_type": "code",
   "execution_count": 21,
   "id": "1723a270-efe0-45eb-86f6-b1a04340796f",
   "metadata": {},
   "outputs": [],
   "source": [
    "# Set the timezone to GMT+8 (Asia/Singapore)\n",
    "asian_tz = pytz.timezone('Asia/Singapore')\n",
    "\n",
    "# Convert the 'QueueDate' column to the new timezone\n",
    "appointments_df['TimeQueued'] = appointments_df['TimeQueued'].dt.tz_localize('UTC').dt.tz_convert(asian_tz)"
   ]
  },
  {
   "cell_type": "code",
   "execution_count": 44,
   "id": "908a9052-819b-441b-8615-31dff6149f21",
   "metadata": {},
   "outputs": [
    {
     "data": {
      "text/plain": [
       "471325"
      ]
     },
     "execution_count": 44,
     "metadata": {},
     "output_type": "execute_result"
    }
   ],
   "source": [
    "len(appointments_df.loc[appointments_df['TimeQueued'] < appointments_df['QueueDate'], 'TimeQueued'])"
   ]
  },
  {
   "cell_type": "code",
   "execution_count": 45,
   "id": "e41e046e-502f-4443-a937-88449a111c7f",
   "metadata": {},
   "outputs": [],
   "source": [
    "# drop rows whose timequeued is earlier than Queue Date\n",
    "appointments_df.loc[appointments_df['TimeQueued'] < appointments_df['QueueDate'], 'TimeQueued'] = pd.NaT\n",
    "appointments_df = appointments_df.dropna(subset=['TimeQueued'])"
   ]
  },
  {
   "cell_type": "markdown",
   "id": "b875726f-e4d6-4db3-96f8-fdfa0c6500d0",
   "metadata": {},
   "source": [
    "### `StartTime` variable"
   ]
  },
  {
   "cell_type": "code",
   "execution_count": 22,
   "id": "b914bd66-7dca-4f40-b5c7-ede44287efe1",
   "metadata": {},
   "outputs": [
    {
     "data": {
      "text/plain": [
       "0                          NaN\n",
       "1          2018-04-09 10:33:00\n",
       "2          2018-03-31 15:25:00\n",
       "38                         NaN\n",
       "39         2021-07-07 11:00:00\n",
       "                  ...         \n",
       "9752908    2023-07-06 02:00:00\n",
       "9752909                    NaN\n",
       "9752912    2023-07-08 08:00:00\n",
       "9752915    2023-07-20 07:30:33\n",
       "9752917    2023-08-08 08:00:55\n",
       "Name: StartTime, Length: 4089373, dtype: object"
      ]
     },
     "execution_count": 22,
     "metadata": {},
     "output_type": "execute_result"
    }
   ],
   "source": [
    "# check values of StartTime\n",
    "appointments_df['StartTime']"
   ]
  },
  {
   "cell_type": "code",
   "execution_count": 23,
   "id": "e05ac944-aeed-40bf-9db0-bea2384b8778",
   "metadata": {},
   "outputs": [],
   "source": [
    "# convert to datetime data type\n",
    "appointments_df['StartTime'] = pd.to_datetime(appointments_df['StartTime'], errors='coerce')"
   ]
  },
  {
   "cell_type": "code",
   "execution_count": 24,
   "id": "5f892ded-8c69-43e4-aff4-4e1899cbd8cd",
   "metadata": {},
   "outputs": [
    {
     "data": {
      "text/plain": [
       "2783213"
      ]
     },
     "execution_count": 24,
     "metadata": {},
     "output_type": "execute_result"
    }
   ],
   "source": [
    "# check null values of StartTime\n",
    "appointments_df['StartTime'].isnull().sum()"
   ]
  },
  {
   "cell_type": "code",
   "execution_count": 25,
   "id": "1ff3e97b-8b20-4aa9-8354-d56b8a4292d1",
   "metadata": {},
   "outputs": [],
   "source": [
    "# drop rows that have invalid TimeQueued\n",
    "appointments_df = appointments_df.dropna(subset=['StartTime'])"
   ]
  },
  {
   "cell_type": "code",
   "execution_count": 26,
   "id": "d24601a6-de6d-4596-8ba0-047303d71a04",
   "metadata": {},
   "outputs": [],
   "source": [
    "# Set the timezone to GMT+8 (Asia/Singapore)\n",
    "asian_tz = pytz.timezone('Asia/Singapore')\n",
    "\n",
    "# Convert the 'QueueDate' column to the new timezone\n",
    "appointments_df['StartTime'] = appointments_df['StartTime'].dt.tz_localize('UTC').dt.tz_convert(asian_tz)"
   ]
  },
  {
   "cell_type": "code",
   "execution_count": null,
   "id": "c173c907-8df1-4d00-8653-8cfa5179a701",
   "metadata": {},
   "outputs": [],
   "source": [
    "# drop rows whose StartTime is earlier than TimeQueued\n",
    "appointments_df.loc[appointments_df['StartTime'] < appointments_df['TimeQueued'], 'StartTime'] = pd.NaT\n",
    "appointments_df = appointments_df.dropna(subset=['StartTime'])"
   ]
  },
  {
   "cell_type": "markdown",
   "id": "3269e99e-3a20-4f08-8e54-a551dd0a9c83",
   "metadata": {},
   "source": [
    "### `EndTime` variable"
   ]
  },
  {
   "cell_type": "code",
   "execution_count": 27,
   "id": "0680be02-c383-44a0-a514-f2b44719af50",
   "metadata": {},
   "outputs": [
    {
     "data": {
      "text/plain": [
       "1          2018-04-12 05:29:57\n",
       "2          2018-04-05 15:51:47\n",
       "39         2021-07-07 11:15:00\n",
       "41         2021-07-21 05:15:00\n",
       "43         2021-07-24 02:15:00\n",
       "                  ...         \n",
       "9752151    2022-01-23 00:15:00\n",
       "9752908    2023-07-06 02:15:00\n",
       "9752912    2023-07-08 08:15:00\n",
       "9752915    2023-07-20 07:45:33\n",
       "9752917    2023-08-08 08:15:55\n",
       "Name: EndTime, Length: 1306160, dtype: object"
      ]
     },
     "execution_count": 27,
     "metadata": {},
     "output_type": "execute_result"
    }
   ],
   "source": [
    "# check values of EndTime\n",
    "appointments_df['EndTime']"
   ]
  },
  {
   "cell_type": "code",
   "execution_count": 28,
   "id": "cf0cba19-29c2-4d18-af21-67a39c738baf",
   "metadata": {},
   "outputs": [],
   "source": [
    "# convert to datetime data type\n",
    "appointments_df['EndTime'] = pd.to_datetime(appointments_df['EndTime'], errors='coerce')"
   ]
  },
  {
   "cell_type": "code",
   "execution_count": 98,
   "id": "7a032e0e-41b2-4c2f-a397-d343d2b21f32",
   "metadata": {},
   "outputs": [
    {
     "data": {
      "text/plain": [
       "1832"
      ]
     },
     "execution_count": 98,
     "metadata": {},
     "output_type": "execute_result"
    }
   ],
   "source": [
    "# check null values of EndTime\n",
    "appointments_df['EndTime'].isnull().sum()"
   ]
  },
  {
   "cell_type": "code",
   "execution_count": null,
   "id": "34ccac18-9fbb-4366-992d-76654e5f05bd",
   "metadata": {},
   "outputs": [],
   "source": [
    "# drop rows that have invalid TimeQueued\n",
    "appointments_df = appointments_df.dropna(subset=['EndTime'])"
   ]
  },
  {
   "cell_type": "code",
   "execution_count": 30,
   "id": "1c5c6aae-2f47-4f17-ada5-af6016cdc531",
   "metadata": {},
   "outputs": [],
   "source": [
    "# Set the timezone to GMT+8 (Asia/Singapore)\n",
    "asian_tz = pytz.timezone('Asia/Singapore')\n",
    "\n",
    "# Convert the 'QueueDate' column to the new timezone\n",
    "appointments_df['EndTime'] = appointments_df['EndTime'].dt.tz_localize('UTC').dt.tz_convert(asian_tz)"
   ]
  },
  {
   "cell_type": "code",
   "execution_count": 42,
   "id": "bd531dee-bb91-4437-b909-f7ea8657ec87",
   "metadata": {},
   "outputs": [],
   "source": [
    "# drop rows whose EndTime is earlier than StartTime\n",
    "appointments_df['InvalidDuration'] = np.where(appointments_df['EndTime'] < appointments_df['StartTime'], 'Invalid', 'ok')\n",
    "appointments_df = appointments_df[appointments_df['InvalidDuration'] != 'Invalid']\n",
    "appointments_df = appointments_df.drop(columns=['InvalidDuration'])"
   ]
  },
  {
   "cell_type": "code",
   "execution_count": 55,
   "id": "9d3b3016-59a8-4686-98a0-ff9cb0975131",
   "metadata": {},
   "outputs": [],
   "source": [
    "#drop rows where status is complete but there is no endtime\n",
    "mask = (appointments_df['status'] == 'Complete') & (appointments_df['EndTime'].isna())\n",
    "appointments_df = appointments_df[~mask]"
   ]
  },
  {
   "cell_type": "code",
   "execution_count": 61,
   "id": "7af71ee9-76e9-4a7d-ac66-7902ee8409a3",
   "metadata": {},
   "outputs": [],
   "source": [
    "# drop rows where type is consultation and there is no end time\n",
    "mask = (appointments_df['type'] == 'Consultation') & (appointments_df['EndTime'].isna())\n",
    "appointments_df = appointments_df[~mask]"
   ]
  },
  {
   "cell_type": "markdown",
   "id": "8916a120-8717-4b3e-95ae-c6184e697918",
   "metadata": {
    "jp-MarkdownHeadingCollapsed": true
   },
   "source": [
    "### `type` variable"
   ]
  },
  {
   "cell_type": "code",
   "execution_count": 89,
   "id": "6a83d793-2586-4284-8af7-ca68a11c4535",
   "metadata": {},
   "outputs": [
    {
     "data": {
      "text/plain": [
       "1             Inpatient\n",
       "2             Inpatient\n",
       "39         Consultation\n",
       "41         Consultation\n",
       "71         Consultation\n",
       "               ...     \n",
       "9752130    Consultation\n",
       "9752132    Consultation\n",
       "9752908    Consultation\n",
       "9752912    Consultation\n",
       "9752917    Consultation\n",
       "Name: type, Length: 500481, dtype: object"
      ]
     },
     "execution_count": 89,
     "metadata": {},
     "output_type": "execute_result"
    }
   ],
   "source": [
    "# check values of type\n",
    "appointments_df['type']"
   ]
  },
  {
   "cell_type": "code",
   "execution_count": 32,
   "id": "f90437d5-1464-43e4-a9ea-669be5dff986",
   "metadata": {},
   "outputs": [
    {
     "data": {
      "text/plain": [
       "array(['Inpatient', 'Consultation'], dtype=object)"
      ]
     },
     "execution_count": 32,
     "metadata": {},
     "output_type": "execute_result"
    }
   ],
   "source": [
    "# check unique values of type\n",
    "appointments_df['type'].unique()"
   ]
  },
  {
   "cell_type": "code",
   "execution_count": 62,
   "id": "8c0d03a4-c0eb-436d-82e3-f5f951d70933",
   "metadata": {},
   "outputs": [
    {
     "name": "stdout",
     "output_type": "stream",
     "text": [
      "type\n",
      "Consultation    424358\n",
      "Inpatient        76123\n",
      "Name: count, dtype: int64\n"
     ]
    }
   ],
   "source": [
    "type_vc = appointments_df['type'].value_counts()\n",
    "print(type_vc)"
   ]
  },
  {
   "cell_type": "code",
   "execution_count": 34,
   "id": "eebbd13b-fbbb-424c-a779-c79a924813db",
   "metadata": {},
   "outputs": [
    {
     "data": {
      "text/plain": [
       "0"
      ]
     },
     "execution_count": 34,
     "metadata": {},
     "output_type": "execute_result"
    }
   ],
   "source": [
    "# check null values of type\n",
    "appointments_df['type'].isnull().sum()"
   ]
  },
  {
   "cell_type": "markdown",
   "id": "b0a84da7-f652-4410-80a2-29f84c5e2077",
   "metadata": {
    "jp-MarkdownHeadingCollapsed": true
   },
   "source": [
    "### `Virtual` variable"
   ]
  },
  {
   "cell_type": "code",
   "execution_count": 35,
   "id": "6e53d58c-b0c0-492c-be11-bb219ea41d42",
   "metadata": {},
   "outputs": [
    {
     "data": {
      "text/plain": [
       "1            NaN\n",
       "2            NaN\n",
       "39          True\n",
       "41         False\n",
       "43         False\n",
       "           ...  \n",
       "9752151     True\n",
       "9752908     True\n",
       "9752912    False\n",
       "9752915    False\n",
       "9752917    False\n",
       "Name: Virtual, Length: 1306160, dtype: object"
      ]
     },
     "execution_count": 35,
     "metadata": {},
     "output_type": "execute_result"
    }
   ],
   "source": [
    "# check values of Virtual\n",
    "appointments_df['Virtual']"
   ]
  },
  {
   "cell_type": "code",
   "execution_count": 36,
   "id": "4be47a7a-a264-46f4-ab3f-878202126a76",
   "metadata": {},
   "outputs": [
    {
     "data": {
      "text/plain": [
       "array([nan, True, False], dtype=object)"
      ]
     },
     "execution_count": 36,
     "metadata": {},
     "output_type": "execute_result"
    }
   ],
   "source": [
    "# check unique values of Virtual\n",
    "appointments_df['Virtual'].unique()"
   ]
  },
  {
   "cell_type": "code",
   "execution_count": 37,
   "id": "8796ca80-ef03-42c7-85c6-ff14f2f539fa",
   "metadata": {},
   "outputs": [
    {
     "name": "stdout",
     "output_type": "stream",
     "text": [
      "Virtual\n",
      "False    695161\n",
      "True     200115\n",
      "Name: count, dtype: int64\n"
     ]
    }
   ],
   "source": [
    "virtual_vc = appointments_df['Virtual'].value_counts()\n",
    "print(virtual_vc)"
   ]
  },
  {
   "cell_type": "code",
   "execution_count": 38,
   "id": "512626f4-1b1c-4b7f-ad08-a8b07ebdc0d1",
   "metadata": {},
   "outputs": [
    {
     "data": {
      "text/plain": [
       "410884"
      ]
     },
     "execution_count": 38,
     "metadata": {},
     "output_type": "execute_result"
    }
   ],
   "source": [
    "# check null values of Virtual\n",
    "appointments_df['Virtual'].isnull().sum()"
   ]
  },
  {
   "cell_type": "code",
   "execution_count": 39,
   "id": "ba138b5c-1d02-40a2-a254-a0dc8d30c4a3",
   "metadata": {},
   "outputs": [],
   "source": [
    "# all inpatient appointments are set to False\n",
    "appointments_df.loc[appointments_df['type'] == 'Inpatient', 'Virtual'] = False"
   ]
  },
  {
   "cell_type": "code",
   "execution_count": 40,
   "id": "45d83ca7-a4ef-45bb-9c18-656f5394da7b",
   "metadata": {},
   "outputs": [],
   "source": [
    "# drop all rows where Virtual == NaN\n",
    "appointments_df = appointments_df.dropna(subset=['Virtual'])"
   ]
  },
  {
   "cell_type": "markdown",
   "id": "ce2b61ed-3313-4c8d-be67-2e84fe287569",
   "metadata": {
    "jp-MarkdownHeadingCollapsed": true
   },
   "source": [
    "### New Columns"
   ]
  },
  {
   "cell_type": "code",
   "execution_count": 95,
   "id": "c4f769b0-113a-46aa-b7f8-58f22795588b",
   "metadata": {},
   "outputs": [
    {
     "name": "stderr",
     "output_type": "stream",
     "text": [
      "C:\\Users\\Anne Sulit\\AppData\\Local\\Temp\\ipykernel_4952\\1451894876.py:1: SettingWithCopyWarning: \n",
      "A value is trying to be set on a copy of a slice from a DataFrame.\n",
      "Try using .loc[row_indexer,col_indexer] = value instead\n",
      "\n",
      "See the caveats in the documentation: https://pandas.pydata.org/pandas-docs/stable/user_guide/indexing.html#returning-a-view-versus-a-copy\n",
      "  check_df['QueueDifference'] = check_df['TimeQueued'] - check_df['QueueDate']\n"
     ]
    }
   ],
   "source": [
    "check_df['QueueDifference'] = check_df['TimeQueued'] - check_df['QueueDate']"
   ]
  },
  {
   "cell_type": "code",
   "execution_count": 96,
   "id": "123f3b2d-3257-46d8-81fd-b7e12013c095",
   "metadata": {},
   "outputs": [
    {
     "name": "stderr",
     "output_type": "stream",
     "text": [
      "C:\\Users\\Anne Sulit\\AppData\\Local\\Temp\\ipykernel_4952\\2244614713.py:1: SettingWithCopyWarning: \n",
      "A value is trying to be set on a copy of a slice from a DataFrame.\n",
      "Try using .loc[row_indexer,col_indexer] = value instead\n",
      "\n",
      "See the caveats in the documentation: https://pandas.pydata.org/pandas-docs/stable/user_guide/indexing.html#returning-a-view-versus-a-copy\n",
      "  check_df['WaitingTime'] = check_df['StartTime'] - check_df['TimeQueued']\n"
     ]
    }
   ],
   "source": [
    "check_df['WaitingTime'] = check_df['StartTime'] - check_df['TimeQueued']"
   ]
  },
  {
   "cell_type": "code",
   "execution_count": null,
   "id": "8e10daaf-8b4c-4fbc-9686-0f95e4150123",
   "metadata": {},
   "outputs": [],
   "source": [
    "appointments_df['Duration'] = appointments_df['EndTime'] - appointments_df['StartTime']"
   ]
  },
  {
   "cell_type": "code",
   "execution_count": null,
   "id": "1141827d-e799-4d79-8170-35011c176998",
   "metadata": {},
   "outputs": [],
   "source": [
    "# drop rows whose EndTime is earlier than StartTime\n",
    "#appointments_df['Valid'] = np.where(appointments_df['QueueDate'].dt.date == appointments_df['TimeQueued'].dt.date, '1', '0')\n",
    "\n",
    "\n",
    "# Condition  1: QueueDate and TimeQueued are on the same date\n",
    "condition1 = (appointments_df['QueueDate'].dt.date == appointments_df['TimeQueued'].dt.date)\n",
    "\n",
    "# Condition  2: TimeQueued is later than QueueDate and type is 'inpatient'\n",
    "condition2 = ((appointments_df['QueueDate'].dt.date == appointments_df['StartTime'].dt.date)) & (appointments_df['type'] == 'Inpatient')\n",
    "\n",
    "# Use numpy.select to create the 'Valid' column with '1' where conditions are met\n",
    "appointments_df['Valid'] = np.select([condition1, condition2], ['1', '1'], default='0')"
   ]
  },
  {
   "cell_type": "markdown",
   "id": "20d388b1-0254-4aff-abd6-a8e91b906cb6",
   "metadata": {
    "jp-MarkdownHeadingCollapsed": true
   },
   "source": [
    "### Checkers"
   ]
  },
  {
   "cell_type": "code",
   "execution_count": 67,
   "id": "8bde959e-6cca-47a5-b81b-6845fa42570a",
   "metadata": {},
   "outputs": [],
   "source": [
    "check_df = appointments_df[appointments_df['EndTime'].isna()]"
   ]
  },
  {
   "cell_type": "code",
   "execution_count": 70,
   "id": "13d8a747-87b7-4eba-ac23-732857f3ab89",
   "metadata": {},
   "outputs": [
    {
     "data": {
      "text/html": [
       "<div>\n",
       "<style scoped>\n",
       "    .dataframe tbody tr th:only-of-type {\n",
       "        vertical-align: middle;\n",
       "    }\n",
       "\n",
       "    .dataframe tbody tr th {\n",
       "        vertical-align: top;\n",
       "    }\n",
       "\n",
       "    .dataframe thead th {\n",
       "        text-align: right;\n",
       "    }\n",
       "</style>\n",
       "<table border=\"1\" class=\"dataframe\">\n",
       "  <thead>\n",
       "    <tr style=\"text-align: right;\">\n",
       "      <th></th>\n",
       "      <th>pxid</th>\n",
       "      <th>clinicid</th>\n",
       "      <th>doctorid</th>\n",
       "      <th>apptid</th>\n",
       "      <th>status</th>\n",
       "      <th>TimeQueued</th>\n",
       "      <th>QueueDate</th>\n",
       "      <th>StartTime</th>\n",
       "      <th>EndTime</th>\n",
       "      <th>type</th>\n",
       "      <th>Virtual</th>\n",
       "    </tr>\n",
       "  </thead>\n",
       "  <tbody>\n",
       "    <tr>\n",
       "      <th>10418</th>\n",
       "      <td>CBA3A0A5B0DD9F876248BBF0499524AB</td>\n",
       "      <td>4FC28B7093B135C21C7183AC07E928A6</td>\n",
       "      <td>766D856EF1A6B02F93D894415E6BFA0E</td>\n",
       "      <td>D3F0187BE83DEF7F76647D720D0C7CB9</td>\n",
       "      <td>Queued</td>\n",
       "      <td>2019-07-22 19:51:40+08:00</td>\n",
       "      <td>2019-07-22 00:00:00+08:00</td>\n",
       "      <td>2019-07-22 19:49:19+08:00</td>\n",
       "      <td>NaT</td>\n",
       "      <td>Inpatient</td>\n",
       "      <td>False</td>\n",
       "    </tr>\n",
       "    <tr>\n",
       "      <th>10843</th>\n",
       "      <td>D2AAF1421254082EA721783EA8059C80</td>\n",
       "      <td>1597D21403F63DA1BB0539592597A525</td>\n",
       "      <td>298923C8190045E91288B430794814C4</td>\n",
       "      <td>21612E7E08B3DE201389AA228F7CB78A</td>\n",
       "      <td>Queued</td>\n",
       "      <td>2020-06-25 15:15:06+08:00</td>\n",
       "      <td>2020-06-02 00:00:00+08:00</td>\n",
       "      <td>2020-06-25 15:14:02+08:00</td>\n",
       "      <td>NaT</td>\n",
       "      <td>Inpatient</td>\n",
       "      <td>False</td>\n",
       "    </tr>\n",
       "    <tr>\n",
       "      <th>10847</th>\n",
       "      <td>926E919ABE48747F7DC28787D3DDEC0F</td>\n",
       "      <td>1597D21403F63DA1BB0539592597A525</td>\n",
       "      <td>298923C8190045E91288B430794814C4</td>\n",
       "      <td>165382D092D6D8A48D4302FC833A4DFB</td>\n",
       "      <td>Queued</td>\n",
       "      <td>2020-06-27 21:52:47+08:00</td>\n",
       "      <td>2020-06-21 00:00:00+08:00</td>\n",
       "      <td>2020-06-21 21:52:06+08:00</td>\n",
       "      <td>NaT</td>\n",
       "      <td>Inpatient</td>\n",
       "      <td>False</td>\n",
       "    </tr>\n",
       "    <tr>\n",
       "      <th>10860</th>\n",
       "      <td>24DD09341E422E0CC9E04481CE53B07A</td>\n",
       "      <td>1597D21403F63DA1BB0539592597A525</td>\n",
       "      <td>298923C8190045E91288B430794814C4</td>\n",
       "      <td>05A147DFCE1E010B3A6BD680466AD450</td>\n",
       "      <td>Queued</td>\n",
       "      <td>2020-06-25 12:05:55+08:00</td>\n",
       "      <td>2020-06-24 00:00:00+08:00</td>\n",
       "      <td>2020-06-24 12:04:55+08:00</td>\n",
       "      <td>NaT</td>\n",
       "      <td>Inpatient</td>\n",
       "      <td>False</td>\n",
       "    </tr>\n",
       "    <tr>\n",
       "      <th>10885</th>\n",
       "      <td>D857F1A484EF32E1AF0775149CB9C5DE</td>\n",
       "      <td>1597D21403F63DA1BB0539592597A525</td>\n",
       "      <td>298923C8190045E91288B430794814C4</td>\n",
       "      <td>720526328113717750836486A36D83F7</td>\n",
       "      <td>Queued</td>\n",
       "      <td>2020-06-27 17:20:25+08:00</td>\n",
       "      <td>2020-06-27 00:00:00+08:00</td>\n",
       "      <td>2020-06-27 17:19:43+08:00</td>\n",
       "      <td>NaT</td>\n",
       "      <td>Inpatient</td>\n",
       "      <td>False</td>\n",
       "    </tr>\n",
       "    <tr>\n",
       "      <th>...</th>\n",
       "      <td>...</td>\n",
       "      <td>...</td>\n",
       "      <td>...</td>\n",
       "      <td>...</td>\n",
       "      <td>...</td>\n",
       "      <td>...</td>\n",
       "      <td>...</td>\n",
       "      <td>...</td>\n",
       "      <td>...</td>\n",
       "      <td>...</td>\n",
       "      <td>...</td>\n",
       "    </tr>\n",
       "    <tr>\n",
       "      <th>9625049</th>\n",
       "      <td>8715E8AC1A5E3D3B188A93A1069C50DC</td>\n",
       "      <td>E0C5E4CE2AF501BCA32ABADCF9030C6B</td>\n",
       "      <td>416EBEE8DB53BD692A556C8B4C307BCC</td>\n",
       "      <td>6944E68018BDA64D93394410C055B35C</td>\n",
       "      <td>Queued</td>\n",
       "      <td>2020-06-05 07:18:58+08:00</td>\n",
       "      <td>2020-06-05 00:00:00+08:00</td>\n",
       "      <td>2020-06-05 07:18:28+08:00</td>\n",
       "      <td>NaT</td>\n",
       "      <td>Inpatient</td>\n",
       "      <td>False</td>\n",
       "    </tr>\n",
       "    <tr>\n",
       "      <th>9625050</th>\n",
       "      <td>EA6ADEE1CF709CB7355F82BE4EE10C77</td>\n",
       "      <td>E0C5E4CE2AF501BCA32ABADCF9030C6B</td>\n",
       "      <td>416EBEE8DB53BD692A556C8B4C307BCC</td>\n",
       "      <td>D284FB2DF9FD957E9A08927ECFB7A058</td>\n",
       "      <td>Queued</td>\n",
       "      <td>2020-06-05 07:15:32+08:00</td>\n",
       "      <td>2020-06-05 00:00:00+08:00</td>\n",
       "      <td>2020-06-05 07:14:59+08:00</td>\n",
       "      <td>NaT</td>\n",
       "      <td>Inpatient</td>\n",
       "      <td>False</td>\n",
       "    </tr>\n",
       "    <tr>\n",
       "      <th>9625168</th>\n",
       "      <td>B49D946A5F3F9D41D7AAA520C8431772</td>\n",
       "      <td>E0C5E4CE2AF501BCA32ABADCF9030C6B</td>\n",
       "      <td>416EBEE8DB53BD692A556C8B4C307BCC</td>\n",
       "      <td>ED9F51AC7A20B1D83060A5B0B63CC410</td>\n",
       "      <td>Queued</td>\n",
       "      <td>2020-07-03 12:04:30+08:00</td>\n",
       "      <td>2020-07-01 00:00:00+08:00</td>\n",
       "      <td>2020-07-01 12:04:20+08:00</td>\n",
       "      <td>NaT</td>\n",
       "      <td>Inpatient</td>\n",
       "      <td>False</td>\n",
       "    </tr>\n",
       "    <tr>\n",
       "      <th>9706716</th>\n",
       "      <td>CB65E8E62CF90A0ACE0F957887A2C2DF</td>\n",
       "      <td>C08AE30017DD59AB94ACC5EB90D0920B</td>\n",
       "      <td>DFBBDD2F1838330476C63189FE6BF2AC</td>\n",
       "      <td>96209378287D95B13D6EE5160C7C6841</td>\n",
       "      <td>Queued</td>\n",
       "      <td>2024-01-21 17:02:28+08:00</td>\n",
       "      <td>2024-01-21 00:00:00+08:00</td>\n",
       "      <td>2024-01-21 17:01:23+08:00</td>\n",
       "      <td>NaT</td>\n",
       "      <td>Inpatient</td>\n",
       "      <td>False</td>\n",
       "    </tr>\n",
       "    <tr>\n",
       "      <th>9707976</th>\n",
       "      <td>29CC88DEA7EA4F3D955FA8965BACAEF7</td>\n",
       "      <td>B47A38D37FF1EE67B87F6C6A33A84145</td>\n",
       "      <td>DFBBDD2F1838330476C63189FE6BF2AC</td>\n",
       "      <td>AB2EA37D23CF33079C6360A200A3F4D6</td>\n",
       "      <td>Queued</td>\n",
       "      <td>2024-01-23 11:40:44+08:00</td>\n",
       "      <td>2024-01-22 00:00:00+08:00</td>\n",
       "      <td>2024-01-22 11:37:53+08:00</td>\n",
       "      <td>NaT</td>\n",
       "      <td>Inpatient</td>\n",
       "      <td>False</td>\n",
       "    </tr>\n",
       "  </tbody>\n",
       "</table>\n",
       "<p>1832 rows × 11 columns</p>\n",
       "</div>"
      ],
      "text/plain": [
       "                                     pxid                          clinicid  \\\n",
       "10418    CBA3A0A5B0DD9F876248BBF0499524AB  4FC28B7093B135C21C7183AC07E928A6   \n",
       "10843    D2AAF1421254082EA721783EA8059C80  1597D21403F63DA1BB0539592597A525   \n",
       "10847    926E919ABE48747F7DC28787D3DDEC0F  1597D21403F63DA1BB0539592597A525   \n",
       "10860    24DD09341E422E0CC9E04481CE53B07A  1597D21403F63DA1BB0539592597A525   \n",
       "10885    D857F1A484EF32E1AF0775149CB9C5DE  1597D21403F63DA1BB0539592597A525   \n",
       "...                                   ...                               ...   \n",
       "9625049  8715E8AC1A5E3D3B188A93A1069C50DC  E0C5E4CE2AF501BCA32ABADCF9030C6B   \n",
       "9625050  EA6ADEE1CF709CB7355F82BE4EE10C77  E0C5E4CE2AF501BCA32ABADCF9030C6B   \n",
       "9625168  B49D946A5F3F9D41D7AAA520C8431772  E0C5E4CE2AF501BCA32ABADCF9030C6B   \n",
       "9706716  CB65E8E62CF90A0ACE0F957887A2C2DF  C08AE30017DD59AB94ACC5EB90D0920B   \n",
       "9707976  29CC88DEA7EA4F3D955FA8965BACAEF7  B47A38D37FF1EE67B87F6C6A33A84145   \n",
       "\n",
       "                                 doctorid                            apptid  \\\n",
       "10418    766D856EF1A6B02F93D894415E6BFA0E  D3F0187BE83DEF7F76647D720D0C7CB9   \n",
       "10843    298923C8190045E91288B430794814C4  21612E7E08B3DE201389AA228F7CB78A   \n",
       "10847    298923C8190045E91288B430794814C4  165382D092D6D8A48D4302FC833A4DFB   \n",
       "10860    298923C8190045E91288B430794814C4  05A147DFCE1E010B3A6BD680466AD450   \n",
       "10885    298923C8190045E91288B430794814C4  720526328113717750836486A36D83F7   \n",
       "...                                   ...                               ...   \n",
       "9625049  416EBEE8DB53BD692A556C8B4C307BCC  6944E68018BDA64D93394410C055B35C   \n",
       "9625050  416EBEE8DB53BD692A556C8B4C307BCC  D284FB2DF9FD957E9A08927ECFB7A058   \n",
       "9625168  416EBEE8DB53BD692A556C8B4C307BCC  ED9F51AC7A20B1D83060A5B0B63CC410   \n",
       "9706716  DFBBDD2F1838330476C63189FE6BF2AC  96209378287D95B13D6EE5160C7C6841   \n",
       "9707976  DFBBDD2F1838330476C63189FE6BF2AC  AB2EA37D23CF33079C6360A200A3F4D6   \n",
       "\n",
       "         status                TimeQueued                 QueueDate  \\\n",
       "10418    Queued 2019-07-22 19:51:40+08:00 2019-07-22 00:00:00+08:00   \n",
       "10843    Queued 2020-06-25 15:15:06+08:00 2020-06-02 00:00:00+08:00   \n",
       "10847    Queued 2020-06-27 21:52:47+08:00 2020-06-21 00:00:00+08:00   \n",
       "10860    Queued 2020-06-25 12:05:55+08:00 2020-06-24 00:00:00+08:00   \n",
       "10885    Queued 2020-06-27 17:20:25+08:00 2020-06-27 00:00:00+08:00   \n",
       "...         ...                       ...                       ...   \n",
       "9625049  Queued 2020-06-05 07:18:58+08:00 2020-06-05 00:00:00+08:00   \n",
       "9625050  Queued 2020-06-05 07:15:32+08:00 2020-06-05 00:00:00+08:00   \n",
       "9625168  Queued 2020-07-03 12:04:30+08:00 2020-07-01 00:00:00+08:00   \n",
       "9706716  Queued 2024-01-21 17:02:28+08:00 2024-01-21 00:00:00+08:00   \n",
       "9707976  Queued 2024-01-23 11:40:44+08:00 2024-01-22 00:00:00+08:00   \n",
       "\n",
       "                        StartTime EndTime       type Virtual  \n",
       "10418   2019-07-22 19:49:19+08:00     NaT  Inpatient   False  \n",
       "10843   2020-06-25 15:14:02+08:00     NaT  Inpatient   False  \n",
       "10847   2020-06-21 21:52:06+08:00     NaT  Inpatient   False  \n",
       "10860   2020-06-24 12:04:55+08:00     NaT  Inpatient   False  \n",
       "10885   2020-06-27 17:19:43+08:00     NaT  Inpatient   False  \n",
       "...                           ...     ...        ...     ...  \n",
       "9625049 2020-06-05 07:18:28+08:00     NaT  Inpatient   False  \n",
       "9625050 2020-06-05 07:14:59+08:00     NaT  Inpatient   False  \n",
       "9625168 2020-07-01 12:04:20+08:00     NaT  Inpatient   False  \n",
       "9706716 2024-01-21 17:01:23+08:00     NaT  Inpatient   False  \n",
       "9707976 2024-01-22 11:37:53+08:00     NaT  Inpatient   False  \n",
       "\n",
       "[1832 rows x 11 columns]"
      ]
     },
     "execution_count": 70,
     "metadata": {},
     "output_type": "execute_result"
    }
   ],
   "source": [
    "check_df "
   ]
  },
  {
   "cell_type": "code",
   "execution_count": 69,
   "id": "1ff92e34-3c82-43e0-b2ec-8e061ed22106",
   "metadata": {},
   "outputs": [
    {
     "data": {
      "text/plain": [
       "status\n",
       "Queued    1832\n",
       "Name: count, dtype: int64"
      ]
     },
     "execution_count": 69,
     "metadata": {},
     "output_type": "execute_result"
    }
   ],
   "source": [
    "check_df['status'].value_counts()"
   ]
  },
  {
   "cell_type": "code",
   "execution_count": 91,
   "id": "cdd8b019-fe0d-41e3-a8e9-6f713aa4aef2",
   "metadata": {},
   "outputs": [
    {
     "data": {
      "text/plain": [
       "658"
      ]
     },
     "execution_count": 91,
     "metadata": {},
     "output_type": "execute_result"
    }
   ],
   "source": [
    "check_df[(check_df['TimeQueued'].dt.date > check_df['QueueDate'].dt.date)].shape[0]\n",
    "\n",
    "#check_df[(check_df['QueueDate'].dt.date == check_df['StartTime'].dt.date)].shape[0]"
   ]
  },
  {
   "cell_type": "code",
   "execution_count": null,
   "id": "caabd920-c93b-48a4-bed3-7dedcb9406e5",
   "metadata": {},
   "outputs": [],
   "source": [
    "consultations_df = appointments_df[(appointments_df['type'] == 'Consultation')&(appointments_df['Virtual'] == True)]"
   ]
  },
  {
   "cell_type": "code",
   "execution_count": null,
   "id": "bae39e36-5597-4c38-a103-f1c3659413ca",
   "metadata": {},
   "outputs": [],
   "source": [
    "consultations_df['Duration'].value_counts()"
   ]
  },
  {
   "cell_type": "code",
   "execution_count": null,
   "id": "b29aaa47-bcf5-4834-9693-68fd6cfbf084",
   "metadata": {},
   "outputs": [],
   "source": [
    "appointments_df[appointments_df['type'] == 'Consultation']['Duration'].dt.days.value_counts()"
   ]
  },
  {
   "cell_type": "code",
   "execution_count": null,
   "id": "0ae57395-052c-4d90-a9fd-e04a40b249d8",
   "metadata": {},
   "outputs": [],
   "source": [
    "appointments_df[(appointments_df['type'] == 'Consultation') & (appointments_df['Duration'].dt.time > 15)].shape[0]"
   ]
  },
  {
   "cell_type": "code",
   "execution_count": null,
   "id": "b205409d-8c53-4350-8073-91d80e29b7b1",
   "metadata": {},
   "outputs": [],
   "source": [
    "count = appointments_df[(appointments_df['type'] == 'Inpatient') & (appointments_df['Virtual'].isna())].shape[0]\n",
    "count1 = appointments_df[(appointments_df['type'] == 'Inpatient') & (appointments_df['Virtual'].notna())].shape[0]\n",
    "\n",
    "print(\"Number of appointments where type is 'Inpatient' and 'Virtual' is NaN:\", count)\n",
    "print(\"Number of appointments where type is 'Inpatient' and 'Virtual' is not NaN:\", count1)"
   ]
  },
  {
   "cell_type": "code",
   "execution_count": null,
   "id": "b1f57dd9-24d9-4592-8ee3-6990a1f1ea15",
   "metadata": {},
   "outputs": [],
   "source": [
    "final_appointments_df['status'].value_counts()"
   ]
  },
  {
   "cell_type": "code",
   "execution_count": null,
   "id": "1cf68a4f-da01-472e-82ad-072c48d6b55f",
   "metadata": {},
   "outputs": [],
   "source": []
  },
  {
   "cell_type": "code",
   "execution_count": null,
   "id": "67cd335d-6733-40e8-8bb9-38fceaf1c5d1",
   "metadata": {},
   "outputs": [],
   "source": [
    "final_appointments_df[final_appointments_df['status'] == 'Admitted']"
   ]
  },
  {
   "cell_type": "code",
   "execution_count": null,
   "id": "a0f7388c-63ce-4279-893a-fb2dbd0132da",
   "metadata": {},
   "outputs": [],
   "source": [
    "appointments_df['status'].value_counts()"
   ]
  },
  {
   "cell_type": "code",
   "execution_count": null,
   "id": "ea64dd0c-0dee-4cda-a54d-09955fde9ec8",
   "metadata": {},
   "outputs": [],
   "source": [
    "appointments_df = appointments_df[((appointments_df['status'] != 'Complete') | (appointments_df['EndTime'].notna()))]\n",
    "# appointments_df = appointments_df[((appointments_df['status'] != 'NoShow') | (appointments_df['EndTime'].notna()))]"
   ]
  },
  {
   "cell_type": "markdown",
   "id": "bdbcf435-8558-4d87-800b-486573c27214",
   "metadata": {
    "jp-MarkdownHeadingCollapsed": true
   },
   "source": [
    "### FORMATTING TIMES VARIABLES"
   ]
  },
  {
   "cell_type": "code",
   "execution_count": null,
   "id": "2d831738-de9d-4f3a-ac7a-1cd0909060d1",
   "metadata": {},
   "outputs": [],
   "source": [
    "# get date\n",
    "appointments_df['QueueDate'] = pd.to_datetime(appointments_df['QueueDate'], errors='coerce').dt.date\n",
    "# convert to datetime data type\n",
    "appointments_df['QueueDate'] = pd.to_datetime(appointments_df['QueueDate'], errors='coerce')"
   ]
  },
  {
   "cell_type": "code",
   "execution_count": null,
   "id": "8b9af8cc-d1a9-455b-bbc5-beb625d8820a",
   "metadata": {},
   "outputs": [],
   "source": [
    "# Remove the date component\n",
    "appointmeznts_df['TimeQueued'] = appointments_df['TimeQueued'].dt.time\n",
    "appointments_dfZ"
   ]
  },
  {
   "cell_type": "markdown",
   "id": "45121e32-12e7-4998-b7a8-af48ffbd28a0",
   "metadata": {
    "jp-MarkdownHeadingCollapsed": true
   },
   "source": [
    "## Exporting Files"
   ]
  },
  {
   "cell_type": "code",
   "execution_count": 97,
   "id": "12973279-878f-4a86-84b5-ca55f73942b3",
   "metadata": {},
   "outputs": [],
   "source": [
    "# Select the column you want to export\n",
    "selected_column = check_df[['TimeQueued','QueueDate','StartTime','EndTime','type','Virtual','QueueDifference','WaitingTime']]\n",
    "\n",
    "# Write the selected column to a new CSV file\n",
    "selected_column.to_csv('check.csv', index=False)"
   ]
  },
  {
   "cell_type": "code",
   "execution_count": null,
   "id": "a714fa44-0208-4f9d-ba32-f9af48074f39",
   "metadata": {},
   "outputs": [],
   "source": [
    "appointments_df[(appointments_df['type'] == 'Inpatient') & (appointments_df['Virtual'].notna())]"
   ]
  },
  {
   "cell_type": "code",
   "execution_count": null,
   "id": "2ac82be8-1ed2-43d5-8d69-3c1f41fc8094",
   "metadata": {},
   "outputs": [],
   "source": [
    "count = appointments_df[(appointments_df['type'] == 'Inpatient') & (appointments_df['Valid'] == '0')].shape[0]\n",
    "\n",
    "print(\"Number of appointments where type is 'Inpatient' and 'valid' is NaN:\", count)"
   ]
  },
  {
   "cell_type": "code",
   "execution_count": null,
   "id": "cd3dbb5c-829a-462d-bcd7-11ceb6daa7ff",
   "metadata": {},
   "outputs": [],
   "source": [
    "consultations_df = appointments_df[(appointments_df['type'] == 'Consultation')&(appointments_df['Virtual'] == True)]"
   ]
  },
  {
   "cell_type": "code",
   "execution_count": null,
   "id": "f604f80c-629f-4783-830c-c33081e66139",
   "metadata": {},
   "outputs": [],
   "source": [
    "dff = appointments_df[(appointments_df['TimeQueued'].dt.date > appointments_df['QueueDate'].dt.date) & (appointments_df['type'] == 'Inpatient')]\n",
    "\n",
    "dff['status'].value_counts()"
   ]
  },
  {
   "cell_type": "code",
   "execution_count": null,
   "id": "c13df9de-23dc-4819-b2b1-86f608a8055d",
   "metadata": {},
   "outputs": [],
   "source": [
    "#Complete', 'Queued', 'NoShow', 'Serving', 'Cancel', 'Skip','Completed', 'Admitted\n",
    "\n",
    "specific_status_rows = appointments_df[appointments_df['type'] == 'Inpatient']\n",
    "specific_status_rows\n"
   ]
  },
  {
   "cell_type": "code",
   "execution_count": null,
   "id": "f66be0c2-8615-4069-97e0-ca975bc27c55",
   "metadata": {},
   "outputs": [],
   "source": [
    "appointments_df[appointments_df['Virtual'].isna()]"
   ]
  },
  {
   "cell_type": "code",
   "execution_count": null,
   "id": "afa36471-baa3-44fd-874e-6b71f1a78bf4",
   "metadata": {},
   "outputs": [],
   "source": [
    "consultations_df['Duration'].value_counts()"
   ]
  },
  {
   "cell_type": "code",
   "execution_count": null,
   "id": "da52e016-1e97-4029-9dfd-bb6347987861",
   "metadata": {},
   "outputs": [],
   "source": [
    "appointments_df['status'].value_counts()"
   ]
  },
  {
   "cell_type": "code",
   "execution_count": null,
   "id": "3bad3620-9c37-4a61-b5d4-8149508487a8",
   "metadata": {},
   "outputs": [],
   "source": [
    "extraappt_df = appointments_df\n",
    "extraappt_df"
   ]
  },
  {
   "cell_type": "code",
   "execution_count": null,
   "id": "33654094-a44f-4031-9a26-1e75507e28d8",
   "metadata": {},
   "outputs": [],
   "source": [
    "extraappt_df"
   ]
  },
  {
   "cell_type": "code",
   "execution_count": null,
   "id": "09210077-aaad-40e9-94da-d47ce7587397",
   "metadata": {},
   "outputs": [],
   "source": [
    "consults_df"
   ]
  },
  {
   "cell_type": "code",
   "execution_count": null,
   "id": "da5cc95c-d3cc-4ec0-b8e4-e9fae8b0ffe2",
   "metadata": {},
   "outputs": [],
   "source": [
    "extraappt_df['Valid'].value_counts()"
   ]
  },
  {
   "cell_type": "code",
   "execution_count": null,
   "id": "e4b6e406-7b12-4582-8854-4bb2d5ec3ff4",
   "metadata": {},
   "outputs": [],
   "source": [
    "extraappt_df['type'] == 'Inpatient']"
   ]
  },
  {
   "cell_type": "code",
   "execution_count": null,
   "id": "b36b988c-ba93-447a-9099-6fc8a9b14205",
   "metadata": {},
   "outputs": [],
   "source": [
    "count = extraappt_df[(extraappt_df['Valid'] == '0') & (appointments_df['type'] == 'Consultation')].shape[0]\n",
    "count1 = extraappt_df[(extraappt_df['Valid'] == '0') & (appointments_df['type'] == 'Inpatient')].shape[0]\n",
    "\n",
    "print(\"Number of appointments where type is 'Consultation' and 'Virtual' is NaN:\", count)\n",
    "print(\"Number of appointments where type is 'Consultation' and 'Virtual' is NaN:\", count1)"
   ]
  },
  {
   "cell_type": "code",
   "execution_count": null,
   "id": "8c5bb908-0ad0-4772-9861-2574d399061f",
   "metadata": {},
   "outputs": [],
   "source": [
    "consults_df['QueueDifference'] = consults_df['QueueDifference'].dt.days"
   ]
  },
  {
   "cell_type": "code",
   "execution_count": null,
   "id": "04b9ea8f-cf8e-421d-906d-29432b09ebbd",
   "metadata": {
    "scrolled": true
   },
   "outputs": [],
   "source": [
    "consults_df['QueueDifference'].value_counts()"
   ]
  },
  {
   "cell_type": "code",
   "execution_count": null,
   "id": "1617f4e9-6f20-4788-a9f4-9de102c620d9",
   "metadata": {},
   "outputs": [],
   "source": [
    "consults_df['Duration'].dt.days.value_counts()"
   ]
  },
  {
   "cell_type": "code",
   "execution_count": null,
   "id": "008554e7-a702-4ac7-aab8-e2b5cabc9c80",
   "metadata": {},
   "outputs": [],
   "source": [
    "consults_df['WaitingTime'].dt.days.value_counts().sort_index()"
   ]
  },
  {
   "cell_type": "code",
   "execution_count": null,
   "id": "726bed7f-46de-44cc-a7ff-576c3e03d23e",
   "metadata": {},
   "outputs": [],
   "source": [
    "consults_df[consults_df['WaitingTime'].dt.days == 0]"
   ]
  },
  {
   "cell_type": "code",
   "execution_count": null,
   "id": "158da4cc-2955-49f0-9cd5-1cbc3b80a07c",
   "metadata": {},
   "outputs": [],
   "source": [
    "consults_df = extraappt_df[(extraappt_df['Valid'] == '0') & (appointments_df['type'] == 'Consultation')]\n",
    "\n",
    "count = extraappt_df[(extraappt_df['Valid'] == '0') & (appointments_df['type'] == 'Consultation')].shape[0]\n",
    "print(\"Number of appointments where type is 'Consultation' and 'Virtual' is NaN:\", count)"
   ]
  },
  {
   "cell_type": "code",
   "execution_count": null,
   "id": "983c5e43-0e57-4b3b-bed2-2234aa709b0d",
   "metadata": {},
   "outputs": [],
   "source": [
    "appointments_df = appointments_df.drop(columns=['QueueDifference', 'WaitingTime', 'Duration', 'Valid'])"
   ]
  },
  {
   "cell_type": "code",
   "execution_count": null,
   "id": "cfc3c4d7-de5f-4662-80f5-46a696a744a7",
   "metadata": {},
   "outputs": [],
   "source": [
    "appointments_df"
   ]
  },
  {
   "cell_type": "code",
   "execution_count": null,
   "id": "e3f57adf-ba2b-4392-88aa-2d992e4e5a01",
   "metadata": {},
   "outputs": [],
   "source": [
    "appointments_df = extraappt_df\n",
    "appointments_df"
   ]
  },
  {
   "cell_type": "code",
   "execution_count": null,
   "id": "dcba52e2-85f2-4738-8421-bcffa9456089",
   "metadata": {},
   "outputs": [],
   "source": []
  }
 ],
 "metadata": {
  "kernelspec": {
   "display_name": "Python 3 (ipykernel)",
   "language": "python",
   "name": "python3"
  },
  "language_info": {
   "codemirror_mode": {
    "name": "ipython",
    "version": 3
   },
   "file_extension": ".py",
   "mimetype": "text/x-python",
   "name": "python",
   "nbconvert_exporter": "python",
   "pygments_lexer": "ipython3",
   "version": "3.9.5"
  }
 },
 "nbformat": 4,
 "nbformat_minor": 5
}
