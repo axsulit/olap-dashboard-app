{
 "cells": [
  {
   "cell_type": "code",
   "execution_count": 1,
   "id": "4b9e8522-5859-42ea-8452-e62f8f192ec1",
   "metadata": {},
   "outputs": [],
   "source": [
    "import numpy as np\n",
    "import pandas as pd\n",
    "import matplotlib.pyplot as plt\n",
    "import seaborn as sns\n",
    "import pytz\n",
    "\n",
    "# sets the theme of the charts\n",
    "plt.style.use('seaborn-v0_8-darkgrid')\n",
    "\n",
    "%matplotlib inline"
   ]
  },
  {
   "cell_type": "code",
   "execution_count": 2,
   "id": "e0f4f1e3-31ba-4be1-b092-85dd125cbed8",
   "metadata": {},
   "outputs": [],
   "source": [
    "# imports the csv files\n",
    "appointments_df = pd.read_csv('appointments.csv', low_memory=False, encoding='unicode_escape')"
   ]
  },
  {
   "cell_type": "code",
   "execution_count": 215,
   "id": "b2620b7c-2f7c-4557-9242-5d1186e1228c",
   "metadata": {},
   "outputs": [
    {
     "name": "stdout",
     "output_type": "stream",
     "text": [
      "<class 'pandas.core.frame.DataFrame'>\n",
      "Index: 424358 entries, 39 to 9752917\n",
      "Data columns (total 15 columns):\n",
      " #   Column           Non-Null Count   Dtype                         \n",
      "---  ------           --------------   -----                         \n",
      " 0   pxid             424358 non-null  object                        \n",
      " 1   clinicid         424358 non-null  object                        \n",
      " 2   doctorid         424358 non-null  object                        \n",
      " 3   apptid           424358 non-null  object                        \n",
      " 4   status           424358 non-null  object                        \n",
      " 5   TimeQueued       424358 non-null  datetime64[ns, Asia/Singapore]\n",
      " 6   QueueDate        424358 non-null  datetime64[ns, Asia/Singapore]\n",
      " 7   StartTime        424358 non-null  datetime64[ns, Asia/Singapore]\n",
      " 8   EndTime          424358 non-null  datetime64[ns, Asia/Singapore]\n",
      " 9   type             424358 non-null  object                        \n",
      " 10  Virtual          424358 non-null  object                        \n",
      " 11  QueueDifference  424358 non-null  timedelta64[ns]               \n",
      " 12  WaitingTime      424358 non-null  timedelta64[ns]               \n",
      " 13  Duration         424358 non-null  timedelta64[ns]               \n",
      " 14  Valid            424358 non-null  object                        \n",
      "dtypes: datetime64[ns, Asia/Singapore](4), object(8), timedelta64[ns](3)\n",
      "memory usage: 51.8+ MB\n"
     ]
    }
   ],
   "source": [
    "# checks the content of the csv files\n",
    "appointments_df.info()"
   ]
  },
  {
   "cell_type": "code",
   "execution_count": 216,
   "id": "46185bc1-2b82-4637-82bb-7977202fc60a",
   "metadata": {},
   "outputs": [
    {
     "data": {
      "text/html": [
       "<div>\n",
       "<style scoped>\n",
       "    .dataframe tbody tr th:only-of-type {\n",
       "        vertical-align: middle;\n",
       "    }\n",
       "\n",
       "    .dataframe tbody tr th {\n",
       "        vertical-align: top;\n",
       "    }\n",
       "\n",
       "    .dataframe thead th {\n",
       "        text-align: right;\n",
       "    }\n",
       "</style>\n",
       "<table border=\"1\" class=\"dataframe\">\n",
       "  <thead>\n",
       "    <tr style=\"text-align: right;\">\n",
       "      <th></th>\n",
       "      <th>pxid</th>\n",
       "      <th>clinicid</th>\n",
       "      <th>doctorid</th>\n",
       "      <th>apptid</th>\n",
       "      <th>status</th>\n",
       "      <th>TimeQueued</th>\n",
       "      <th>QueueDate</th>\n",
       "      <th>StartTime</th>\n",
       "      <th>EndTime</th>\n",
       "      <th>type</th>\n",
       "      <th>Virtual</th>\n",
       "      <th>QueueDifference</th>\n",
       "      <th>WaitingTime</th>\n",
       "      <th>Duration</th>\n",
       "      <th>Valid</th>\n",
       "    </tr>\n",
       "  </thead>\n",
       "  <tbody>\n",
       "    <tr>\n",
       "      <th>39</th>\n",
       "      <td>138BCDD2BB2FD204C6CA43C988C0A7D5</td>\n",
       "      <td>E3D2B39D8BC215F6540218D20280232A</td>\n",
       "      <td>6EB887126D24E8F1CD8AD5033482C781</td>\n",
       "      <td>AD81FCC8E4B73C3B465CB420B17630C0</td>\n",
       "      <td>Complete</td>\n",
       "      <td>2021-07-07 12:18:20+08:00</td>\n",
       "      <td>2021-07-07 00:00:00+08:00</td>\n",
       "      <td>2021-07-07 19:00:00+08:00</td>\n",
       "      <td>2021-07-07 19:15:00+08:00</td>\n",
       "      <td>Consultation</td>\n",
       "      <td>True</td>\n",
       "      <td>0 days 12:18:20</td>\n",
       "      <td>0 days 06:41:40</td>\n",
       "      <td>0 days 00:15:00</td>\n",
       "      <td>1</td>\n",
       "    </tr>\n",
       "    <tr>\n",
       "      <th>41</th>\n",
       "      <td>63415D610633FD2A37A63B494E046E8A</td>\n",
       "      <td>E3D2B39D8BC215F6540218D20280232A</td>\n",
       "      <td>6EB887126D24E8F1CD8AD5033482C781</td>\n",
       "      <td>4FEDF132D114656A42BA7AE765D606B8</td>\n",
       "      <td>Complete</td>\n",
       "      <td>2021-07-21 07:39:33+08:00</td>\n",
       "      <td>2021-07-21 00:00:00+08:00</td>\n",
       "      <td>2021-07-21 13:00:00+08:00</td>\n",
       "      <td>2021-07-21 13:15:00+08:00</td>\n",
       "      <td>Consultation</td>\n",
       "      <td>False</td>\n",
       "      <td>0 days 07:39:33</td>\n",
       "      <td>0 days 05:20:27</td>\n",
       "      <td>0 days 00:15:00</td>\n",
       "      <td>1</td>\n",
       "    </tr>\n",
       "    <tr>\n",
       "      <th>71</th>\n",
       "      <td>590CA1CA247F1352073DB454A012EA61</td>\n",
       "      <td>E3D2B39D8BC215F6540218D20280232A</td>\n",
       "      <td>6EB887126D24E8F1CD8AD5033482C781</td>\n",
       "      <td>6DAE7EC7319952C2CDD38BD848B04E6A</td>\n",
       "      <td>Complete</td>\n",
       "      <td>2021-12-08 07:20:04+08:00</td>\n",
       "      <td>2021-12-08 00:00:00+08:00</td>\n",
       "      <td>2021-12-08 13:19:00+08:00</td>\n",
       "      <td>2021-12-08 13:34:00+08:00</td>\n",
       "      <td>Consultation</td>\n",
       "      <td>False</td>\n",
       "      <td>0 days 07:20:04</td>\n",
       "      <td>0 days 05:58:56</td>\n",
       "      <td>0 days 00:15:00</td>\n",
       "      <td>1</td>\n",
       "    </tr>\n",
       "    <tr>\n",
       "      <th>202</th>\n",
       "      <td>8294685675B999BF9C9DD8CE6FF7BC14</td>\n",
       "      <td>B3432FAACA931632A24FC96B3D1C71EF</td>\n",
       "      <td>6EB887126D24E8F1CD8AD5033482C781</td>\n",
       "      <td>F4E4AD553D1236FCACC99642521F14C7</td>\n",
       "      <td>Complete</td>\n",
       "      <td>2021-06-29 17:05:54+08:00</td>\n",
       "      <td>2021-06-29 00:00:00+08:00</td>\n",
       "      <td>2021-06-29 19:05:00+08:00</td>\n",
       "      <td>2021-06-29 19:20:00+08:00</td>\n",
       "      <td>Consultation</td>\n",
       "      <td>True</td>\n",
       "      <td>0 days 17:05:54</td>\n",
       "      <td>0 days 01:59:06</td>\n",
       "      <td>0 days 00:15:00</td>\n",
       "      <td>1</td>\n",
       "    </tr>\n",
       "    <tr>\n",
       "      <th>211</th>\n",
       "      <td>A1A85B3515796945A24EEF19CF81FB1B</td>\n",
       "      <td>B3432FAACA931632A24FC96B3D1C71EF</td>\n",
       "      <td>6EB887126D24E8F1CD8AD5033482C781</td>\n",
       "      <td>CCAA25B8A8C89D74F231F2455EF27B86</td>\n",
       "      <td>Complete</td>\n",
       "      <td>2021-07-23 21:00:11+08:00</td>\n",
       "      <td>2021-07-23 00:00:00+08:00</td>\n",
       "      <td>2021-07-23 21:30:00+08:00</td>\n",
       "      <td>2021-07-23 21:45:00+08:00</td>\n",
       "      <td>Consultation</td>\n",
       "      <td>True</td>\n",
       "      <td>0 days 21:00:11</td>\n",
       "      <td>0 days 00:29:49</td>\n",
       "      <td>0 days 00:15:00</td>\n",
       "      <td>1</td>\n",
       "    </tr>\n",
       "    <tr>\n",
       "      <th>...</th>\n",
       "      <td>...</td>\n",
       "      <td>...</td>\n",
       "      <td>...</td>\n",
       "      <td>...</td>\n",
       "      <td>...</td>\n",
       "      <td>...</td>\n",
       "      <td>...</td>\n",
       "      <td>...</td>\n",
       "      <td>...</td>\n",
       "      <td>...</td>\n",
       "      <td>...</td>\n",
       "      <td>...</td>\n",
       "      <td>...</td>\n",
       "      <td>...</td>\n",
       "      <td>...</td>\n",
       "    </tr>\n",
       "    <tr>\n",
       "      <th>9752130</th>\n",
       "      <td>937B3AAE14DE1A7D5A391F10CCF18525</td>\n",
       "      <td>9E106E26D5EC709CE1B63D12C5447791</td>\n",
       "      <td>9F5506939986201D55A4353FF8B4028E</td>\n",
       "      <td>A1DC6613EB0C6D3B5053534861B9F753</td>\n",
       "      <td>Complete</td>\n",
       "      <td>2024-01-23 02:35:49+08:00</td>\n",
       "      <td>2024-01-23 00:00:00+08:00</td>\n",
       "      <td>2024-01-23 14:30:00+08:00</td>\n",
       "      <td>2024-01-23 15:00:00+08:00</td>\n",
       "      <td>Consultation</td>\n",
       "      <td>True</td>\n",
       "      <td>0 days 02:35:49</td>\n",
       "      <td>0 days 11:54:11</td>\n",
       "      <td>0 days 00:30:00</td>\n",
       "      <td>1</td>\n",
       "    </tr>\n",
       "    <tr>\n",
       "      <th>9752132</th>\n",
       "      <td>6D31676A70BDB68DCE25F39A04AB1709</td>\n",
       "      <td>2A44FC01550DE95485464916CFCFDBF1</td>\n",
       "      <td>4FC8ED929E539525E3590F1607718F97</td>\n",
       "      <td>F44BFF7AEE83C42380B5098B8416597F</td>\n",
       "      <td>Complete</td>\n",
       "      <td>2021-12-18 19:20:26+08:00</td>\n",
       "      <td>2021-12-18 00:00:00+08:00</td>\n",
       "      <td>2021-12-18 20:00:00+08:00</td>\n",
       "      <td>2021-12-18 21:00:00+08:00</td>\n",
       "      <td>Consultation</td>\n",
       "      <td>True</td>\n",
       "      <td>0 days 19:20:26</td>\n",
       "      <td>0 days 00:39:34</td>\n",
       "      <td>0 days 01:00:00</td>\n",
       "      <td>1</td>\n",
       "    </tr>\n",
       "    <tr>\n",
       "      <th>9752908</th>\n",
       "      <td>E269D82BC53F7BED168916E4E5FB1447</td>\n",
       "      <td>772C1C73D4FFE88046A3CDB8772E53EB</td>\n",
       "      <td>B706835DE79A2B4E80506F582AF3676A</td>\n",
       "      <td>322D90415C2211389B388FC7A8E2FC81</td>\n",
       "      <td>Complete</td>\n",
       "      <td>2023-07-06 09:21:13+08:00</td>\n",
       "      <td>2023-07-06 00:00:00+08:00</td>\n",
       "      <td>2023-07-06 10:00:00+08:00</td>\n",
       "      <td>2023-07-06 10:15:00+08:00</td>\n",
       "      <td>Consultation</td>\n",
       "      <td>True</td>\n",
       "      <td>0 days 09:21:13</td>\n",
       "      <td>0 days 00:38:47</td>\n",
       "      <td>0 days 00:15:00</td>\n",
       "      <td>1</td>\n",
       "    </tr>\n",
       "    <tr>\n",
       "      <th>9752912</th>\n",
       "      <td>F8F4B4765E25159D179D7BF1110A0794</td>\n",
       "      <td>CCFC2D538DDFF519D893A6B966A1C4F1</td>\n",
       "      <td>B706835DE79A2B4E80506F582AF3676A</td>\n",
       "      <td>5448C9C7C3FEF298F47DB4A8EFC1CC8B</td>\n",
       "      <td>Complete</td>\n",
       "      <td>2023-07-08 15:03:17+08:00</td>\n",
       "      <td>2023-07-08 00:00:00+08:00</td>\n",
       "      <td>2023-07-08 16:00:00+08:00</td>\n",
       "      <td>2023-07-08 16:15:00+08:00</td>\n",
       "      <td>Consultation</td>\n",
       "      <td>False</td>\n",
       "      <td>0 days 15:03:17</td>\n",
       "      <td>0 days 00:56:43</td>\n",
       "      <td>0 days 00:15:00</td>\n",
       "      <td>1</td>\n",
       "    </tr>\n",
       "    <tr>\n",
       "      <th>9752917</th>\n",
       "      <td>F8F4B4765E25159D179D7BF1110A0794</td>\n",
       "      <td>CCFC2D538DDFF519D893A6B966A1C4F1</td>\n",
       "      <td>B706835DE79A2B4E80506F582AF3676A</td>\n",
       "      <td>8EE8215B30F7CC875384AFF080370285</td>\n",
       "      <td>Queued</td>\n",
       "      <td>2023-08-08 13:01:00+08:00</td>\n",
       "      <td>2023-08-08 00:00:00+08:00</td>\n",
       "      <td>2023-08-08 16:00:55+08:00</td>\n",
       "      <td>2023-08-08 16:15:55+08:00</td>\n",
       "      <td>Consultation</td>\n",
       "      <td>False</td>\n",
       "      <td>0 days 13:01:00</td>\n",
       "      <td>0 days 02:59:55</td>\n",
       "      <td>0 days 00:15:00</td>\n",
       "      <td>1</td>\n",
       "    </tr>\n",
       "  </tbody>\n",
       "</table>\n",
       "<p>424358 rows × 15 columns</p>\n",
       "</div>"
      ],
      "text/plain": [
       "                                     pxid                          clinicid  \\\n",
       "39       138BCDD2BB2FD204C6CA43C988C0A7D5  E3D2B39D8BC215F6540218D20280232A   \n",
       "41       63415D610633FD2A37A63B494E046E8A  E3D2B39D8BC215F6540218D20280232A   \n",
       "71       590CA1CA247F1352073DB454A012EA61  E3D2B39D8BC215F6540218D20280232A   \n",
       "202      8294685675B999BF9C9DD8CE6FF7BC14  B3432FAACA931632A24FC96B3D1C71EF   \n",
       "211      A1A85B3515796945A24EEF19CF81FB1B  B3432FAACA931632A24FC96B3D1C71EF   \n",
       "...                                   ...                               ...   \n",
       "9752130  937B3AAE14DE1A7D5A391F10CCF18525  9E106E26D5EC709CE1B63D12C5447791   \n",
       "9752132  6D31676A70BDB68DCE25F39A04AB1709  2A44FC01550DE95485464916CFCFDBF1   \n",
       "9752908  E269D82BC53F7BED168916E4E5FB1447  772C1C73D4FFE88046A3CDB8772E53EB   \n",
       "9752912  F8F4B4765E25159D179D7BF1110A0794  CCFC2D538DDFF519D893A6B966A1C4F1   \n",
       "9752917  F8F4B4765E25159D179D7BF1110A0794  CCFC2D538DDFF519D893A6B966A1C4F1   \n",
       "\n",
       "                                 doctorid                            apptid  \\\n",
       "39       6EB887126D24E8F1CD8AD5033482C781  AD81FCC8E4B73C3B465CB420B17630C0   \n",
       "41       6EB887126D24E8F1CD8AD5033482C781  4FEDF132D114656A42BA7AE765D606B8   \n",
       "71       6EB887126D24E8F1CD8AD5033482C781  6DAE7EC7319952C2CDD38BD848B04E6A   \n",
       "202      6EB887126D24E8F1CD8AD5033482C781  F4E4AD553D1236FCACC99642521F14C7   \n",
       "211      6EB887126D24E8F1CD8AD5033482C781  CCAA25B8A8C89D74F231F2455EF27B86   \n",
       "...                                   ...                               ...   \n",
       "9752130  9F5506939986201D55A4353FF8B4028E  A1DC6613EB0C6D3B5053534861B9F753   \n",
       "9752132  4FC8ED929E539525E3590F1607718F97  F44BFF7AEE83C42380B5098B8416597F   \n",
       "9752908  B706835DE79A2B4E80506F582AF3676A  322D90415C2211389B388FC7A8E2FC81   \n",
       "9752912  B706835DE79A2B4E80506F582AF3676A  5448C9C7C3FEF298F47DB4A8EFC1CC8B   \n",
       "9752917  B706835DE79A2B4E80506F582AF3676A  8EE8215B30F7CC875384AFF080370285   \n",
       "\n",
       "           status                TimeQueued                 QueueDate  \\\n",
       "39       Complete 2021-07-07 12:18:20+08:00 2021-07-07 00:00:00+08:00   \n",
       "41       Complete 2021-07-21 07:39:33+08:00 2021-07-21 00:00:00+08:00   \n",
       "71       Complete 2021-12-08 07:20:04+08:00 2021-12-08 00:00:00+08:00   \n",
       "202      Complete 2021-06-29 17:05:54+08:00 2021-06-29 00:00:00+08:00   \n",
       "211      Complete 2021-07-23 21:00:11+08:00 2021-07-23 00:00:00+08:00   \n",
       "...           ...                       ...                       ...   \n",
       "9752130  Complete 2024-01-23 02:35:49+08:00 2024-01-23 00:00:00+08:00   \n",
       "9752132  Complete 2021-12-18 19:20:26+08:00 2021-12-18 00:00:00+08:00   \n",
       "9752908  Complete 2023-07-06 09:21:13+08:00 2023-07-06 00:00:00+08:00   \n",
       "9752912  Complete 2023-07-08 15:03:17+08:00 2023-07-08 00:00:00+08:00   \n",
       "9752917    Queued 2023-08-08 13:01:00+08:00 2023-08-08 00:00:00+08:00   \n",
       "\n",
       "                        StartTime                   EndTime          type  \\\n",
       "39      2021-07-07 19:00:00+08:00 2021-07-07 19:15:00+08:00  Consultation   \n",
       "41      2021-07-21 13:00:00+08:00 2021-07-21 13:15:00+08:00  Consultation   \n",
       "71      2021-12-08 13:19:00+08:00 2021-12-08 13:34:00+08:00  Consultation   \n",
       "202     2021-06-29 19:05:00+08:00 2021-06-29 19:20:00+08:00  Consultation   \n",
       "211     2021-07-23 21:30:00+08:00 2021-07-23 21:45:00+08:00  Consultation   \n",
       "...                           ...                       ...           ...   \n",
       "9752130 2024-01-23 14:30:00+08:00 2024-01-23 15:00:00+08:00  Consultation   \n",
       "9752132 2021-12-18 20:00:00+08:00 2021-12-18 21:00:00+08:00  Consultation   \n",
       "9752908 2023-07-06 10:00:00+08:00 2023-07-06 10:15:00+08:00  Consultation   \n",
       "9752912 2023-07-08 16:00:00+08:00 2023-07-08 16:15:00+08:00  Consultation   \n",
       "9752917 2023-08-08 16:00:55+08:00 2023-08-08 16:15:55+08:00  Consultation   \n",
       "\n",
       "        Virtual QueueDifference     WaitingTime        Duration Valid  \n",
       "39         True 0 days 12:18:20 0 days 06:41:40 0 days 00:15:00     1  \n",
       "41        False 0 days 07:39:33 0 days 05:20:27 0 days 00:15:00     1  \n",
       "71        False 0 days 07:20:04 0 days 05:58:56 0 days 00:15:00     1  \n",
       "202        True 0 days 17:05:54 0 days 01:59:06 0 days 00:15:00     1  \n",
       "211        True 0 days 21:00:11 0 days 00:29:49 0 days 00:15:00     1  \n",
       "...         ...             ...             ...             ...   ...  \n",
       "9752130    True 0 days 02:35:49 0 days 11:54:11 0 days 00:30:00     1  \n",
       "9752132    True 0 days 19:20:26 0 days 00:39:34 0 days 01:00:00     1  \n",
       "9752908    True 0 days 09:21:13 0 days 00:38:47 0 days 00:15:00     1  \n",
       "9752912   False 0 days 15:03:17 0 days 00:56:43 0 days 00:15:00     1  \n",
       "9752917   False 0 days 13:01:00 0 days 02:59:55 0 days 00:15:00     1  \n",
       "\n",
       "[424358 rows x 15 columns]"
      ]
     },
     "execution_count": 216,
     "metadata": {},
     "output_type": "execute_result"
    }
   ],
   "source": [
    "appointments_df"
   ]
  },
  {
   "cell_type": "markdown",
   "id": "789142b6-87b5-4b4a-99f4-fb85bbf214f1",
   "metadata": {
    "jp-MarkdownHeadingCollapsed": true
   },
   "source": [
    "## `id` variables"
   ]
  },
  {
   "cell_type": "markdown",
   "id": "b46d635c-d346-489b-a572-954143feaece",
   "metadata": {
    "jp-MarkdownHeadingCollapsed": true
   },
   "source": [
    "### `pxid` variable"
   ]
  },
  {
   "cell_type": "code",
   "execution_count": null,
   "id": "ab000f8c-a396-44ec-b930-b8fce4584684",
   "metadata": {},
   "outputs": [],
   "source": [
    "# check values of pxid\n",
    "appointments_df['pxid']"
   ]
  },
  {
   "cell_type": "code",
   "execution_count": null,
   "id": "fc21783f-1c4f-45ea-96b7-8cd3214f0c27",
   "metadata": {},
   "outputs": [],
   "source": [
    "# check unique values of pxid\n",
    "appointments_df['pxid'].unique()"
   ]
  },
  {
   "cell_type": "code",
   "execution_count": null,
   "id": "3b1091f5-9f4c-49be-a592-2539cf9eb332",
   "metadata": {},
   "outputs": [],
   "source": [
    "# check value counts of pxid\n",
    "appointments_df['pxid'].value_counts()"
   ]
  },
  {
   "cell_type": "code",
   "execution_count": null,
   "id": "3e00f6f1-f26a-45af-9f8b-110c44a2b71c",
   "metadata": {},
   "outputs": [],
   "source": [
    "# check for null values of pxid\n",
    "pxid_count = appointments_df['pxid'].isnull().sum()"
   ]
  },
  {
   "cell_type": "markdown",
   "id": "83b3f27a-619d-463f-b2c2-f9e65860ea83",
   "metadata": {
    "jp-MarkdownHeadingCollapsed": true
   },
   "source": [
    "### `clinicid` variable"
   ]
  },
  {
   "cell_type": "code",
   "execution_count": null,
   "id": "990b5679-ca80-4ba3-bf9b-c1556a16d835",
   "metadata": {},
   "outputs": [],
   "source": [
    "# check values of clinicid\n",
    "appointments_df['clinicid']"
   ]
  },
  {
   "cell_type": "code",
   "execution_count": null,
   "id": "6af26979-b453-487f-9a27-79449299d551",
   "metadata": {},
   "outputs": [],
   "source": [
    "# check unique values of clinicid\n",
    "appointments_df['clinicid'].unique()"
   ]
  },
  {
   "cell_type": "code",
   "execution_count": null,
   "id": "eb8e45ee-ffc4-47c3-81b9-cf4f2c84a9c1",
   "metadata": {},
   "outputs": [],
   "source": [
    "# check value counts of clinicid\n",
    "appointments_df['clinicid'].value_counts()"
   ]
  },
  {
   "cell_type": "code",
   "execution_count": null,
   "id": "be343974-ebf7-41f8-bde0-e70231a79d6f",
   "metadata": {},
   "outputs": [],
   "source": [
    "# check for null values of clinicid\n",
    "appointments_df['clinicid'].isnull().sum()"
   ]
  },
  {
   "cell_type": "markdown",
   "id": "2f93f1b8-ad3a-470d-b743-3e82adc0ce88",
   "metadata": {
    "jp-MarkdownHeadingCollapsed": true
   },
   "source": [
    "### `doctorid` variable"
   ]
  },
  {
   "cell_type": "code",
   "execution_count": null,
   "id": "793d74f7-e517-42a9-a7bd-8ca5b3419d6e",
   "metadata": {},
   "outputs": [],
   "source": [
    "# check values of doctorid\n",
    "appointments_df['doctorid']"
   ]
  },
  {
   "cell_type": "code",
   "execution_count": null,
   "id": "85e17b1a-34c5-430e-80fc-667d38d34968",
   "metadata": {},
   "outputs": [],
   "source": [
    "# check unique values of doctorid\n",
    "appointments_df['doctorid'].unique()"
   ]
  },
  {
   "cell_type": "code",
   "execution_count": null,
   "id": "aded244f-9cef-42be-9b43-89af321888f3",
   "metadata": {},
   "outputs": [],
   "source": [
    "# check value counts of doctorid\n",
    "appointments_df['doctorid'].value_counts()"
   ]
  },
  {
   "cell_type": "code",
   "execution_count": null,
   "id": "248d397d-87dc-4eaf-af5b-2fc17791a285",
   "metadata": {},
   "outputs": [],
   "source": [
    "# check null values of doctorid\n",
    "appointments_df['doctorid'].isnull().sum()"
   ]
  },
  {
   "cell_type": "markdown",
   "id": "b511c31c-139a-4ff9-a574-e7e7bba3a1d1",
   "metadata": {},
   "source": [
    "### `apptid` variable"
   ]
  },
  {
   "cell_type": "code",
   "execution_count": null,
   "id": "a3cc4970-c56d-444c-b8e3-638c525d6d5b",
   "metadata": {},
   "outputs": [],
   "source": [
    "# check values of apptid\n",
    "appointments_df['apptid']"
   ]
  },
  {
   "cell_type": "code",
   "execution_count": null,
   "id": "3293edf8-521e-448b-b287-86051fb7578c",
   "metadata": {},
   "outputs": [],
   "source": [
    "# check unique values of apptid\n",
    "appointments_df['apptid'].unique()"
   ]
  },
  {
   "cell_type": "code",
   "execution_count": null,
   "id": "4501bcd2-6a7f-45b2-ae39-6d0e3a4aab53",
   "metadata": {},
   "outputs": [],
   "source": [
    "# check value counts of apptid\n",
    "appointments_df['apptid'].value_counts()"
   ]
  },
  {
   "cell_type": "code",
   "execution_count": null,
   "id": "3df5000d-1b14-48ea-a6d6-50f55083d59e",
   "metadata": {},
   "outputs": [],
   "source": [
    "# check null values of apptid\n",
    "appointments_df['apptid'].isnull().sum()"
   ]
  },
  {
   "cell_type": "markdown",
   "id": "50121d1b-d6f3-46ec-bde1-8cdeb7563b7c",
   "metadata": {},
   "source": [
    "## TO CLEAN"
   ]
  },
  {
   "cell_type": "markdown",
   "id": "255c08b1-0bac-432a-852e-2bff4ebb4ced",
   "metadata": {},
   "source": [
    "### `status` variable"
   ]
  },
  {
   "cell_type": "code",
   "execution_count": 5,
   "id": "3ab94113-1131-446e-b0d0-b6a36848c091",
   "metadata": {},
   "outputs": [
    {
     "data": {
      "text/plain": [
       "0          Complete\n",
       "1            Queued\n",
       "2            Queued\n",
       "3            Queued\n",
       "4            Queued\n",
       "             ...   \n",
       "9752927      Queued\n",
       "9752928      Queued\n",
       "9752929      Queued\n",
       "9752930      Queued\n",
       "9752931      Queued\n",
       "Name: status, Length: 9752932, dtype: object"
      ]
     },
     "execution_count": 5,
     "metadata": {},
     "output_type": "execute_result"
    }
   ],
   "source": [
    "# check values of status\n",
    "appointments_df['status']"
   ]
  },
  {
   "cell_type": "code",
   "execution_count": 6,
   "id": "6d1446b2-583f-487c-b44b-2216ed78200f",
   "metadata": {},
   "outputs": [
    {
     "data": {
      "text/plain": [
       "array(['Complete', 'Queued', 'NoShow', 'Serving', 'Cancel', 'Skip',\n",
       "       'Completed', 'Admitted'], dtype=object)"
      ]
     },
     "execution_count": 6,
     "metadata": {},
     "output_type": "execute_result"
    }
   ],
   "source": [
    "# check unique values of status\n",
    "appointments_df['status'].unique()"
   ]
  },
  {
   "cell_type": "code",
   "execution_count": 160,
   "id": "3d5f9006-5611-4b8b-99fc-65268b9375eb",
   "metadata": {},
   "outputs": [
    {
     "name": "stdout",
     "output_type": "stream",
     "text": [
      "status\n",
      "Complete    829450\n",
      "Queued      362254\n",
      "Cancel       36119\n",
      "NoShow       33042\n",
      "Serving      20489\n",
      "Skip          4698\n",
      "Name: count, dtype: int64\n"
     ]
    }
   ],
   "source": [
    "# check count for status since there are two values for 'Complete'\n",
    "status_vc = appointments_df['status'].value_counts()\n",
    "print(status_vc)"
   ]
  },
  {
   "cell_type": "code",
   "execution_count": 8,
   "id": "ecaa5a27-ac49-42f4-afbf-7f8c820917ef",
   "metadata": {},
   "outputs": [
    {
     "name": "stdout",
     "output_type": "stream",
     "text": [
      "status\n",
      "Complete    6473685\n",
      "Queued      2523855\n",
      "Serving      284774\n",
      "NoShow       230048\n",
      "Cancel       213270\n",
      "Skip          27298\n",
      "Admitted          2\n",
      "Name: count, dtype: int64\n"
     ]
    }
   ],
   "source": [
    "# replace Completed with Complete\n",
    "appointments_df['status'] = appointments_df['status'].replace({'Completed': 'Complete'}, regex=True)\n",
    "status_vc = appointments_df['status'].value_counts()\n",
    "print(status_vc)"
   ]
  },
  {
   "cell_type": "code",
   "execution_count": 9,
   "id": "520c1552-352b-432f-aac3-2b346c238f98",
   "metadata": {},
   "outputs": [
    {
     "data": {
      "text/plain": [
       "0"
      ]
     },
     "execution_count": 9,
     "metadata": {},
     "output_type": "execute_result"
    }
   ],
   "source": [
    "# check null values of status\n",
    "appointments_df['status'].isnull().sum()"
   ]
  },
  {
   "cell_type": "markdown",
   "id": "9bb3daa4-f521-4ae8-b30c-ba5b70577547",
   "metadata": {
    "jp-MarkdownHeadingCollapsed": true
   },
   "source": [
    "### `QueueDate` variable"
   ]
  },
  {
   "cell_type": "code",
   "execution_count": 10,
   "id": "8b0a4124-6355-463a-8e12-0c7b79038ef4",
   "metadata": {},
   "outputs": [
    {
     "data": {
      "text/plain": [
       "0          2018-04-10 16:00:00\n",
       "1          2018-04-08 16:00:00\n",
       "2          2018-03-30 16:00:00\n",
       "3                          NaN\n",
       "4                          NaN\n",
       "                  ...         \n",
       "9752927    2023-11-22 16:00:00\n",
       "9752928    2023-12-04 16:00:00\n",
       "9752929    2024-01-03 16:00:00\n",
       "9752930    2024-01-12 16:00:00\n",
       "9752931    2024-01-03 16:00:00\n",
       "Name: QueueDate, Length: 9752932, dtype: object"
      ]
     },
     "execution_count": 10,
     "metadata": {},
     "output_type": "execute_result"
    }
   ],
   "source": [
    "# check values of QueueDate\n",
    "appointments_df['QueueDate']"
   ]
  },
  {
   "cell_type": "code",
   "execution_count": 11,
   "id": "fc23053b-08d8-4dc9-b75f-cb0f2e6b70c6",
   "metadata": {},
   "outputs": [],
   "source": [
    "# convert to datetime data type\n",
    "appointments_df['QueueDate'] = pd.to_datetime(appointments_df['QueueDate'], errors='coerce')"
   ]
  },
  {
   "cell_type": "code",
   "execution_count": 135,
   "id": "88a45f6a-42ac-43c3-b18c-3367cd24a590",
   "metadata": {},
   "outputs": [
    {
     "data": {
      "text/plain": [
       "0"
      ]
     },
     "execution_count": 135,
     "metadata": {},
     "output_type": "execute_result"
    }
   ],
   "source": [
    "# check null values of QueueDate\n",
    "appointments_df['QueueDate'].isnull().sum()"
   ]
  },
  {
   "cell_type": "code",
   "execution_count": 13,
   "id": "51ca1bf1-1574-47e0-bd72-651246472587",
   "metadata": {},
   "outputs": [],
   "source": [
    "# drop rows that have invalid Queuedate\n",
    "appointments_df = appointments_df.dropna(subset=['QueueDate'])"
   ]
  },
  {
   "cell_type": "code",
   "execution_count": 14,
   "id": "ed1771a8-a672-43af-8ae4-e84b6e040025",
   "metadata": {},
   "outputs": [
    {
     "name": "stderr",
     "output_type": "stream",
     "text": [
      "C:\\Users\\Anne Sulit\\AppData\\Local\\Temp\\ipykernel_11588\\2623430957.py:4: SettingWithCopyWarning: \n",
      "A value is trying to be set on a copy of a slice from a DataFrame.\n",
      "Try using .loc[row_indexer,col_indexer] = value instead\n",
      "\n",
      "See the caveats in the documentation: https://pandas.pydata.org/pandas-docs/stable/user_guide/indexing.html#returning-a-view-versus-a-copy\n",
      "  appointments_df['QueueDate'] = appointments_df['QueueDate'].dt.tz_localize('UTC').dt.tz_convert(asian_tz)\n"
     ]
    }
   ],
   "source": [
    "# Set the timezone to GMT+8 (Asia/Singapore)\n",
    "asian_tz = pytz.timezone('Asia/Singapore')\n",
    "# Convert the 'QueueDate' column to the new timezone\n",
    "appointments_df['QueueDate'] = appointments_df['QueueDate'].dt.tz_localize('UTC').dt.tz_convert(asian_tz)"
   ]
  },
  {
   "cell_type": "code",
   "execution_count": 15,
   "id": "f401f867-d2d9-45d8-bd1a-349c5150813d",
   "metadata": {},
   "outputs": [
    {
     "name": "stdout",
     "output_type": "stream",
     "text": [
      "datetime64[ns, Asia/Singapore]\n"
     ]
    }
   ],
   "source": [
    "print(appointments_df['QueueDate'].dtype)"
   ]
  },
  {
   "cell_type": "markdown",
   "id": "31fe6f52-92d5-4421-9d6d-c974d5ad9538",
   "metadata": {},
   "source": [
    "### `TimeQueued` variable"
   ]
  },
  {
   "cell_type": "code",
   "execution_count": 16,
   "id": "22bf1593-1ecc-41f8-9950-ca217815f8ce",
   "metadata": {},
   "outputs": [
    {
     "data": {
      "text/plain": [
       "0                    2018-04-11 01:59:58\n",
       "1                    2018-04-10 10:34:16\n",
       "2                    2018-04-03 15:26:19\n",
       "21         2020-08-03 02:05:14.693000000\n",
       "22         2020-08-07 04:39:30.713000000\n",
       "                       ...              \n",
       "9752927    2023-11-20 00:34:25.337000000\n",
       "9752928    2023-12-05 07:51:25.443000000\n",
       "9752929    2024-01-04 06:11:06.437000000\n",
       "9752930    2024-01-13 06:12:54.737000000\n",
       "9752931    2024-01-04 00:45:05.063000000\n",
       "Name: TimeQueued, Length: 9752833, dtype: object"
      ]
     },
     "execution_count": 16,
     "metadata": {},
     "output_type": "execute_result"
    }
   ],
   "source": [
    "# check values of TimeQueued\n",
    "appointments_df['TimeQueued']"
   ]
  },
  {
   "cell_type": "code",
   "execution_count": 17,
   "id": "eb36e9e1-7594-409f-b593-4b8b4feae3f0",
   "metadata": {},
   "outputs": [
    {
     "name": "stderr",
     "output_type": "stream",
     "text": [
      "C:\\Users\\Anne Sulit\\AppData\\Local\\Temp\\ipykernel_11588\\1334969640.py:2: SettingWithCopyWarning: \n",
      "A value is trying to be set on a copy of a slice from a DataFrame.\n",
      "Try using .loc[row_indexer,col_indexer] = value instead\n",
      "\n",
      "See the caveats in the documentation: https://pandas.pydata.org/pandas-docs/stable/user_guide/indexing.html#returning-a-view-versus-a-copy\n",
      "  appointments_df['TimeQueued'] = pd.to_datetime(appointments_df['TimeQueued'], errors='coerce')\n"
     ]
    }
   ],
   "source": [
    "# convert to datetime data type\n",
    "appointments_df['TimeQueued'] = pd.to_datetime(appointments_df['TimeQueued'], errors='coerce')"
   ]
  },
  {
   "cell_type": "code",
   "execution_count": 136,
   "id": "3dcab03b-b282-4681-a6a5-a9d6c8850fa4",
   "metadata": {},
   "outputs": [
    {
     "data": {
      "text/plain": [
       "0"
      ]
     },
     "execution_count": 136,
     "metadata": {},
     "output_type": "execute_result"
    }
   ],
   "source": [
    "# check null values of TimeQueued\n",
    "appointments_df['TimeQueued'].isnull().sum()"
   ]
  },
  {
   "cell_type": "code",
   "execution_count": 19,
   "id": "6aacbd88-eefb-4016-9910-aaa9f1bdaf25",
   "metadata": {},
   "outputs": [],
   "source": [
    "# drop rows that have invalid TimeQueued\n",
    "appointments_df = appointments_df.dropna(subset=['TimeQueued'])"
   ]
  },
  {
   "cell_type": "code",
   "execution_count": 20,
   "id": "1723a270-efe0-45eb-86f6-b1a04340796f",
   "metadata": {},
   "outputs": [],
   "source": [
    "# Set the timezone to GMT+8 (Asia/Singapore)\n",
    "asian_tz = pytz.timezone('Asia/Singapore')\n",
    "\n",
    "# Convert the 'QueueDate' column to the new timezone\n",
    "appointments_df['TimeQueued'] = appointments_df['TimeQueued'].dt.tz_localize('UTC').dt.tz_convert(asian_tz)"
   ]
  },
  {
   "cell_type": "code",
   "execution_count": 200,
   "id": "e41e046e-502f-4443-a937-88449a111c7f",
   "metadata": {},
   "outputs": [],
   "source": [
    "# drop rows whose timequeued is earlier than Queue Date\n",
    "appointments_df.loc[appointments_df['TimeQueued'] < appointments_df['QueueDate'], 'TimeQueued'] = pd.NaT\n",
    "appointments_df = appointments_df.dropna(subset=['TimeQueued'])"
   ]
  },
  {
   "cell_type": "code",
   "execution_count": 201,
   "id": "de37aeb9-3f8d-4ef3-bc89-fd7fe5d3a9c0",
   "metadata": {},
   "outputs": [
    {
     "name": "stdout",
     "output_type": "stream",
     "text": [
      "datetime64[ns, Asia/Singapore]\n"
     ]
    }
   ],
   "source": [
    "print(appointments_df['TimeQueued'].dtype)"
   ]
  },
  {
   "cell_type": "markdown",
   "id": "b875726f-e4d6-4db3-96f8-fdfa0c6500d0",
   "metadata": {
    "jp-MarkdownHeadingCollapsed": true
   },
   "source": [
    "### `StartTime` variable"
   ]
  },
  {
   "cell_type": "code",
   "execution_count": 21,
   "id": "b914bd66-7dca-4f40-b5c7-ede44287efe1",
   "metadata": {},
   "outputs": [
    {
     "data": {
      "text/plain": [
       "0                          NaN\n",
       "1          2018-04-09 10:33:00\n",
       "2          2018-03-31 15:25:00\n",
       "38                         NaN\n",
       "39         2021-07-07 11:00:00\n",
       "                  ...         \n",
       "9752908    2023-07-06 02:00:00\n",
       "9752909                    NaN\n",
       "9752912    2023-07-08 08:00:00\n",
       "9752915    2023-07-20 07:30:33\n",
       "9752917    2023-08-08 08:00:55\n",
       "Name: StartTime, Length: 4089373, dtype: object"
      ]
     },
     "execution_count": 21,
     "metadata": {},
     "output_type": "execute_result"
    }
   ],
   "source": [
    "# check values of StartTime\n",
    "appointments_df['StartTime']"
   ]
  },
  {
   "cell_type": "code",
   "execution_count": 22,
   "id": "e05ac944-aeed-40bf-9db0-bea2384b8778",
   "metadata": {},
   "outputs": [],
   "source": [
    "# convert to datetime data type\n",
    "appointments_df['StartTime'] = pd.to_datetime(appointments_df['StartTime'], errors='coerce')"
   ]
  },
  {
   "cell_type": "code",
   "execution_count": 137,
   "id": "5f892ded-8c69-43e4-aff4-4e1899cbd8cd",
   "metadata": {},
   "outputs": [
    {
     "data": {
      "text/plain": [
       "0"
      ]
     },
     "execution_count": 137,
     "metadata": {},
     "output_type": "execute_result"
    }
   ],
   "source": [
    "# check null values of StartTime\n",
    "appointments_df['StartTime'].isnull().sum()"
   ]
  },
  {
   "cell_type": "code",
   "execution_count": 119,
   "id": "1ff3e97b-8b20-4aa9-8354-d56b8a4292d1",
   "metadata": {},
   "outputs": [],
   "source": [
    "# drop rows that have invalid TimeQueued\n",
    "appointments_df = appointments_df.dropna(subset=['StartTime'])"
   ]
  },
  {
   "cell_type": "code",
   "execution_count": 24,
   "id": "d24601a6-de6d-4596-8ba0-047303d71a04",
   "metadata": {},
   "outputs": [],
   "source": [
    "# Set the timezone to GMT+8 (Asia/Singapore)\n",
    "asian_tz = pytz.timezone('Asia/Singapore')\n",
    "\n",
    "# Convert the 'QueueDate' column to the new timezone\n",
    "appointments_df['StartTime'] = appointments_df['StartTime'].dt.tz_localize('UTC').dt.tz_convert(asian_tz)"
   ]
  },
  {
   "cell_type": "code",
   "execution_count": null,
   "id": "c173c907-8df1-4d00-8653-8cfa5179a701",
   "metadata": {},
   "outputs": [],
   "source": [
    "# drop rows whose StartTime is earlier than TimeQueued\n",
    "appointments_df.loc[appointments_df['StartTime'] < appointments_df['TimeQueued'], 'StartTime'] = pd.NaT\n",
    "appointments_df = appointments_df.dropna(subset=['StartTime'])"
   ]
  },
  {
   "cell_type": "markdown",
   "id": "3269e99e-3a20-4f08-8e54-a551dd0a9c83",
   "metadata": {},
   "source": [
    "### `EndTime` variable"
   ]
  },
  {
   "cell_type": "code",
   "execution_count": 25,
   "id": "0680be02-c383-44a0-a514-f2b44719af50",
   "metadata": {},
   "outputs": [
    {
     "data": {
      "text/plain": [
       "0                          NaN\n",
       "1          2018-04-12 05:29:57\n",
       "2          2018-04-05 15:51:47\n",
       "38                         NaN\n",
       "39         2021-07-07 11:15:00\n",
       "                  ...         \n",
       "9752908    2023-07-06 02:15:00\n",
       "9752909                    NaN\n",
       "9752912    2023-07-08 08:15:00\n",
       "9752915    2023-07-20 07:45:33\n",
       "9752917    2023-08-08 08:15:55\n",
       "Name: EndTime, Length: 4089373, dtype: object"
      ]
     },
     "execution_count": 25,
     "metadata": {},
     "output_type": "execute_result"
    }
   ],
   "source": [
    "# check values of EndTime\n",
    "appointments_df['EndTime']"
   ]
  },
  {
   "cell_type": "code",
   "execution_count": 26,
   "id": "cf0cba19-29c2-4d18-af21-67a39c738baf",
   "metadata": {},
   "outputs": [],
   "source": [
    "# convert to datetime data type\n",
    "appointments_df['EndTime'] = pd.to_datetime(appointments_df['EndTime'], errors='coerce')"
   ]
  },
  {
   "cell_type": "code",
   "execution_count": 214,
   "id": "7a032e0e-41b2-4c2f-a397-d343d2b21f32",
   "metadata": {},
   "outputs": [
    {
     "data": {
      "text/plain": [
       "0"
      ]
     },
     "execution_count": 214,
     "metadata": {},
     "output_type": "execute_result"
    }
   ],
   "source": [
    "# check null values of EndTime\n",
    "appointments_df['EndTime'].isnull().sum()"
   ]
  },
  {
   "cell_type": "code",
   "execution_count": 28,
   "id": "1c5c6aae-2f47-4f17-ada5-af6016cdc531",
   "metadata": {},
   "outputs": [],
   "source": [
    "# Set the timezone to GMT+8 (Asia/Singapore)\n",
    "asian_tz = pytz.timezone('Asia/Singapore')\n",
    "\n",
    "# Convert the 'QueueDate' column to the new timezone\n",
    "appointments_df['EndTime'] = appointments_df['EndTime'].dt.tz_localize('UTC').dt.tz_convert(asian_tz)"
   ]
  },
  {
   "cell_type": "code",
   "execution_count": 54,
   "id": "bd531dee-bb91-4437-b909-f7ea8657ec87",
   "metadata": {},
   "outputs": [],
   "source": [
    "# drop rows whose EndTime is earlier than StartTime\n",
    "appointments_df['InvalidDuration'] = np.where(appointments_df['EndTime'] < appointments_df['StartTime'], 'Invalid', '')\n",
    "appointments_df = appointments_df[appointments_df['InvalidDuration'] != 'Invalid']\n",
    "appointments_df = appointments_df.drop(columns=['InvalidDuration'])"
   ]
  },
  {
   "cell_type": "code",
   "execution_count": 131,
   "id": "ea64dd0c-0dee-4cda-a54d-09955fde9ec8",
   "metadata": {},
   "outputs": [],
   "source": [
    "#drop rows where status is complete but there is no endtime\n",
    "appointments_df = appointments_df[((appointments_df['status'] != 'Complete') | (appointments_df['EndTime'].notna()))]\n",
    "appointments_df = appointments_df[((appointments_df['status'] != 'NoShow') | (appointments_df['EndTime'].notna()))]"
   ]
  },
  {
   "cell_type": "code",
   "execution_count": 212,
   "id": "592e2a3a-5757-41ed-a7de-614170123670",
   "metadata": {},
   "outputs": [],
   "source": [
    "# drop rows where type is consultation and there is no end time\n",
    "appointments_df = appointments_df[((appointments_df['type'] == 'Consultation') & (appointments_df['EndTime'].notna()))]"
   ]
  },
  {
   "cell_type": "markdown",
   "id": "bdbcf435-8558-4d87-800b-486573c27214",
   "metadata": {
    "jp-MarkdownHeadingCollapsed": true
   },
   "source": [
    "### FORMATTING TIMES VARIABLES"
   ]
  },
  {
   "cell_type": "code",
   "execution_count": null,
   "id": "2d831738-de9d-4f3a-ac7a-1cd0909060d1",
   "metadata": {},
   "outputs": [],
   "source": [
    "# get date\n",
    "appointments_df['QueueDate'] = pd.to_datetime(appointments_df['QueueDate'], errors='coerce').dt.date\n",
    "# convert to datetime data type\n",
    "appointments_df['QueueDate'] = pd.to_datetime(appointments_df['QueueDate'], errors='coerce')"
   ]
  },
  {
   "cell_type": "code",
   "execution_count": null,
   "id": "8b9af8cc-d1a9-455b-bbc5-beb625d8820a",
   "metadata": {},
   "outputs": [],
   "source": [
    "# Remove the date component\n",
    "appointments_df['TimeQueued'] = appointments_df['TimeQueued'].dt.time\n",
    "appointments_df"
   ]
  },
  {
   "cell_type": "markdown",
   "id": "8916a120-8717-4b3e-95ae-c6184e697918",
   "metadata": {
    "jp-MarkdownHeadingCollapsed": true
   },
   "source": [
    "### `type` variable"
   ]
  },
  {
   "cell_type": "code",
   "execution_count": null,
   "id": "6a83d793-2586-4284-8af7-ca68a11c4535",
   "metadata": {},
   "outputs": [],
   "source": [
    "# check values of type\n",
    "appointments_df['type']"
   ]
  },
  {
   "cell_type": "code",
   "execution_count": null,
   "id": "f90437d5-1464-43e4-a9ea-669be5dff986",
   "metadata": {},
   "outputs": [],
   "source": [
    "# check unique values of type\n",
    "appointments_df['type'].unique()"
   ]
  },
  {
   "cell_type": "code",
   "execution_count": null,
   "id": "8c0d03a4-c0eb-436d-82e3-f5f951d70933",
   "metadata": {},
   "outputs": [],
   "source": [
    "type_vc = appointments_df['type'].value_counts()\n",
    "print(type_vc)"
   ]
  },
  {
   "cell_type": "code",
   "execution_count": 164,
   "id": "eebbd13b-fbbb-424c-a779-c79a924813db",
   "metadata": {},
   "outputs": [
    {
     "data": {
      "text/plain": [
       "0"
      ]
     },
     "execution_count": 164,
     "metadata": {},
     "output_type": "execute_result"
    }
   ],
   "source": [
    "# check null values of type\n",
    "appointments_df['type'].isnull().sum()"
   ]
  },
  {
   "cell_type": "markdown",
   "id": "b0a84da7-f652-4410-80a2-29f84c5e2077",
   "metadata": {
    "jp-MarkdownHeadingCollapsed": true
   },
   "source": [
    "### `Virtual` variable"
   ]
  },
  {
   "cell_type": "code",
   "execution_count": 69,
   "id": "6e53d58c-b0c0-492c-be11-bb219ea41d42",
   "metadata": {},
   "outputs": [
    {
     "data": {
      "text/plain": [
       "0            NaN\n",
       "1            NaN\n",
       "2            NaN\n",
       "38         False\n",
       "39          True\n",
       "           ...  \n",
       "9752908     True\n",
       "9752909    False\n",
       "9752912    False\n",
       "9752915    False\n",
       "9752917    False\n",
       "Name: Virtual, Length: 4088602, dtype: object"
      ]
     },
     "execution_count": 69,
     "metadata": {},
     "output_type": "execute_result"
    }
   ],
   "source": [
    "# check values of Virtual\n",
    "appointments_df['Virtual']"
   ]
  },
  {
   "cell_type": "code",
   "execution_count": 77,
   "id": "4be47a7a-a264-46f4-ab3f-878202126a76",
   "metadata": {},
   "outputs": [
    {
     "data": {
      "text/plain": [
       "array([nan, False, True], dtype=object)"
      ]
     },
     "execution_count": 77,
     "metadata": {},
     "output_type": "execute_result"
    }
   ],
   "source": [
    "# check unique values of Virtual\n",
    "appointments_df['Virtual'].unique()"
   ]
  },
  {
   "cell_type": "code",
   "execution_count": 175,
   "id": "8796ca80-ef03-42c7-85c6-ff14f2f539fa",
   "metadata": {},
   "outputs": [
    {
     "name": "stdout",
     "output_type": "stream",
     "text": [
      "Virtual\n",
      "False    771700\n",
      "True     198979\n",
      "Name: count, dtype: int64\n"
     ]
    }
   ],
   "source": [
    "virtual_vc = appointments_df['Virtual'].value_counts()\n",
    "print(virtual_vc)"
   ]
  },
  {
   "cell_type": "code",
   "execution_count": 176,
   "id": "512626f4-1b1c-4b7f-ad08-a8b07ebdc0d1",
   "metadata": {},
   "outputs": [
    {
     "data": {
      "text/plain": [
       "315373"
      ]
     },
     "execution_count": 176,
     "metadata": {},
     "output_type": "execute_result"
    }
   ],
   "source": [
    "# check null values of Virtual\n",
    "appointments_df['Virtual'].isnull().sum()"
   ]
  },
  {
   "cell_type": "code",
   "execution_count": 80,
   "id": "ba138b5c-1d02-40a2-a254-a0dc8d30c4a3",
   "metadata": {},
   "outputs": [],
   "source": [
    "# all inpatient appointments are set to False\n",
    "appointments_df.loc[appointments_df['type'] == 'Inpatient', 'Virtual'] = False"
   ]
  },
  {
   "cell_type": "code",
   "execution_count": 177,
   "id": "45d83ca7-a4ef-45bb-9c18-656f5394da7b",
   "metadata": {},
   "outputs": [],
   "source": [
    "# drop all rows where Virtual == NaN\n",
    "appointments_df = appointments_df.dropna(subset=['Virtual'])"
   ]
  },
  {
   "cell_type": "markdown",
   "id": "45121e32-12e7-4998-b7a8-af48ffbd28a0",
   "metadata": {},
   "source": [
    "### Exporting Files"
   ]
  },
  {
   "cell_type": "code",
   "execution_count": 211,
   "id": "12973279-878f-4a86-84b5-ca55f73942b3",
   "metadata": {},
   "outputs": [],
   "source": [
    "# Select the column you want to export\n",
    "selected_column = appointments_df[appointments_df['EndTime'].isna()]\n",
    "\n",
    "# Write the selected column to a new CSV file\n",
    "selected_column.to_csv('noendtime.csv', index=False)"
   ]
  },
  {
   "cell_type": "code",
   "execution_count": 29,
   "id": "c4f769b0-113a-46aa-b7f8-58f22795588b",
   "metadata": {},
   "outputs": [
    {
     "data": {
      "text/html": [
       "<div>\n",
       "<style scoped>\n",
       "    .dataframe tbody tr th:only-of-type {\n",
       "        vertical-align: middle;\n",
       "    }\n",
       "\n",
       "    .dataframe tbody tr th {\n",
       "        vertical-align: top;\n",
       "    }\n",
       "\n",
       "    .dataframe thead th {\n",
       "        text-align: right;\n",
       "    }\n",
       "</style>\n",
       "<table border=\"1\" class=\"dataframe\">\n",
       "  <thead>\n",
       "    <tr style=\"text-align: right;\">\n",
       "      <th></th>\n",
       "      <th>StartTime</th>\n",
       "      <th>EndTime</th>\n",
       "      <th>QueueDifference</th>\n",
       "    </tr>\n",
       "  </thead>\n",
       "  <tbody>\n",
       "    <tr>\n",
       "      <th>0</th>\n",
       "      <td>NaT</td>\n",
       "      <td>NaT</td>\n",
       "      <td>0 days 09:59:58</td>\n",
       "    </tr>\n",
       "    <tr>\n",
       "      <th>1</th>\n",
       "      <td>2018-04-09 18:33:00+08:00</td>\n",
       "      <td>2018-04-12 13:29:57+08:00</td>\n",
       "      <td>1 days 18:34:16</td>\n",
       "    </tr>\n",
       "    <tr>\n",
       "      <th>2</th>\n",
       "      <td>2018-03-31 23:25:00+08:00</td>\n",
       "      <td>2018-04-05 23:51:47+08:00</td>\n",
       "      <td>3 days 23:26:19</td>\n",
       "    </tr>\n",
       "    <tr>\n",
       "      <th>38</th>\n",
       "      <td>NaT</td>\n",
       "      <td>NaT</td>\n",
       "      <td>0 days 15:05:35</td>\n",
       "    </tr>\n",
       "    <tr>\n",
       "      <th>39</th>\n",
       "      <td>2021-07-07 19:00:00+08:00</td>\n",
       "      <td>2021-07-07 19:15:00+08:00</td>\n",
       "      <td>0 days 12:18:20</td>\n",
       "    </tr>\n",
       "    <tr>\n",
       "      <th>...</th>\n",
       "      <td>...</td>\n",
       "      <td>...</td>\n",
       "      <td>...</td>\n",
       "    </tr>\n",
       "    <tr>\n",
       "      <th>9752908</th>\n",
       "      <td>2023-07-06 10:00:00+08:00</td>\n",
       "      <td>2023-07-06 10:15:00+08:00</td>\n",
       "      <td>0 days 09:21:13</td>\n",
       "    </tr>\n",
       "    <tr>\n",
       "      <th>9752909</th>\n",
       "      <td>NaT</td>\n",
       "      <td>NaT</td>\n",
       "      <td>0 days 11:21:17</td>\n",
       "    </tr>\n",
       "    <tr>\n",
       "      <th>9752912</th>\n",
       "      <td>2023-07-08 16:00:00+08:00</td>\n",
       "      <td>2023-07-08 16:15:00+08:00</td>\n",
       "      <td>0 days 15:03:17</td>\n",
       "    </tr>\n",
       "    <tr>\n",
       "      <th>9752915</th>\n",
       "      <td>2023-07-20 15:30:33+08:00</td>\n",
       "      <td>2023-07-20 15:45:33+08:00</td>\n",
       "      <td>-7 days +13:07:47</td>\n",
       "    </tr>\n",
       "    <tr>\n",
       "      <th>9752917</th>\n",
       "      <td>2023-08-08 16:00:55+08:00</td>\n",
       "      <td>2023-08-08 16:15:55+08:00</td>\n",
       "      <td>0 days 13:01:00</td>\n",
       "    </tr>\n",
       "  </tbody>\n",
       "</table>\n",
       "<p>4089373 rows × 3 columns</p>\n",
       "</div>"
      ],
      "text/plain": [
       "                        StartTime                   EndTime   QueueDifference\n",
       "0                             NaT                       NaT   0 days 09:59:58\n",
       "1       2018-04-09 18:33:00+08:00 2018-04-12 13:29:57+08:00   1 days 18:34:16\n",
       "2       2018-03-31 23:25:00+08:00 2018-04-05 23:51:47+08:00   3 days 23:26:19\n",
       "38                            NaT                       NaT   0 days 15:05:35\n",
       "39      2021-07-07 19:00:00+08:00 2021-07-07 19:15:00+08:00   0 days 12:18:20\n",
       "...                           ...                       ...               ...\n",
       "9752908 2023-07-06 10:00:00+08:00 2023-07-06 10:15:00+08:00   0 days 09:21:13\n",
       "9752909                       NaT                       NaT   0 days 11:21:17\n",
       "9752912 2023-07-08 16:00:00+08:00 2023-07-08 16:15:00+08:00   0 days 15:03:17\n",
       "9752915 2023-07-20 15:30:33+08:00 2023-07-20 15:45:33+08:00 -7 days +13:07:47\n",
       "9752917 2023-08-08 16:00:55+08:00 2023-08-08 16:15:55+08:00   0 days 13:01:00\n",
       "\n",
       "[4089373 rows x 3 columns]"
      ]
     },
     "execution_count": 29,
     "metadata": {},
     "output_type": "execute_result"
    }
   ],
   "source": [
    "appointments_df['QueueDifference'] = appointments_df['TimeQueued'] - appointments_df['QueueDate']\n",
    "appointments_df[['StartTime', 'EndTime', 'QueueDifference']]"
   ]
  },
  {
   "cell_type": "code",
   "execution_count": null,
   "id": "2af65b05-7f66-4625-ac25-c683ebed9aea",
   "metadata": {},
   "outputs": [],
   "source": [
    "appointments_df['TimeQueued'] = pd.to_datetime(appointments_df['TimeQueued'])\n",
    "appointments_df['QueueDate'] = pd.to_datetime(appointments_df['QueueDate'])\n",
    "\n",
    "# Calculate the difference in days between 'TimeQueued' and 'QueueDate'\n",
    "appointments_df['day_difference'] = (appointments_df['TimeQueued'] - appointments_df['QueueDate']).dt.days"
   ]
  },
  {
   "cell_type": "code",
   "execution_count": null,
   "id": "e3471669-bf7e-437e-be82-8c9709318cb3",
   "metadata": {},
   "outputs": [],
   "source": [
    "appointments_df['day_difference'].value_counts()"
   ]
  },
  {
   "cell_type": "code",
   "execution_count": 82,
   "id": "a714fa44-0208-4f9d-ba32-f9af48074f39",
   "metadata": {},
   "outputs": [
    {
     "data": {
      "text/plain": [
       "4009913"
      ]
     },
     "execution_count": 82,
     "metadata": {},
     "output_type": "execute_result"
    }
   ],
   "source": [
    "appointments_df[appointments_df['type'] == 'Consultation'])"
   ]
  },
  {
   "cell_type": "code",
   "execution_count": 81,
   "id": "b205409d-8c53-4350-8073-91d80e29b7b1",
   "metadata": {},
   "outputs": [
    {
     "name": "stdout",
     "output_type": "stream",
     "text": [
      "Number of appointments where type is 'Consultation' and 'Virtual' is NaN: 1279056\n",
      "Number of appointments where type is 'Consultation' and 'Virtual' is not NaN: 2730857\n"
     ]
    }
   ],
   "source": [
    "count = appointments_df[(appointments_df['type'] == 'In') & (appointments_df['Virtual'].isna())].shape[0]\n",
    "count1 = appointments_df[(appointments_df['type'] == 'Consultation') & (appointments_df['Virtual'].notna())].shape[0]\n",
    "\n",
    "print(\"Number of appointments where type is 'Consultation' and 'Virtual' is NaN:\", count)\n",
    "print(\"Number of appointments where type is 'Consultation' and 'Virtual' is not NaN:\", count1)"
   ]
  },
  {
   "cell_type": "code",
   "execution_count": 190,
   "id": "2ac82be8-1ed2-43d5-8d69-3c1f41fc8094",
   "metadata": {},
   "outputs": [
    {
     "name": "stdout",
     "output_type": "stream",
     "text": [
      "Number of appointments where type is 'Inpatient' and 'valid' is NaN: 430\n"
     ]
    }
   ],
   "source": [
    "count = appointments_df[(appointments_df['type'] == 'Inpatient') & (appointments_df['Valid'] == '0')].shape[0]\n",
    "\n",
    "print(\"Number of appointments where type is 'Inpatient' and 'valid' is NaN:\", count)"
   ]
  },
  {
   "cell_type": "code",
   "execution_count": 116,
   "id": "cd3dbb5c-829a-462d-bcd7-11ceb6daa7ff",
   "metadata": {},
   "outputs": [],
   "source": [
    "consultations_df = appointments_df[(appointments_df['type'] == 'Consultation')&(appointments_df['Virtual'] == True)]"
   ]
  },
  {
   "cell_type": "code",
   "execution_count": 208,
   "id": "f604f80c-629f-4783-830c-c33081e66139",
   "metadata": {},
   "outputs": [
    {
     "data": {
      "text/plain": [
       "status\n",
       "Queued     25779\n",
       "Serving        1\n",
       "Name: count, dtype: int64"
      ]
     },
     "execution_count": 208,
     "metadata": {},
     "output_type": "execute_result"
    }
   ],
   "source": [
    "dff = appointments_df[(appointments_df['TimeQueued'].dt.date > appointments_df['QueueDate'].dt.date) & (appointments_df['type'] == 'Inpatient')]\n",
    "\n",
    "dff['status'].value_counts()"
   ]
  },
  {
   "cell_type": "code",
   "execution_count": 199,
   "id": "c13df9de-23dc-4819-b2b1-86f608a8055d",
   "metadata": {},
   "outputs": [
    {
     "data": {
      "text/html": [
       "<div>\n",
       "<style scoped>\n",
       "    .dataframe tbody tr th:only-of-type {\n",
       "        vertical-align: middle;\n",
       "    }\n",
       "\n",
       "    .dataframe tbody tr th {\n",
       "        vertical-align: top;\n",
       "    }\n",
       "\n",
       "    .dataframe thead th {\n",
       "        text-align: right;\n",
       "    }\n",
       "</style>\n",
       "<table border=\"1\" class=\"dataframe\">\n",
       "  <thead>\n",
       "    <tr style=\"text-align: right;\">\n",
       "      <th></th>\n",
       "      <th>pxid</th>\n",
       "      <th>clinicid</th>\n",
       "      <th>doctorid</th>\n",
       "      <th>apptid</th>\n",
       "      <th>status</th>\n",
       "      <th>TimeQueued</th>\n",
       "      <th>QueueDate</th>\n",
       "      <th>StartTime</th>\n",
       "      <th>EndTime</th>\n",
       "      <th>type</th>\n",
       "      <th>Virtual</th>\n",
       "      <th>QueueDifference</th>\n",
       "      <th>WaitingTime</th>\n",
       "      <th>Duration</th>\n",
       "      <th>Valid</th>\n",
       "    </tr>\n",
       "  </thead>\n",
       "  <tbody>\n",
       "    <tr>\n",
       "      <th>1</th>\n",
       "      <td>EAE3C87D0B33351272F2E9B9B1B56217</td>\n",
       "      <td>1E0F65EB20ACBFB27EE05DDC000B50EC</td>\n",
       "      <td>82AA4B0AF34C2313A562076992E50AA3</td>\n",
       "      <td>6585A31C60A1886FBA1433C50012B504</td>\n",
       "      <td>Queued</td>\n",
       "      <td>2018-04-10 18:34:16+08:00</td>\n",
       "      <td>2018-04-09 00:00:00+08:00</td>\n",
       "      <td>2018-04-09 18:33:00+08:00</td>\n",
       "      <td>2018-04-12 13:29:57+08:00</td>\n",
       "      <td>Inpatient</td>\n",
       "      <td>False</td>\n",
       "      <td>1 days 18:34:16</td>\n",
       "      <td>-2 days +23:58:44</td>\n",
       "      <td>2 days 18:56:57</td>\n",
       "      <td>1</td>\n",
       "    </tr>\n",
       "    <tr>\n",
       "      <th>2</th>\n",
       "      <td>7C5C93809D626CC702D08F33985B2B58</td>\n",
       "      <td>1E0F65EB20ACBFB27EE05DDC000B50EC</td>\n",
       "      <td>82AA4B0AF34C2313A562076992E50AA3</td>\n",
       "      <td>7250DCFF615E6580295C7E6ED4322371</td>\n",
       "      <td>Queued</td>\n",
       "      <td>2018-04-03 23:26:19+08:00</td>\n",
       "      <td>2018-03-31 00:00:00+08:00</td>\n",
       "      <td>2018-03-31 23:25:00+08:00</td>\n",
       "      <td>2018-04-05 23:51:47+08:00</td>\n",
       "      <td>Inpatient</td>\n",
       "      <td>False</td>\n",
       "      <td>3 days 23:26:19</td>\n",
       "      <td>-4 days +23:58:41</td>\n",
       "      <td>5 days 00:26:47</td>\n",
       "      <td>1</td>\n",
       "    </tr>\n",
       "    <tr>\n",
       "      <th>6674</th>\n",
       "      <td>CE28E216F8C7413B85DA28C6DFC3B088</td>\n",
       "      <td>BA28C7F62E092B90383052C29844FCF8</td>\n",
       "      <td>ECCD9F7DC92858B741132FDA313130CF</td>\n",
       "      <td>49B75169564F3399A6F2F9DF46D95AFF</td>\n",
       "      <td>Queued</td>\n",
       "      <td>2022-10-06 19:53:02+08:00</td>\n",
       "      <td>2022-10-05 00:00:00+08:00</td>\n",
       "      <td>2022-10-05 17:00:10+08:00</td>\n",
       "      <td>2022-10-07 18:30:11+08:00</td>\n",
       "      <td>Inpatient</td>\n",
       "      <td>False</td>\n",
       "      <td>1 days 19:53:02</td>\n",
       "      <td>-2 days +21:07:08</td>\n",
       "      <td>2 days 01:30:01</td>\n",
       "      <td>1</td>\n",
       "    </tr>\n",
       "    <tr>\n",
       "      <th>6723</th>\n",
       "      <td>F1A0BB192FA6909695F923B4FE3CCE82</td>\n",
       "      <td>BA28C7F62E092B90383052C29844FCF8</td>\n",
       "      <td>ECCD9F7DC92858B741132FDA313130CF</td>\n",
       "      <td>B06A70AB9166E25977E9DC2088630FD2</td>\n",
       "      <td>Queued</td>\n",
       "      <td>2022-10-26 10:15:25+08:00</td>\n",
       "      <td>2022-10-25 00:00:00+08:00</td>\n",
       "      <td>2022-10-25 10:14:58+08:00</td>\n",
       "      <td>2022-10-28 15:46:18+08:00</td>\n",
       "      <td>Inpatient</td>\n",
       "      <td>False</td>\n",
       "      <td>1 days 10:15:25</td>\n",
       "      <td>-2 days +23:59:33</td>\n",
       "      <td>3 days 05:31:20</td>\n",
       "      <td>1</td>\n",
       "    </tr>\n",
       "    <tr>\n",
       "      <th>6724</th>\n",
       "      <td>6F0DD111E88C7DCC86158A2569A2CFF2</td>\n",
       "      <td>BA28C7F62E092B90383052C29844FCF8</td>\n",
       "      <td>ECCD9F7DC92858B741132FDA313130CF</td>\n",
       "      <td>BFA763B918D5C5050245902BCBFE7A59</td>\n",
       "      <td>Queued</td>\n",
       "      <td>2022-10-27 19:09:57+08:00</td>\n",
       "      <td>2022-10-26 00:00:00+08:00</td>\n",
       "      <td>2022-10-26 18:00:18+08:00</td>\n",
       "      <td>2022-11-02 13:21:41+08:00</td>\n",
       "      <td>Inpatient</td>\n",
       "      <td>False</td>\n",
       "      <td>1 days 19:09:57</td>\n",
       "      <td>-2 days +22:50:21</td>\n",
       "      <td>6 days 19:21:23</td>\n",
       "      <td>1</td>\n",
       "    </tr>\n",
       "    <tr>\n",
       "      <th>...</th>\n",
       "      <td>...</td>\n",
       "      <td>...</td>\n",
       "      <td>...</td>\n",
       "      <td>...</td>\n",
       "      <td>...</td>\n",
       "      <td>...</td>\n",
       "      <td>...</td>\n",
       "      <td>...</td>\n",
       "      <td>...</td>\n",
       "      <td>...</td>\n",
       "      <td>...</td>\n",
       "      <td>...</td>\n",
       "      <td>...</td>\n",
       "      <td>...</td>\n",
       "      <td>...</td>\n",
       "    </tr>\n",
       "    <tr>\n",
       "      <th>9750986</th>\n",
       "      <td>80BEDC4D74C9DC62C78873579634F010</td>\n",
       "      <td>1C05021910BD1385D5BB4EA2AE8FE585</td>\n",
       "      <td>81930C54E08B6D26D9638DD2E4656DC1</td>\n",
       "      <td>C9D3456CC07167100F502E73AC710E03</td>\n",
       "      <td>Queued</td>\n",
       "      <td>2023-12-25 20:56:42+08:00</td>\n",
       "      <td>2023-12-28 00:00:00+08:00</td>\n",
       "      <td>2023-12-28 07:00:21+08:00</td>\n",
       "      <td>2023-12-31 08:27:44+08:00</td>\n",
       "      <td>Inpatient</td>\n",
       "      <td>False</td>\n",
       "      <td>-3 days +20:56:42</td>\n",
       "      <td>2 days 10:03:39</td>\n",
       "      <td>3 days 01:27:23</td>\n",
       "      <td>1</td>\n",
       "    </tr>\n",
       "    <tr>\n",
       "      <th>9751190</th>\n",
       "      <td>26A146563A105D73B925B9811D21174B</td>\n",
       "      <td>77A44D5CFB595B3545D61AA742268C9B</td>\n",
       "      <td>9F5506939986201D55A4353FF8B4028E</td>\n",
       "      <td>51197FC27630D92848AD0F229F93D225</td>\n",
       "      <td>Queued</td>\n",
       "      <td>2022-07-27 23:43:12+08:00</td>\n",
       "      <td>2022-07-27 00:00:00+08:00</td>\n",
       "      <td>2022-07-27 11:00:00+08:00</td>\n",
       "      <td>2022-07-31 23:29:24+08:00</td>\n",
       "      <td>Inpatient</td>\n",
       "      <td>False</td>\n",
       "      <td>0 days 23:43:12</td>\n",
       "      <td>-1 days +11:16:48</td>\n",
       "      <td>4 days 12:29:24</td>\n",
       "      <td>1</td>\n",
       "    </tr>\n",
       "    <tr>\n",
       "      <th>9751245</th>\n",
       "      <td>A16FCF01B205AF6F6FD30BC9651B22FB</td>\n",
       "      <td>77A44D5CFB595B3545D61AA742268C9B</td>\n",
       "      <td>9F5506939986201D55A4353FF8B4028E</td>\n",
       "      <td>90B1B391C57FEBD3E56955813F79E789</td>\n",
       "      <td>Queued</td>\n",
       "      <td>2022-10-21 19:29:54+08:00</td>\n",
       "      <td>2022-10-21 00:00:00+08:00</td>\n",
       "      <td>2022-10-21 11:23:00+08:00</td>\n",
       "      <td>2022-11-03 20:47:04+08:00</td>\n",
       "      <td>Inpatient</td>\n",
       "      <td>False</td>\n",
       "      <td>0 days 19:29:54</td>\n",
       "      <td>-1 days +15:53:06</td>\n",
       "      <td>13 days 09:24:04</td>\n",
       "      <td>1</td>\n",
       "    </tr>\n",
       "    <tr>\n",
       "      <th>9751250</th>\n",
       "      <td>A932BCE968B6E63DB5F80E4F1E72840B</td>\n",
       "      <td>77A44D5CFB595B3545D61AA742268C9B</td>\n",
       "      <td>9F5506939986201D55A4353FF8B4028E</td>\n",
       "      <td>F3A9C391A5053D21A63E2BE25B3A30CB</td>\n",
       "      <td>Queued</td>\n",
       "      <td>2022-10-31 10:19:01+08:00</td>\n",
       "      <td>2022-10-28 00:00:00+08:00</td>\n",
       "      <td>2022-10-28 10:17:00+08:00</td>\n",
       "      <td>2022-10-31 17:00:18+08:00</td>\n",
       "      <td>Inpatient</td>\n",
       "      <td>False</td>\n",
       "      <td>3 days 10:19:01</td>\n",
       "      <td>-4 days +23:57:59</td>\n",
       "      <td>3 days 06:43:18</td>\n",
       "      <td>1</td>\n",
       "    </tr>\n",
       "    <tr>\n",
       "      <th>9751335</th>\n",
       "      <td>B0BEC67D90FFD07247F079E2B9CC1F42</td>\n",
       "      <td>77A44D5CFB595B3545D61AA742268C9B</td>\n",
       "      <td>9F5506939986201D55A4353FF8B4028E</td>\n",
       "      <td>2970FDBF928907A907CFE4CCACB781C3</td>\n",
       "      <td>Queued</td>\n",
       "      <td>2023-05-10 12:00:25+08:00</td>\n",
       "      <td>2023-05-09 00:00:00+08:00</td>\n",
       "      <td>2023-05-09 11:59:53+08:00</td>\n",
       "      <td>2023-05-16 16:00:21+08:00</td>\n",
       "      <td>Inpatient</td>\n",
       "      <td>False</td>\n",
       "      <td>1 days 12:00:25</td>\n",
       "      <td>-2 days +23:59:28</td>\n",
       "      <td>7 days 04:00:28</td>\n",
       "      <td>1</td>\n",
       "    </tr>\n",
       "  </tbody>\n",
       "</table>\n",
       "<p>77782 rows × 15 columns</p>\n",
       "</div>"
      ],
      "text/plain": [
       "                                     pxid                          clinicid  \\\n",
       "1        EAE3C87D0B33351272F2E9B9B1B56217  1E0F65EB20ACBFB27EE05DDC000B50EC   \n",
       "2        7C5C93809D626CC702D08F33985B2B58  1E0F65EB20ACBFB27EE05DDC000B50EC   \n",
       "6674     CE28E216F8C7413B85DA28C6DFC3B088  BA28C7F62E092B90383052C29844FCF8   \n",
       "6723     F1A0BB192FA6909695F923B4FE3CCE82  BA28C7F62E092B90383052C29844FCF8   \n",
       "6724     6F0DD111E88C7DCC86158A2569A2CFF2  BA28C7F62E092B90383052C29844FCF8   \n",
       "...                                   ...                               ...   \n",
       "9750986  80BEDC4D74C9DC62C78873579634F010  1C05021910BD1385D5BB4EA2AE8FE585   \n",
       "9751190  26A146563A105D73B925B9811D21174B  77A44D5CFB595B3545D61AA742268C9B   \n",
       "9751245  A16FCF01B205AF6F6FD30BC9651B22FB  77A44D5CFB595B3545D61AA742268C9B   \n",
       "9751250  A932BCE968B6E63DB5F80E4F1E72840B  77A44D5CFB595B3545D61AA742268C9B   \n",
       "9751335  B0BEC67D90FFD07247F079E2B9CC1F42  77A44D5CFB595B3545D61AA742268C9B   \n",
       "\n",
       "                                 doctorid                            apptid  \\\n",
       "1        82AA4B0AF34C2313A562076992E50AA3  6585A31C60A1886FBA1433C50012B504   \n",
       "2        82AA4B0AF34C2313A562076992E50AA3  7250DCFF615E6580295C7E6ED4322371   \n",
       "6674     ECCD9F7DC92858B741132FDA313130CF  49B75169564F3399A6F2F9DF46D95AFF   \n",
       "6723     ECCD9F7DC92858B741132FDA313130CF  B06A70AB9166E25977E9DC2088630FD2   \n",
       "6724     ECCD9F7DC92858B741132FDA313130CF  BFA763B918D5C5050245902BCBFE7A59   \n",
       "...                                   ...                               ...   \n",
       "9750986  81930C54E08B6D26D9638DD2E4656DC1  C9D3456CC07167100F502E73AC710E03   \n",
       "9751190  9F5506939986201D55A4353FF8B4028E  51197FC27630D92848AD0F229F93D225   \n",
       "9751245  9F5506939986201D55A4353FF8B4028E  90B1B391C57FEBD3E56955813F79E789   \n",
       "9751250  9F5506939986201D55A4353FF8B4028E  F3A9C391A5053D21A63E2BE25B3A30CB   \n",
       "9751335  9F5506939986201D55A4353FF8B4028E  2970FDBF928907A907CFE4CCACB781C3   \n",
       "\n",
       "         status                TimeQueued                 QueueDate  \\\n",
       "1        Queued 2018-04-10 18:34:16+08:00 2018-04-09 00:00:00+08:00   \n",
       "2        Queued 2018-04-03 23:26:19+08:00 2018-03-31 00:00:00+08:00   \n",
       "6674     Queued 2022-10-06 19:53:02+08:00 2022-10-05 00:00:00+08:00   \n",
       "6723     Queued 2022-10-26 10:15:25+08:00 2022-10-25 00:00:00+08:00   \n",
       "6724     Queued 2022-10-27 19:09:57+08:00 2022-10-26 00:00:00+08:00   \n",
       "...         ...                       ...                       ...   \n",
       "9750986  Queued 2023-12-25 20:56:42+08:00 2023-12-28 00:00:00+08:00   \n",
       "9751190  Queued 2022-07-27 23:43:12+08:00 2022-07-27 00:00:00+08:00   \n",
       "9751245  Queued 2022-10-21 19:29:54+08:00 2022-10-21 00:00:00+08:00   \n",
       "9751250  Queued 2022-10-31 10:19:01+08:00 2022-10-28 00:00:00+08:00   \n",
       "9751335  Queued 2023-05-10 12:00:25+08:00 2023-05-09 00:00:00+08:00   \n",
       "\n",
       "                        StartTime                   EndTime       type  \\\n",
       "1       2018-04-09 18:33:00+08:00 2018-04-12 13:29:57+08:00  Inpatient   \n",
       "2       2018-03-31 23:25:00+08:00 2018-04-05 23:51:47+08:00  Inpatient   \n",
       "6674    2022-10-05 17:00:10+08:00 2022-10-07 18:30:11+08:00  Inpatient   \n",
       "6723    2022-10-25 10:14:58+08:00 2022-10-28 15:46:18+08:00  Inpatient   \n",
       "6724    2022-10-26 18:00:18+08:00 2022-11-02 13:21:41+08:00  Inpatient   \n",
       "...                           ...                       ...        ...   \n",
       "9750986 2023-12-28 07:00:21+08:00 2023-12-31 08:27:44+08:00  Inpatient   \n",
       "9751190 2022-07-27 11:00:00+08:00 2022-07-31 23:29:24+08:00  Inpatient   \n",
       "9751245 2022-10-21 11:23:00+08:00 2022-11-03 20:47:04+08:00  Inpatient   \n",
       "9751250 2022-10-28 10:17:00+08:00 2022-10-31 17:00:18+08:00  Inpatient   \n",
       "9751335 2023-05-09 11:59:53+08:00 2023-05-16 16:00:21+08:00  Inpatient   \n",
       "\n",
       "        Virtual   QueueDifference       WaitingTime         Duration Valid  \n",
       "1         False   1 days 18:34:16 -2 days +23:58:44  2 days 18:56:57     1  \n",
       "2         False   3 days 23:26:19 -4 days +23:58:41  5 days 00:26:47     1  \n",
       "6674      False   1 days 19:53:02 -2 days +21:07:08  2 days 01:30:01     1  \n",
       "6723      False   1 days 10:15:25 -2 days +23:59:33  3 days 05:31:20     1  \n",
       "6724      False   1 days 19:09:57 -2 days +22:50:21  6 days 19:21:23     1  \n",
       "...         ...               ...               ...              ...   ...  \n",
       "9750986   False -3 days +20:56:42   2 days 10:03:39  3 days 01:27:23     1  \n",
       "9751190   False   0 days 23:43:12 -1 days +11:16:48  4 days 12:29:24     1  \n",
       "9751245   False   0 days 19:29:54 -1 days +15:53:06 13 days 09:24:04     1  \n",
       "9751250   False   3 days 10:19:01 -4 days +23:57:59  3 days 06:43:18     1  \n",
       "9751335   False   1 days 12:00:25 -2 days +23:59:28  7 days 04:00:28     1  \n",
       "\n",
       "[77782 rows x 15 columns]"
      ]
     },
     "execution_count": 199,
     "metadata": {},
     "output_type": "execute_result"
    }
   ],
   "source": [
    "#Complete', 'Queued', 'NoShow', 'Serving', 'Cancel', 'Skip','Completed', 'Admitted\n",
    "\n",
    "specific_status_rows = appointments_df[appointments_df['type'] == 'Inpatient']\n",
    "specific_status_rows\n"
   ]
  },
  {
   "cell_type": "code",
   "execution_count": 92,
   "id": "f66be0c2-8615-4069-97e0-ca975bc27c55",
   "metadata": {},
   "outputs": [
    {
     "data": {
      "text/html": [
       "<div>\n",
       "<style scoped>\n",
       "    .dataframe tbody tr th:only-of-type {\n",
       "        vertical-align: middle;\n",
       "    }\n",
       "\n",
       "    .dataframe tbody tr th {\n",
       "        vertical-align: top;\n",
       "    }\n",
       "\n",
       "    .dataframe thead th {\n",
       "        text-align: right;\n",
       "    }\n",
       "</style>\n",
       "<table border=\"1\" class=\"dataframe\">\n",
       "  <thead>\n",
       "    <tr style=\"text-align: right;\">\n",
       "      <th></th>\n",
       "      <th>pxid</th>\n",
       "      <th>clinicid</th>\n",
       "      <th>doctorid</th>\n",
       "      <th>apptid</th>\n",
       "      <th>status</th>\n",
       "      <th>TimeQueued</th>\n",
       "      <th>QueueDate</th>\n",
       "      <th>StartTime</th>\n",
       "      <th>EndTime</th>\n",
       "      <th>type</th>\n",
       "      <th>Virtual</th>\n",
       "      <th>QueueDifference</th>\n",
       "      <th>WaitingTime</th>\n",
       "      <th>Duration</th>\n",
       "      <th>Valid</th>\n",
       "    </tr>\n",
       "  </thead>\n",
       "  <tbody>\n",
       "    <tr>\n",
       "      <th>0</th>\n",
       "      <td>EF196B348A49FB32DABC9834DC4FAAD9</td>\n",
       "      <td>ADF7EE2DCF142B0E11888E72B43FCB75</td>\n",
       "      <td>BB04AF0F7ECAEE4AAE62035497DA1387</td>\n",
       "      <td>C1CC0949B93D00A559F7A0BD38361E80</td>\n",
       "      <td>Complete</td>\n",
       "      <td>2018-04-11 09:59:58+08:00</td>\n",
       "      <td>2018-04-11 00:00:00+08:00</td>\n",
       "      <td>NaT</td>\n",
       "      <td>NaT</td>\n",
       "      <td>Consultation</td>\n",
       "      <td>NaN</td>\n",
       "      <td>0 days 09:59:58</td>\n",
       "      <td>NaT</td>\n",
       "      <td>NaT</td>\n",
       "      <td>1</td>\n",
       "    </tr>\n",
       "    <tr>\n",
       "      <th>107</th>\n",
       "      <td>B9A55EA60F43F58B94397E470344691E</td>\n",
       "      <td>B3432FAACA931632A24FC96B3D1C71EF</td>\n",
       "      <td>6EB887126D24E8F1CD8AD5033482C781</td>\n",
       "      <td>8C3FA8C77BEDAF4A360EE9E33BC982DE</td>\n",
       "      <td>Cancel</td>\n",
       "      <td>2020-05-27 15:10:51+08:00</td>\n",
       "      <td>2020-05-28 00:00:00+08:00</td>\n",
       "      <td>2020-05-28 18:05:00+08:00</td>\n",
       "      <td>2020-05-28 18:20:00+08:00</td>\n",
       "      <td>Consultation</td>\n",
       "      <td>NaN</td>\n",
       "      <td>-1 days +15:10:51</td>\n",
       "      <td>1 days 02:54:09</td>\n",
       "      <td>0 days 00:15:00</td>\n",
       "      <td>0</td>\n",
       "    </tr>\n",
       "    <tr>\n",
       "      <th>1216</th>\n",
       "      <td>8958E65311D3DB9E12AB3EA62EC83F12</td>\n",
       "      <td>12CFBD88070F29EE643BA6A9D614F79B</td>\n",
       "      <td>C1722A7941D61AAD6E651A35B65A9C3E</td>\n",
       "      <td>D1B855D3A38AEECE668EB0606345D916</td>\n",
       "      <td>Queued</td>\n",
       "      <td>2020-05-10 17:08:32+08:00</td>\n",
       "      <td>2020-05-10 00:00:00+08:00</td>\n",
       "      <td>NaT</td>\n",
       "      <td>NaT</td>\n",
       "      <td>Consultation</td>\n",
       "      <td>NaN</td>\n",
       "      <td>0 days 17:08:32</td>\n",
       "      <td>NaT</td>\n",
       "      <td>NaT</td>\n",
       "      <td>1</td>\n",
       "    </tr>\n",
       "    <tr>\n",
       "      <th>3627</th>\n",
       "      <td>B4254533BC0FEF024086A25DF731B299</td>\n",
       "      <td>A24BEC8F118F294B46C98659A72FE06E</td>\n",
       "      <td>10FA5EB83300E5F592B9B35A0E07FC3F</td>\n",
       "      <td>8B0190B02E34104AECE6E99EC0BED803</td>\n",
       "      <td>Queued</td>\n",
       "      <td>2020-05-12 00:55:37+08:00</td>\n",
       "      <td>2020-05-12 00:00:00+08:00</td>\n",
       "      <td>2020-05-12 01:00:00+08:00</td>\n",
       "      <td>2020-05-12 01:15:00+08:00</td>\n",
       "      <td>Consultation</td>\n",
       "      <td>NaN</td>\n",
       "      <td>0 days 00:55:37</td>\n",
       "      <td>0 days 00:04:23</td>\n",
       "      <td>0 days 00:15:00</td>\n",
       "      <td>1</td>\n",
       "    </tr>\n",
       "    <tr>\n",
       "      <th>6645</th>\n",
       "      <td>C504A4E3D2E08ECD16D251840EE92128</td>\n",
       "      <td>AC909707722279DCED6B3D6D2D646FA4</td>\n",
       "      <td>F250DAFF6A09865FF432821B2ADAC54F</td>\n",
       "      <td>19ED6A5C48BD40E1E0D02ECA360FCE9F</td>\n",
       "      <td>Cancel</td>\n",
       "      <td>2020-05-11 00:20:41+08:00</td>\n",
       "      <td>2020-05-11 00:00:00+08:00</td>\n",
       "      <td>2020-05-11 00:30:39+08:00</td>\n",
       "      <td>2020-05-11 01:10:39+08:00</td>\n",
       "      <td>Consultation</td>\n",
       "      <td>NaN</td>\n",
       "      <td>0 days 00:20:41</td>\n",
       "      <td>0 days 00:09:58</td>\n",
       "      <td>0 days 00:40:00</td>\n",
       "      <td>1</td>\n",
       "    </tr>\n",
       "    <tr>\n",
       "      <th>...</th>\n",
       "      <td>...</td>\n",
       "      <td>...</td>\n",
       "      <td>...</td>\n",
       "      <td>...</td>\n",
       "      <td>...</td>\n",
       "      <td>...</td>\n",
       "      <td>...</td>\n",
       "      <td>...</td>\n",
       "      <td>...</td>\n",
       "      <td>...</td>\n",
       "      <td>...</td>\n",
       "      <td>...</td>\n",
       "      <td>...</td>\n",
       "      <td>...</td>\n",
       "      <td>...</td>\n",
       "    </tr>\n",
       "    <tr>\n",
       "      <th>9751652</th>\n",
       "      <td>74CC21A683FC68E22D53740B0E75B9ED</td>\n",
       "      <td>77A44D5CFB595B3545D61AA742268C9B</td>\n",
       "      <td>9F5506939986201D55A4353FF8B4028E</td>\n",
       "      <td>99F36EF5159F5C50DE65159019FAEC26</td>\n",
       "      <td>Queued</td>\n",
       "      <td>2024-01-20 16:13:52+08:00</td>\n",
       "      <td>2024-01-27 00:00:00+08:00</td>\n",
       "      <td>NaT</td>\n",
       "      <td>NaT</td>\n",
       "      <td>Consultation</td>\n",
       "      <td>NaN</td>\n",
       "      <td>-7 days +16:13:52</td>\n",
       "      <td>NaT</td>\n",
       "      <td>NaT</td>\n",
       "      <td>0</td>\n",
       "    </tr>\n",
       "    <tr>\n",
       "      <th>9751655</th>\n",
       "      <td>D4BD5BB03C5E139B187284EA707A16AF</td>\n",
       "      <td>53A738BEB939FDE01527390D0111A747</td>\n",
       "      <td>9F5506939986201D55A4353FF8B4028E</td>\n",
       "      <td>8145A7EDE03B6C8C879F0DB06AD0549E</td>\n",
       "      <td>Complete</td>\n",
       "      <td>2020-06-13 15:08:47+08:00</td>\n",
       "      <td>2020-06-15 00:00:00+08:00</td>\n",
       "      <td>2020-06-15 14:00:47+08:00</td>\n",
       "      <td>2020-06-15 15:00:47+08:00</td>\n",
       "      <td>Consultation</td>\n",
       "      <td>NaN</td>\n",
       "      <td>-2 days +15:08:47</td>\n",
       "      <td>1 days 22:52:00</td>\n",
       "      <td>0 days 01:00:00</td>\n",
       "      <td>0</td>\n",
       "    </tr>\n",
       "    <tr>\n",
       "      <th>9751658</th>\n",
       "      <td>D5DAD68FE20C4B989BAA54E73C00E4D5</td>\n",
       "      <td>53A738BEB939FDE01527390D0111A747</td>\n",
       "      <td>9F5506939986201D55A4353FF8B4028E</td>\n",
       "      <td>60B359A6A00A8350722F84547B8B6093</td>\n",
       "      <td>Queued</td>\n",
       "      <td>2020-06-22 17:43:31+08:00</td>\n",
       "      <td>2020-06-29 00:00:00+08:00</td>\n",
       "      <td>2020-06-29 14:00:00+08:00</td>\n",
       "      <td>2020-06-29 15:00:00+08:00</td>\n",
       "      <td>Consultation</td>\n",
       "      <td>NaN</td>\n",
       "      <td>-7 days +17:43:31</td>\n",
       "      <td>6 days 20:16:29</td>\n",
       "      <td>0 days 01:00:00</td>\n",
       "      <td>0</td>\n",
       "    </tr>\n",
       "    <tr>\n",
       "      <th>9751661</th>\n",
       "      <td>D91FC052F35346FD6EE58EBD2A4AF82C</td>\n",
       "      <td>53A738BEB939FDE01527390D0111A747</td>\n",
       "      <td>9F5506939986201D55A4353FF8B4028E</td>\n",
       "      <td>8A199A733892B688D2A51FD74AD946CD</td>\n",
       "      <td>Complete</td>\n",
       "      <td>2020-07-04 18:58:21+08:00</td>\n",
       "      <td>2020-07-06 00:00:00+08:00</td>\n",
       "      <td>NaT</td>\n",
       "      <td>NaT</td>\n",
       "      <td>Consultation</td>\n",
       "      <td>NaN</td>\n",
       "      <td>-2 days +18:58:21</td>\n",
       "      <td>NaT</td>\n",
       "      <td>NaT</td>\n",
       "      <td>0</td>\n",
       "    </tr>\n",
       "    <tr>\n",
       "      <th>9752131</th>\n",
       "      <td>7786C2143948AFC56626CA5924B1A8B3</td>\n",
       "      <td>71E8991CD0A67BCC371061AA0A95BF82</td>\n",
       "      <td>69B4FA3BE19BDF400DF34E41B93636A4</td>\n",
       "      <td>3788C9EDF43B24EC99E16AA572A175A1</td>\n",
       "      <td>Queued</td>\n",
       "      <td>2020-05-10 03:31:54+08:00</td>\n",
       "      <td>2020-05-10 00:00:00+08:00</td>\n",
       "      <td>NaT</td>\n",
       "      <td>NaT</td>\n",
       "      <td>Consultation</td>\n",
       "      <td>NaN</td>\n",
       "      <td>0 days 03:31:54</td>\n",
       "      <td>NaT</td>\n",
       "      <td>NaT</td>\n",
       "      <td>1</td>\n",
       "    </tr>\n",
       "  </tbody>\n",
       "</table>\n",
       "<p>1279056 rows × 15 columns</p>\n",
       "</div>"
      ],
      "text/plain": [
       "                                     pxid                          clinicid  \\\n",
       "0        EF196B348A49FB32DABC9834DC4FAAD9  ADF7EE2DCF142B0E11888E72B43FCB75   \n",
       "107      B9A55EA60F43F58B94397E470344691E  B3432FAACA931632A24FC96B3D1C71EF   \n",
       "1216     8958E65311D3DB9E12AB3EA62EC83F12  12CFBD88070F29EE643BA6A9D614F79B   \n",
       "3627     B4254533BC0FEF024086A25DF731B299  A24BEC8F118F294B46C98659A72FE06E   \n",
       "6645     C504A4E3D2E08ECD16D251840EE92128  AC909707722279DCED6B3D6D2D646FA4   \n",
       "...                                   ...                               ...   \n",
       "9751652  74CC21A683FC68E22D53740B0E75B9ED  77A44D5CFB595B3545D61AA742268C9B   \n",
       "9751655  D4BD5BB03C5E139B187284EA707A16AF  53A738BEB939FDE01527390D0111A747   \n",
       "9751658  D5DAD68FE20C4B989BAA54E73C00E4D5  53A738BEB939FDE01527390D0111A747   \n",
       "9751661  D91FC052F35346FD6EE58EBD2A4AF82C  53A738BEB939FDE01527390D0111A747   \n",
       "9752131  7786C2143948AFC56626CA5924B1A8B3  71E8991CD0A67BCC371061AA0A95BF82   \n",
       "\n",
       "                                 doctorid                            apptid  \\\n",
       "0        BB04AF0F7ECAEE4AAE62035497DA1387  C1CC0949B93D00A559F7A0BD38361E80   \n",
       "107      6EB887126D24E8F1CD8AD5033482C781  8C3FA8C77BEDAF4A360EE9E33BC982DE   \n",
       "1216     C1722A7941D61AAD6E651A35B65A9C3E  D1B855D3A38AEECE668EB0606345D916   \n",
       "3627     10FA5EB83300E5F592B9B35A0E07FC3F  8B0190B02E34104AECE6E99EC0BED803   \n",
       "6645     F250DAFF6A09865FF432821B2ADAC54F  19ED6A5C48BD40E1E0D02ECA360FCE9F   \n",
       "...                                   ...                               ...   \n",
       "9751652  9F5506939986201D55A4353FF8B4028E  99F36EF5159F5C50DE65159019FAEC26   \n",
       "9751655  9F5506939986201D55A4353FF8B4028E  8145A7EDE03B6C8C879F0DB06AD0549E   \n",
       "9751658  9F5506939986201D55A4353FF8B4028E  60B359A6A00A8350722F84547B8B6093   \n",
       "9751661  9F5506939986201D55A4353FF8B4028E  8A199A733892B688D2A51FD74AD946CD   \n",
       "9752131  69B4FA3BE19BDF400DF34E41B93636A4  3788C9EDF43B24EC99E16AA572A175A1   \n",
       "\n",
       "           status                TimeQueued                 QueueDate  \\\n",
       "0        Complete 2018-04-11 09:59:58+08:00 2018-04-11 00:00:00+08:00   \n",
       "107        Cancel 2020-05-27 15:10:51+08:00 2020-05-28 00:00:00+08:00   \n",
       "1216       Queued 2020-05-10 17:08:32+08:00 2020-05-10 00:00:00+08:00   \n",
       "3627       Queued 2020-05-12 00:55:37+08:00 2020-05-12 00:00:00+08:00   \n",
       "6645       Cancel 2020-05-11 00:20:41+08:00 2020-05-11 00:00:00+08:00   \n",
       "...           ...                       ...                       ...   \n",
       "9751652    Queued 2024-01-20 16:13:52+08:00 2024-01-27 00:00:00+08:00   \n",
       "9751655  Complete 2020-06-13 15:08:47+08:00 2020-06-15 00:00:00+08:00   \n",
       "9751658    Queued 2020-06-22 17:43:31+08:00 2020-06-29 00:00:00+08:00   \n",
       "9751661  Complete 2020-07-04 18:58:21+08:00 2020-07-06 00:00:00+08:00   \n",
       "9752131    Queued 2020-05-10 03:31:54+08:00 2020-05-10 00:00:00+08:00   \n",
       "\n",
       "                        StartTime                   EndTime          type  \\\n",
       "0                             NaT                       NaT  Consultation   \n",
       "107     2020-05-28 18:05:00+08:00 2020-05-28 18:20:00+08:00  Consultation   \n",
       "1216                          NaT                       NaT  Consultation   \n",
       "3627    2020-05-12 01:00:00+08:00 2020-05-12 01:15:00+08:00  Consultation   \n",
       "6645    2020-05-11 00:30:39+08:00 2020-05-11 01:10:39+08:00  Consultation   \n",
       "...                           ...                       ...           ...   \n",
       "9751652                       NaT                       NaT  Consultation   \n",
       "9751655 2020-06-15 14:00:47+08:00 2020-06-15 15:00:47+08:00  Consultation   \n",
       "9751658 2020-06-29 14:00:00+08:00 2020-06-29 15:00:00+08:00  Consultation   \n",
       "9751661                       NaT                       NaT  Consultation   \n",
       "9752131                       NaT                       NaT  Consultation   \n",
       "\n",
       "        Virtual   QueueDifference     WaitingTime        Duration Valid  \n",
       "0           NaN   0 days 09:59:58             NaT             NaT     1  \n",
       "107         NaN -1 days +15:10:51 1 days 02:54:09 0 days 00:15:00     0  \n",
       "1216        NaN   0 days 17:08:32             NaT             NaT     1  \n",
       "3627        NaN   0 days 00:55:37 0 days 00:04:23 0 days 00:15:00     1  \n",
       "6645        NaN   0 days 00:20:41 0 days 00:09:58 0 days 00:40:00     1  \n",
       "...         ...               ...             ...             ...   ...  \n",
       "9751652     NaN -7 days +16:13:52             NaT             NaT     0  \n",
       "9751655     NaN -2 days +15:08:47 1 days 22:52:00 0 days 01:00:00     0  \n",
       "9751658     NaN -7 days +17:43:31 6 days 20:16:29 0 days 01:00:00     0  \n",
       "9751661     NaN -2 days +18:58:21             NaT             NaT     0  \n",
       "9752131     NaN   0 days 03:31:54             NaT             NaT     1  \n",
       "\n",
       "[1279056 rows x 15 columns]"
      ]
     },
     "execution_count": 92,
     "metadata": {},
     "output_type": "execute_result"
    }
   ],
   "source": [
    "appointments_df[appointments_df['Virtual'].isna()]"
   ]
  },
  {
   "cell_type": "code",
   "execution_count": 30,
   "id": "123f3b2d-3257-46d8-81fd-b7e12013c095",
   "metadata": {},
   "outputs": [
    {
     "data": {
      "text/html": [
       "<div>\n",
       "<style scoped>\n",
       "    .dataframe tbody tr th:only-of-type {\n",
       "        vertical-align: middle;\n",
       "    }\n",
       "\n",
       "    .dataframe tbody tr th {\n",
       "        vertical-align: top;\n",
       "    }\n",
       "\n",
       "    .dataframe thead th {\n",
       "        text-align: right;\n",
       "    }\n",
       "</style>\n",
       "<table border=\"1\" class=\"dataframe\">\n",
       "  <thead>\n",
       "    <tr style=\"text-align: right;\">\n",
       "      <th></th>\n",
       "      <th>StartTime</th>\n",
       "      <th>EndTime</th>\n",
       "      <th>WaitingTime</th>\n",
       "    </tr>\n",
       "  </thead>\n",
       "  <tbody>\n",
       "    <tr>\n",
       "      <th>0</th>\n",
       "      <td>NaT</td>\n",
       "      <td>NaT</td>\n",
       "      <td>NaT</td>\n",
       "    </tr>\n",
       "    <tr>\n",
       "      <th>1</th>\n",
       "      <td>2018-04-09 18:33:00+08:00</td>\n",
       "      <td>2018-04-12 13:29:57+08:00</td>\n",
       "      <td>-2 days +23:58:44</td>\n",
       "    </tr>\n",
       "    <tr>\n",
       "      <th>2</th>\n",
       "      <td>2018-03-31 23:25:00+08:00</td>\n",
       "      <td>2018-04-05 23:51:47+08:00</td>\n",
       "      <td>-4 days +23:58:41</td>\n",
       "    </tr>\n",
       "    <tr>\n",
       "      <th>38</th>\n",
       "      <td>NaT</td>\n",
       "      <td>NaT</td>\n",
       "      <td>NaT</td>\n",
       "    </tr>\n",
       "    <tr>\n",
       "      <th>39</th>\n",
       "      <td>2021-07-07 19:00:00+08:00</td>\n",
       "      <td>2021-07-07 19:15:00+08:00</td>\n",
       "      <td>0 days 06:41:40</td>\n",
       "    </tr>\n",
       "    <tr>\n",
       "      <th>...</th>\n",
       "      <td>...</td>\n",
       "      <td>...</td>\n",
       "      <td>...</td>\n",
       "    </tr>\n",
       "    <tr>\n",
       "      <th>9752908</th>\n",
       "      <td>2023-07-06 10:00:00+08:00</td>\n",
       "      <td>2023-07-06 10:15:00+08:00</td>\n",
       "      <td>0 days 00:38:47</td>\n",
       "    </tr>\n",
       "    <tr>\n",
       "      <th>9752909</th>\n",
       "      <td>NaT</td>\n",
       "      <td>NaT</td>\n",
       "      <td>NaT</td>\n",
       "    </tr>\n",
       "    <tr>\n",
       "      <th>9752912</th>\n",
       "      <td>2023-07-08 16:00:00+08:00</td>\n",
       "      <td>2023-07-08 16:15:00+08:00</td>\n",
       "      <td>0 days 00:56:43</td>\n",
       "    </tr>\n",
       "    <tr>\n",
       "      <th>9752915</th>\n",
       "      <td>2023-07-20 15:30:33+08:00</td>\n",
       "      <td>2023-07-20 15:45:33+08:00</td>\n",
       "      <td>7 days 02:22:46</td>\n",
       "    </tr>\n",
       "    <tr>\n",
       "      <th>9752917</th>\n",
       "      <td>2023-08-08 16:00:55+08:00</td>\n",
       "      <td>2023-08-08 16:15:55+08:00</td>\n",
       "      <td>0 days 02:59:55</td>\n",
       "    </tr>\n",
       "  </tbody>\n",
       "</table>\n",
       "<p>4089373 rows × 3 columns</p>\n",
       "</div>"
      ],
      "text/plain": [
       "                        StartTime                   EndTime       WaitingTime\n",
       "0                             NaT                       NaT               NaT\n",
       "1       2018-04-09 18:33:00+08:00 2018-04-12 13:29:57+08:00 -2 days +23:58:44\n",
       "2       2018-03-31 23:25:00+08:00 2018-04-05 23:51:47+08:00 -4 days +23:58:41\n",
       "38                            NaT                       NaT               NaT\n",
       "39      2021-07-07 19:00:00+08:00 2021-07-07 19:15:00+08:00   0 days 06:41:40\n",
       "...                           ...                       ...               ...\n",
       "9752908 2023-07-06 10:00:00+08:00 2023-07-06 10:15:00+08:00   0 days 00:38:47\n",
       "9752909                       NaT                       NaT               NaT\n",
       "9752912 2023-07-08 16:00:00+08:00 2023-07-08 16:15:00+08:00   0 days 00:56:43\n",
       "9752915 2023-07-20 15:30:33+08:00 2023-07-20 15:45:33+08:00   7 days 02:22:46\n",
       "9752917 2023-08-08 16:00:55+08:00 2023-08-08 16:15:55+08:00   0 days 02:59:55\n",
       "\n",
       "[4089373 rows x 3 columns]"
      ]
     },
     "execution_count": 30,
     "metadata": {},
     "output_type": "execute_result"
    }
   ],
   "source": [
    "appointments_df['WaitingTime'] = appointments_df['StartTime'] - appointments_df['TimeQueued']\n",
    "appointments_df[['StartTime', 'EndTime', 'WaitingTime']]"
   ]
  },
  {
   "cell_type": "code",
   "execution_count": 31,
   "id": "8e10daaf-8b4c-4fbc-9686-0f95e4150123",
   "metadata": {},
   "outputs": [
    {
     "data": {
      "text/html": [
       "<div>\n",
       "<style scoped>\n",
       "    .dataframe tbody tr th:only-of-type {\n",
       "        vertical-align: middle;\n",
       "    }\n",
       "\n",
       "    .dataframe tbody tr th {\n",
       "        vertical-align: top;\n",
       "    }\n",
       "\n",
       "    .dataframe thead th {\n",
       "        text-align: right;\n",
       "    }\n",
       "</style>\n",
       "<table border=\"1\" class=\"dataframe\">\n",
       "  <thead>\n",
       "    <tr style=\"text-align: right;\">\n",
       "      <th></th>\n",
       "      <th>StartTime</th>\n",
       "      <th>EndTime</th>\n",
       "      <th>Duration</th>\n",
       "    </tr>\n",
       "  </thead>\n",
       "  <tbody>\n",
       "    <tr>\n",
       "      <th>0</th>\n",
       "      <td>NaT</td>\n",
       "      <td>NaT</td>\n",
       "      <td>NaT</td>\n",
       "    </tr>\n",
       "    <tr>\n",
       "      <th>1</th>\n",
       "      <td>2018-04-09 18:33:00+08:00</td>\n",
       "      <td>2018-04-12 13:29:57+08:00</td>\n",
       "      <td>2 days 18:56:57</td>\n",
       "    </tr>\n",
       "    <tr>\n",
       "      <th>2</th>\n",
       "      <td>2018-03-31 23:25:00+08:00</td>\n",
       "      <td>2018-04-05 23:51:47+08:00</td>\n",
       "      <td>5 days 00:26:47</td>\n",
       "    </tr>\n",
       "    <tr>\n",
       "      <th>38</th>\n",
       "      <td>NaT</td>\n",
       "      <td>NaT</td>\n",
       "      <td>NaT</td>\n",
       "    </tr>\n",
       "    <tr>\n",
       "      <th>39</th>\n",
       "      <td>2021-07-07 19:00:00+08:00</td>\n",
       "      <td>2021-07-07 19:15:00+08:00</td>\n",
       "      <td>0 days 00:15:00</td>\n",
       "    </tr>\n",
       "    <tr>\n",
       "      <th>...</th>\n",
       "      <td>...</td>\n",
       "      <td>...</td>\n",
       "      <td>...</td>\n",
       "    </tr>\n",
       "    <tr>\n",
       "      <th>9752908</th>\n",
       "      <td>2023-07-06 10:00:00+08:00</td>\n",
       "      <td>2023-07-06 10:15:00+08:00</td>\n",
       "      <td>0 days 00:15:00</td>\n",
       "    </tr>\n",
       "    <tr>\n",
       "      <th>9752909</th>\n",
       "      <td>NaT</td>\n",
       "      <td>NaT</td>\n",
       "      <td>NaT</td>\n",
       "    </tr>\n",
       "    <tr>\n",
       "      <th>9752912</th>\n",
       "      <td>2023-07-08 16:00:00+08:00</td>\n",
       "      <td>2023-07-08 16:15:00+08:00</td>\n",
       "      <td>0 days 00:15:00</td>\n",
       "    </tr>\n",
       "    <tr>\n",
       "      <th>9752915</th>\n",
       "      <td>2023-07-20 15:30:33+08:00</td>\n",
       "      <td>2023-07-20 15:45:33+08:00</td>\n",
       "      <td>0 days 00:15:00</td>\n",
       "    </tr>\n",
       "    <tr>\n",
       "      <th>9752917</th>\n",
       "      <td>2023-08-08 16:00:55+08:00</td>\n",
       "      <td>2023-08-08 16:15:55+08:00</td>\n",
       "      <td>0 days 00:15:00</td>\n",
       "    </tr>\n",
       "  </tbody>\n",
       "</table>\n",
       "<p>4089373 rows × 3 columns</p>\n",
       "</div>"
      ],
      "text/plain": [
       "                        StartTime                   EndTime        Duration\n",
       "0                             NaT                       NaT             NaT\n",
       "1       2018-04-09 18:33:00+08:00 2018-04-12 13:29:57+08:00 2 days 18:56:57\n",
       "2       2018-03-31 23:25:00+08:00 2018-04-05 23:51:47+08:00 5 days 00:26:47\n",
       "38                            NaT                       NaT             NaT\n",
       "39      2021-07-07 19:00:00+08:00 2021-07-07 19:15:00+08:00 0 days 00:15:00\n",
       "...                           ...                       ...             ...\n",
       "9752908 2023-07-06 10:00:00+08:00 2023-07-06 10:15:00+08:00 0 days 00:15:00\n",
       "9752909                       NaT                       NaT             NaT\n",
       "9752912 2023-07-08 16:00:00+08:00 2023-07-08 16:15:00+08:00 0 days 00:15:00\n",
       "9752915 2023-07-20 15:30:33+08:00 2023-07-20 15:45:33+08:00 0 days 00:15:00\n",
       "9752917 2023-08-08 16:00:55+08:00 2023-08-08 16:15:55+08:00 0 days 00:15:00\n",
       "\n",
       "[4089373 rows x 3 columns]"
      ]
     },
     "execution_count": 31,
     "metadata": {},
     "output_type": "execute_result"
    }
   ],
   "source": [
    "appointments_df['Duration'] = appointments_df['EndTime'] - appointments_df['StartTime']\n",
    "appointments_df[['StartTime', 'EndTime', 'Duration']]"
   ]
  },
  {
   "cell_type": "code",
   "execution_count": 117,
   "id": "afa36471-baa3-44fd-874e-6b71f1a78bf4",
   "metadata": {},
   "outputs": [
    {
     "data": {
      "text/plain": [
       "Duration\n",
       "0 days 00:15:00    146893\n",
       "0 days 00:30:00     22005\n",
       "0 days 00:10:00      7347\n",
       "0 days 01:00:00      6823\n",
       "0 days 00:20:00      6772\n",
       "                    ...  \n",
       "0 days 00:45:16         1\n",
       "0 days 00:30:14         1\n",
       "0 days 00:30:26         1\n",
       "0 days 00:30:05         1\n",
       "0 days 00:14:47         1\n",
       "Name: count, Length: 249, dtype: int64"
      ]
     },
     "execution_count": 117,
     "metadata": {},
     "output_type": "execute_result"
    }
   ],
   "source": [
    "consultations_df['Duration'].value_counts()"
   ]
  },
  {
   "cell_type": "code",
   "execution_count": 187,
   "id": "1141827d-e799-4d79-8170-35011c176998",
   "metadata": {},
   "outputs": [],
   "source": [
    "# drop rows whose EndTime is earlier than StartTime\n",
    "#appointments_df['Valid'] = np.where(appointments_df['QueueDate'].dt.date == appointments_df['TimeQueued'].dt.date, '1', '0')\n",
    "\n",
    "\n",
    "# Condition  1: QueueDate and TimeQueued are on the same date\n",
    "condition1 = (appointments_df['QueueDate'].dt.date == appointments_df['TimeQueued'].dt.date)\n",
    "\n",
    "# Condition  2: TimeQueued is later than QueueDate and type is 'inpatient'\n",
    "condition2 = ((appointments_df['QueueDate'].dt.date == appointments_df['StartTime'].dt.date)) & (appointments_df['type'] == 'Inpatient')\n",
    "\n",
    "# Use numpy.select to create the 'Valid' column with '1' where conditions are met\n",
    "appointments_df['Valid'] = np.select([condition1, condition2], ['1', '1'], default='0')\n"
   ]
  },
  {
   "cell_type": "code",
   "execution_count": 217,
   "id": "da52e016-1e97-4029-9dfd-bb6347987861",
   "metadata": {},
   "outputs": [
    {
     "data": {
      "text/plain": [
       "status\n",
       "Complete    373140\n",
       "Queued       33867\n",
       "Serving       7062\n",
       "NoShow        5026\n",
       "Cancel        3747\n",
       "Skip          1516\n",
       "Name: count, dtype: int64"
      ]
     },
     "execution_count": 217,
     "metadata": {},
     "output_type": "execute_result"
    }
   ],
   "source": [
    "appointments_df['status'].value_counts()"
   ]
  },
  {
   "cell_type": "code",
   "execution_count": null,
   "id": "3bad3620-9c37-4a61-b5d4-8149508487a8",
   "metadata": {},
   "outputs": [],
   "source": []
  }
 ],
 "metadata": {
  "kernelspec": {
   "display_name": "Python 3 (ipykernel)",
   "language": "python",
   "name": "python3"
  },
  "language_info": {
   "codemirror_mode": {
    "name": "ipython",
    "version": 3
   },
   "file_extension": ".py",
   "mimetype": "text/x-python",
   "name": "python",
   "nbconvert_exporter": "python",
   "pygments_lexer": "ipython3",
   "version": "3.9.5"
  }
 },
 "nbformat": 4,
 "nbformat_minor": 5
}
