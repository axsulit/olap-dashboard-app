{
 "cells": [
  {
   "cell_type": "code",
   "execution_count": 20,
   "id": "4b9e8522-5859-42ea-8452-e62f8f192ec1",
   "metadata": {},
   "outputs": [],
   "source": [
    "import numpy as np\n",
    "import pandas as pd\n",
    "import matplotlib.pyplot as plt\n",
    "import seaborn as sns\n",
    "\n",
    "# sets the theme of the charts\n",
    "plt.style.use('seaborn-v0_8-darkgrid')\n",
    "\n",
    "%matplotlib inline"
   ]
  },
  {
   "cell_type": "code",
   "execution_count": 21,
   "id": "e0f4f1e3-31ba-4be1-b092-85dd125cbed8",
   "metadata": {},
   "outputs": [],
   "source": [
    "# imports the csv files\n",
    "px_df = pd.read_csv('px.csv', low_memory=False)\n",
    "doctors_df = pd.read_csv('doctors.csv', low_memory=False, encoding='unicode_escape')\n",
    "clinics_df = pd.read_csv('clinics.csv', low_memory=False, encoding='unicode_escape')\n",
    "appointments_df = pd.read_csv('appointments.csv', low_memory=False, encoding='unicode_escape')\n",
    "dim_clinics = pd.read_csv('dim_clinics.csv', low_memory=False, encoding='unicode_escape')"
   ]
  },
  {
   "cell_type": "code",
   "execution_count": 22,
   "id": "b2620b7c-2f7c-4557-9242-5d1186e1228c",
   "metadata": {},
   "outputs": [
    {
     "name": "stdout",
     "output_type": "stream",
     "text": [
      "<class 'pandas.core.frame.DataFrame'>\n",
      "RangeIndex: 6507813 entries, 0 to 6507812\n",
      "Data columns (total 3 columns):\n",
      " #   Column  Dtype \n",
      "---  ------  ----- \n",
      " 0   pxid    object\n",
      " 1   age     object\n",
      " 2   gender  object\n",
      "dtypes: object(3)\n",
      "memory usage: 149.0+ MB\n",
      "<class 'pandas.core.frame.DataFrame'>\n",
      "RangeIndex: 60024 entries, 0 to 60023\n",
      "Data columns (total 3 columns):\n",
      " #   Column         Non-Null Count  Dtype  \n",
      "---  ------         --------------  -----  \n",
      " 0   doctorid       60024 non-null  object \n",
      " 1   mainspecialty  27055 non-null  object \n",
      " 2   age            20028 non-null  float64\n",
      "dtypes: float64(1), object(2)\n",
      "memory usage: 1.4+ MB\n",
      "<class 'pandas.core.frame.DataFrame'>\n",
      "RangeIndex: 53962 entries, 0 to 53961\n",
      "Data columns (total 6 columns):\n",
      " #   Column        Non-Null Count  Dtype \n",
      "---  ------        --------------  ----- \n",
      " 0   clinicid      53962 non-null  object\n",
      " 1   hospitalname  17538 non-null  object\n",
      " 2   IsHospital    53962 non-null  bool  \n",
      " 3   City          53962 non-null  object\n",
      " 4   Province      53962 non-null  object\n",
      " 5   RegionName    53962 non-null  object\n",
      "dtypes: bool(1), object(5)\n",
      "memory usage: 2.1+ MB\n",
      "<class 'pandas.core.frame.DataFrame'>\n",
      "RangeIndex: 9752932 entries, 0 to 9752931\n",
      "Data columns (total 11 columns):\n",
      " #   Column      Dtype \n",
      "---  ------      ----- \n",
      " 0   pxid        object\n",
      " 1   clinicid    object\n",
      " 2   doctorid    object\n",
      " 3   apptid      object\n",
      " 4   status      object\n",
      " 5   TimeQueued  object\n",
      " 6   QueueDate   object\n",
      " 7   StartTime   object\n",
      " 8   EndTime     object\n",
      " 9   type        object\n",
      " 10  Virtual     object\n",
      "dtypes: object(11)\n",
      "memory usage: 818.5+ MB\n"
     ]
    }
   ],
   "source": [
    "# checks the content of the csv files\n",
    "px_df.info()\n",
    "doctors_df.info()\n",
    "clinics_df.info()\n",
    "appointments_df.info()"
   ]
  },
  {
   "cell_type": "code",
   "execution_count": 23,
   "id": "ab000f8c-a396-44ec-b930-b8fce4584684",
   "metadata": {},
   "outputs": [
    {
     "data": {
      "text/plain": [
       "0        St. Luke's Medical Center-Global City\n",
       "1                 Our Lady of Lourdes Hospital\n",
       "2                        Makati Medical Center\n",
       "3               Cardinal Santos Medical Center\n",
       "4                                          NaN\n",
       "                         ...                  \n",
       "53957                                      NaN\n",
       "53958                                      NaN\n",
       "53959                                      NaN\n",
       "53960      Malabon Hospital and Medical Center\n",
       "53961                                      NaN\n",
       "Name: hospitalname, Length: 53962, dtype: object"
      ]
     },
     "execution_count": 23,
     "metadata": {},
     "output_type": "execute_result"
    }
   ],
   "source": [
    "dim_clinics['hospitalname']"
   ]
  },
  {
   "cell_type": "code",
   "execution_count": 24,
   "id": "a7b8c71b",
   "metadata": {},
   "outputs": [],
   "source": [
    "# duplicate df\n",
    "dim_clinics_copy = dim_clinics"
   ]
  },
  {
   "cell_type": "code",
   "execution_count": 25,
   "id": "c8af8df1",
   "metadata": {},
   "outputs": [
    {
     "name": "stdout",
     "output_type": "stream",
     "text": [
      "Null values: 36424\n",
      "Null values after: 0\n"
     ]
    }
   ],
   "source": [
    "# check for null values\n",
    "null_clinics = dim_clinics['hospitalname'].isnull().sum()\n",
    "\n",
    "# replace null values with NA\n",
    "dim_clinics_copy['hospitalname'].fillna('NA', inplace=True)\n",
    "null_clinics_after = dim_clinics_copy['hospitalname'].isnull().sum()\n",
    "\n",
    "print(\"Null values:\", null_clinics)\n",
    "print(\"Null values after:\", null_clinics_after)"
   ]
  },
  {
   "cell_type": "code",
   "execution_count": 32,
   "id": "74947c0d",
   "metadata": {},
   "outputs": [
    {
     "data": {
      "text/plain": [
       "array(['Unihealth-ParaÃ\\x83Â\\x83Ã\\x82Â±aque Hospital and Medical Center',\n",
       "       'MCUÃ\\x83Â\\x82Ã\\x82Â\\x96Filemon Dionisio Tanchoco Medical Foundation Hospital',\n",
       "       \"Las PiÃ\\x83Â\\x83Ã\\x82Â±as Doctor's Hospital\",\n",
       "       \"ParaÃ\\x83Â\\x83Ã\\x82Â±aque Doctor's Hospital\",\n",
       "       'Las PiÃ\\x83Â\\x83Ã\\x82Â±as City Medical Center',\n",
       "       'Perpetual Help Hospital BiÃ\\x83Â\\x83Ã\\x82Â±an',\n",
       "       'Ospital ng BiÃ\\x83Â\\x83Ã\\x82Â±an',\n",
       "       'Medical Center ParaÃ\\x83Â\\x83Ã\\x82Â±aque, Inc.',\n",
       "       'Ospital ng ParaÃ\\x83Â\\x83Ã\\x82Â±aque',\n",
       "       'BiÃ\\x83Â\\x83Ã\\x82Â±an Doctors Hospital, Inc.',\n",
       "       'Healthserv Los BaÃ\\x83Â\\x83Ã\\x82Â±os Medical Center',\n",
       "       'Los BaÃ\\x83Â\\x83Ã\\x82Â±os Doctors Hospital, Inc.',\n",
       "       'Las PiÃ\\x83Â\\x83Ã\\x82Â±as General Hospital and Satellite Trauma Center',\n",
       "       'University Health Service-UPLB College, Los BaÃ\\x83Â\\x83Ã\\x82Â±os',\n",
       "       'DasmariÃ\\x83Â\\x83Ã\\x82Â±as City Medical Center',\n",
       "       'Alfredo E. MaraÃ\\x83Â\\x83Ã\\x82Â±on, Sr. Memorial District Hospital',\n",
       "       'ParaÃ\\x83Â\\x83Ã\\x82Â±aque Community Hospital',\n",
       "       'SeÃ\\x83Â\\x83Ã\\x82Â±or Sto. NiÃ\\x83Â\\x83Ã\\x82Â±o Hospital',\n",
       "       'M. NapeÃ\\x83Â\\x83Ã\\x82Â±as Multi-Specialty Hospital',\n",
       "       'La ViÃ\\x83Â\\x83Ã\\x82Â±a General Hospital, Inc.'], dtype=object)"
      ]
     },
     "execution_count": 32,
     "metadata": {},
     "output_type": "execute_result"
    }
   ],
   "source": [
    "# remove trailing whitespace\n",
    "dim_clinics_copy['hospitalname'] = dim_clinics_copy['hospitalname'].str.strip()\n",
    "\n",
    "# check total rows with special characters\n",
    "special_characters = dim_clinics_copy[dim_clinics_copy['hospitalname'].str.contains(r'[^\\x00-\\x7F]+', na=False)]\n",
    "\n",
    "# identify the special characters\n",
    "special_characters['hospitalname'].unique()"
   ]
  },
  {
   "cell_type": "code",
   "execution_count": 35,
   "id": "d4938397",
   "metadata": {},
   "outputs": [
    {
     "data": {
      "text/plain": [
       "array([], dtype=object)"
      ]
     },
     "execution_count": 35,
     "metadata": {},
     "output_type": "execute_result"
    }
   ],
   "source": [
    "# replace special characters with \"n\"\n",
    "dim_clinics_copy['hospitalname'] = dim_clinics_copy['hospitalname'].replace({r'[^\\x00-\\x7F]+':'n'}, regex=True)\n",
    "\n",
    "# identify the special characters\n",
    "special_characters = dim_clinics_copy[dim_clinics_copy['hospitalname'].str.contains(r'[^\\x00-\\x7F]+', na=False)]\n",
    "special_characters['hospitalname'].unique()"
   ]
  },
  {
   "cell_type": "code",
   "execution_count": 40,
   "id": "49ab3cf8",
   "metadata": {},
   "outputs": [],
   "source": [
    "dim_clinics = dim_clinics_copy"
   ]
  },
  {
   "cell_type": "code",
   "execution_count": 42,
   "id": "217e3a78",
   "metadata": {},
   "outputs": [],
   "source": [
    "# export the cleaned data\n",
    "dim_clinics.to_csv('dim_clinics_cleaned.csv', index=False)"
   ]
  }
 ],
 "metadata": {
  "kernelspec": {
   "display_name": "Python 3 (ipykernel)",
   "language": "python",
   "name": "python3"
  },
  "language_info": {
   "codemirror_mode": {
    "name": "ipython",
    "version": 3
   },
   "file_extension": ".py",
   "mimetype": "text/x-python",
   "name": "python",
   "nbconvert_exporter": "python",
   "pygments_lexer": "ipython3",
   "version": "3.10.11"
  }
 },
 "nbformat": 4,
 "nbformat_minor": 5
}
