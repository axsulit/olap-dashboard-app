{
 "cells": [
  {
   "cell_type": "code",
   "execution_count": 1,
   "id": "4b9e8522-5859-42ea-8452-e62f8f192ec1",
   "metadata": {},
   "outputs": [],
   "source": [
    "import numpy as np\n",
    "import pandas as pd\n",
    "import matplotlib.pyplot as plt\n",
    "import seaborn as sns\n",
    "\n",
    "# sets the theme of the charts\n",
    "plt.style.use('seaborn-v0_8-darkgrid')\n",
    "\n",
    "%matplotlib inline"
   ]
  },
  {
   "cell_type": "code",
   "execution_count": 2,
   "id": "e0f4f1e3-31ba-4be1-b092-85dd125cbed8",
   "metadata": {},
   "outputs": [],
   "source": [
    "# imports the csv files\n",
    "px_df = pd.read_csv('px.csv', low_memory=False)\n",
    "doctors_df = pd.read_csv('doctors.csv', low_memory=False, encoding='unicode_escape')\n",
    "clinics_df = pd.read_csv('clinics.csv', low_memory=False, encoding='unicode_escape')\n",
    "appointments_df = pd.read_csv('appointments.csv', low_memory=False, encoding='unicode_escape')"
   ]
  },
  {
   "cell_type": "code",
   "execution_count": 3,
   "id": "b2620b7c-2f7c-4557-9242-5d1186e1228c",
   "metadata": {},
   "outputs": [
    {
     "name": "stdout",
     "output_type": "stream",
     "text": [
      "<class 'pandas.core.frame.DataFrame'>\n",
      "RangeIndex: 6507813 entries, 0 to 6507812\n",
      "Data columns (total 3 columns):\n",
      " #   Column  Dtype \n",
      "---  ------  ----- \n",
      " 0   pxid    object\n",
      " 1   age     object\n",
      " 2   gender  object\n",
      "dtypes: object(3)\n",
      "memory usage: 149.0+ MB\n",
      "<class 'pandas.core.frame.DataFrame'>\n",
      "RangeIndex: 60024 entries, 0 to 60023\n",
      "Data columns (total 3 columns):\n",
      " #   Column         Non-Null Count  Dtype  \n",
      "---  ------         --------------  -----  \n",
      " 0   doctorid       60024 non-null  object \n",
      " 1   mainspecialty  27055 non-null  object \n",
      " 2   age            20028 non-null  float64\n",
      "dtypes: float64(1), object(2)\n",
      "memory usage: 1.4+ MB\n",
      "<class 'pandas.core.frame.DataFrame'>\n",
      "RangeIndex: 53962 entries, 0 to 53961\n",
      "Data columns (total 6 columns):\n",
      " #   Column        Non-Null Count  Dtype \n",
      "---  ------        --------------  ----- \n",
      " 0   clinicid      53962 non-null  object\n",
      " 1   hospitalname  17538 non-null  object\n",
      " 2   IsHospital    53962 non-null  bool  \n",
      " 3   City          53962 non-null  object\n",
      " 4   Province      53962 non-null  object\n",
      " 5   RegionName    53962 non-null  object\n",
      "dtypes: bool(1), object(5)\n",
      "memory usage: 2.1+ MB\n",
      "<class 'pandas.core.frame.DataFrame'>\n",
      "RangeIndex: 9752932 entries, 0 to 9752931\n",
      "Data columns (total 11 columns):\n",
      " #   Column      Dtype \n",
      "---  ------      ----- \n",
      " 0   pxid        object\n",
      " 1   clinicid    object\n",
      " 2   doctorid    object\n",
      " 3   apptid      object\n",
      " 4   status      object\n",
      " 5   TimeQueued  object\n",
      " 6   QueueDate   object\n",
      " 7   StartTime   object\n",
      " 8   EndTime     object\n",
      " 9   type        object\n",
      " 10  Virtual     object\n",
      "dtypes: object(11)\n",
      "memory usage: 818.5+ MB\n"
     ]
    }
   ],
   "source": [
    "# checks the content of the csv files\n",
    "px_df.info()\n",
    "doctors_df.info()\n",
    "clinics_df.info()\n",
    "appointments_df.info()"
   ]
  },
  {
   "cell_type": "markdown",
   "id": "1be51c54",
   "metadata": {},
   "source": [
    "## doctors dataset\n",
    "1. `doctorid`: unique identifiers for doctors\n",
    "2. `mainspecialty`: main specialty of the doctors\n",
    "3. `age`: age of the doctors"
   ]
  },
  {
   "cell_type": "code",
   "execution_count": 4,
   "id": "ab000f8c-a396-44ec-b930-b8fce4584684",
   "metadata": {},
   "outputs": [
    {
     "name": "stdout",
     "output_type": "stream",
     "text": [
      "<class 'pandas.core.frame.DataFrame'>\n",
      "RangeIndex: 60024 entries, 0 to 60023\n",
      "Data columns (total 3 columns):\n",
      " #   Column         Non-Null Count  Dtype  \n",
      "---  ------         --------------  -----  \n",
      " 0   doctorid       60024 non-null  object \n",
      " 1   mainspecialty  27055 non-null  object \n",
      " 2   age            20028 non-null  float64\n",
      "dtypes: float64(1), object(2)\n",
      "memory usage: 1.4+ MB\n"
     ]
    }
   ],
   "source": [
    "doctors_df.info()"
   ]
  },
  {
   "cell_type": "markdown",
   "id": "fe8ea472",
   "metadata": {},
   "source": [
    "`doctorid` data cleaning"
   ]
  },
  {
   "cell_type": "code",
   "execution_count": 6,
   "id": "176ed27d",
   "metadata": {},
   "outputs": [
    {
     "data": {
      "text/plain": [
       "0        AD61AB143223EFBC24C7D2583BE69251\n",
       "1        D09BF41544A3365A46C9077EBB5E35C3\n",
       "2        FBD7939D674997CDB4692D34DE8633C4\n",
       "3        28DD2C7955CE926456240B2FF0100BDE\n",
       "4        35F4A8D465E6E1EDC05F3D8AB658C551\n",
       "                       ...               \n",
       "60019    CD532DBEF6547A66D2138FAB49AA3B94\n",
       "60020    4473D870B5E31FAA40D2C45E1FF6DC27\n",
       "60021    A4F554EB2C0934E7FDE2511E8C1573BA\n",
       "60022    E540A361D93D37A33BB2F55D43DA79D9\n",
       "60023    23BA85862DD19C3550E7C0F0AF84C7ED\n",
       "Name: doctorid, Length: 60024, dtype: object"
      ]
     },
     "execution_count": 6,
     "metadata": {},
     "output_type": "execute_result"
    }
   ],
   "source": [
    "doctors_df['doctorid']"
   ]
  },
  {
   "cell_type": "code",
   "execution_count": 10,
   "id": "49f4812c",
   "metadata": {},
   "outputs": [
    {
     "name": "stdout",
     "output_type": "stream",
     "text": [
      "no. of unique doctor ids: 60024\n",
      "no. of missing values: 0\n",
      "no. of lowercase values: 0\n",
      "no. of non-string values: 0\n"
     ]
    }
   ],
   "source": [
    "# step 1: check for duplicates\n",
    "unique_doctorid_count = doctors_df['doctorid'].nunique()\n",
    "\n",
    "# step 2: check for missing values\n",
    "missing_doctorid = doctors_df['doctorid'].isnull().sum()\n",
    "\n",
    "# step 3: check if values are in capital letters\n",
    "lowercase_doctorid = doctors_df['doctorid'].str.islower().sum()\n",
    "\n",
    "# step 4: check if datatype is consistent\n",
    "nonstring_doctorid = doctors_df['doctorid'].apply(type).ne(str).sum()\n",
    "\n",
    "print(\"no. of unique doctor ids:\", unique_doctorid_count)\n",
    "print(\"no. of missing values:\", missing_doctorid)\n",
    "print(\"no. of lowercase values:\",  lowercase_doctorid)\n",
    "print(\"no. of non-string values:\", nonstring_doctorid)\n"
   ]
  }
 ],
 "metadata": {
  "kernelspec": {
   "display_name": "Python 3 (ipykernel)",
   "language": "python",
   "name": "python3"
  },
  "language_info": {
   "codemirror_mode": {
    "name": "ipython",
    "version": 3
   },
   "file_extension": ".py",
   "mimetype": "text/x-python",
   "name": "python",
   "nbconvert_exporter": "python",
   "pygments_lexer": "ipython3",
   "version": "3.10.11"
  }
 },
 "nbformat": 4,
 "nbformat_minor": 5
}
