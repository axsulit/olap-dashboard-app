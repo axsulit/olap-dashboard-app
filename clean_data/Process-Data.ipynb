{
 "cells": [
  {
   "cell_type": "markdown",
   "id": "042a8b48-a109-4a0c-b2fd-1350aaa6c10d",
   "metadata": {
    "jp-MarkdownHeadingCollapsed": true
   },
   "source": [
    "## SETUP"
   ]
  },
  {
   "cell_type": "code",
   "execution_count": 1,
   "id": "4b9e8522-5859-42ea-8452-e62f8f192ec1",
   "metadata": {},
   "outputs": [],
   "source": [
    "import numpy as np\n",
    "import pandas as pd\n",
    "import matplotlib.pyplot as plt\n",
    "import seaborn as sns\n",
    "import pytz\n",
    "\n",
    "# sets the theme of the charts\n",
    "plt.style.use('seaborn-v0_8-darkgrid')\n",
    "\n",
    "%matplotlib inline"
   ]
  },
  {
   "cell_type": "code",
   "execution_count": 2,
   "id": "e0f4f1e3-31ba-4be1-b092-85dd125cbed8",
   "metadata": {},
   "outputs": [],
   "source": [
    "# imports the csv files\n",
    "appointments_df = pd.read_csv('appointments.csv', low_memory=False, encoding='unicode_escape')"
   ]
  },
  {
   "cell_type": "code",
   "execution_count": 3,
   "id": "2a8eff5b-908c-47bc-ae7a-9d66e1a41892",
   "metadata": {},
   "outputs": [],
   "source": [
    "final_appointments_df = appointments_df"
   ]
  },
  {
   "cell_type": "code",
   "execution_count": 4,
   "id": "6598aa4f-0415-40b5-8995-a44b149e40ee",
   "metadata": {},
   "outputs": [
    {
     "name": "stdout",
     "output_type": "stream",
     "text": [
      "<class 'pandas.core.frame.DataFrame'>\n",
      "RangeIndex: 9752932 entries, 0 to 9752931\n",
      "Data columns (total 11 columns):\n",
      " #   Column      Dtype \n",
      "---  ------      ----- \n",
      " 0   pxid        object\n",
      " 1   clinicid    object\n",
      " 2   doctorid    object\n",
      " 3   apptid      object\n",
      " 4   status      object\n",
      " 5   TimeQueued  object\n",
      " 6   QueueDate   object\n",
      " 7   StartTime   object\n",
      " 8   EndTime     object\n",
      " 9   type        object\n",
      " 10  Virtual     object\n",
      "dtypes: object(11)\n",
      "memory usage: 818.5+ MB\n"
     ]
    }
   ],
   "source": [
    "final_appointments_df.info()"
   ]
  },
  {
   "cell_type": "markdown",
   "id": "789142b6-87b5-4b4a-99f4-fb85bbf214f1",
   "metadata": {},
   "source": [
    "## `id` variables"
   ]
  },
  {
   "cell_type": "markdown",
   "id": "b46d635c-d346-489b-a572-954143feaece",
   "metadata": {
    "jp-MarkdownHeadingCollapsed": true
   },
   "source": [
    "### `pxid` variable"
   ]
  },
  {
   "cell_type": "code",
   "execution_count": 5,
   "id": "ab000f8c-a396-44ec-b930-b8fce4584684",
   "metadata": {},
   "outputs": [
    {
     "data": {
      "text/plain": [
       "0          EF196B348A49FB32DABC9834DC4FAAD9\n",
       "1          EAE3C87D0B33351272F2E9B9B1B56217\n",
       "2          7C5C93809D626CC702D08F33985B2B58\n",
       "3          C300C2B9E0E5D4C46E8093BCDBFA05CA\n",
       "4          B3DBE7F9E4DC33CBC5660E0A923CF8E8\n",
       "                         ...               \n",
       "9752927    2583E761CF4CAB4813AAEAFDAA883CC6\n",
       "9752928    F51E6BF96EA5028AE5F5C01EBF08E3BD\n",
       "9752929    84E3EB4A060096C3702D33F5A52E8B43\n",
       "9752930    2B9F701BED6F68800637ADB7EF4CACE2\n",
       "9752931    2ED01D09EF929AE3CA7564A2CB09DC2C\n",
       "Name: pxid, Length: 9752932, dtype: object"
      ]
     },
     "execution_count": 5,
     "metadata": {},
     "output_type": "execute_result"
    }
   ],
   "source": [
    "# check values of pxid\n",
    "appointments_df['pxid']"
   ]
  },
  {
   "cell_type": "code",
   "execution_count": 6,
   "id": "fc21783f-1c4f-45ea-96b7-8cd3214f0c27",
   "metadata": {},
   "outputs": [
    {
     "data": {
      "text/plain": [
       "array(['EF196B348A49FB32DABC9834DC4FAAD9',\n",
       "       'EAE3C87D0B33351272F2E9B9B1B56217',\n",
       "       '7C5C93809D626CC702D08F33985B2B58', ...,\n",
       "       '84E3EB4A060096C3702D33F5A52E8B43',\n",
       "       '2B9F701BED6F68800637ADB7EF4CACE2',\n",
       "       '2ED01D09EF929AE3CA7564A2CB09DC2C'], dtype=object)"
      ]
     },
     "execution_count": 6,
     "metadata": {},
     "output_type": "execute_result"
    }
   ],
   "source": [
    "# check unique values of pxid\n",
    "appointments_df['pxid'].unique()"
   ]
  },
  {
   "cell_type": "code",
   "execution_count": 7,
   "id": "3b1091f5-9f4c-49be-a592-2539cf9eb332",
   "metadata": {},
   "outputs": [
    {
     "data": {
      "text/plain": [
       "pxid\n",
       "7CB50A8783C05F2788D7AE1EE79A4CF7    1249\n",
       "0761C17912CDEF7AEF25D118E1936D9A     590\n",
       "B4A945E181DE1FFB82D1D18CA9A51687     583\n",
       "B2B657D3C301FFCBFDA0B2ED17E7A5EB     516\n",
       "A2536B80CAD05E14355410332513D550     374\n",
       "                                    ... \n",
       "8AFAF290232A5A2738924D93DEE9DCC7       1\n",
       "31E474891F3CB25A7E5A386E04549375       1\n",
       "CF29CECFA79A3A9C93DF553B7223F4B7       1\n",
       "ABD0DCF0DD4D2581718EF6C945053FBE       1\n",
       "2ED01D09EF929AE3CA7564A2CB09DC2C       1\n",
       "Name: count, Length: 3946064, dtype: int64"
      ]
     },
     "execution_count": 7,
     "metadata": {},
     "output_type": "execute_result"
    }
   ],
   "source": [
    "# check value counts of pxid\n",
    "appointments_df['pxid'].value_counts()"
   ]
  },
  {
   "cell_type": "code",
   "execution_count": 8,
   "id": "3e00f6f1-f26a-45af-9f8b-110c44a2b71c",
   "metadata": {},
   "outputs": [],
   "source": [
    "# check for null values of pxid\n",
    "pxid_count = appointments_df['pxid'].isnull().sum()"
   ]
  },
  {
   "cell_type": "markdown",
   "id": "83b3f27a-619d-463f-b2c2-f9e65860ea83",
   "metadata": {
    "jp-MarkdownHeadingCollapsed": true
   },
   "source": [
    "### `clinicid` variable"
   ]
  },
  {
   "cell_type": "code",
   "execution_count": 9,
   "id": "990b5679-ca80-4ba3-bf9b-c1556a16d835",
   "metadata": {},
   "outputs": [
    {
     "data": {
      "text/plain": [
       "0          ADF7EE2DCF142B0E11888E72B43FCB75\n",
       "1          1E0F65EB20ACBFB27EE05DDC000B50EC\n",
       "2          1E0F65EB20ACBFB27EE05DDC000B50EC\n",
       "3          98C39996BF1543E974747A2549B3107C\n",
       "4          77EE3BC58CE560B86C2B59363281E914\n",
       "                         ...               \n",
       "9752927    CCFC2D538DDFF519D893A6B966A1C4F1\n",
       "9752928    CCFC2D538DDFF519D893A6B966A1C4F1\n",
       "9752929    CCFC2D538DDFF519D893A6B966A1C4F1\n",
       "9752930    CCFC2D538DDFF519D893A6B966A1C4F1\n",
       "9752931    40F4775D64533EE66E3E20AE64228661\n",
       "Name: clinicid, Length: 9752932, dtype: object"
      ]
     },
     "execution_count": 9,
     "metadata": {},
     "output_type": "execute_result"
    }
   ],
   "source": [
    "# check values of clinicid\n",
    "appointments_df['clinicid']"
   ]
  },
  {
   "cell_type": "code",
   "execution_count": 10,
   "id": "6af26979-b453-487f-9a27-79449299d551",
   "metadata": {},
   "outputs": [
    {
     "data": {
      "text/plain": [
       "array(['ADF7EE2DCF142B0E11888E72B43FCB75',\n",
       "       '1E0F65EB20ACBFB27EE05DDC000B50EC',\n",
       "       '98C39996BF1543E974747A2549B3107C', ...,\n",
       "       '772C1C73D4FFE88046A3CDB8772E53EB',\n",
       "       'CCFC2D538DDFF519D893A6B966A1C4F1',\n",
       "       '40F4775D64533EE66E3E20AE64228661'], dtype=object)"
      ]
     },
     "execution_count": 10,
     "metadata": {},
     "output_type": "execute_result"
    }
   ],
   "source": [
    "# check unique values of clinicid\n",
    "appointments_df['clinicid'].unique()"
   ]
  },
  {
   "cell_type": "code",
   "execution_count": 11,
   "id": "eb8e45ee-ffc4-47c3-81b9-cf4f2c84a9c1",
   "metadata": {},
   "outputs": [
    {
     "data": {
      "text/plain": [
       "clinicid\n",
       "7522A10DDF6916ABCCF0163B58CA0543    109517\n",
       "6467C327EAF8940B4DD07A08C63C5E85    102465\n",
       "D7FD83EAF0A5593A190E8E9C8D7ECE84     72096\n",
       "F2B4053221961416D47D497814A8064F     70546\n",
       "A7BF3F5462CC82062E41B3A2262E1A21     57308\n",
       "                                     ...  \n",
       "5B92E4945EB3A04990671A4DA604FF17         1\n",
       "933BD65AC164FA84EBEF0C17AE189B43         1\n",
       "966BC24F56AB8397AB2303E8E4CDB4C7         1\n",
       "86A2587A85BE5C0CC7E8D02F82DF6CC1         1\n",
       "40F4775D64533EE66E3E20AE64228661         1\n",
       "Name: count, Length: 25262, dtype: int64"
      ]
     },
     "execution_count": 11,
     "metadata": {},
     "output_type": "execute_result"
    }
   ],
   "source": [
    "# check value counts of clinicid\n",
    "appointments_df['clinicid'].value_counts()"
   ]
  },
  {
   "cell_type": "code",
   "execution_count": 12,
   "id": "be343974-ebf7-41f8-bde0-e70231a79d6f",
   "metadata": {},
   "outputs": [
    {
     "data": {
      "text/plain": [
       "0"
      ]
     },
     "execution_count": 12,
     "metadata": {},
     "output_type": "execute_result"
    }
   ],
   "source": [
    "# check for null values of clinicid\n",
    "appointments_df['clinicid'].isnull().sum()"
   ]
  },
  {
   "cell_type": "markdown",
   "id": "2f93f1b8-ad3a-470d-b743-3e82adc0ce88",
   "metadata": {
    "jp-MarkdownHeadingCollapsed": true
   },
   "source": [
    "### `doctorid` variable"
   ]
  },
  {
   "cell_type": "code",
   "execution_count": 13,
   "id": "793d74f7-e517-42a9-a7bd-8ca5b3419d6e",
   "metadata": {},
   "outputs": [
    {
     "data": {
      "text/plain": [
       "0          BB04AF0F7ECAEE4AAE62035497DA1387\n",
       "1          82AA4B0AF34C2313A562076992E50AA3\n",
       "2          82AA4B0AF34C2313A562076992E50AA3\n",
       "3          AD61AB143223EFBC24C7D2583BE69251\n",
       "4          AD61AB143223EFBC24C7D2583BE69251\n",
       "                         ...               \n",
       "9752927    B706835DE79A2B4E80506F582AF3676A\n",
       "9752928    B706835DE79A2B4E80506F582AF3676A\n",
       "9752929    B706835DE79A2B4E80506F582AF3676A\n",
       "9752930    B706835DE79A2B4E80506F582AF3676A\n",
       "9752931    B706835DE79A2B4E80506F582AF3676A\n",
       "Name: doctorid, Length: 9752932, dtype: object"
      ]
     },
     "execution_count": 13,
     "metadata": {},
     "output_type": "execute_result"
    }
   ],
   "source": [
    "# check values of doctorid\n",
    "appointments_df['doctorid']"
   ]
  },
  {
   "cell_type": "code",
   "execution_count": 14,
   "id": "85e17b1a-34c5-430e-80fc-667d38d34968",
   "metadata": {},
   "outputs": [
    {
     "data": {
      "text/plain": [
       "array(['BB04AF0F7ECAEE4AAE62035497DA1387',\n",
       "       '82AA4B0AF34C2313A562076992E50AA3',\n",
       "       'AD61AB143223EFBC24C7D2583BE69251', ...,\n",
       "       '69B4FA3BE19BDF400DF34E41B93636A4',\n",
       "       '4FC8ED929E539525E3590F1607718F97',\n",
       "       'B706835DE79A2B4E80506F582AF3676A'], dtype=object)"
      ]
     },
     "execution_count": 14,
     "metadata": {},
     "output_type": "execute_result"
    }
   ],
   "source": [
    "# check unique values of doctorid\n",
    "appointments_df['doctorid'].unique()"
   ]
  },
  {
   "cell_type": "code",
   "execution_count": 15,
   "id": "aded244f-9cef-42be-9b43-89af321888f3",
   "metadata": {},
   "outputs": [
    {
     "data": {
      "text/plain": [
       "doctorid\n",
       "3349958A3E56580D4E415DA345703886    238997\n",
       "4F05D4821FE9967817DEA5A20C4E7B35    133513\n",
       "95177E528F8D6C7C28A5473FD5A471B6    106222\n",
       "9F93557D309F655FF06F109A08DCF7C4     72596\n",
       "852C296DFA59522F563AEF29D8D0ADF6     72453\n",
       "                                     ...  \n",
       "ADF7E293599134777339FDC40DDFA818         1\n",
       "32B127307A606EFFDCC8E51F60A45922         1\n",
       "9903F53EB5F12F84F496530B0DC2526C         1\n",
       "6FB993285D56E6927284FF9B11AC6851         1\n",
       "A381C2C35C9157F6B67FD07D5A200AE1         1\n",
       "Name: count, Length: 10832, dtype: int64"
      ]
     },
     "execution_count": 15,
     "metadata": {},
     "output_type": "execute_result"
    }
   ],
   "source": [
    "# check value counts of doctorid\n",
    "appointments_df['doctorid'].value_counts()"
   ]
  },
  {
   "cell_type": "code",
   "execution_count": 16,
   "id": "248d397d-87dc-4eaf-af5b-2fc17791a285",
   "metadata": {},
   "outputs": [
    {
     "data": {
      "text/plain": [
       "0"
      ]
     },
     "execution_count": 16,
     "metadata": {},
     "output_type": "execute_result"
    }
   ],
   "source": [
    "# check null values of doctorid\n",
    "appointments_df['doctorid'].isnull().sum()"
   ]
  },
  {
   "cell_type": "markdown",
   "id": "b511c31c-139a-4ff9-a574-e7e7bba3a1d1",
   "metadata": {
    "jp-MarkdownHeadingCollapsed": true
   },
   "source": [
    "### `apptid` variable"
   ]
  },
  {
   "cell_type": "code",
   "execution_count": 17,
   "id": "a3cc4970-c56d-444c-b8e3-638c525d6d5b",
   "metadata": {},
   "outputs": [
    {
     "data": {
      "text/plain": [
       "0          C1CC0949B93D00A559F7A0BD38361E80\n",
       "1          6585A31C60A1886FBA1433C50012B504\n",
       "2          7250DCFF615E6580295C7E6ED4322371\n",
       "3          F5BBDCC08E39332F0AC27BB95CF1396A\n",
       "4          55783FB42A02DABC3B2ED239B924DC87\n",
       "                         ...               \n",
       "9752927    215A26E2E5B831D87C41A5C1CC382B1C\n",
       "9752928    E9EB60E3DA311FAE308A2DB53B6CCBAC\n",
       "9752929    EFE2DDFD855E2B4E1C67956CE1CE8A6E\n",
       "9752930    434410208F17F50143E1CE66E4CEF23F\n",
       "9752931    62D462EFFD157E70C4301E555962D44B\n",
       "Name: apptid, Length: 9752932, dtype: object"
      ]
     },
     "execution_count": 17,
     "metadata": {},
     "output_type": "execute_result"
    }
   ],
   "source": [
    "# check values of apptid\n",
    "appointments_df['apptid']"
   ]
  },
  {
   "cell_type": "code",
   "execution_count": 18,
   "id": "3293edf8-521e-448b-b287-86051fb7578c",
   "metadata": {},
   "outputs": [
    {
     "data": {
      "text/plain": [
       "array(['C1CC0949B93D00A559F7A0BD38361E80',\n",
       "       '6585A31C60A1886FBA1433C50012B504',\n",
       "       '7250DCFF615E6580295C7E6ED4322371', ...,\n",
       "       'EFE2DDFD855E2B4E1C67956CE1CE8A6E',\n",
       "       '434410208F17F50143E1CE66E4CEF23F',\n",
       "       '62D462EFFD157E70C4301E555962D44B'], dtype=object)"
      ]
     },
     "execution_count": 18,
     "metadata": {},
     "output_type": "execute_result"
    }
   ],
   "source": [
    "# check unique values of apptid\n",
    "appointments_df['apptid'].unique()"
   ]
  },
  {
   "cell_type": "code",
   "execution_count": 19,
   "id": "4501bcd2-6a7f-45b2-ae39-6d0e3a4aab53",
   "metadata": {},
   "outputs": [
    {
     "data": {
      "text/plain": [
       "apptid\n",
       "C1CC0949B93D00A559F7A0BD38361E80    1\n",
       "F7C605ADA76D7F1CC8C6F74741B0C582    1\n",
       "4E698A1E6BF55AF28BFC1BFD60F8A1EB    1\n",
       "6D3C94EB38F1784D71350CED302D1F22    1\n",
       "EF431FD37AEF6661C3B1412E2D9A13C8    1\n",
       "                                   ..\n",
       "B50B4D1703A101F81F86DAEFC0A3C784    1\n",
       "C4AADFD59C168610BD7A465FA54F492B    1\n",
       "7C87DAD8B177D7C0ABAC3573BC627301    1\n",
       "F8AA2DDF109DB830D01A49808B18F7B6    1\n",
       "62D462EFFD157E70C4301E555962D44B    1\n",
       "Name: count, Length: 9752932, dtype: int64"
      ]
     },
     "execution_count": 19,
     "metadata": {},
     "output_type": "execute_result"
    }
   ],
   "source": [
    "# check value counts of apptid\n",
    "appointments_df['apptid'].value_counts()"
   ]
  },
  {
   "cell_type": "code",
   "execution_count": 20,
   "id": "3df5000d-1b14-48ea-a6d6-50f55083d59e",
   "metadata": {},
   "outputs": [
    {
     "data": {
      "text/plain": [
       "0"
      ]
     },
     "execution_count": 20,
     "metadata": {},
     "output_type": "execute_result"
    }
   ],
   "source": [
    "# check null values of apptid\n",
    "appointments_df['apptid'].isnull().sum()"
   ]
  },
  {
   "cell_type": "markdown",
   "id": "50121d1b-d6f3-46ec-bde1-8cdeb7563b7c",
   "metadata": {},
   "source": [
    "## TO CLEAN"
   ]
  },
  {
   "cell_type": "markdown",
   "id": "255c08b1-0bac-432a-852e-2bff4ebb4ced",
   "metadata": {
    "jp-MarkdownHeadingCollapsed": true
   },
   "source": [
    "### `status` variable"
   ]
  },
  {
   "cell_type": "code",
   "execution_count": 21,
   "id": "3ab94113-1131-446e-b0d0-b6a36848c091",
   "metadata": {},
   "outputs": [
    {
     "data": {
      "text/plain": [
       "0          Complete\n",
       "1            Queued\n",
       "2            Queued\n",
       "3            Queued\n",
       "4            Queued\n",
       "             ...   \n",
       "9752927      Queued\n",
       "9752928      Queued\n",
       "9752929      Queued\n",
       "9752930      Queued\n",
       "9752931      Queued\n",
       "Name: status, Length: 9752932, dtype: object"
      ]
     },
     "execution_count": 21,
     "metadata": {},
     "output_type": "execute_result"
    }
   ],
   "source": [
    "# check values of status\n",
    "appointments_df['status']"
   ]
  },
  {
   "cell_type": "code",
   "execution_count": 22,
   "id": "6d1446b2-583f-487c-b44b-2216ed78200f",
   "metadata": {},
   "outputs": [
    {
     "data": {
      "text/plain": [
       "array(['Complete', 'Queued', 'NoShow', 'Serving', 'Cancel', 'Skip',\n",
       "       'Completed', 'Admitted'], dtype=object)"
      ]
     },
     "execution_count": 22,
     "metadata": {},
     "output_type": "execute_result"
    }
   ],
   "source": [
    "# check unique values of status\n",
    "appointments_df['status'].unique()"
   ]
  },
  {
   "cell_type": "code",
   "execution_count": 23,
   "id": "3d5f9006-5611-4b8b-99fc-65268b9375eb",
   "metadata": {},
   "outputs": [
    {
     "data": {
      "text/plain": [
       "status\n",
       "Complete     6473675\n",
       "Queued       2523855\n",
       "Serving       284774\n",
       "NoShow        230048\n",
       "Cancel        213270\n",
       "Skip           27298\n",
       "Completed         10\n",
       "Admitted           2\n",
       "Name: count, dtype: int64"
      ]
     },
     "execution_count": 23,
     "metadata": {},
     "output_type": "execute_result"
    }
   ],
   "source": [
    "# check count for status since there are two values for 'Complete'\n",
    "appointments_df['status'].value_counts()"
   ]
  },
  {
   "cell_type": "code",
   "execution_count": 24,
   "id": "ecaa5a27-ac49-42f4-afbf-7f8c820917ef",
   "metadata": {},
   "outputs": [
    {
     "name": "stdout",
     "output_type": "stream",
     "text": [
      "status\n",
      "Complete    6473685\n",
      "Queued      2523855\n",
      "Serving      284774\n",
      "NoShow       230048\n",
      "Cancel       213270\n",
      "Skip          27298\n",
      "Admitted          2\n",
      "Name: count, dtype: int64\n"
     ]
    }
   ],
   "source": [
    "# replace Completed with Complete\n",
    "appointments_df['status'] = appointments_df['status'].replace({'Completed': 'Complete'}, regex=True)\n",
    "status_vc = appointments_df['status'].value_counts()\n",
    "print(status_vc)"
   ]
  },
  {
   "cell_type": "code",
   "execution_count": 25,
   "id": "520c1552-352b-432f-aac3-2b346c238f98",
   "metadata": {},
   "outputs": [
    {
     "data": {
      "text/plain": [
       "0"
      ]
     },
     "execution_count": 25,
     "metadata": {},
     "output_type": "execute_result"
    }
   ],
   "source": [
    "# check null values of status\n",
    "appointments_df['status'].isnull().sum()"
   ]
  },
  {
   "cell_type": "markdown",
   "id": "9bb3daa4-f521-4ae8-b30c-ba5b70577547",
   "metadata": {
    "jp-MarkdownHeadingCollapsed": true
   },
   "source": [
    "### `QueueDate` variable"
   ]
  },
  {
   "cell_type": "code",
   "execution_count": 26,
   "id": "8b0a4124-6355-463a-8e12-0c7b79038ef4",
   "metadata": {},
   "outputs": [
    {
     "data": {
      "text/plain": [
       "0          2018-04-10 16:00:00\n",
       "1          2018-04-08 16:00:00\n",
       "2          2018-03-30 16:00:00\n",
       "3                          NaN\n",
       "4                          NaN\n",
       "                  ...         \n",
       "9752927    2023-11-22 16:00:00\n",
       "9752928    2023-12-04 16:00:00\n",
       "9752929    2024-01-03 16:00:00\n",
       "9752930    2024-01-12 16:00:00\n",
       "9752931    2024-01-03 16:00:00\n",
       "Name: QueueDate, Length: 9752932, dtype: object"
      ]
     },
     "execution_count": 26,
     "metadata": {},
     "output_type": "execute_result"
    }
   ],
   "source": [
    "# check values of QueueDate\n",
    "appointments_df['QueueDate']"
   ]
  },
  {
   "cell_type": "code",
   "execution_count": 27,
   "id": "fc23053b-08d8-4dc9-b75f-cb0f2e6b70c6",
   "metadata": {},
   "outputs": [],
   "source": [
    "# convert to datetime data type\n",
    "appointments_df['QueueDate'] = pd.to_datetime(appointments_df['QueueDate'], format='mixed', errors='coerce')"
   ]
  },
  {
   "cell_type": "code",
   "execution_count": 28,
   "id": "f5801457-93af-4613-b277-5297e92254a6",
   "metadata": {},
   "outputs": [],
   "source": [
    "appointments_df['QueueDate'] = appointments_df['QueueDate'].dt.floor('s')"
   ]
  },
  {
   "cell_type": "code",
   "execution_count": 29,
   "id": "88a45f6a-42ac-43c3-b18c-3367cd24a590",
   "metadata": {},
   "outputs": [
    {
     "data": {
      "text/plain": [
       "99"
      ]
     },
     "execution_count": 29,
     "metadata": {},
     "output_type": "execute_result"
    }
   ],
   "source": [
    "# check null values of QueueDate\n",
    "appointments_df['QueueDate'].isnull().sum()"
   ]
  },
  {
   "cell_type": "code",
   "execution_count": 30,
   "id": "51ca1bf1-1574-47e0-bd72-651246472587",
   "metadata": {},
   "outputs": [],
   "source": [
    "# drop rows that have invalid Queuedate\n",
    "appointments_df = appointments_df.dropna(subset=['QueueDate'])"
   ]
  },
  {
   "cell_type": "code",
   "execution_count": 31,
   "id": "ed1771a8-a672-43af-8ae4-e84b6e040025",
   "metadata": {},
   "outputs": [
    {
     "name": "stderr",
     "output_type": "stream",
     "text": [
      "C:\\Users\\aizur\\AppData\\Local\\Temp\\ipykernel_21088\\2623430957.py:4: SettingWithCopyWarning: \n",
      "A value is trying to be set on a copy of a slice from a DataFrame.\n",
      "Try using .loc[row_indexer,col_indexer] = value instead\n",
      "\n",
      "See the caveats in the documentation: https://pandas.pydata.org/pandas-docs/stable/user_guide/indexing.html#returning-a-view-versus-a-copy\n",
      "  appointments_df['QueueDate'] = appointments_df['QueueDate'].dt.tz_localize('UTC').dt.tz_convert(asian_tz)\n"
     ]
    }
   ],
   "source": [
    "# Set the timezone to GMT+8 (Asia/Singapore)\n",
    "asian_tz = pytz.timezone('Asia/Singapore')\n",
    "# Convert the 'QueueDate' column to the new timezone\n",
    "appointments_df['QueueDate'] = appointments_df['QueueDate'].dt.tz_localize('UTC').dt.tz_convert(asian_tz)"
   ]
  },
  {
   "cell_type": "markdown",
   "id": "31fe6f52-92d5-4421-9d6d-c974d5ad9538",
   "metadata": {
    "jp-MarkdownHeadingCollapsed": true
   },
   "source": [
    "### `TimeQueued` variable"
   ]
  },
  {
   "cell_type": "code",
   "execution_count": 32,
   "id": "22bf1593-1ecc-41f8-9950-ca217815f8ce",
   "metadata": {},
   "outputs": [
    {
     "data": {
      "text/plain": [
       "0                    2018-04-11 01:59:58\n",
       "1                    2018-04-10 10:34:16\n",
       "2                    2018-04-03 15:26:19\n",
       "21         2020-08-03 02:05:14.693000000\n",
       "22         2020-08-07 04:39:30.713000000\n",
       "                       ...              \n",
       "9752927    2023-11-20 00:34:25.337000000\n",
       "9752928    2023-12-05 07:51:25.443000000\n",
       "9752929    2024-01-04 06:11:06.437000000\n",
       "9752930    2024-01-13 06:12:54.737000000\n",
       "9752931    2024-01-04 00:45:05.063000000\n",
       "Name: TimeQueued, Length: 9752833, dtype: object"
      ]
     },
     "execution_count": 32,
     "metadata": {},
     "output_type": "execute_result"
    }
   ],
   "source": [
    "# check values of TimeQueued\n",
    "appointments_df['TimeQueued']"
   ]
  },
  {
   "cell_type": "code",
   "execution_count": 33,
   "id": "eb36e9e1-7594-409f-b593-4b8b4feae3f0",
   "metadata": {},
   "outputs": [
    {
     "name": "stderr",
     "output_type": "stream",
     "text": [
      "C:\\Users\\aizur\\AppData\\Local\\Temp\\ipykernel_21088\\2290302318.py:2: SettingWithCopyWarning: \n",
      "A value is trying to be set on a copy of a slice from a DataFrame.\n",
      "Try using .loc[row_indexer,col_indexer] = value instead\n",
      "\n",
      "See the caveats in the documentation: https://pandas.pydata.org/pandas-docs/stable/user_guide/indexing.html#returning-a-view-versus-a-copy\n",
      "  appointments_df['TimeQueued'] = pd.to_datetime(appointments_df['TimeQueued'], format='mixed', errors='coerce')\n"
     ]
    }
   ],
   "source": [
    "# convert to datetime data type\n",
    "appointments_df['TimeQueued'] = pd.to_datetime(appointments_df['TimeQueued'], format='mixed', errors='coerce')"
   ]
  },
  {
   "cell_type": "code",
   "execution_count": 34,
   "id": "953df4a9-d5f3-42d5-9154-e31feab9e069",
   "metadata": {},
   "outputs": [
    {
     "name": "stderr",
     "output_type": "stream",
     "text": [
      "C:\\Users\\aizur\\AppData\\Local\\Temp\\ipykernel_21088\\2897577045.py:1: SettingWithCopyWarning: \n",
      "A value is trying to be set on a copy of a slice from a DataFrame.\n",
      "Try using .loc[row_indexer,col_indexer] = value instead\n",
      "\n",
      "See the caveats in the documentation: https://pandas.pydata.org/pandas-docs/stable/user_guide/indexing.html#returning-a-view-versus-a-copy\n",
      "  appointments_df['TimeQueued'] = appointments_df['TimeQueued'].dt.floor('s')\n"
     ]
    }
   ],
   "source": [
    "appointments_df['TimeQueued'] = appointments_df['TimeQueued'].dt.floor('s')"
   ]
  },
  {
   "cell_type": "code",
   "execution_count": 35,
   "id": "3dcab03b-b282-4681-a6a5-a9d6c8850fa4",
   "metadata": {},
   "outputs": [
    {
     "data": {
      "text/plain": [
       "0"
      ]
     },
     "execution_count": 35,
     "metadata": {},
     "output_type": "execute_result"
    }
   ],
   "source": [
    "# check null values of TimeQueued\n",
    "appointments_df['TimeQueued'].isnull().sum()"
   ]
  },
  {
   "cell_type": "code",
   "execution_count": 36,
   "id": "6aacbd88-eefb-4016-9910-aaa9f1bdaf25",
   "metadata": {},
   "outputs": [],
   "source": [
    "# drop rows that have invalid TimeQueued\n",
    "appointments_df = appointments_df.dropna(subset=['TimeQueued'])"
   ]
  },
  {
   "cell_type": "code",
   "execution_count": 37,
   "id": "1723a270-efe0-45eb-86f6-b1a04340796f",
   "metadata": {},
   "outputs": [],
   "source": [
    "# Set the timezone to GMT+8 (Asia/Singapore)\n",
    "asian_tz = pytz.timezone('Asia/Singapore')\n",
    "\n",
    "# Convert the 'QueueDate' column to the new timezone\n",
    "appointments_df['TimeQueued'] = appointments_df['TimeQueued'].dt.tz_localize('UTC').dt.tz_convert(asian_tz)"
   ]
  },
  {
   "cell_type": "code",
   "execution_count": 38,
   "id": "908a9052-819b-441b-8615-31dff6149f21",
   "metadata": {},
   "outputs": [
    {
     "data": {
      "text/plain": [
       "3606012"
      ]
     },
     "execution_count": 38,
     "metadata": {},
     "output_type": "execute_result"
    }
   ],
   "source": [
    "len(appointments_df.loc[appointments_df['TimeQueued'] < appointments_df['QueueDate'], 'TimeQueued'])"
   ]
  },
  {
   "cell_type": "code",
   "execution_count": 39,
   "id": "e41e046e-502f-4443-a937-88449a111c7f",
   "metadata": {},
   "outputs": [],
   "source": [
    "# drop rows whose timequeued is earlier than Queue Date\n",
    "appointments_df.loc[appointments_df['TimeQueued'] < appointments_df['QueueDate'], 'TimeQueued'] = pd.NaT\n",
    "appointments_df = appointments_df.dropna(subset=['TimeQueued'])"
   ]
  },
  {
   "cell_type": "markdown",
   "id": "b875726f-e4d6-4db3-96f8-fdfa0c6500d0",
   "metadata": {
    "jp-MarkdownHeadingCollapsed": true
   },
   "source": [
    "### `StartTime` variable"
   ]
  },
  {
   "cell_type": "code",
   "execution_count": 40,
   "id": "b914bd66-7dca-4f40-b5c7-ede44287efe1",
   "metadata": {},
   "outputs": [
    {
     "data": {
      "text/plain": [
       "0                          NaN\n",
       "1          2018-04-09 10:33:00\n",
       "2          2018-03-31 15:25:00\n",
       "27                         NaN\n",
       "29         2021-02-03 05:30:00\n",
       "                  ...         \n",
       "9752926                    NaN\n",
       "9752928                    NaN\n",
       "9752929    2024-01-04 08:00:00\n",
       "9752930    2024-01-13 08:00:00\n",
       "9752931    2024-01-04 02:30:00\n",
       "Name: StartTime, Length: 6146821, dtype: object"
      ]
     },
     "execution_count": 40,
     "metadata": {},
     "output_type": "execute_result"
    }
   ],
   "source": [
    "# check values of StartTime\n",
    "appointments_df['StartTime']"
   ]
  },
  {
   "cell_type": "code",
   "execution_count": 41,
   "id": "e05ac944-aeed-40bf-9db0-bea2384b8778",
   "metadata": {},
   "outputs": [],
   "source": [
    "# convert to datetime data type\n",
    "appointments_df['StartTime'] = pd.to_datetime(appointments_df['StartTime'], format='mixed', errors='coerce')"
   ]
  },
  {
   "cell_type": "code",
   "execution_count": 42,
   "id": "9632cc78-56df-42e0-bf97-46e77b1b8210",
   "metadata": {},
   "outputs": [],
   "source": [
    "appointments_df['StartTime'] = appointments_df['StartTime'].dt.floor('s')"
   ]
  },
  {
   "cell_type": "code",
   "execution_count": 43,
   "id": "5f892ded-8c69-43e4-aff4-4e1899cbd8cd",
   "metadata": {},
   "outputs": [
    {
     "data": {
      "text/plain": [
       "4258586"
      ]
     },
     "execution_count": 43,
     "metadata": {},
     "output_type": "execute_result"
    }
   ],
   "source": [
    "# check null values of StartTime\n",
    "appointments_df['StartTime'].isnull().sum()"
   ]
  },
  {
   "cell_type": "code",
   "execution_count": 44,
   "id": "1ff3e97b-8b20-4aa9-8354-d56b8a4292d1",
   "metadata": {},
   "outputs": [],
   "source": [
    "# drop rows that have invalid TimeQueued\n",
    "appointments_df = appointments_df.dropna(subset=['StartTime'])"
   ]
  },
  {
   "cell_type": "code",
   "execution_count": 45,
   "id": "d24601a6-de6d-4596-8ba0-047303d71a04",
   "metadata": {},
   "outputs": [],
   "source": [
    "# Set the timezone to GMT+8 (Asia/Singapore)\n",
    "asian_tz = pytz.timezone('Asia/Singapore')\n",
    "\n",
    "# Convert the 'QueueDate' column to the new timezone\n",
    "appointments_df['StartTime'] = appointments_df['StartTime'].dt.tz_localize('UTC').dt.tz_convert(asian_tz)"
   ]
  },
  {
   "cell_type": "code",
   "execution_count": 46,
   "id": "c173c907-8df1-4d00-8653-8cfa5179a701",
   "metadata": {},
   "outputs": [],
   "source": [
    "# drop rows whose StartTime is earlier than TimeQueued\n",
    "appointments_df.loc[appointments_df['StartTime'] < appointments_df['TimeQueued'], 'StartTime'] = pd.NaT\n",
    "appointments_df = appointments_df.dropna(subset=['StartTime'])"
   ]
  },
  {
   "cell_type": "markdown",
   "id": "3269e99e-3a20-4f08-8e54-a551dd0a9c83",
   "metadata": {
    "jp-MarkdownHeadingCollapsed": true
   },
   "source": [
    "### `EndTime` variable"
   ]
  },
  {
   "cell_type": "code",
   "execution_count": 47,
   "id": "0680be02-c383-44a0-a514-f2b44719af50",
   "metadata": {},
   "outputs": [
    {
     "data": {
      "text/plain": [
       "29         2021-02-03 05:45:00\n",
       "32         2021-05-04 11:15:00\n",
       "34         2021-05-19 05:30:00\n",
       "35         2021-05-19 05:15:00\n",
       "36         2021-06-02 11:15:00\n",
       "                  ...         \n",
       "9752921    2023-11-11 07:45:00\n",
       "9752925    2023-11-14 08:30:00\n",
       "9752929    2024-01-04 08:15:00\n",
       "9752930    2024-01-13 08:15:00\n",
       "9752931    2024-01-04 02:45:00\n",
       "Name: EndTime, Length: 1247946, dtype: object"
      ]
     },
     "execution_count": 47,
     "metadata": {},
     "output_type": "execute_result"
    }
   ],
   "source": [
    "# check values of EndTime\n",
    "appointments_df['EndTime']"
   ]
  },
  {
   "cell_type": "code",
   "execution_count": 48,
   "id": "cf0cba19-29c2-4d18-af21-67a39c738baf",
   "metadata": {},
   "outputs": [],
   "source": [
    "# convert to datetime data type\n",
    "appointments_df['EndTime'] = pd.to_datetime(appointments_df['EndTime'], format='mixed', errors='coerce')"
   ]
  },
  {
   "cell_type": "code",
   "execution_count": 49,
   "id": "d096fbf0-b64d-4e21-b908-47ba75255a34",
   "metadata": {},
   "outputs": [],
   "source": [
    "appointments_df['EndTime'] = appointments_df['EndTime'].dt.floor('s')"
   ]
  },
  {
   "cell_type": "code",
   "execution_count": 50,
   "id": "7a032e0e-41b2-4c2f-a397-d343d2b21f32",
   "metadata": {},
   "outputs": [
    {
     "data": {
      "text/plain": [
       "149353"
      ]
     },
     "execution_count": 50,
     "metadata": {},
     "output_type": "execute_result"
    }
   ],
   "source": [
    "# check null values of EndTime\n",
    "appointments_df['EndTime'].isnull().sum()"
   ]
  },
  {
   "cell_type": "code",
   "execution_count": 51,
   "id": "34ccac18-9fbb-4366-992d-76654e5f05bd",
   "metadata": {},
   "outputs": [],
   "source": [
    "# drop rows that have invalid TimeQueued\n",
    "appointments_df = appointments_df.dropna(subset=['EndTime'])"
   ]
  },
  {
   "cell_type": "code",
   "execution_count": 52,
   "id": "1c5c6aae-2f47-4f17-ada5-af6016cdc531",
   "metadata": {},
   "outputs": [],
   "source": [
    "# Set the timezone to GMT+8 (Asia/Singapore)\n",
    "asian_tz = pytz.timezone('Asia/Singapore')\n",
    "\n",
    "# Convert the 'QueueDate' column to the new timezone\n",
    "appointments_df['EndTime'] = appointments_df['EndTime'].dt.tz_localize('UTC').dt.tz_convert(asian_tz)"
   ]
  },
  {
   "cell_type": "code",
   "execution_count": 53,
   "id": "bd531dee-bb91-4437-b909-f7ea8657ec87",
   "metadata": {},
   "outputs": [],
   "source": [
    "# drop rows whose EndTime is earlier than StartTime\n",
    "appointments_df['InvalidDuration'] = np.where(appointments_df['EndTime'] < appointments_df['StartTime'], 'Invalid', 'ok')\n",
    "appointments_df = appointments_df[appointments_df['InvalidDuration'] != 'Invalid']\n",
    "appointments_df = appointments_df.drop(columns=['InvalidDuration'])"
   ]
  },
  {
   "cell_type": "code",
   "execution_count": 54,
   "id": "9d3b3016-59a8-4686-98a0-ff9cb0975131",
   "metadata": {},
   "outputs": [],
   "source": [
    "#drop rows where status is complete but there is no endtime\n",
    "mask = (appointments_df['status'] == 'Complete') & (appointments_df['EndTime'].isna())\n",
    "appointments_df = appointments_df[~mask]"
   ]
  },
  {
   "cell_type": "code",
   "execution_count": 55,
   "id": "7af71ee9-76e9-4a7d-ac66-7902ee8409a3",
   "metadata": {},
   "outputs": [],
   "source": [
    "# drop rows where type is consultation and there is no end time\n",
    "mask = (appointments_df['type'] == 'Consultation') & (appointments_df['EndTime'].isna())\n",
    "appointments_df = appointments_df[~mask]"
   ]
  },
  {
   "cell_type": "markdown",
   "id": "8916a120-8717-4b3e-95ae-c6184e697918",
   "metadata": {
    "jp-MarkdownHeadingCollapsed": true
   },
   "source": [
    "### `type` variable"
   ]
  },
  {
   "cell_type": "code",
   "execution_count": 56,
   "id": "6a83d793-2586-4284-8af7-ca68a11c4535",
   "metadata": {},
   "outputs": [
    {
     "data": {
      "text/plain": [
       "29         Consultation\n",
       "32         Consultation\n",
       "34         Consultation\n",
       "35         Consultation\n",
       "36         Consultation\n",
       "               ...     \n",
       "9752921    Consultation\n",
       "9752925    Consultation\n",
       "9752929    Consultation\n",
       "9752930    Consultation\n",
       "9752931    Consultation\n",
       "Name: type, Length: 1098153, dtype: object"
      ]
     },
     "execution_count": 56,
     "metadata": {},
     "output_type": "execute_result"
    }
   ],
   "source": [
    "# check values of type\n",
    "appointments_df['type']"
   ]
  },
  {
   "cell_type": "code",
   "execution_count": 57,
   "id": "f90437d5-1464-43e4-a9ea-669be5dff986",
   "metadata": {},
   "outputs": [
    {
     "data": {
      "text/plain": [
       "array(['Consultation', 'Inpatient'], dtype=object)"
      ]
     },
     "execution_count": 57,
     "metadata": {},
     "output_type": "execute_result"
    }
   ],
   "source": [
    "# check unique values of type\n",
    "appointments_df['type'].unique()"
   ]
  },
  {
   "cell_type": "code",
   "execution_count": 58,
   "id": "8c0d03a4-c0eb-436d-82e3-f5f951d70933",
   "metadata": {},
   "outputs": [
    {
     "name": "stdout",
     "output_type": "stream",
     "text": [
      "type\n",
      "Consultation    1094548\n",
      "Inpatient          3605\n",
      "Name: count, dtype: int64\n"
     ]
    }
   ],
   "source": [
    "type_vc = appointments_df['type'].value_counts()\n",
    "print(type_vc)"
   ]
  },
  {
   "cell_type": "code",
   "execution_count": 59,
   "id": "eebbd13b-fbbb-424c-a779-c79a924813db",
   "metadata": {},
   "outputs": [
    {
     "data": {
      "text/plain": [
       "0"
      ]
     },
     "execution_count": 59,
     "metadata": {},
     "output_type": "execute_result"
    }
   ],
   "source": [
    "# check null values of type\n",
    "appointments_df['type'].isnull().sum()"
   ]
  },
  {
   "cell_type": "markdown",
   "id": "b0a84da7-f652-4410-80a2-29f84c5e2077",
   "metadata": {
    "jp-MarkdownHeadingCollapsed": true
   },
   "source": [
    "### `Virtual` variable"
   ]
  },
  {
   "cell_type": "code",
   "execution_count": 60,
   "id": "6e53d58c-b0c0-492c-be11-bb219ea41d42",
   "metadata": {},
   "outputs": [
    {
     "data": {
      "text/plain": [
       "29          True\n",
       "32          True\n",
       "34         False\n",
       "35         False\n",
       "36          True\n",
       "           ...  \n",
       "9752921    False\n",
       "9752925    False\n",
       "9752929    False\n",
       "9752930    False\n",
       "9752931    False\n",
       "Name: Virtual, Length: 1098153, dtype: object"
      ]
     },
     "execution_count": 60,
     "metadata": {},
     "output_type": "execute_result"
    }
   ],
   "source": [
    "# check values of Virtual\n",
    "appointments_df['Virtual']"
   ]
  },
  {
   "cell_type": "code",
   "execution_count": 61,
   "id": "4be47a7a-a264-46f4-ab3f-878202126a76",
   "metadata": {},
   "outputs": [
    {
     "data": {
      "text/plain": [
       "array([True, False, nan], dtype=object)"
      ]
     },
     "execution_count": 61,
     "metadata": {},
     "output_type": "execute_result"
    }
   ],
   "source": [
    "# check unique values of Virtual\n",
    "appointments_df['Virtual'].unique()"
   ]
  },
  {
   "cell_type": "code",
   "execution_count": 62,
   "id": "8796ca80-ef03-42c7-85c6-ff14f2f539fa",
   "metadata": {},
   "outputs": [
    {
     "name": "stdout",
     "output_type": "stream",
     "text": [
      "Virtual\n",
      "False    549344\n",
      "True     459630\n",
      "Name: count, dtype: int64\n"
     ]
    }
   ],
   "source": [
    "virtual_vc = appointments_df['Virtual'].value_counts()\n",
    "print(virtual_vc)"
   ]
  },
  {
   "cell_type": "code",
   "execution_count": 63,
   "id": "512626f4-1b1c-4b7f-ad08-a8b07ebdc0d1",
   "metadata": {},
   "outputs": [
    {
     "data": {
      "text/plain": [
       "89179"
      ]
     },
     "execution_count": 63,
     "metadata": {},
     "output_type": "execute_result"
    }
   ],
   "source": [
    "# check null values of Virtual\n",
    "appointments_df['Virtual'].isnull().sum()"
   ]
  },
  {
   "cell_type": "code",
   "execution_count": 64,
   "id": "ba138b5c-1d02-40a2-a254-a0dc8d30c4a3",
   "metadata": {},
   "outputs": [],
   "source": [
    "# all inpatient appointments are set to False\n",
    "appointments_df.loc[appointments_df['type'] == 'Inpatient', 'Virtual'] = False"
   ]
  },
  {
   "cell_type": "code",
   "execution_count": 65,
   "id": "45d83ca7-a4ef-45bb-9c18-656f5394da7b",
   "metadata": {},
   "outputs": [],
   "source": [
    "# drop all rows where Virtual == NaN\n",
    "appointments_df = appointments_df.dropna(subset=['Virtual'])"
   ]
  },
  {
   "cell_type": "code",
   "execution_count": 66,
   "id": "12973279-878f-4a86-84b5-ca55f73942b3",
   "metadata": {},
   "outputs": [],
   "source": [
    "# Select the column you want to export\n",
    "selected_column = final_appointments_df\n",
    "\n",
    "# Write the selected column to a new CSV file\n",
    "selected_column.to_csv('final-appointments.csv', index=False)"
   ]
  },
  {
   "cell_type": "markdown",
   "id": "09a8d105-ec00-4cd0-b3a3-c28b85e1fb99",
   "metadata": {},
   "source": [
    "## Transforming Data"
   ]
  },
  {
   "cell_type": "code",
   "execution_count": 67,
   "id": "c7d5b873-0118-47ce-9a09-04f1fd911027",
   "metadata": {},
   "outputs": [],
   "source": [
    "# Initialize new tables based on schema\n",
    "fact_appointments = pd.DataFrame()\n",
    "\n",
    "dim_status = pd.DataFrame()\n",
    "dim_appt_type = pd.DataFrame()\n",
    "dim_schedule = pd.DataFrame()\n",
    "dim_queue = pd.DataFrame()\n",
    "\n",
    "dim_doctors = pd.DataFrame()\n",
    "dim_specialty = pd.DataFrame()\n",
    "\n",
    "dim_clinics = pd.DataFrame()\n",
    "dim_locations = pd.DataFrame()"
   ]
  },
  {
   "cell_type": "markdown",
   "id": "c44d6f56-caae-448d-bd65-a0bdd426579d",
   "metadata": {},
   "source": [
    "### appointments"
   ]
  },
  {
   "cell_type": "code",
   "execution_count": 68,
   "id": "997a46d9-14f2-40ee-8eb3-b418c2360661",
   "metadata": {},
   "outputs": [
    {
     "name": "stdout",
     "output_type": "stream",
     "text": [
      "<class 'pandas.core.frame.DataFrame'>\n",
      "RangeIndex: 9752932 entries, 0 to 9752931\n",
      "Data columns (total 11 columns):\n",
      " #   Column      Dtype \n",
      "---  ------      ----- \n",
      " 0   pxid        object\n",
      " 1   clinicid    object\n",
      " 2   doctorid    object\n",
      " 3   apptid      object\n",
      " 4   status      object\n",
      " 5   TimeQueued  object\n",
      " 6   QueueDate   object\n",
      " 7   StartTime   object\n",
      " 8   EndTime     object\n",
      " 9   type        object\n",
      " 10  Virtual     object\n",
      "dtypes: object(11)\n",
      "memory usage: 818.5+ MB\n"
     ]
    }
   ],
   "source": [
    "appointments_df = pd.read_csv('final-appointments.csv', low_memory=False, encoding='unicode_escape')\n",
    "appointments_df.info()"
   ]
  },
  {
   "cell_type": "code",
   "execution_count": 69,
   "id": "542ec1a5-730f-4e30-99a8-5d585c868fc2",
   "metadata": {},
   "outputs": [
    {
     "data": {
      "text/html": [
       "<div>\n",
       "<style scoped>\n",
       "    .dataframe tbody tr th:only-of-type {\n",
       "        vertical-align: middle;\n",
       "    }\n",
       "\n",
       "    .dataframe tbody tr th {\n",
       "        vertical-align: top;\n",
       "    }\n",
       "\n",
       "    .dataframe thead th {\n",
       "        text-align: right;\n",
       "    }\n",
       "</style>\n",
       "<table border=\"1\" class=\"dataframe\">\n",
       "  <thead>\n",
       "    <tr style=\"text-align: right;\">\n",
       "      <th></th>\n",
       "      <th>apptid</th>\n",
       "      <th>pxid</th>\n",
       "      <th>clinicid</th>\n",
       "      <th>doctorid</th>\n",
       "      <th>StatusId</th>\n",
       "      <th>QueueId</th>\n",
       "      <th>ScheduleId</th>\n",
       "      <th>TypeId</th>\n",
       "      <th>Virtual</th>\n",
       "    </tr>\n",
       "  </thead>\n",
       "  <tbody>\n",
       "    <tr>\n",
       "      <th>0</th>\n",
       "      <td>C1CC0949B93D00A559F7A0BD38361E80</td>\n",
       "      <td>EF196B348A49FB32DABC9834DC4FAAD9</td>\n",
       "      <td>ADF7EE2DCF142B0E11888E72B43FCB75</td>\n",
       "      <td>BB04AF0F7ECAEE4AAE62035497DA1387</td>\n",
       "      <td>1</td>\n",
       "      <td>6A9B439717D24DB2B61E6642092822EA</td>\n",
       "      <td>01B609720B994FD38FE6077A6AF79B1C</td>\n",
       "      <td>1</td>\n",
       "      <td>NaN</td>\n",
       "    </tr>\n",
       "    <tr>\n",
       "      <th>1</th>\n",
       "      <td>6585A31C60A1886FBA1433C50012B504</td>\n",
       "      <td>EAE3C87D0B33351272F2E9B9B1B56217</td>\n",
       "      <td>1E0F65EB20ACBFB27EE05DDC000B50EC</td>\n",
       "      <td>82AA4B0AF34C2313A562076992E50AA3</td>\n",
       "      <td>2</td>\n",
       "      <td>8FE220888867463D8279D553B7BB1AAC</td>\n",
       "      <td>D332639EDF0343F2A74A9C45EB854744</td>\n",
       "      <td>2</td>\n",
       "      <td>NaN</td>\n",
       "    </tr>\n",
       "    <tr>\n",
       "      <th>2</th>\n",
       "      <td>7250DCFF615E6580295C7E6ED4322371</td>\n",
       "      <td>7C5C93809D626CC702D08F33985B2B58</td>\n",
       "      <td>1E0F65EB20ACBFB27EE05DDC000B50EC</td>\n",
       "      <td>82AA4B0AF34C2313A562076992E50AA3</td>\n",
       "      <td>2</td>\n",
       "      <td>0EA19F881E6A4D2A92D992175024E4EA</td>\n",
       "      <td>D765916B91DD4ADFA7B93B0DDEE8B03D</td>\n",
       "      <td>2</td>\n",
       "      <td>NaN</td>\n",
       "    </tr>\n",
       "    <tr>\n",
       "      <th>3</th>\n",
       "      <td>F5BBDCC08E39332F0AC27BB95CF1396A</td>\n",
       "      <td>C300C2B9E0E5D4C46E8093BCDBFA05CA</td>\n",
       "      <td>98C39996BF1543E974747A2549B3107C</td>\n",
       "      <td>AD61AB143223EFBC24C7D2583BE69251</td>\n",
       "      <td>2</td>\n",
       "      <td>4BA18F2EB78A41618CE2C2172F0350BA</td>\n",
       "      <td>2427B0E00FF7476084A588445638B3F3</td>\n",
       "      <td>1</td>\n",
       "      <td>NaN</td>\n",
       "    </tr>\n",
       "    <tr>\n",
       "      <th>4</th>\n",
       "      <td>55783FB42A02DABC3B2ED239B924DC87</td>\n",
       "      <td>B3DBE7F9E4DC33CBC5660E0A923CF8E8</td>\n",
       "      <td>77EE3BC58CE560B86C2B59363281E914</td>\n",
       "      <td>AD61AB143223EFBC24C7D2583BE69251</td>\n",
       "      <td>2</td>\n",
       "      <td>0D1CFE4D8C9E494F84F6C03E2CAEFCB9</td>\n",
       "      <td>3F4944B6965549F0867C47372898FEAD</td>\n",
       "      <td>1</td>\n",
       "      <td>NaN</td>\n",
       "    </tr>\n",
       "    <tr>\n",
       "      <th>...</th>\n",
       "      <td>...</td>\n",
       "      <td>...</td>\n",
       "      <td>...</td>\n",
       "      <td>...</td>\n",
       "      <td>...</td>\n",
       "      <td>...</td>\n",
       "      <td>...</td>\n",
       "      <td>...</td>\n",
       "      <td>...</td>\n",
       "    </tr>\n",
       "    <tr>\n",
       "      <th>9752927</th>\n",
       "      <td>215A26E2E5B831D87C41A5C1CC382B1C</td>\n",
       "      <td>2583E761CF4CAB4813AAEAFDAA883CC6</td>\n",
       "      <td>CCFC2D538DDFF519D893A6B966A1C4F1</td>\n",
       "      <td>B706835DE79A2B4E80506F582AF3676A</td>\n",
       "      <td>2</td>\n",
       "      <td>A81F26C815DD430497BDAD34C0742FB7</td>\n",
       "      <td>B175B0B725DF4818BDF6D9C4D9835796</td>\n",
       "      <td>1</td>\n",
       "      <td>False</td>\n",
       "    </tr>\n",
       "    <tr>\n",
       "      <th>9752928</th>\n",
       "      <td>E9EB60E3DA311FAE308A2DB53B6CCBAC</td>\n",
       "      <td>F51E6BF96EA5028AE5F5C01EBF08E3BD</td>\n",
       "      <td>CCFC2D538DDFF519D893A6B966A1C4F1</td>\n",
       "      <td>B706835DE79A2B4E80506F582AF3676A</td>\n",
       "      <td>2</td>\n",
       "      <td>6EFB542A5A6C4D4EA359FC0B30C26685</td>\n",
       "      <td>7F6B1A0D61C147ACB55956C073C5C731</td>\n",
       "      <td>1</td>\n",
       "      <td>False</td>\n",
       "    </tr>\n",
       "    <tr>\n",
       "      <th>9752929</th>\n",
       "      <td>EFE2DDFD855E2B4E1C67956CE1CE8A6E</td>\n",
       "      <td>84E3EB4A060096C3702D33F5A52E8B43</td>\n",
       "      <td>CCFC2D538DDFF519D893A6B966A1C4F1</td>\n",
       "      <td>B706835DE79A2B4E80506F582AF3676A</td>\n",
       "      <td>2</td>\n",
       "      <td>06E7E8BABCB141E887B26208EC86A526</td>\n",
       "      <td>EE9C0F9D2458444AACE15F8B40BEFD8A</td>\n",
       "      <td>1</td>\n",
       "      <td>False</td>\n",
       "    </tr>\n",
       "    <tr>\n",
       "      <th>9752930</th>\n",
       "      <td>434410208F17F50143E1CE66E4CEF23F</td>\n",
       "      <td>2B9F701BED6F68800637ADB7EF4CACE2</td>\n",
       "      <td>CCFC2D538DDFF519D893A6B966A1C4F1</td>\n",
       "      <td>B706835DE79A2B4E80506F582AF3676A</td>\n",
       "      <td>2</td>\n",
       "      <td>92992EF5D842435E9C5F290686BA89AD</td>\n",
       "      <td>CF103D8D2B6A4D06B7AEA47E7AB5FD8F</td>\n",
       "      <td>1</td>\n",
       "      <td>False</td>\n",
       "    </tr>\n",
       "    <tr>\n",
       "      <th>9752931</th>\n",
       "      <td>62D462EFFD157E70C4301E555962D44B</td>\n",
       "      <td>2ED01D09EF929AE3CA7564A2CB09DC2C</td>\n",
       "      <td>40F4775D64533EE66E3E20AE64228661</td>\n",
       "      <td>B706835DE79A2B4E80506F582AF3676A</td>\n",
       "      <td>2</td>\n",
       "      <td>8950DCE731CA443F9F43D2908CBA2510</td>\n",
       "      <td>ACD5923428A946F8ACB79FCDAFAF629A</td>\n",
       "      <td>1</td>\n",
       "      <td>False</td>\n",
       "    </tr>\n",
       "  </tbody>\n",
       "</table>\n",
       "<p>9752932 rows × 9 columns</p>\n",
       "</div>"
      ],
      "text/plain": [
       "                                   apptid                              pxid  \\\n",
       "0        C1CC0949B93D00A559F7A0BD38361E80  EF196B348A49FB32DABC9834DC4FAAD9   \n",
       "1        6585A31C60A1886FBA1433C50012B504  EAE3C87D0B33351272F2E9B9B1B56217   \n",
       "2        7250DCFF615E6580295C7E6ED4322371  7C5C93809D626CC702D08F33985B2B58   \n",
       "3        F5BBDCC08E39332F0AC27BB95CF1396A  C300C2B9E0E5D4C46E8093BCDBFA05CA   \n",
       "4        55783FB42A02DABC3B2ED239B924DC87  B3DBE7F9E4DC33CBC5660E0A923CF8E8   \n",
       "...                                   ...                               ...   \n",
       "9752927  215A26E2E5B831D87C41A5C1CC382B1C  2583E761CF4CAB4813AAEAFDAA883CC6   \n",
       "9752928  E9EB60E3DA311FAE308A2DB53B6CCBAC  F51E6BF96EA5028AE5F5C01EBF08E3BD   \n",
       "9752929  EFE2DDFD855E2B4E1C67956CE1CE8A6E  84E3EB4A060096C3702D33F5A52E8B43   \n",
       "9752930  434410208F17F50143E1CE66E4CEF23F  2B9F701BED6F68800637ADB7EF4CACE2   \n",
       "9752931  62D462EFFD157E70C4301E555962D44B  2ED01D09EF929AE3CA7564A2CB09DC2C   \n",
       "\n",
       "                                 clinicid                          doctorid  \\\n",
       "0        ADF7EE2DCF142B0E11888E72B43FCB75  BB04AF0F7ECAEE4AAE62035497DA1387   \n",
       "1        1E0F65EB20ACBFB27EE05DDC000B50EC  82AA4B0AF34C2313A562076992E50AA3   \n",
       "2        1E0F65EB20ACBFB27EE05DDC000B50EC  82AA4B0AF34C2313A562076992E50AA3   \n",
       "3        98C39996BF1543E974747A2549B3107C  AD61AB143223EFBC24C7D2583BE69251   \n",
       "4        77EE3BC58CE560B86C2B59363281E914  AD61AB143223EFBC24C7D2583BE69251   \n",
       "...                                   ...                               ...   \n",
       "9752927  CCFC2D538DDFF519D893A6B966A1C4F1  B706835DE79A2B4E80506F582AF3676A   \n",
       "9752928  CCFC2D538DDFF519D893A6B966A1C4F1  B706835DE79A2B4E80506F582AF3676A   \n",
       "9752929  CCFC2D538DDFF519D893A6B966A1C4F1  B706835DE79A2B4E80506F582AF3676A   \n",
       "9752930  CCFC2D538DDFF519D893A6B966A1C4F1  B706835DE79A2B4E80506F582AF3676A   \n",
       "9752931  40F4775D64533EE66E3E20AE64228661  B706835DE79A2B4E80506F582AF3676A   \n",
       "\n",
       "         StatusId                           QueueId  \\\n",
       "0               1  6A9B439717D24DB2B61E6642092822EA   \n",
       "1               2  8FE220888867463D8279D553B7BB1AAC   \n",
       "2               2  0EA19F881E6A4D2A92D992175024E4EA   \n",
       "3               2  4BA18F2EB78A41618CE2C2172F0350BA   \n",
       "4               2  0D1CFE4D8C9E494F84F6C03E2CAEFCB9   \n",
       "...           ...                               ...   \n",
       "9752927         2  A81F26C815DD430497BDAD34C0742FB7   \n",
       "9752928         2  6EFB542A5A6C4D4EA359FC0B30C26685   \n",
       "9752929         2  06E7E8BABCB141E887B26208EC86A526   \n",
       "9752930         2  92992EF5D842435E9C5F290686BA89AD   \n",
       "9752931         2  8950DCE731CA443F9F43D2908CBA2510   \n",
       "\n",
       "                               ScheduleId  TypeId Virtual  \n",
       "0        01B609720B994FD38FE6077A6AF79B1C       1     NaN  \n",
       "1        D332639EDF0343F2A74A9C45EB854744       2     NaN  \n",
       "2        D765916B91DD4ADFA7B93B0DDEE8B03D       2     NaN  \n",
       "3        2427B0E00FF7476084A588445638B3F3       1     NaN  \n",
       "4        3F4944B6965549F0867C47372898FEAD       1     NaN  \n",
       "...                                   ...     ...     ...  \n",
       "9752927  B175B0B725DF4818BDF6D9C4D9835796       1   False  \n",
       "9752928  7F6B1A0D61C147ACB55956C073C5C731       1   False  \n",
       "9752929  EE9C0F9D2458444AACE15F8B40BEFD8A       1   False  \n",
       "9752930  CF103D8D2B6A4D06B7AEA47E7AB5FD8F       1   False  \n",
       "9752931  ACD5923428A946F8ACB79FCDAFAF629A       1   False  \n",
       "\n",
       "[9752932 rows x 9 columns]"
      ]
     },
     "execution_count": 69,
     "metadata": {},
     "output_type": "execute_result"
    }
   ],
   "source": [
    "import pandas as pd\n",
    "import uuid\n",
    "\n",
    "# Select columns for fact_appointments\n",
    "fact_appointments = appointments_df[['apptid', 'pxid', 'clinicid', 'doctorid', 'status', 'type', 'Virtual']].copy()\n",
    "\n",
    "# fill up dimension tables\n",
    "dim_status = pd.DataFrame({\n",
    "    'StatusId': range(1, len(appointments_df['status'].unique()) +  1),\n",
    "    'status':  appointments_df['status'].unique()\n",
    "})\n",
    "\n",
    "dim_appt_type = pd.DataFrame({\n",
    "    'TypeId': range(1, len(appointments_df['type'].unique()) +  1),\n",
    "    'type':  appointments_df['type'].unique()\n",
    "})\n",
    "\n",
    "dim_schedule = appointments_df[['StartTime', 'EndTime']].copy()\n",
    "dim_schedule['ScheduleId'] = dim_schedule.apply(lambda x: str(uuid.uuid4()).replace('-', '')[:32].upper(), axis=1)\n",
    "\n",
    "dim_queue = appointments_df[['TimeQueued', 'QueueDate']].copy()\n",
    "dim_queue['QueueId'] = dim_queue.apply(lambda x: str(uuid.uuid4()).replace('-', '')[:32].upper(), axis=1)\n",
    "\n",
    "# add ids to fact table\n",
    "fact_appointments['StatusId'] = fact_appointments['status'].map(dict(zip(dim_status['status'], dim_status['StatusId'])))\n",
    "fact_appointments['TypeId'] = fact_appointments['type'].map(dict(zip(dim_appt_type['type'], dim_appt_type['TypeId'])))\n",
    "fact_appointments['ScheduleId'] = dim_schedule['ScheduleId'].copy()\n",
    "fact_appointments['QueueId'] = dim_queue['QueueId'].copy()\n",
    "\n",
    "# drop columns\n",
    "fact_appointments = fact_appointments.drop(columns=['status', 'type'])\n",
    "\n",
    "# rearrange columns\n",
    "dim_schedule = dim_schedule[['ScheduleId', 'StartTime', 'EndTime']]\n",
    "dim_queue = dim_queue[['QueueId', 'TimeQueued', 'QueueDate']]\n",
    "fact_appointments = fact_appointments[['apptid', 'pxid', 'clinicid','doctorid', 'StatusId', 'QueueId', 'ScheduleId', 'TypeId', 'Virtual']]\n",
    "\n",
    "fact_appointments"
   ]
  },
  {
   "cell_type": "markdown",
   "id": "b9f458c8-3fa1-4459-a005-70439a0a1d1c",
   "metadata": {},
   "source": [
    "### doctors"
   ]
  },
  {
   "cell_type": "code",
   "execution_count": 71,
   "id": "a5e1d793-3660-42b3-9698-bc5c1700b93e",
   "metadata": {},
   "outputs": [
    {
     "name": "stdout",
     "output_type": "stream",
     "text": [
      "<class 'pandas.core.frame.DataFrame'>\n",
      "RangeIndex: 17171 entries, 0 to 17170\n",
      "Data columns (total 3 columns):\n",
      " #   Column         Non-Null Count  Dtype \n",
      "---  ------         --------------  ----- \n",
      " 0   doctorid       17171 non-null  object\n",
      " 1   mainspecialty  17171 non-null  object\n",
      " 2   age            17171 non-null  int64 \n",
      "dtypes: int64(1), object(2)\n",
      "memory usage: 402.6+ KB\n"
     ]
    }
   ],
   "source": [
    "dim_doctors = pd.read_csv('doctors_cleaned.csv', low_memory=False, encoding='utf-8')\n",
    "dim_doctors.info()"
   ]
  },
  {
   "cell_type": "code",
   "execution_count": 72,
   "id": "32f46fd6-1087-44a2-bbb6-d0f042f5d2f2",
   "metadata": {},
   "outputs": [],
   "source": [
    "import pandas as pd\n",
    "import re\n",
    "\n",
    "# Replace 'and' with '&', Remove substrings that start and end with '()'\n",
    "def clean_specialty(specialty):\n",
    "    cleaned_specialty = re.sub(r'(?i)and', '&', specialty)\n",
    "    cleaned_specialty = re.sub(r'\\([^)]*\\)', '', cleaned_specialty)\n",
    "    return cleaned_specialty.strip()\n",
    "\n",
    "# Generate abbrv, Ensure uniqueness by adding a numerical suffix if needed\n",
    "def generate_abbreviation(specialty, existing_abbreviations, all_abbreviations):\n",
    "    cleaned_specialty = re.sub(r'[^a-zA-Z0-9]', '_', specialty)\n",
    "    abbreviation = ''.join(word[:3].upper() for word in cleaned_specialty.split('_'))\n",
    "   \n",
    "    suffix = 1\n",
    "    original_abbreviation = abbreviation\n",
    "    while abbreviation in existing_abbreviations or abbreviation in all_abbreviations:\n",
    "        abbreviation = original_abbreviation + str(suffix)\n",
    "        suffix += 1\n",
    "    \n",
    "    existing_abbreviations.add(abbreviation)\n",
    "    all_abbreviations.add(abbreviation)\n",
    "    return abbreviation\n",
    " \n",
    "dim_specialty['Specialty'] = dim_doctors['mainspecialty'].unique()\n",
    "dim_specialty['Specialty'] = dim_specialty['Specialty'].apply(clean_specialty)\n",
    "\n",
    "# Add a new column 'SpecialtyId'\n",
    "dim_specialty['SpecialtyId'] = ''\n",
    "existing_abbreviations = set()\n",
    "all_abbreviations = set()\n",
    "\n",
    "# Generate abbreviations for each specialty\n",
    "for idx, row in dim_specialty.iterrows():\n",
    "    specialty = row['Specialty']\n",
    "    abbreviation = generate_abbreviation(specialty, existing_abbreviations, all_abbreviations)\n",
    "    dim_specialty.at[idx, 'SpecialtyId'] = abbreviation\n",
    "\n",
    "dim_specialty = dim_specialty[['SpecialtyId', 'Specialty']].sort_values(by='SpecialtyId', ascending=True)"
   ]
  },
  {
   "cell_type": "code",
   "execution_count": 73,
   "id": "8d64b414-0b35-4bd2-9074-180c93e2cd2d",
   "metadata": {},
   "outputs": [
    {
     "data": {
      "text/html": [
       "<div>\n",
       "<style scoped>\n",
       "    .dataframe tbody tr th:only-of-type {\n",
       "        vertical-align: middle;\n",
       "    }\n",
       "\n",
       "    .dataframe tbody tr th {\n",
       "        vertical-align: top;\n",
       "    }\n",
       "\n",
       "    .dataframe thead th {\n",
       "        text-align: right;\n",
       "    }\n",
       "</style>\n",
       "<table border=\"1\" class=\"dataframe\">\n",
       "  <thead>\n",
       "    <tr style=\"text-align: right;\">\n",
       "      <th></th>\n",
       "      <th>doctorid</th>\n",
       "      <th>SpecialtyId</th>\n",
       "      <th>age</th>\n",
       "    </tr>\n",
       "  </thead>\n",
       "  <tbody>\n",
       "    <tr>\n",
       "      <th>0</th>\n",
       "      <td>AD61AB143223EFBC24C7D2583BE69251</td>\n",
       "      <td>GENMED</td>\n",
       "      <td>41</td>\n",
       "    </tr>\n",
       "    <tr>\n",
       "      <th>1</th>\n",
       "      <td>D09BF41544A3365A46C9077EBB5E35C3</td>\n",
       "      <td>FAMMED</td>\n",
       "      <td>43</td>\n",
       "    </tr>\n",
       "    <tr>\n",
       "      <th>2</th>\n",
       "      <td>FBD7939D674997CDB4692D34DE8633C4</td>\n",
       "      <td>VASMED</td>\n",
       "      <td>26</td>\n",
       "    </tr>\n",
       "    <tr>\n",
       "      <th>3</th>\n",
       "      <td>35F4A8D465E6E1EDC05F3D8AB658C551</td>\n",
       "      <td>GENDEN</td>\n",
       "      <td>50</td>\n",
       "    </tr>\n",
       "    <tr>\n",
       "      <th>4</th>\n",
       "      <td>D1FE173D08E959397ADF34B1D77E88D7</td>\n",
       "      <td>ORTSUR</td>\n",
       "      <td>62</td>\n",
       "    </tr>\n",
       "    <tr>\n",
       "      <th>...</th>\n",
       "      <td>...</td>\n",
       "      <td>...</td>\n",
       "      <td>...</td>\n",
       "    </tr>\n",
       "    <tr>\n",
       "      <th>17166</th>\n",
       "      <td>5A1AB4B16B638D40D0999EC501A9E27D</td>\n",
       "      <td>DER</td>\n",
       "      <td>32</td>\n",
       "    </tr>\n",
       "    <tr>\n",
       "      <th>17167</th>\n",
       "      <td>9DAD7AEA5A3D325372DF85D324E1840A</td>\n",
       "      <td>PSY</td>\n",
       "      <td>34</td>\n",
       "    </tr>\n",
       "    <tr>\n",
       "      <th>17168</th>\n",
       "      <td>D1EEFDEF38B0DC9967B2482ED5676157</td>\n",
       "      <td>PED</td>\n",
       "      <td>37</td>\n",
       "    </tr>\n",
       "    <tr>\n",
       "      <th>17169</th>\n",
       "      <td>178B515E6825D004EBAF232DD6977CCD</td>\n",
       "      <td>GENMED</td>\n",
       "      <td>29</td>\n",
       "    </tr>\n",
       "    <tr>\n",
       "      <th>17170</th>\n",
       "      <td>23BA85862DD19C3550E7C0F0AF84C7ED</td>\n",
       "      <td>INTMED</td>\n",
       "      <td>38</td>\n",
       "    </tr>\n",
       "  </tbody>\n",
       "</table>\n",
       "<p>17171 rows × 3 columns</p>\n",
       "</div>"
      ],
      "text/plain": [
       "                               doctorid SpecialtyId  age\n",
       "0      AD61AB143223EFBC24C7D2583BE69251      GENMED   41\n",
       "1      D09BF41544A3365A46C9077EBB5E35C3      FAMMED   43\n",
       "2      FBD7939D674997CDB4692D34DE8633C4      VASMED   26\n",
       "3      35F4A8D465E6E1EDC05F3D8AB658C551      GENDEN   50\n",
       "4      D1FE173D08E959397ADF34B1D77E88D7      ORTSUR   62\n",
       "...                                 ...         ...  ...\n",
       "17166  5A1AB4B16B638D40D0999EC501A9E27D         DER   32\n",
       "17167  9DAD7AEA5A3D325372DF85D324E1840A         PSY   34\n",
       "17168  D1EEFDEF38B0DC9967B2482ED5676157         PED   37\n",
       "17169  178B515E6825D004EBAF232DD6977CCD      GENMED   29\n",
       "17170  23BA85862DD19C3550E7C0F0AF84C7ED      INTMED   38\n",
       "\n",
       "[17171 rows x 3 columns]"
      ]
     },
     "execution_count": 73,
     "metadata": {},
     "output_type": "execute_result"
    }
   ],
   "source": [
    "# Fix AND into same format, remove abrbeviations\n",
    "dim_doctors['mainspecialty'] = dim_doctors['mainspecialty'].apply(clean_specialty)\n",
    "\n",
    "# Append specialtyid to doctor specialty\n",
    "dim_doctors['SpecialtyId'] = dim_doctors['mainspecialty'].map(dict(zip(dim_specialty['Specialty'], dim_specialty['SpecialtyId'])))\n",
    "\n",
    "# Drop specialty column\n",
    "dim_doctors = dim_doctors.drop(columns=['mainspecialty'])\n",
    "\n",
    "#rearrange columns\n",
    "dim_doctors = dim_doctors[['doctorid', 'SpecialtyId', 'age']]\n",
    "dim_doctors"
   ]
  },
  {
   "cell_type": "markdown",
   "id": "6e22393e-10fa-4a91-8b90-53c0a1feae95",
   "metadata": {},
   "source": [
    "### clinics"
   ]
  },
  {
   "cell_type": "code",
   "execution_count": 74,
   "id": "294abe83-f2f5-44cf-9ab7-ebb30bb3e09f",
   "metadata": {},
   "outputs": [
    {
     "name": "stdout",
     "output_type": "stream",
     "text": [
      "<class 'pandas.core.frame.DataFrame'>\n",
      "RangeIndex: 53962 entries, 0 to 53961\n",
      "Data columns (total 6 columns):\n",
      " #   Column        Non-Null Count  Dtype \n",
      "---  ------        --------------  ----- \n",
      " 0   clinicid      53962 non-null  object\n",
      " 1   hospitalname  17538 non-null  object\n",
      " 2   IsHospital    53962 non-null  bool  \n",
      " 3   City          53962 non-null  object\n",
      " 4   Province      53962 non-null  object\n",
      " 5   RegionName    53962 non-null  object\n",
      "dtypes: bool(1), object(5)\n",
      "memory usage: 2.1+ MB\n",
      "<class 'pandas.core.frame.DataFrame'>\n",
      "RangeIndex: 53962 entries, 0 to 53961\n",
      "Data columns (total 3 columns):\n",
      " #   Column      Non-Null Count  Dtype \n",
      "---  ------      --------------  ----- \n",
      " 0   City        53962 non-null  object\n",
      " 1   Province    53962 non-null  object\n",
      " 2   RegionName  53962 non-null  object\n",
      "dtypes: object(3)\n",
      "memory usage: 1.2+ MB\n"
     ]
    }
   ],
   "source": [
    "# Populate dimension tables\n",
    "dim_clinics = pd.read_csv('clinics_cleaned.csv', low_memory=False, encoding='unicode_escape')\n",
    "dim_locations = dim_clinics[['City', 'Province', 'RegionName']].copy()\n",
    "\n",
    "dim_clinics.info()\n",
    "dim_locations.info()\n",
    "\n",
    "# Remove Region-Province-City combination duplicates\n",
    "dim_locations.drop_duplicates(subset=['City', 'Province', 'RegionName'], inplace=True)"
   ]
  },
  {
   "cell_type": "code",
   "execution_count": 75,
   "id": "4c1234e8-9fc2-47b5-85d9-1374fc1498bf",
   "metadata": {},
   "outputs": [
    {
     "data": {
      "text/html": [
       "<div>\n",
       "<style scoped>\n",
       "    .dataframe tbody tr th:only-of-type {\n",
       "        vertical-align: middle;\n",
       "    }\n",
       "\n",
       "    .dataframe tbody tr th {\n",
       "        vertical-align: top;\n",
       "    }\n",
       "\n",
       "    .dataframe thead th {\n",
       "        text-align: right;\n",
       "    }\n",
       "</style>\n",
       "<table border=\"1\" class=\"dataframe\">\n",
       "  <thead>\n",
       "    <tr style=\"text-align: right;\">\n",
       "      <th></th>\n",
       "      <th>LocationId</th>\n",
       "      <th>City</th>\n",
       "      <th>Province</th>\n",
       "      <th>RegionName</th>\n",
       "    </tr>\n",
       "  </thead>\n",
       "  <tbody>\n",
       "    <tr>\n",
       "      <th>11366</th>\n",
       "      <td>BARMMBSLNL-BRK</td>\n",
       "      <td>Al-Barka</td>\n",
       "      <td>Basilan</td>\n",
       "      <td>Bangsamoro Autonomous Region in Muslim Mindana...</td>\n",
       "    </tr>\n",
       "    <tr>\n",
       "      <th>50269</th>\n",
       "      <td>BARMMBSLNSBLCTY</td>\n",
       "      <td>Isabela City</td>\n",
       "      <td>Basilan</td>\n",
       "      <td>Bangsamoro Autonomous Region in Muslim Mindana...</td>\n",
       "    </tr>\n",
       "    <tr>\n",
       "      <th>5145</th>\n",
       "      <td>BARMMLNDLSRBLNDNG</td>\n",
       "      <td>Balindong</td>\n",
       "      <td>Lanao del Sur</td>\n",
       "      <td>Bangsamoro Autonomous Region in Muslim Mindana...</td>\n",
       "    </tr>\n",
       "    <tr>\n",
       "      <th>36135</th>\n",
       "      <td>BARMMLNDLSRMRNT</td>\n",
       "      <td>Marantao</td>\n",
       "      <td>Lanao del Sur</td>\n",
       "      <td>Bangsamoro Autonomous Region in Muslim Mindana...</td>\n",
       "    </tr>\n",
       "    <tr>\n",
       "      <th>1188</th>\n",
       "      <td>BARMMLNDLSRMRWCTY</td>\n",
       "      <td>Marawi City</td>\n",
       "      <td>Lanao del Sur</td>\n",
       "      <td>Bangsamoro Autonomous Region in Muslim Mindana...</td>\n",
       "    </tr>\n",
       "    <tr>\n",
       "      <th>...</th>\n",
       "      <td>...</td>\n",
       "      <td>...</td>\n",
       "      <td>...</td>\n",
       "      <td>...</td>\n",
       "    </tr>\n",
       "    <tr>\n",
       "      <th>25363</th>\n",
       "      <td>XMSMSRNTLMNTC</td>\n",
       "      <td>Manticao</td>\n",
       "      <td>Misamis Oriental</td>\n",
       "      <td>Northern Mindanao (X)</td>\n",
       "    </tr>\n",
       "    <tr>\n",
       "      <th>30111</th>\n",
       "      <td>XMSMSRNTLNT</td>\n",
       "      <td>Initao</td>\n",
       "      <td>Misamis Oriental</td>\n",
       "      <td>Northern Mindanao (X)</td>\n",
       "    </tr>\n",
       "    <tr>\n",
       "      <th>34844</th>\n",
       "      <td>XMSMSRNTLPL</td>\n",
       "      <td>Opol</td>\n",
       "      <td>Misamis Oriental</td>\n",
       "      <td>Northern Mindanao (X)</td>\n",
       "    </tr>\n",
       "    <tr>\n",
       "      <th>41635</th>\n",
       "      <td>XMSMSRNTLTGLN</td>\n",
       "      <td>Tagoloan</td>\n",
       "      <td>Misamis Oriental</td>\n",
       "      <td>Northern Mindanao (X)</td>\n",
       "    </tr>\n",
       "    <tr>\n",
       "      <th>25364</th>\n",
       "      <td>XMSMSRNTLTLSYN</td>\n",
       "      <td>Talisayan</td>\n",
       "      <td>Misamis Oriental</td>\n",
       "      <td>Northern Mindanao (X)</td>\n",
       "    </tr>\n",
       "  </tbody>\n",
       "</table>\n",
       "<p>808 rows × 4 columns</p>\n",
       "</div>"
      ],
      "text/plain": [
       "              LocationId          City          Province  \\\n",
       "11366     BARMMBSLNL-BRK      Al-Barka           Basilan   \n",
       "50269    BARMMBSLNSBLCTY  Isabela City           Basilan   \n",
       "5145   BARMMLNDLSRBLNDNG     Balindong     Lanao del Sur   \n",
       "36135    BARMMLNDLSRMRNT      Marantao     Lanao del Sur   \n",
       "1188   BARMMLNDLSRMRWCTY   Marawi City     Lanao del Sur   \n",
       "...                  ...           ...               ...   \n",
       "25363      XMSMSRNTLMNTC      Manticao  Misamis Oriental   \n",
       "30111        XMSMSRNTLNT        Initao  Misamis Oriental   \n",
       "34844        XMSMSRNTLPL          Opol  Misamis Oriental   \n",
       "41635      XMSMSRNTLTGLN      Tagoloan  Misamis Oriental   \n",
       "25364     XMSMSRNTLTLSYN     Talisayan  Misamis Oriental   \n",
       "\n",
       "                                              RegionName  \n",
       "11366  Bangsamoro Autonomous Region in Muslim Mindana...  \n",
       "50269  Bangsamoro Autonomous Region in Muslim Mindana...  \n",
       "5145   Bangsamoro Autonomous Region in Muslim Mindana...  \n",
       "36135  Bangsamoro Autonomous Region in Muslim Mindana...  \n",
       "1188   Bangsamoro Autonomous Region in Muslim Mindana...  \n",
       "...                                                  ...  \n",
       "25363                              Northern Mindanao (X)  \n",
       "30111                              Northern Mindanao (X)  \n",
       "34844                              Northern Mindanao (X)  \n",
       "41635                              Northern Mindanao (X)  \n",
       "25364                              Northern Mindanao (X)  \n",
       "\n",
       "[808 rows x 4 columns]"
      ]
     },
     "execution_count": 75,
     "metadata": {},
     "output_type": "execute_result"
    }
   ],
   "source": [
    "import pandas as pd\n",
    "import re\n",
    "\n",
    "# Function to remove vowels from a string\n",
    "def remove_vowels(s):\n",
    "    return ''.join(char for char in s if char.lower() not in {'a', 'e', 'i', 'o', 'u', ' '})\n",
    "\n",
    "# Function to extract substring contained within parentheses\n",
    "def extract_substring(s):\n",
    "    match = re.search(r'\\((.*?)\\)$', s)\n",
    "    return match.group(1) if match else \"\"\n",
    "    \n",
    "# Function to create location ID\n",
    "def create_location_id(row):\n",
    "    region_name_without_vowels = remove_vowels(row['RegionName'])\n",
    "    region_name_substring = extract_substring(row['RegionName'])[-5:]\n",
    "    province = remove_vowels(row['Province'])\n",
    "    city = remove_vowels(row['City'])\n",
    "    location_id = f\"{region_name_substring.upper().replace('-','').replace('(','').replace(' ','')}{province.upper()}{city.upper()}\"\n",
    "    return location_id\n",
    "\n",
    "# Apply the create_location_id function to the DataFrame\n",
    "dim_locations['LocationId'] = dim_locations.apply(create_location_id, axis=1)\n",
    "\n",
    "# Display the result\n",
    "dim_locations = dim_locations[['LocationId', 'City', 'Province', 'RegionName']].sort_values(by='LocationId', ascending=True)\n",
    "dim_locations"
   ]
  },
  {
   "cell_type": "code",
   "execution_count": 76,
   "id": "0508a4dc-be3d-4e95-8e92-e90047e257a3",
   "metadata": {},
   "outputs": [],
   "source": [
    "dim_clinics['IsHospital'] = dim_clinics['IsHospital'].replace({True:  1, False:  0})"
   ]
  },
  {
   "cell_type": "code",
   "execution_count": 77,
   "id": "dfaa7579-8ec8-47d8-8673-8732af6d350f",
   "metadata": {},
   "outputs": [
    {
     "data": {
      "text/html": [
       "<div>\n",
       "<style scoped>\n",
       "    .dataframe tbody tr th:only-of-type {\n",
       "        vertical-align: middle;\n",
       "    }\n",
       "\n",
       "    .dataframe tbody tr th {\n",
       "        vertical-align: top;\n",
       "    }\n",
       "\n",
       "    .dataframe thead th {\n",
       "        text-align: right;\n",
       "    }\n",
       "</style>\n",
       "<table border=\"1\" class=\"dataframe\">\n",
       "  <thead>\n",
       "    <tr style=\"text-align: right;\">\n",
       "      <th></th>\n",
       "      <th>clinicid</th>\n",
       "      <th>LocationId</th>\n",
       "      <th>hospitalname</th>\n",
       "      <th>IsHospital</th>\n",
       "    </tr>\n",
       "  </thead>\n",
       "  <tbody>\n",
       "    <tr>\n",
       "      <th>0</th>\n",
       "      <td>77EE3BC58CE560B86C2B59363281E914</td>\n",
       "      <td>NCRMNLTGG</td>\n",
       "      <td>St. Luke's Medical Center-Global City</td>\n",
       "      <td>1</td>\n",
       "    </tr>\n",
       "    <tr>\n",
       "      <th>1</th>\n",
       "      <td>98C39996BF1543E974747A2549B3107C</td>\n",
       "      <td>NCRMNLMNL</td>\n",
       "      <td>Our Lady of Lourdes Hospital</td>\n",
       "      <td>1</td>\n",
       "    </tr>\n",
       "    <tr>\n",
       "      <th>2</th>\n",
       "      <td>9AEADE7BEADA35C83D3B344FBAFE43B0</td>\n",
       "      <td>NCRMNLMKT</td>\n",
       "      <td>Makati Medical Center</td>\n",
       "      <td>1</td>\n",
       "    </tr>\n",
       "    <tr>\n",
       "      <th>3</th>\n",
       "      <td>FDBD31F2027F20378B1A80125FC862DB</td>\n",
       "      <td>NCRMNLSNJN</td>\n",
       "      <td>Cardinal Santos Medical Center</td>\n",
       "      <td>1</td>\n",
       "    </tr>\n",
       "    <tr>\n",
       "      <th>4</th>\n",
       "      <td>205C3608ECB984C1F5F5D2F52C934428</td>\n",
       "      <td>ILCSSRBRGS</td>\n",
       "      <td>NaN</td>\n",
       "      <td>0</td>\n",
       "    </tr>\n",
       "    <tr>\n",
       "      <th>...</th>\n",
       "      <td>...</td>\n",
       "      <td>...</td>\n",
       "      <td>...</td>\n",
       "      <td>...</td>\n",
       "    </tr>\n",
       "    <tr>\n",
       "      <th>53957</th>\n",
       "      <td>8DE279A56DBCECE9F9FFC514A7D5A378</td>\n",
       "      <td>NCRMNLMNL</td>\n",
       "      <td>NaN</td>\n",
       "      <td>0</td>\n",
       "    </tr>\n",
       "    <tr>\n",
       "      <th>53958</th>\n",
       "      <td>55A64961C9AA4134016786AE7202682E</td>\n",
       "      <td>NCRMNLMNL</td>\n",
       "      <td>NaN</td>\n",
       "      <td>0</td>\n",
       "    </tr>\n",
       "    <tr>\n",
       "      <th>53959</th>\n",
       "      <td>075E464A7D15E6E5B9D8F8F5B5B16BB9</td>\n",
       "      <td>NCRMNLMNL</td>\n",
       "      <td>NaN</td>\n",
       "      <td>0</td>\n",
       "    </tr>\n",
       "    <tr>\n",
       "      <th>53960</th>\n",
       "      <td>01063BCF7624297FBB408495BCB62904</td>\n",
       "      <td>NCRMNLMLBN</td>\n",
       "      <td>Malabon Hospital and Medical Center</td>\n",
       "      <td>1</td>\n",
       "    </tr>\n",
       "    <tr>\n",
       "      <th>53961</th>\n",
       "      <td>5DA48026B54B6EEB6062817CAA7C30EA</td>\n",
       "      <td>NCRMNLMLBN</td>\n",
       "      <td>NaN</td>\n",
       "      <td>0</td>\n",
       "    </tr>\n",
       "  </tbody>\n",
       "</table>\n",
       "<p>53962 rows × 4 columns</p>\n",
       "</div>"
      ],
      "text/plain": [
       "                               clinicid  LocationId  \\\n",
       "0      77EE3BC58CE560B86C2B59363281E914   NCRMNLTGG   \n",
       "1      98C39996BF1543E974747A2549B3107C   NCRMNLMNL   \n",
       "2      9AEADE7BEADA35C83D3B344FBAFE43B0   NCRMNLMKT   \n",
       "3      FDBD31F2027F20378B1A80125FC862DB  NCRMNLSNJN   \n",
       "4      205C3608ECB984C1F5F5D2F52C934428  ILCSSRBRGS   \n",
       "...                                 ...         ...   \n",
       "53957  8DE279A56DBCECE9F9FFC514A7D5A378   NCRMNLMNL   \n",
       "53958  55A64961C9AA4134016786AE7202682E   NCRMNLMNL   \n",
       "53959  075E464A7D15E6E5B9D8F8F5B5B16BB9   NCRMNLMNL   \n",
       "53960  01063BCF7624297FBB408495BCB62904  NCRMNLMLBN   \n",
       "53961  5DA48026B54B6EEB6062817CAA7C30EA  NCRMNLMLBN   \n",
       "\n",
       "                                hospitalname  IsHospital  \n",
       "0      St. Luke's Medical Center-Global City           1  \n",
       "1               Our Lady of Lourdes Hospital           1  \n",
       "2                      Makati Medical Center           1  \n",
       "3             Cardinal Santos Medical Center           1  \n",
       "4                                        NaN           0  \n",
       "...                                      ...         ...  \n",
       "53957                                    NaN           0  \n",
       "53958                                    NaN           0  \n",
       "53959                                    NaN           0  \n",
       "53960    Malabon Hospital and Medical Center           1  \n",
       "53961                                    NaN           0  \n",
       "\n",
       "[53962 rows x 4 columns]"
      ]
     },
     "execution_count": 77,
     "metadata": {},
     "output_type": "execute_result"
    }
   ],
   "source": [
    "# merge locations to clinics table\n",
    "dim_clinics = pd.merge(dim_clinics, dim_locations, on=['City', 'Province', 'RegionName'], how='left')\n",
    "\n",
    "# drop Region, Province, City in column \n",
    "dim_clinics = dim_clinics.drop(columns=['City', 'Province', 'RegionName'])\n",
    "\n",
    "# Rearrange columns\n",
    "dim_clinics = dim_clinics[['clinicid', 'LocationId', 'hospitalname', 'IsHospital']]\n",
    "dim_clinics"
   ]
  },
  {
   "cell_type": "markdown",
   "id": "bee85dff-11c9-4a2e-84c2-6a640045f3ad",
   "metadata": {},
   "source": [
    "### export"
   ]
  },
  {
   "cell_type": "code",
   "execution_count": 78,
   "id": "deb9841f-1203-4edd-a938-f233185a3652",
   "metadata": {},
   "outputs": [],
   "source": [
    "selected_table = fact_appointments\n",
    "selected_table.to_csv('fact_appointments.csv', index=False)\n",
    "\n",
    "selected_table = dim_queue\n",
    "selected_table.to_csv('dim_queue.csv', index=False)\n",
    "\n",
    "selected_table = dim_schedule\n",
    "selected_table.to_csv('dim_schedule.csv', index=False)\n",
    "\n",
    "selected_table = dim_appt_type\n",
    "selected_table.to_csv('dim_appt_type.csv', index=False)\n",
    "\n",
    "selected_table = dim_status\n",
    "selected_table.to_csv('dim_status.csv', index=False)\n",
    "\n",
    "selected_table = dim_doctors\n",
    "selected_table.to_csv('dim_doctors.csv', index=False)\n",
    "\n",
    "selected_table = dim_specialty\n",
    "selected_table.to_csv('dim_specialty.csv', index=False)\n",
    "\n",
    "selected_table = dim_clinics\n",
    "selected_table.to_csv('dim_clinics.csv', index=False)\n",
    "\n",
    "selected_table = dim_locations\n",
    "selected_table.to_csv('dim_locations.csv', index=False)"
   ]
  }
 ],
 "metadata": {
  "kernelspec": {
   "display_name": "Python 3 (ipykernel)",
   "language": "python",
   "name": "python3"
  },
  "language_info": {
   "codemirror_mode": {
    "name": "ipython",
    "version": 3
   },
   "file_extension": ".py",
   "mimetype": "text/x-python",
   "name": "python",
   "nbconvert_exporter": "python",
   "pygments_lexer": "ipython3",
   "version": "3.10.11"
  }
 },
 "nbformat": 4,
 "nbformat_minor": 5
}
