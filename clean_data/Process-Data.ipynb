{
 "cells": [
  {
   "cell_type": "code",
   "execution_count": 1,
   "id": "4b9e8522-5859-42ea-8452-e62f8f192ec1",
   "metadata": {},
   "outputs": [],
   "source": [
    "import numpy as np\n",
    "import pandas as pd\n",
    "import matplotlib.pyplot as plt\n",
    "import seaborn as sns\n",
    "\n",
    "# sets the theme of the charts\n",
    "plt.style.use('seaborn-v0_8-darkgrid')\n",
    "\n",
    "%matplotlib inline"
   ]
  },
  {
   "cell_type": "code",
   "execution_count": 2,
   "id": "e0f4f1e3-31ba-4be1-b092-85dd125cbed8",
   "metadata": {},
   "outputs": [],
   "source": [
    "# imports the csv files\n",
    "appointments_df = pd.read_csv('appointments.csv', low_memory=False, encoding='unicode_escape')"
   ]
  },
  {
   "cell_type": "code",
   "execution_count": 3,
   "id": "b2620b7c-2f7c-4557-9242-5d1186e1228c",
   "metadata": {},
   "outputs": [
    {
     "name": "stdout",
     "output_type": "stream",
     "text": [
      "<class 'pandas.core.frame.DataFrame'>\n",
      "RangeIndex: 9752932 entries, 0 to 9752931\n",
      "Data columns (total 11 columns):\n",
      " #   Column      Dtype \n",
      "---  ------      ----- \n",
      " 0   pxid        object\n",
      " 1   clinicid    object\n",
      " 2   doctorid    object\n",
      " 3   apptid      object\n",
      " 4   status      object\n",
      " 5   TimeQueued  object\n",
      " 6   QueueDate   object\n",
      " 7   StartTime   object\n",
      " 8   EndTime     object\n",
      " 9   type        object\n",
      " 10  Virtual     object\n",
      "dtypes: object(11)\n",
      "memory usage: 818.5+ MB\n"
     ]
    }
   ],
   "source": [
    "# checks the content of the csv files\n",
    "appointments_df.info()"
   ]
  },
  {
   "cell_type": "markdown",
   "id": "b46d635c-d346-489b-a572-954143feaece",
   "metadata": {},
   "source": [
    "### `pxid` variable"
   ]
  },
  {
   "cell_type": "code",
   "execution_count": 4,
   "id": "ab000f8c-a396-44ec-b930-b8fce4584684",
   "metadata": {},
   "outputs": [
    {
     "data": {
      "text/plain": [
       "0          EF196B348A49FB32DABC9834DC4FAAD9\n",
       "1          EAE3C87D0B33351272F2E9B9B1B56217\n",
       "2          7C5C93809D626CC702D08F33985B2B58\n",
       "3          C300C2B9E0E5D4C46E8093BCDBFA05CA\n",
       "4          B3DBE7F9E4DC33CBC5660E0A923CF8E8\n",
       "                         ...               \n",
       "9752927    2583E761CF4CAB4813AAEAFDAA883CC6\n",
       "9752928    F51E6BF96EA5028AE5F5C01EBF08E3BD\n",
       "9752929    84E3EB4A060096C3702D33F5A52E8B43\n",
       "9752930    2B9F701BED6F68800637ADB7EF4CACE2\n",
       "9752931    2ED01D09EF929AE3CA7564A2CB09DC2C\n",
       "Name: pxid, Length: 9752932, dtype: object"
      ]
     },
     "execution_count": 4,
     "metadata": {},
     "output_type": "execute_result"
    }
   ],
   "source": [
    "# check values of pxid\n",
    "appointments_df['pxid']"
   ]
  },
  {
   "cell_type": "code",
   "execution_count": 5,
   "id": "fc21783f-1c4f-45ea-96b7-8cd3214f0c27",
   "metadata": {},
   "outputs": [
    {
     "data": {
      "text/plain": [
       "array(['EF196B348A49FB32DABC9834DC4FAAD9',\n",
       "       'EAE3C87D0B33351272F2E9B9B1B56217',\n",
       "       '7C5C93809D626CC702D08F33985B2B58', ...,\n",
       "       '84E3EB4A060096C3702D33F5A52E8B43',\n",
       "       '2B9F701BED6F68800637ADB7EF4CACE2',\n",
       "       '2ED01D09EF929AE3CA7564A2CB09DC2C'], dtype=object)"
      ]
     },
     "execution_count": 5,
     "metadata": {},
     "output_type": "execute_result"
    }
   ],
   "source": [
    "# check unique values of pxid\n",
    "appointments_df['pxid'].unique()"
   ]
  },
  {
   "cell_type": "code",
   "execution_count": 6,
   "id": "3e00f6f1-f26a-45af-9f8b-110c44a2b71c",
   "metadata": {},
   "outputs": [],
   "source": [
    "# check for null values of pxid\n",
    "pxid_count = appointments_df['pxid'].isnull().sum()"
   ]
  },
  {
   "cell_type": "markdown",
   "id": "83b3f27a-619d-463f-b2c2-f9e65860ea83",
   "metadata": {},
   "source": [
    "### `clinicid` variable"
   ]
  },
  {
   "cell_type": "code",
   "execution_count": 7,
   "id": "990b5679-ca80-4ba3-bf9b-c1556a16d835",
   "metadata": {},
   "outputs": [
    {
     "data": {
      "text/plain": [
       "0          ADF7EE2DCF142B0E11888E72B43FCB75\n",
       "1          1E0F65EB20ACBFB27EE05DDC000B50EC\n",
       "2          1E0F65EB20ACBFB27EE05DDC000B50EC\n",
       "3          98C39996BF1543E974747A2549B3107C\n",
       "4          77EE3BC58CE560B86C2B59363281E914\n",
       "                         ...               \n",
       "9752927    CCFC2D538DDFF519D893A6B966A1C4F1\n",
       "9752928    CCFC2D538DDFF519D893A6B966A1C4F1\n",
       "9752929    CCFC2D538DDFF519D893A6B966A1C4F1\n",
       "9752930    CCFC2D538DDFF519D893A6B966A1C4F1\n",
       "9752931    40F4775D64533EE66E3E20AE64228661\n",
       "Name: clinicid, Length: 9752932, dtype: object"
      ]
     },
     "execution_count": 7,
     "metadata": {},
     "output_type": "execute_result"
    }
   ],
   "source": [
    "# check values of clinicid\n",
    "appointments_df['clinicid']"
   ]
  },
  {
   "cell_type": "code",
   "execution_count": 8,
   "id": "6af26979-b453-487f-9a27-79449299d551",
   "metadata": {},
   "outputs": [
    {
     "data": {
      "text/plain": [
       "array(['ADF7EE2DCF142B0E11888E72B43FCB75',\n",
       "       '1E0F65EB20ACBFB27EE05DDC000B50EC',\n",
       "       '98C39996BF1543E974747A2549B3107C', ...,\n",
       "       '772C1C73D4FFE88046A3CDB8772E53EB',\n",
       "       'CCFC2D538DDFF519D893A6B966A1C4F1',\n",
       "       '40F4775D64533EE66E3E20AE64228661'], dtype=object)"
      ]
     },
     "execution_count": 8,
     "metadata": {},
     "output_type": "execute_result"
    }
   ],
   "source": [
    "# check unique values of clinicid\n",
    "appointments_df['clinicid'].unique()"
   ]
  },
  {
   "cell_type": "code",
   "execution_count": 9,
   "id": "be343974-ebf7-41f8-bde0-e70231a79d6f",
   "metadata": {},
   "outputs": [
    {
     "data": {
      "text/plain": [
       "0"
      ]
     },
     "execution_count": 9,
     "metadata": {},
     "output_type": "execute_result"
    }
   ],
   "source": [
    "# check for null values of clinicid\n",
    "appointments_df['clinicid'].isnull().sum()"
   ]
  },
  {
   "cell_type": "markdown",
   "id": "2f93f1b8-ad3a-470d-b743-3e82adc0ce88",
   "metadata": {},
   "source": [
    "### `doctorid` variable"
   ]
  },
  {
   "cell_type": "code",
   "execution_count": 10,
   "id": "793d74f7-e517-42a9-a7bd-8ca5b3419d6e",
   "metadata": {},
   "outputs": [
    {
     "data": {
      "text/plain": [
       "0          BB04AF0F7ECAEE4AAE62035497DA1387\n",
       "1          82AA4B0AF34C2313A562076992E50AA3\n",
       "2          82AA4B0AF34C2313A562076992E50AA3\n",
       "3          AD61AB143223EFBC24C7D2583BE69251\n",
       "4          AD61AB143223EFBC24C7D2583BE69251\n",
       "                         ...               \n",
       "9752927    B706835DE79A2B4E80506F582AF3676A\n",
       "9752928    B706835DE79A2B4E80506F582AF3676A\n",
       "9752929    B706835DE79A2B4E80506F582AF3676A\n",
       "9752930    B706835DE79A2B4E80506F582AF3676A\n",
       "9752931    B706835DE79A2B4E80506F582AF3676A\n",
       "Name: doctorid, Length: 9752932, dtype: object"
      ]
     },
     "execution_count": 10,
     "metadata": {},
     "output_type": "execute_result"
    }
   ],
   "source": [
    "# check values of doctorid\n",
    "appointments_df['doctorid']"
   ]
  },
  {
   "cell_type": "code",
   "execution_count": 11,
   "id": "85e17b1a-34c5-430e-80fc-667d38d34968",
   "metadata": {},
   "outputs": [
    {
     "data": {
      "text/plain": [
       "array(['BB04AF0F7ECAEE4AAE62035497DA1387',\n",
       "       '82AA4B0AF34C2313A562076992E50AA3',\n",
       "       'AD61AB143223EFBC24C7D2583BE69251', ...,\n",
       "       '69B4FA3BE19BDF400DF34E41B93636A4',\n",
       "       '4FC8ED929E539525E3590F1607718F97',\n",
       "       'B706835DE79A2B4E80506F582AF3676A'], dtype=object)"
      ]
     },
     "execution_count": 11,
     "metadata": {},
     "output_type": "execute_result"
    }
   ],
   "source": [
    "# check unique values of doctorid\n",
    "appointments_df['doctorid'].unique()"
   ]
  },
  {
   "cell_type": "code",
   "execution_count": 12,
   "id": "248d397d-87dc-4eaf-af5b-2fc17791a285",
   "metadata": {},
   "outputs": [
    {
     "data": {
      "text/plain": [
       "0"
      ]
     },
     "execution_count": 12,
     "metadata": {},
     "output_type": "execute_result"
    }
   ],
   "source": [
    "# check unique values of doctorid\n",
    "appointments_df['doctorid'].isnull().sum()"
   ]
  },
  {
   "cell_type": "markdown",
   "id": "b511c31c-139a-4ff9-a574-e7e7bba3a1d1",
   "metadata": {},
   "source": [
    "### `apptid` variable"
   ]
  },
  {
   "cell_type": "code",
   "execution_count": 13,
   "id": "a3cc4970-c56d-444c-b8e3-638c525d6d5b",
   "metadata": {},
   "outputs": [
    {
     "data": {
      "text/plain": [
       "0          C1CC0949B93D00A559F7A0BD38361E80\n",
       "1          6585A31C60A1886FBA1433C50012B504\n",
       "2          7250DCFF615E6580295C7E6ED4322371\n",
       "3          F5BBDCC08E39332F0AC27BB95CF1396A\n",
       "4          55783FB42A02DABC3B2ED239B924DC87\n",
       "                         ...               \n",
       "9752927    215A26E2E5B831D87C41A5C1CC382B1C\n",
       "9752928    E9EB60E3DA311FAE308A2DB53B6CCBAC\n",
       "9752929    EFE2DDFD855E2B4E1C67956CE1CE8A6E\n",
       "9752930    434410208F17F50143E1CE66E4CEF23F\n",
       "9752931    62D462EFFD157E70C4301E555962D44B\n",
       "Name: apptid, Length: 9752932, dtype: object"
      ]
     },
     "execution_count": 13,
     "metadata": {},
     "output_type": "execute_result"
    }
   ],
   "source": [
    "# check values of apptid\n",
    "appointments_df['apptid']"
   ]
  },
  {
   "cell_type": "code",
   "execution_count": 14,
   "id": "3293edf8-521e-448b-b287-86051fb7578c",
   "metadata": {},
   "outputs": [
    {
     "data": {
      "text/plain": [
       "array(['C1CC0949B93D00A559F7A0BD38361E80',\n",
       "       '6585A31C60A1886FBA1433C50012B504',\n",
       "       '7250DCFF615E6580295C7E6ED4322371', ...,\n",
       "       'EFE2DDFD855E2B4E1C67956CE1CE8A6E',\n",
       "       '434410208F17F50143E1CE66E4CEF23F',\n",
       "       '62D462EFFD157E70C4301E555962D44B'], dtype=object)"
      ]
     },
     "execution_count": 14,
     "metadata": {},
     "output_type": "execute_result"
    }
   ],
   "source": [
    "# check unique values of apptid\n",
    "appointments_df['apptid'].unique()"
   ]
  },
  {
   "cell_type": "code",
   "execution_count": 15,
   "id": "3df5000d-1b14-48ea-a6d6-50f55083d59e",
   "metadata": {},
   "outputs": [
    {
     "data": {
      "text/plain": [
       "0"
      ]
     },
     "execution_count": 15,
     "metadata": {},
     "output_type": "execute_result"
    }
   ],
   "source": [
    "# check unique values of apptid\n",
    "appointments_df['apptid'].isnull().sum()"
   ]
  },
  {
   "cell_type": "markdown",
   "id": "255c08b1-0bac-432a-852e-2bff4ebb4ced",
   "metadata": {},
   "source": [
    "### `status` variable"
   ]
  },
  {
   "cell_type": "code",
   "execution_count": 16,
   "id": "3ab94113-1131-446e-b0d0-b6a36848c091",
   "metadata": {},
   "outputs": [
    {
     "data": {
      "text/plain": [
       "0          Complete\n",
       "1            Queued\n",
       "2            Queued\n",
       "3            Queued\n",
       "4            Queued\n",
       "             ...   \n",
       "9752927      Queued\n",
       "9752928      Queued\n",
       "9752929      Queued\n",
       "9752930      Queued\n",
       "9752931      Queued\n",
       "Name: status, Length: 9752932, dtype: object"
      ]
     },
     "execution_count": 16,
     "metadata": {},
     "output_type": "execute_result"
    }
   ],
   "source": [
    "# check values of status\n",
    "appointments_df['status']"
   ]
  },
  {
   "cell_type": "code",
   "execution_count": 17,
   "id": "6d1446b2-583f-487c-b44b-2216ed78200f",
   "metadata": {},
   "outputs": [
    {
     "data": {
      "text/plain": [
       "array(['Complete', 'Queued', 'NoShow', 'Serving', 'Cancel', 'Skip',\n",
       "       'Completed', 'Admitted'], dtype=object)"
      ]
     },
     "execution_count": 17,
     "metadata": {},
     "output_type": "execute_result"
    }
   ],
   "source": [
    "# check unique values of status\n",
    "appointments_df['status'].unique()"
   ]
  },
  {
   "cell_type": "code",
   "execution_count": 18,
   "id": "520c1552-352b-432f-aac3-2b346c238f98",
   "metadata": {},
   "outputs": [
    {
     "data": {
      "text/plain": [
       "0"
      ]
     },
     "execution_count": 18,
     "metadata": {},
     "output_type": "execute_result"
    }
   ],
   "source": [
    "# check unique values of status\n",
    "appointments_df['status'].isnull().sum()"
   ]
  },
  {
   "cell_type": "markdown",
   "id": "31fe6f52-92d5-4421-9d6d-c974d5ad9538",
   "metadata": {},
   "source": [
    "### `TimeQueued` variable"
   ]
  },
  {
   "cell_type": "code",
   "execution_count": 19,
   "id": "22bf1593-1ecc-41f8-9950-ca217815f8ce",
   "metadata": {},
   "outputs": [
    {
     "data": {
      "text/plain": [
       "0                    2018-04-11 01:59:58\n",
       "1                    2018-04-10 10:34:16\n",
       "2                    2018-04-03 15:26:19\n",
       "3          2015-11-24 08:01:13.920000000\n",
       "4          2015-11-24 08:01:00.420000000\n",
       "                       ...              \n",
       "9752927    2023-11-20 00:34:25.337000000\n",
       "9752928    2023-12-05 07:51:25.443000000\n",
       "9752929    2024-01-04 06:11:06.437000000\n",
       "9752930    2024-01-13 06:12:54.737000000\n",
       "9752931    2024-01-04 00:45:05.063000000\n",
       "Name: TimeQueued, Length: 9752932, dtype: object"
      ]
     },
     "execution_count": 19,
     "metadata": {},
     "output_type": "execute_result"
    }
   ],
   "source": [
    "# check values of TimeQueued\n",
    "appointments_df['TimeQueued']"
   ]
  },
  {
   "cell_type": "code",
   "execution_count": 20,
   "id": "ba5f7bcd-58b6-4fbb-a038-8f978ea78c98",
   "metadata": {},
   "outputs": [
    {
     "data": {
      "text/plain": [
       "array(['2018-04-11 01:59:58', '2018-04-10 10:34:16',\n",
       "       '2018-04-03 15:26:19', ..., '2024-01-04 06:11:06.437000000',\n",
       "       '2024-01-13 06:12:54.737000000', '2024-01-04 00:45:05.063000000'],\n",
       "      dtype=object)"
      ]
     },
     "execution_count": 20,
     "metadata": {},
     "output_type": "execute_result"
    }
   ],
   "source": [
    "# check unique values of TimeQueued\n",
    "appointments_df['TimeQueued'].unique()"
   ]
  },
  {
   "cell_type": "code",
   "execution_count": 21,
   "id": "3dcab03b-b282-4681-a6a5-a9d6c8850fa4",
   "metadata": {},
   "outputs": [
    {
     "data": {
      "text/plain": [
       "0"
      ]
     },
     "execution_count": 21,
     "metadata": {},
     "output_type": "execute_result"
    }
   ],
   "source": [
    "# check unique values of TimeQueued\n",
    "appointments_df['TimeQueued'].isnull().sum()"
   ]
  },
  {
   "cell_type": "markdown",
   "id": "9bb3daa4-f521-4ae8-b30c-ba5b70577547",
   "metadata": {},
   "source": [
    "### `QueueDate` variable"
   ]
  },
  {
   "cell_type": "code",
   "execution_count": 22,
   "id": "8b0a4124-6355-463a-8e12-0c7b79038ef4",
   "metadata": {},
   "outputs": [
    {
     "data": {
      "text/plain": [
       "0          2018-04-10 16:00:00\n",
       "1          2018-04-08 16:00:00\n",
       "2          2018-03-30 16:00:00\n",
       "3                          NaN\n",
       "4                          NaN\n",
       "                  ...         \n",
       "9752927    2023-11-22 16:00:00\n",
       "9752928    2023-12-04 16:00:00\n",
       "9752929    2024-01-03 16:00:00\n",
       "9752930    2024-01-12 16:00:00\n",
       "9752931    2024-01-03 16:00:00\n",
       "Name: QueueDate, Length: 9752932, dtype: object"
      ]
     },
     "execution_count": 22,
     "metadata": {},
     "output_type": "execute_result"
    }
   ],
   "source": [
    "# check values of QueueDate\n",
    "appointments_df['QueueDate']"
   ]
  },
  {
   "cell_type": "code",
   "execution_count": 23,
   "id": "04f85cb1-9e25-4208-8524-5f0af318a186",
   "metadata": {},
   "outputs": [
    {
     "data": {
      "text/plain": [
       "array(['2018-04-10 16:00:00', '2018-04-08 16:00:00',\n",
       "       '2018-03-30 16:00:00', ..., '2026-01-22 16:00:00',\n",
       "       '2008-12-30 16:00:00', '2026-07-14 16:00:00'], dtype=object)"
      ]
     },
     "execution_count": 23,
     "metadata": {},
     "output_type": "execute_result"
    }
   ],
   "source": [
    "# check unique values of QueueDate\n",
    "appointments_df['QueueDate'].unique()"
   ]
  },
  {
   "cell_type": "code",
   "execution_count": 24,
   "id": "88a45f6a-42ac-43c3-b18c-3367cd24a590",
   "metadata": {},
   "outputs": [
    {
     "data": {
      "text/plain": [
       "18"
      ]
     },
     "execution_count": 24,
     "metadata": {},
     "output_type": "execute_result"
    }
   ],
   "source": [
    "# check unique values of QueueDate\n",
    "appointments_df['QueueDate'].isnull().sum()"
   ]
  },
  {
   "cell_type": "markdown",
   "id": "b875726f-e4d6-4db3-96f8-fdfa0c6500d0",
   "metadata": {},
   "source": [
    "### `StartTime` variable"
   ]
  },
  {
   "cell_type": "code",
   "execution_count": 25,
   "id": "b914bd66-7dca-4f40-b5c7-ede44287efe1",
   "metadata": {},
   "outputs": [
    {
     "data": {
      "text/plain": [
       "0                          NaN\n",
       "1          2018-04-09 10:33:00\n",
       "2          2018-03-31 15:25:00\n",
       "3                          NaN\n",
       "4                          NaN\n",
       "                  ...         \n",
       "9752927                    NaN\n",
       "9752928                    NaN\n",
       "9752929    2024-01-04 08:00:00\n",
       "9752930    2024-01-13 08:00:00\n",
       "9752931    2024-01-04 02:30:00\n",
       "Name: StartTime, Length: 9752932, dtype: object"
      ]
     },
     "execution_count": 25,
     "metadata": {},
     "output_type": "execute_result"
    }
   ],
   "source": [
    "# check values of StartTime\n",
    "appointments_df['StartTime']"
   ]
  },
  {
   "cell_type": "code",
   "execution_count": 26,
   "id": "4b7e2e2f-e935-4df8-a340-b5021fbabdcf",
   "metadata": {},
   "outputs": [
    {
     "data": {
      "text/plain": [
       "array([nan, '2018-04-09 10:33:00', '2018-03-31 15:25:00', ...,\n",
       "       '2023-07-20 07:30:33', '2023-08-08 08:00:55',\n",
       "       '2023-11-03 19:30:00'], dtype=object)"
      ]
     },
     "execution_count": 26,
     "metadata": {},
     "output_type": "execute_result"
    }
   ],
   "source": [
    "# check unique values of StartTime\n",
    "appointments_df['StartTime'].unique()"
   ]
  },
  {
   "cell_type": "code",
   "execution_count": 27,
   "id": "5f892ded-8c69-43e4-aff4-4e1899cbd8cd",
   "metadata": {},
   "outputs": [
    {
     "data": {
      "text/plain": [
       "5879400"
      ]
     },
     "execution_count": 27,
     "metadata": {},
     "output_type": "execute_result"
    }
   ],
   "source": [
    "# check unique values of StartTime\n",
    "appointments_df['StartTime'].isnull().sum()"
   ]
  },
  {
   "cell_type": "markdown",
   "id": "3269e99e-3a20-4f08-8e54-a551dd0a9c83",
   "metadata": {},
   "source": [
    "### `EndTime` variable"
   ]
  },
  {
   "cell_type": "code",
   "execution_count": 28,
   "id": "0680be02-c383-44a0-a514-f2b44719af50",
   "metadata": {},
   "outputs": [
    {
     "data": {
      "text/plain": [
       "0                          NaN\n",
       "1          2018-04-12 05:29:57\n",
       "2          2018-04-05 15:51:47\n",
       "3                          NaN\n",
       "4                          NaN\n",
       "                  ...         \n",
       "9752927                    NaN\n",
       "9752928                    NaN\n",
       "9752929    2024-01-04 08:15:00\n",
       "9752930    2024-01-13 08:15:00\n",
       "9752931    2024-01-04 02:45:00\n",
       "Name: EndTime, Length: 9752932, dtype: object"
      ]
     },
     "execution_count": 28,
     "metadata": {},
     "output_type": "execute_result"
    }
   ],
   "source": [
    "# check values of EndTime\n",
    "appointments_df['EndTime']"
   ]
  },
  {
   "cell_type": "code",
   "execution_count": 29,
   "id": "cf0cba19-29c2-4d18-af21-67a39c738baf",
   "metadata": {},
   "outputs": [
    {
     "data": {
      "text/plain": [
       "array([nan, '2018-04-12 05:29:57', '2018-04-05 15:51:47', ...,\n",
       "       '2023-07-20 07:45:33', '2023-08-08 08:15:55',\n",
       "       '2023-11-03 19:45:00'], dtype=object)"
      ]
     },
     "execution_count": 29,
     "metadata": {},
     "output_type": "execute_result"
    }
   ],
   "source": [
    "# check unique values of EndTime\n",
    "appointments_df['EndTime'].unique()"
   ]
  },
  {
   "cell_type": "code",
   "execution_count": 30,
   "id": "7a032e0e-41b2-4c2f-a397-d343d2b21f32",
   "metadata": {},
   "outputs": [
    {
     "data": {
      "text/plain": [
       "6036781"
      ]
     },
     "execution_count": 30,
     "metadata": {},
     "output_type": "execute_result"
    }
   ],
   "source": [
    "# check unique values of EndTime\n",
    "appointments_df['EndTime'].isnull().sum()"
   ]
  },
  {
   "cell_type": "markdown",
   "id": "8916a120-8717-4b3e-95ae-c6184e697918",
   "metadata": {},
   "source": [
    "### `type` variable"
   ]
  },
  {
   "cell_type": "code",
   "execution_count": 31,
   "id": "6a83d793-2586-4284-8af7-ca68a11c4535",
   "metadata": {},
   "outputs": [
    {
     "data": {
      "text/plain": [
       "0          Consultation\n",
       "1             Inpatient\n",
       "2             Inpatient\n",
       "3          Consultation\n",
       "4          Consultation\n",
       "               ...     \n",
       "9752927    Consultation\n",
       "9752928    Consultation\n",
       "9752929    Consultation\n",
       "9752930    Consultation\n",
       "9752931    Consultation\n",
       "Name: type, Length: 9752932, dtype: object"
      ]
     },
     "execution_count": 31,
     "metadata": {},
     "output_type": "execute_result"
    }
   ],
   "source": [
    "# check values of type\n",
    "appointments_df['type']"
   ]
  },
  {
   "cell_type": "code",
   "execution_count": 32,
   "id": "f90437d5-1464-43e4-a9ea-669be5dff986",
   "metadata": {},
   "outputs": [
    {
     "data": {
      "text/plain": [
       "array(['Consultation', 'Inpatient'], dtype=object)"
      ]
     },
     "execution_count": 32,
     "metadata": {},
     "output_type": "execute_result"
    }
   ],
   "source": [
    "# check unique values of type\n",
    "appointments_df['type'].unique()"
   ]
  },
  {
   "cell_type": "code",
   "execution_count": 33,
   "id": "eebbd13b-fbbb-424c-a779-c79a924813db",
   "metadata": {},
   "outputs": [
    {
     "data": {
      "text/plain": [
       "0"
      ]
     },
     "execution_count": 33,
     "metadata": {},
     "output_type": "execute_result"
    }
   ],
   "source": [
    "# check unique values of type\n",
    "appointments_df['type'].isnull().sum()"
   ]
  },
  {
   "cell_type": "markdown",
   "id": "b0a84da7-f652-4410-80a2-29f84c5e2077",
   "metadata": {},
   "source": [
    "### `Virtual` variable"
   ]
  },
  {
   "cell_type": "code",
   "execution_count": 34,
   "id": "6e53d58c-b0c0-492c-be11-bb219ea41d42",
   "metadata": {},
   "outputs": [
    {
     "data": {
      "text/plain": [
       "0            NaN\n",
       "1            NaN\n",
       "2            NaN\n",
       "3            NaN\n",
       "4            NaN\n",
       "           ...  \n",
       "9752927    False\n",
       "9752928    False\n",
       "9752929    False\n",
       "9752930    False\n",
       "9752931    False\n",
       "Name: Virtual, Length: 9752932, dtype: object"
      ]
     },
     "execution_count": 34,
     "metadata": {},
     "output_type": "execute_result"
    }
   ],
   "source": [
    "# check values of Virtual\n",
    "appointments_df['Virtual']"
   ]
  },
  {
   "cell_type": "code",
   "execution_count": 35,
   "id": "4be47a7a-a264-46f4-ab3f-878202126a76",
   "metadata": {},
   "outputs": [
    {
     "data": {
      "text/plain": [
       "array([nan, False, True], dtype=object)"
      ]
     },
     "execution_count": 35,
     "metadata": {},
     "output_type": "execute_result"
    }
   ],
   "source": [
    "# check unique values of Virtual\n",
    "appointments_df['Virtual'].unique()"
   ]
  },
  {
   "cell_type": "code",
   "execution_count": 36,
   "id": "512626f4-1b1c-4b7f-ad08-a8b07ebdc0d1",
   "metadata": {},
   "outputs": [
    {
     "data": {
      "text/plain": [
       "1952593"
      ]
     },
     "execution_count": 36,
     "metadata": {},
     "output_type": "execute_result"
    }
   ],
   "source": [
    "# check unique values of Virtual\n",
    "appointments_df['Virtual'].isnull().sum()"
   ]
  }
 ],
 "metadata": {
  "kernelspec": {
   "display_name": "Python 3 (ipykernel)",
   "language": "python",
   "name": "python3"
  },
  "language_info": {
   "codemirror_mode": {
    "name": "ipython",
    "version": 3
   },
   "file_extension": ".py",
   "mimetype": "text/x-python",
   "name": "python",
   "nbconvert_exporter": "python",
   "pygments_lexer": "ipython3",
   "version": "3.9.5"
  }
 },
 "nbformat": 4,
 "nbformat_minor": 5
}
