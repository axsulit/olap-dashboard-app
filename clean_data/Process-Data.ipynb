{
 "cells": [
  {
   "cell_type": "code",
   "execution_count": null,
   "id": "4b9e8522-5859-42ea-8452-e62f8f192ec1",
   "metadata": {},
   "outputs": [],
   "source": [
    "import numpy as np\n",
    "import pandas as pd\n",
    "import matplotlib.pyplot as plt\n",
    "import seaborn as sns\n",
    "\n",
    "# sets the theme of the charts\n",
    "plt.style.use('seaborn-v0_8-darkgrid')\n",
    "\n",
    "%matplotlib inline"
   ]
  },
  {
   "cell_type": "code",
   "execution_count": null,
   "id": "e0f4f1e3-31ba-4be1-b092-85dd125cbed8",
   "metadata": {},
   "outputs": [],
   "source": [
    "# imports the csv files\n",
    "appointments_df = pd.read_csv('appointments.csv', low_memory=False, encoding='unicode_escape')"
   ]
  },
  {
   "cell_type": "code",
   "execution_count": null,
   "id": "b2620b7c-2f7c-4557-9242-5d1186e1228c",
   "metadata": {},
   "outputs": [],
   "source": [
    "# checks the content of the csv files\n",
    "appointments_df.info()"
   ]
  },
  {
   "cell_type": "markdown",
   "id": "b46d635c-d346-489b-a572-954143feaece",
   "metadata": {
    "jp-MarkdownHeadingCollapsed": true
   },
   "source": [
    "### `pxid` variable"
   ]
  },
  {
   "cell_type": "code",
   "execution_count": null,
   "id": "ab000f8c-a396-44ec-b930-b8fce4584684",
   "metadata": {},
   "outputs": [],
   "source": [
    "# check values of pxid\n",
    "appointments_df['pxid']"
   ]
  },
  {
   "cell_type": "code",
   "execution_count": null,
   "id": "fc21783f-1c4f-45ea-96b7-8cd3214f0c27",
   "metadata": {},
   "outputs": [],
   "source": [
    "# check unique values of pxid\n",
    "appointments_df['pxid'].unique()"
   ]
  },
  {
   "cell_type": "code",
   "execution_count": null,
   "id": "3b1091f5-9f4c-49be-a592-2539cf9eb332",
   "metadata": {},
   "outputs": [],
   "source": [
    "# check value counts of pxid\n",
    "appointments_df['pxid'].value_counts()"
   ]
  },
  {
   "cell_type": "code",
   "execution_count": null,
   "id": "3e00f6f1-f26a-45af-9f8b-110c44a2b71c",
   "metadata": {},
   "outputs": [],
   "source": [
    "# check for null values of pxid\n",
    "pxid_count = appointments_df['pxid'].isnull().sum()"
   ]
  },
  {
   "cell_type": "markdown",
   "id": "83b3f27a-619d-463f-b2c2-f9e65860ea83",
   "metadata": {
    "jp-MarkdownHeadingCollapsed": true
   },
   "source": [
    "### `clinicid` variable"
   ]
  },
  {
   "cell_type": "code",
   "execution_count": null,
   "id": "990b5679-ca80-4ba3-bf9b-c1556a16d835",
   "metadata": {},
   "outputs": [],
   "source": [
    "# check values of clinicid\n",
    "appointments_df['clinicid']"
   ]
  },
  {
   "cell_type": "code",
   "execution_count": null,
   "id": "6af26979-b453-487f-9a27-79449299d551",
   "metadata": {},
   "outputs": [],
   "source": [
    "# check unique values of clinicid\n",
    "appointments_df['clinicid'].unique()"
   ]
  },
  {
   "cell_type": "code",
   "execution_count": null,
   "id": "eb8e45ee-ffc4-47c3-81b9-cf4f2c84a9c1",
   "metadata": {},
   "outputs": [],
   "source": [
    "# check value counts of clinicid\n",
    "appointments_df['clinicid'].value_counts()"
   ]
  },
  {
   "cell_type": "code",
   "execution_count": null,
   "id": "be343974-ebf7-41f8-bde0-e70231a79d6f",
   "metadata": {},
   "outputs": [],
   "source": [
    "# check for null values of clinicid\n",
    "appointments_df['clinicid'].isnull().sum()"
   ]
  },
  {
   "cell_type": "markdown",
   "id": "2f93f1b8-ad3a-470d-b743-3e82adc0ce88",
   "metadata": {
    "jp-MarkdownHeadingCollapsed": true
   },
   "source": [
    "### `doctorid` variable"
   ]
  },
  {
   "cell_type": "code",
   "execution_count": null,
   "id": "793d74f7-e517-42a9-a7bd-8ca5b3419d6e",
   "metadata": {},
   "outputs": [],
   "source": [
    "# check values of doctorid\n",
    "appointments_df['doctorid']"
   ]
  },
  {
   "cell_type": "code",
   "execution_count": null,
   "id": "85e17b1a-34c5-430e-80fc-667d38d34968",
   "metadata": {},
   "outputs": [],
   "source": [
    "# check unique values of doctorid\n",
    "appointments_df['doctorid'].unique()"
   ]
  },
  {
   "cell_type": "code",
   "execution_count": null,
   "id": "aded244f-9cef-42be-9b43-89af321888f3",
   "metadata": {},
   "outputs": [],
   "source": [
    "# check value counts of doctorid\n",
    "appointments_df['doctorid'].value_counts()"
   ]
  },
  {
   "cell_type": "code",
   "execution_count": null,
   "id": "248d397d-87dc-4eaf-af5b-2fc17791a285",
   "metadata": {},
   "outputs": [],
   "source": [
    "# check null values of doctorid\n",
    "appointments_df['doctorid'].isnull().sum()"
   ]
  },
  {
   "cell_type": "markdown",
   "id": "b511c31c-139a-4ff9-a574-e7e7bba3a1d1",
   "metadata": {
    "jp-MarkdownHeadingCollapsed": true
   },
   "source": [
    "### `apptid` variable"
   ]
  },
  {
   "cell_type": "code",
   "execution_count": null,
   "id": "a3cc4970-c56d-444c-b8e3-638c525d6d5b",
   "metadata": {},
   "outputs": [],
   "source": [
    "# check values of apptid\n",
    "appointments_df['apptid']"
   ]
  },
  {
   "cell_type": "code",
   "execution_count": null,
   "id": "3293edf8-521e-448b-b287-86051fb7578c",
   "metadata": {},
   "outputs": [],
   "source": [
    "# check unique values of apptid\n",
    "appointments_df['apptid'].unique()"
   ]
  },
  {
   "cell_type": "code",
   "execution_count": null,
   "id": "4501bcd2-6a7f-45b2-ae39-6d0e3a4aab53",
   "metadata": {},
   "outputs": [],
   "source": [
    "# check value counts of apptid\n",
    "appointments_df['apptid'].value_counts()"
   ]
  },
  {
   "cell_type": "code",
   "execution_count": null,
   "id": "3df5000d-1b14-48ea-a6d6-50f55083d59e",
   "metadata": {},
   "outputs": [],
   "source": [
    "# check null values of apptid\n",
    "appointments_df['apptid'].isnull().sum()"
   ]
  },
  {
   "cell_type": "markdown",
   "id": "255c08b1-0bac-432a-852e-2bff4ebb4ced",
   "metadata": {
    "jp-MarkdownHeadingCollapsed": true
   },
   "source": [
    "### `status` variable"
   ]
  },
  {
   "cell_type": "code",
   "execution_count": null,
   "id": "3ab94113-1131-446e-b0d0-b6a36848c091",
   "metadata": {},
   "outputs": [],
   "source": [
    "# check values of status\n",
    "appointments_df['status']"
   ]
  },
  {
   "cell_type": "code",
   "execution_count": null,
   "id": "6d1446b2-583f-487c-b44b-2216ed78200f",
   "metadata": {},
   "outputs": [],
   "source": [
    "# check unique values of status\n",
    "appointments_df['status'].unique()"
   ]
  },
  {
   "cell_type": "code",
   "execution_count": null,
   "id": "3d5f9006-5611-4b8b-99fc-65268b9375eb",
   "metadata": {},
   "outputs": [],
   "source": [
    "# check count for status since there are two values for 'Complete'\n",
    "status_vc = appointments_df['status'].value_counts()\n",
    "print(status_vc)"
   ]
  },
  {
   "cell_type": "code",
   "execution_count": null,
   "id": "ecaa5a27-ac49-42f4-afbf-7f8c820917ef",
   "metadata": {},
   "outputs": [],
   "source": [
    "# replace Completed with Complete\n",
    "appointments_df['status'] = appointments_df['status'].replace({'Completed': 'Complete'}, regex=True)\n",
    "status_vc = appointments_df['status'].value_counts()\n",
    "print(status_vc)"
   ]
  },
  {
   "cell_type": "code",
   "execution_count": null,
   "id": "520c1552-352b-432f-aac3-2b346c238f98",
   "metadata": {},
   "outputs": [],
   "source": [
    "# check null values of status\n",
    "appointments_df['status'].isnull().sum()"
   ]
  },
  {
   "cell_type": "markdown",
   "id": "31fe6f52-92d5-4421-9d6d-c974d5ad9538",
   "metadata": {
    "jp-MarkdownHeadingCollapsed": true
   },
   "source": [
    "### `TimeQueued` variable"
   ]
  },
  {
   "cell_type": "code",
   "execution_count": null,
   "id": "22bf1593-1ecc-41f8-9950-ca217815f8ce",
   "metadata": {},
   "outputs": [],
   "source": [
    "# check values of TimeQueued\n",
    "appointments_df['TimeQueued']"
   ]
  },
  {
   "cell_type": "code",
   "execution_count": null,
   "id": "ba5f7bcd-58b6-4fbb-a038-8f978ea78c98",
   "metadata": {},
   "outputs": [],
   "source": [
    "# check unique values of TimeQueued\n",
    "appointments_df['TimeQueued'].unique()"
   ]
  },
  {
   "cell_type": "code",
   "execution_count": null,
   "id": "e33b1200-a749-441c-bfc4-1485eace57de",
   "metadata": {},
   "outputs": [],
   "source": [
    "# check value counts of TimeQueued\n",
    "appointments_df['TimeQueued'].value_counts()"
   ]
  },
  {
   "cell_type": "code",
   "execution_count": null,
   "id": "3dcab03b-b282-4681-a6a5-a9d6c8850fa4",
   "metadata": {},
   "outputs": [],
   "source": [
    "# check null values of TimeQueued\n",
    "appointments_df['TimeQueued'].isnull().sum()"
   ]
  },
  {
   "cell_type": "markdown",
   "id": "9bb3daa4-f521-4ae8-b30c-ba5b70577547",
   "metadata": {},
   "source": [
    "### `QueueDate` variable"
   ]
  },
  {
   "cell_type": "code",
   "execution_count": null,
   "id": "8b0a4124-6355-463a-8e12-0c7b79038ef4",
   "metadata": {},
   "outputs": [],
   "source": [
    "# check values of QueueDate\n",
    "appointments_df['QueueDate']"
   ]
  },
  {
   "cell_type": "code",
   "execution_count": null,
   "id": "04f85cb1-9e25-4208-8524-5f0af318a186",
   "metadata": {},
   "outputs": [],
   "source": [
    "# check unique values of QueueDate\n",
    "appointments_df['QueueDate'].unique()"
   ]
  },
  {
   "cell_type": "code",
   "execution_count": null,
   "id": "7923da57-85dd-4344-9d93-963408167cf4",
   "metadata": {},
   "outputs": [],
   "source": [
    "# check value counts of QueueDate\n",
    "appointments_df['QueueDate'].value_counts()"
   ]
  },
  {
   "cell_type": "code",
   "execution_count": null,
   "id": "ed1771a8-a672-43af-8ae4-e84b6e040025",
   "metadata": {},
   "outputs": [],
   "source": [
    "import datetime\n",
    "\n",
    "# Function to convert datetime to date, removing time\n",
    "remove_time = lambda s: datetime.datetime.strptime(s, '%Y-%m-%d %H:%M:%S').date() \\\n",
    "                         if isinstance(s, str) and s.count(' ') >  0 \\\n",
    "                         else datetime.datetime.strptime(s, '%Y-%m-%d').date() if isinstance(s, str) \\\n",
    "                         else None  # or another value to represent a missing date\n",
    "\n",
    "# Apply the function to the 'QueueDate' column\n",
    "appointments_df['QueueDate'] = appointments_df['QueueDate'].apply(remove_time)\n",
    "\n",
    "print(appointments_df['QueueDate'])"
   ]
  },
  {
   "cell_type": "code",
   "execution_count": null,
   "id": "88a45f6a-42ac-43c3-b18c-3367cd24a590",
   "metadata": {},
   "outputs": [],
   "source": [
    "# check null values of QueueDate\n",
    "appointments_df['QueueDate'].isnull().sum()"
   ]
  },
  {
   "cell_type": "markdown",
   "id": "b875726f-e4d6-4db3-96f8-fdfa0c6500d0",
   "metadata": {
    "jp-MarkdownHeadingCollapsed": true
   },
   "source": [
    "### `StartTime` variable"
   ]
  },
  {
   "cell_type": "code",
   "execution_count": null,
   "id": "b914bd66-7dca-4f40-b5c7-ede44287efe1",
   "metadata": {},
   "outputs": [],
   "source": [
    "# check values of StartTime\n",
    "appointments_df['StartTime']"
   ]
  },
  {
   "cell_type": "code",
   "execution_count": null,
   "id": "4b7e2e2f-e935-4df8-a340-b5021fbabdcf",
   "metadata": {},
   "outputs": [],
   "source": [
    "# check unique values of StartTime\n",
    "appointments_df['StartTime'].unique()"
   ]
  },
  {
   "cell_type": "code",
   "execution_count": null,
   "id": "e05ac944-aeed-40bf-9db0-bea2384b8778",
   "metadata": {},
   "outputs": [],
   "source": [
    "# check value counts of StartTime\n",
    "appointments_df['StartTime'].value_counts()"
   ]
  },
  {
   "cell_type": "code",
   "execution_count": null,
   "id": "5f892ded-8c69-43e4-aff4-4e1899cbd8cd",
   "metadata": {},
   "outputs": [],
   "source": [
    "# check null values of StartTime\n",
    "appointments_df['StartTime'].isnull().sum()"
   ]
  },
  {
   "cell_type": "markdown",
   "id": "3269e99e-3a20-4f08-8e54-a551dd0a9c83",
   "metadata": {
    "jp-MarkdownHeadingCollapsed": true
   },
   "source": [
    "### `EndTime` variable"
   ]
  },
  {
   "cell_type": "code",
   "execution_count": null,
   "id": "0680be02-c383-44a0-a514-f2b44719af50",
   "metadata": {},
   "outputs": [],
   "source": [
    "# check values of EndTime\n",
    "appointments_df['EndTime']"
   ]
  },
  {
   "cell_type": "code",
   "execution_count": null,
   "id": "cf0cba19-29c2-4d18-af21-67a39c738baf",
   "metadata": {},
   "outputs": [],
   "source": [
    "# check unique values of EndTime\n",
    "appointments_df['EndTime'].unique()"
   ]
  },
  {
   "cell_type": "code",
   "execution_count": null,
   "id": "1c5c6aae-2f47-4f17-ada5-af6016cdc531",
   "metadata": {},
   "outputs": [],
   "source": [
    "# check value counts of EndTime\n",
    "appointments_df['EndTime'].value_counts()"
   ]
  },
  {
   "cell_type": "code",
   "execution_count": null,
   "id": "7a032e0e-41b2-4c2f-a397-d343d2b21f32",
   "metadata": {},
   "outputs": [],
   "source": [
    "# check null values of EndTime\n",
    "appointments_df['EndTime'].isnull().sum()"
   ]
  },
  {
   "cell_type": "markdown",
   "id": "8916a120-8717-4b3e-95ae-c6184e697918",
   "metadata": {
    "jp-MarkdownHeadingCollapsed": true
   },
   "source": [
    "### `type` variable"
   ]
  },
  {
   "cell_type": "code",
   "execution_count": null,
   "id": "6a83d793-2586-4284-8af7-ca68a11c4535",
   "metadata": {},
   "outputs": [],
   "source": [
    "# check values of type\n",
    "appointments_df['type']"
   ]
  },
  {
   "cell_type": "code",
   "execution_count": null,
   "id": "f90437d5-1464-43e4-a9ea-669be5dff986",
   "metadata": {},
   "outputs": [],
   "source": [
    "# check unique values of type\n",
    "appointments_df['type'].unique()"
   ]
  },
  {
   "cell_type": "code",
   "execution_count": null,
   "id": "8c0d03a4-c0eb-436d-82e3-f5f951d70933",
   "metadata": {},
   "outputs": [],
   "source": [
    "type_vc = appointments_df['type'].value_counts()\n",
    "print(type_vc)"
   ]
  },
  {
   "cell_type": "code",
   "execution_count": null,
   "id": "eebbd13b-fbbb-424c-a779-c79a924813db",
   "metadata": {},
   "outputs": [],
   "source": [
    "# check null values of type\n",
    "appointments_df['type'].isnull().sum()"
   ]
  },
  {
   "cell_type": "markdown",
   "id": "b0a84da7-f652-4410-80a2-29f84c5e2077",
   "metadata": {
    "jp-MarkdownHeadingCollapsed": true
   },
   "source": [
    "### `Virtual` variable"
   ]
  },
  {
   "cell_type": "code",
   "execution_count": null,
   "id": "6e53d58c-b0c0-492c-be11-bb219ea41d42",
   "metadata": {},
   "outputs": [],
   "source": [
    "# check values of Virtual\n",
    "appointments_df['Virtual']"
   ]
  },
  {
   "cell_type": "code",
   "execution_count": null,
   "id": "4be47a7a-a264-46f4-ab3f-878202126a76",
   "metadata": {},
   "outputs": [],
   "source": [
    "# check unique values of Virtual\n",
    "appointments_df['Virtual'].unique()"
   ]
  },
  {
   "cell_type": "code",
   "execution_count": null,
   "id": "8796ca80-ef03-42c7-85c6-ff14f2f539fa",
   "metadata": {},
   "outputs": [],
   "source": [
    "virtual_vc = appointments_df['Virtual'].value_counts()\n",
    "print(virtual_vc)"
   ]
  },
  {
   "cell_type": "code",
   "execution_count": null,
   "id": "512626f4-1b1c-4b7f-ad08-a8b07ebdc0d1",
   "metadata": {},
   "outputs": [],
   "source": [
    "# check null values of Virtual\n",
    "appointments_df['Virtual'].isnull().sum()"
   ]
  },
  {
   "cell_type": "markdown",
   "id": "45121e32-12e7-4998-b7a8-af48ffbd28a0",
   "metadata": {},
   "source": [
    "### Exporting Files"
   ]
  },
  {
   "cell_type": "code",
   "execution_count": null,
   "id": "12973279-878f-4a86-84b5-ca55f73942b3",
   "metadata": {},
   "outputs": [],
   "source": [
    "# Select the column you want to export\n",
    "selected_column = appointments_df['QueueDate']\n",
    "\n",
    "# Write the selected column to a new CSV file\n",
    "selected_column.to_csv('newfile2.csv', index=False)"
   ]
  },
  {
   "cell_type": "code",
   "execution_count": null,
   "id": "8f887146-d409-4b95-933c-ced36ef51544",
   "metadata": {},
   "outputs": [],
   "source": []
  }
 ],
 "metadata": {
  "kernelspec": {
   "display_name": "Python 3 (ipykernel)",
   "language": "python",
   "name": "python3"
  },
  "language_info": {
   "codemirror_mode": {
    "name": "ipython",
    "version": 3
   },
   "file_extension": ".py",
   "mimetype": "text/x-python",
   "name": "python",
   "nbconvert_exporter": "python",
   "pygments_lexer": "ipython3",
   "version": "3.9.5"
  }
 },
 "nbformat": 4,
 "nbformat_minor": 5
}
