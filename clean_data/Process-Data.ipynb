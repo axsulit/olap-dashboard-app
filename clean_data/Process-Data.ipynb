{
 "cells": [
  {
   "cell_type": "code",
   "execution_count": null,
   "id": "4b9e8522-5859-42ea-8452-e62f8f192ec1",
   "metadata": {},
   "outputs": [],
   "source": [
    "import numpy as np\n",
    "import pandas as pd\n",
    "import matplotlib.pyplot as plt\n",
    "import seaborn as sns\n",
    "import re\n",
    "\n",
    "# sets the theme of the charts\n",
    "plt.style.use('seaborn-v0_8-darkgrid')\n",
    "\n",
    "%matplotlib inline"
   ]
  },
  {
   "cell_type": "code",
   "execution_count": null,
   "id": "e0f4f1e3-31ba-4be1-b092-85dd125cbed8",
   "metadata": {},
   "outputs": [],
   "source": [
    "# imports the csv files\n",
    "px_df = pd.read_csv('px.csv', low_memory=False)\n",
    "doctors_df = pd.read_csv('doctors.csv', low_memory=False, encoding='unicode_escape')\n",
    "clinics_df = pd.read_csv('clinics.csv', low_memory=False, encoding='unicode_escape')\n",
    "# appointments_df = pd.read_csv('appointments.csv', low_memory=False, encoding='unicode_escape')"
   ]
  },
  {
   "cell_type": "code",
   "execution_count": null,
   "id": "b2620b7c-2f7c-4557-9242-5d1186e1228c",
   "metadata": {},
   "outputs": [],
   "source": [
    "# checks the content of the csv files\n",
    "px_df.info()\n",
    "doctors_df.info()\n",
    "clinics_df.info()\n",
    "# appointments_df.info()"
   ]
  },
  {
   "cell_type": "markdown",
   "id": "a1cfe9c4",
   "metadata": {},
   "source": [
    "# px Dataset"
   ]
  },
  {
   "cell_type": "markdown",
   "id": "9b01e009",
   "metadata": {},
   "source": [
    "1. `pxid`: unique identifier assigned to each patient.\n",
    "2. `age`: age of each patient at the time of record collection.\n",
    "3. `gender`: gender of each patient."
   ]
  },
  {
   "cell_type": "code",
   "execution_count": null,
   "id": "ab000f8c-a396-44ec-b930-b8fce4584684",
   "metadata": {},
   "outputs": [],
   "source": [
    "px_df"
   ]
  },
  {
   "cell_type": "markdown",
   "id": "5ad3901c",
   "metadata": {},
   "source": [
    "### `pxid` data cleaning"
   ]
  },
  {
   "cell_type": "code",
   "execution_count": null,
   "id": "c6aa1759",
   "metadata": {},
   "outputs": [],
   "source": [
    "# check for duplicate values\n",
    "print(\"duplicate rows:\", px_df['pxid'].duplicated().sum())"
   ]
  },
  {
   "cell_type": "code",
   "execution_count": null,
   "id": "6610b421",
   "metadata": {},
   "outputs": [],
   "source": [
    "duplicated_rows = px_df[px_df.duplicated()]\n",
    "print(duplicated_rows)"
   ]
  },
  {
   "cell_type": "code",
   "execution_count": null,
   "id": "4f6b68b9",
   "metadata": {},
   "outputs": [],
   "source": [
    "# drop duplicate rows\n",
    "px_df = px_df.drop_duplicates()"
   ]
  },
  {
   "cell_type": "code",
   "execution_count": null,
   "id": "4161940d",
   "metadata": {},
   "outputs": [],
   "source": [
    "px_df['pxid']"
   ]
  },
  {
   "cell_type": "code",
   "execution_count": null,
   "id": "ac95a1b3",
   "metadata": {},
   "outputs": [],
   "source": [
    "# check for missing values\n",
    "print(\"duplicate rows:\", px_df.duplicated().sum())\n",
    "\n",
    "# check for missing values\n",
    "print(\"no. of missing values: \", px_df['pxid'].isnull().sum())\n",
    "\n",
    "# check for non-string values\n",
    "print(\"no. of non-string values: \", px_df['pxid'].apply(type).ne(str).sum())"
   ]
  },
  {
   "cell_type": "markdown",
   "id": "d203ab71",
   "metadata": {},
   "source": [
    "### `age` data cleaning"
   ]
  },
  {
   "cell_type": "code",
   "execution_count": null,
   "id": "ee31d13e",
   "metadata": {},
   "outputs": [],
   "source": [
    "px_df['age']"
   ]
  },
  {
   "cell_type": "code",
   "execution_count": null,
   "id": "c2987b82",
   "metadata": {},
   "outputs": [],
   "source": [
    "# check for missing values\n",
    "print(\"no. of missing values: \", px_df['age'].isnull().sum())\n",
    "\n",
    "# check for non-string values\n",
    "print(\"no. of non-string values: \", px_df['age'].apply(type).ne(str).sum())\n",
    "\n",
    "# check for values with special characters\n",
    "print(\"no. of values with special characters: \", px_df['age'].str.contains(r'[^0-9]').sum())"
   ]
  },
  {
   "cell_type": "code",
   "execution_count": null,
   "id": "4fd0693e",
   "metadata": {},
   "outputs": [],
   "source": [
    "# filter out rows with empty values\n",
    "mask = px_df['age'].notna()\n",
    "\n",
    "# find rows with special characters\n",
    "rows_with_special_chars = px_df[mask & px_df['age'].str.contains(r'[^0-9]')]\n",
    "\n",
    "print(\"Values with special characters in 'age' column:\")\n",
    "print(rows_with_special_chars['age'])"
   ]
  },
  {
   "cell_type": "code",
   "execution_count": null,
   "id": "4deb41ec",
   "metadata": {},
   "outputs": [],
   "source": [
    "# converting negative values to null values\n",
    "px_df.loc[rows_with_special_chars.index, 'age'] = np.nan\n",
    "print(\"Number of null values:\", px_df['age'].isnull().sum())"
   ]
  },
  {
   "cell_type": "code",
   "execution_count": null,
   "id": "046db267",
   "metadata": {},
   "outputs": [],
   "source": [
    "# converting dtype to float64\n",
    "px_df['age'] = pd.to_numeric(px_df['age'], errors='coerce')\n",
    "\n",
    "# Convert the 'age' column to float64\n",
    "px_df['age'] = px_df['age'].astype(float)\n",
    "# Display the data type of the 'age' column after conversion\n",
    "print(\"Data type after conversion:\", px_df['age'].dtype)"
   ]
  },
  {
   "cell_type": "code",
   "execution_count": null,
   "id": "2d309b06",
   "metadata": {},
   "outputs": [],
   "source": [
    "px_df['age']"
   ]
  },
  {
   "cell_type": "code",
   "execution_count": null,
   "id": "3bfa83b4",
   "metadata": {},
   "outputs": [],
   "source": [
    "# check for non-float values\n",
    "print(\"no. of non-float values: \", px_df['age'].apply(type).ne(float).sum())"
   ]
  },
  {
   "cell_type": "code",
   "execution_count": null,
   "id": "9285303e",
   "metadata": {},
   "outputs": [],
   "source": [
    "# verify that negative values are converted to empty strings\n",
    "print(\"Number of negative values after conversion:\", (px_df['age'] < 0).sum())"
   ]
  },
  {
   "cell_type": "code",
   "execution_count": null,
   "id": "229dc88e",
   "metadata": {},
   "outputs": [],
   "source": [
    "# remove outliers (age > 100)\n",
    "px_df = px_df[px_df['age'] <= 100]\n",
    "px_df['age']"
   ]
  },
  {
   "cell_type": "code",
   "execution_count": null,
   "id": "15f70295",
   "metadata": {},
   "outputs": [],
   "source": [
    "# convert data type to integer\n",
    "px_df['age'] = px_df['age'].astype(int)\n",
    "px_df['age']"
   ]
  },
  {
   "cell_type": "markdown",
   "id": "7129f4e8",
   "metadata": {},
   "source": [
    "### `gender` data cleaning"
   ]
  },
  {
   "cell_type": "code",
   "execution_count": null,
   "id": "107ffaf2",
   "metadata": {},
   "outputs": [],
   "source": [
    "px_df['gender']"
   ]
  },
  {
   "cell_type": "code",
   "execution_count": null,
   "id": "a128f48f",
   "metadata": {},
   "outputs": [],
   "source": [
    "# check for missing values\n",
    "print(\"no. of missing values: \", px_df['gender'].isnull().sum())\n",
    "\n",
    "# check for non-string values\n",
    "print(\"no. of non-string values: \", px_df['gender'].apply(type).ne(str).sum())"
   ]
  },
  {
   "cell_type": "code",
   "execution_count": null,
   "id": "60dda9b9",
   "metadata": {},
   "outputs": [],
   "source": [
    "# check for unique values\n",
    "print(px_df['gender'].unique())"
   ]
  },
  {
   "cell_type": "code",
   "execution_count": null,
   "id": "7dc9f0af",
   "metadata": {},
   "outputs": [],
   "source": [
    "print(px_df[px_df['gender'] == 'gender'])"
   ]
  },
  {
   "cell_type": "code",
   "execution_count": null,
   "id": "c64579f7",
   "metadata": {},
   "outputs": [],
   "source": [
    "# remove the duplicate title row from the dataframe\n",
    "px_df = px_df[px_df['gender'] != 'gender']\n",
    "\n",
    "# check for unique values\n",
    "print(px_df['gender'].unique())"
   ]
  },
  {
   "cell_type": "code",
   "execution_count": null,
   "id": "79a1d740",
   "metadata": {},
   "outputs": [],
   "source": [
    "px_df.info()"
   ]
  },
  {
   "cell_type": "code",
   "execution_count": null,
   "id": "8dd925bc",
   "metadata": {},
   "outputs": [],
   "source": [
    "px_df"
   ]
  },
  {
   "cell_type": "code",
   "execution_count": null,
   "id": "750084b2",
   "metadata": {},
   "outputs": [],
   "source": [
    "# Save cleaned DataFrame to a CSV file\n",
    "px_df.to_csv('px_cleaned.csv', index=False)"
   ]
  },
  {
   "cell_type": "code",
   "execution_count": null,
   "id": "46cafb61",
   "metadata": {},
   "outputs": [],
   "source": []
  }
 ],
 "metadata": {
  "kernelspec": {
   "display_name": "Python 3 (ipykernel)",
   "language": "python",
   "name": "python3"
  },
  "language_info": {
   "codemirror_mode": {
    "name": "ipython",
    "version": 3
   },
   "file_extension": ".py",
   "mimetype": "text/x-python",
   "name": "python",
   "nbconvert_exporter": "python",
   "pygments_lexer": "ipython3",
   "version": "3.10.1"
  }
 },
 "nbformat": 4,
 "nbformat_minor": 5
}
