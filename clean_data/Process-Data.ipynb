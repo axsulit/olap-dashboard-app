{
 "cells": [
  {
   "cell_type": "code",
   "execution_count": 72,
   "id": "d4270ea5-e797-4c12-b0bf-c6dbf2bd4299",
   "metadata": {},
   "outputs": [],
   "source": [
    "appointments_df['TimeQueued'] = appointments_df['TimeQueued'].dt.tz_localize(None)\n",
    "appointments_df['QueueDate'] = appointments_df['QueueDate'].dt.tz_localize(None)\n",
    "appointments_df['StartTime'] = appointments_df['StartTime'].dt.tz_localize(None)\n",
    "appointments_df['EndTime'] = appointments_df['EndTime'].dt.tz_localize(None)"
   ]
  },
  {
   "cell_type": "code",
   "execution_count": 73,
   "id": "b2620b7c-2f7c-4557-9242-5d1186e1228c",
   "metadata": {},
   "outputs": [
    {
     "name": "stdout",
     "output_type": "stream",
     "text": [
      "<class 'pandas.core.frame.DataFrame'>\n",
      "Index: 1591655 entries, 1 to 9752931\n",
      "Data columns (total 11 columns):\n",
      " #   Column      Non-Null Count    Dtype         \n",
      "---  ------      --------------    -----         \n",
      " 0   pxid        1591655 non-null  object        \n",
      " 1   clinicid    1591655 non-null  object        \n",
      " 2   doctorid    1591655 non-null  object        \n",
      " 3   apptid      1591655 non-null  object        \n",
      " 4   status      1591655 non-null  object        \n",
      " 5   TimeQueued  1591655 non-null  datetime64[ns]\n",
      " 6   QueueDate   1591655 non-null  datetime64[ns]\n",
      " 7   StartTime   1591655 non-null  datetime64[ns]\n",
      " 8   EndTime     1591655 non-null  datetime64[ns]\n",
      " 9   type        1591655 non-null  object        \n",
      " 10  Virtual     1591655 non-null  object        \n",
      "dtypes: datetime64[ns](4), object(7)\n",
      "memory usage: 145.7+ MB\n"
     ]
    }
   ],
   "source": [
    "# checks the content of the csv files\n",
    "appointments_df.info()"
   ]
  },
  {
   "cell_type": "code",
   "execution_count": 6,
   "id": "5ef29a58-f4c4-4c5e-9ac4-cc3e6f9e0468",
   "metadata": {},
   "outputs": [],
   "source": [
    "appointments_df_copy = appointments_df"
   ]
  },
  {
   "cell_type": "code",
   "execution_count": 74,
   "id": "46185bc1-2b82-4637-82bb-7977202fc60a",
   "metadata": {},
   "outputs": [
    {
     "data": {
      "text/html": [
       "<div>\n",
       "<style scoped>\n",
       "    .dataframe tbody tr th:only-of-type {\n",
       "        vertical-align: middle;\n",
       "    }\n",
       "\n",
       "    .dataframe tbody tr th {\n",
       "        vertical-align: top;\n",
       "    }\n",
       "\n",
       "    .dataframe thead th {\n",
       "        text-align: right;\n",
       "    }\n",
       "</style>\n",
       "<table border=\"1\" class=\"dataframe\">\n",
       "  <thead>\n",
       "    <tr style=\"text-align: right;\">\n",
       "      <th></th>\n",
       "      <th>pxid</th>\n",
       "      <th>clinicid</th>\n",
       "      <th>doctorid</th>\n",
       "      <th>apptid</th>\n",
       "      <th>status</th>\n",
       "      <th>TimeQueued</th>\n",
       "      <th>QueueDate</th>\n",
       "      <th>StartTime</th>\n",
       "      <th>EndTime</th>\n",
       "      <th>type</th>\n",
       "      <th>Virtual</th>\n",
       "    </tr>\n",
       "  </thead>\n",
       "  <tbody>\n",
       "    <tr>\n",
       "      <th>1</th>\n",
       "      <td>EAE3C87D0B33351272F2E9B9B1B56217</td>\n",
       "      <td>1E0F65EB20ACBFB27EE05DDC000B50EC</td>\n",
       "      <td>82AA4B0AF34C2313A562076992E50AA3</td>\n",
       "      <td>6585A31C60A1886FBA1433C50012B504</td>\n",
       "      <td>Queued</td>\n",
       "      <td>2018-04-10 18:34:16</td>\n",
       "      <td>2018-04-09</td>\n",
       "      <td>2018-04-09 18:33:00</td>\n",
       "      <td>2018-04-12 13:29:57</td>\n",
       "      <td>Inpatient</td>\n",
       "      <td>False</td>\n",
       "    </tr>\n",
       "    <tr>\n",
       "      <th>2</th>\n",
       "      <td>7C5C93809D626CC702D08F33985B2B58</td>\n",
       "      <td>1E0F65EB20ACBFB27EE05DDC000B50EC</td>\n",
       "      <td>82AA4B0AF34C2313A562076992E50AA3</td>\n",
       "      <td>7250DCFF615E6580295C7E6ED4322371</td>\n",
       "      <td>Queued</td>\n",
       "      <td>2018-04-03 23:26:19</td>\n",
       "      <td>2018-03-31</td>\n",
       "      <td>2018-03-31 23:25:00</td>\n",
       "      <td>2018-04-05 23:51:47</td>\n",
       "      <td>Inpatient</td>\n",
       "      <td>False</td>\n",
       "    </tr>\n",
       "    <tr>\n",
       "      <th>29</th>\n",
       "      <td>AEDCF41DC52D12E251432E7AD7F1B63D</td>\n",
       "      <td>E3D2B39D8BC215F6540218D20280232A</td>\n",
       "      <td>6EB887126D24E8F1CD8AD5033482C781</td>\n",
       "      <td>3C97ED8DEB47F647CCB03EBD4EF29454</td>\n",
       "      <td>Queued</td>\n",
       "      <td>2021-02-03 12:57:56</td>\n",
       "      <td>2021-02-03</td>\n",
       "      <td>2021-02-03 13:30:00</td>\n",
       "      <td>2021-02-03 13:45:00</td>\n",
       "      <td>Consultation</td>\n",
       "      <td>True</td>\n",
       "    </tr>\n",
       "    <tr>\n",
       "      <th>32</th>\n",
       "      <td>5A6901F2FA4BD45CAE61DBE9AF5C77E5</td>\n",
       "      <td>E3D2B39D8BC215F6540218D20280232A</td>\n",
       "      <td>6EB887126D24E8F1CD8AD5033482C781</td>\n",
       "      <td>BECFD8A5DE525178D6D6A1AF9F286DFC</td>\n",
       "      <td>Complete</td>\n",
       "      <td>2021-05-04 12:45:32</td>\n",
       "      <td>2021-05-04</td>\n",
       "      <td>2021-05-04 19:00:00</td>\n",
       "      <td>2021-05-04 19:15:00</td>\n",
       "      <td>Consultation</td>\n",
       "      <td>True</td>\n",
       "    </tr>\n",
       "    <tr>\n",
       "      <th>34</th>\n",
       "      <td>4279B2E57C678E5D05055BB660037292</td>\n",
       "      <td>E3D2B39D8BC215F6540218D20280232A</td>\n",
       "      <td>6EB887126D24E8F1CD8AD5033482C781</td>\n",
       "      <td>164D322138305803002D9BC9E03059BF</td>\n",
       "      <td>Complete</td>\n",
       "      <td>2021-05-19 12:10:19</td>\n",
       "      <td>2021-05-19</td>\n",
       "      <td>2021-05-19 13:15:00</td>\n",
       "      <td>2021-05-19 13:30:00</td>\n",
       "      <td>Consultation</td>\n",
       "      <td>False</td>\n",
       "    </tr>\n",
       "    <tr>\n",
       "      <th>...</th>\n",
       "      <td>...</td>\n",
       "      <td>...</td>\n",
       "      <td>...</td>\n",
       "      <td>...</td>\n",
       "      <td>...</td>\n",
       "      <td>...</td>\n",
       "      <td>...</td>\n",
       "      <td>...</td>\n",
       "      <td>...</td>\n",
       "      <td>...</td>\n",
       "      <td>...</td>\n",
       "    </tr>\n",
       "    <tr>\n",
       "      <th>9752921</th>\n",
       "      <td>258FB9CE51FFBE5825A4EC0977E41ACF</td>\n",
       "      <td>CCFC2D538DDFF519D893A6B966A1C4F1</td>\n",
       "      <td>B706835DE79A2B4E80506F582AF3676A</td>\n",
       "      <td>E5868BC11C6F01CEF6D3DD1B414933BC</td>\n",
       "      <td>Queued</td>\n",
       "      <td>2023-11-11 14:51:52</td>\n",
       "      <td>2023-11-11</td>\n",
       "      <td>2023-11-11 15:30:00</td>\n",
       "      <td>2023-11-11 15:45:00</td>\n",
       "      <td>Consultation</td>\n",
       "      <td>False</td>\n",
       "    </tr>\n",
       "    <tr>\n",
       "      <th>9752925</th>\n",
       "      <td>AF42EA190D0B573061C36AE96B4E9DFA</td>\n",
       "      <td>CCFC2D538DDFF519D893A6B966A1C4F1</td>\n",
       "      <td>B706835DE79A2B4E80506F582AF3676A</td>\n",
       "      <td>7C0272E55A491A6161750CA41B053DB0</td>\n",
       "      <td>Queued</td>\n",
       "      <td>2023-11-14 10:32:27</td>\n",
       "      <td>2023-11-14</td>\n",
       "      <td>2023-11-14 16:15:00</td>\n",
       "      <td>2023-11-14 16:30:00</td>\n",
       "      <td>Consultation</td>\n",
       "      <td>False</td>\n",
       "    </tr>\n",
       "    <tr>\n",
       "      <th>9752929</th>\n",
       "      <td>84E3EB4A060096C3702D33F5A52E8B43</td>\n",
       "      <td>CCFC2D538DDFF519D893A6B966A1C4F1</td>\n",
       "      <td>B706835DE79A2B4E80506F582AF3676A</td>\n",
       "      <td>EFE2DDFD855E2B4E1C67956CE1CE8A6E</td>\n",
       "      <td>Queued</td>\n",
       "      <td>2024-01-04 14:11:06</td>\n",
       "      <td>2024-01-04</td>\n",
       "      <td>2024-01-04 16:00:00</td>\n",
       "      <td>2024-01-04 16:15:00</td>\n",
       "      <td>Consultation</td>\n",
       "      <td>False</td>\n",
       "    </tr>\n",
       "    <tr>\n",
       "      <th>9752930</th>\n",
       "      <td>2B9F701BED6F68800637ADB7EF4CACE2</td>\n",
       "      <td>CCFC2D538DDFF519D893A6B966A1C4F1</td>\n",
       "      <td>B706835DE79A2B4E80506F582AF3676A</td>\n",
       "      <td>434410208F17F50143E1CE66E4CEF23F</td>\n",
       "      <td>Queued</td>\n",
       "      <td>2024-01-13 14:12:54</td>\n",
       "      <td>2024-01-13</td>\n",
       "      <td>2024-01-13 16:00:00</td>\n",
       "      <td>2024-01-13 16:15:00</td>\n",
       "      <td>Consultation</td>\n",
       "      <td>False</td>\n",
       "    </tr>\n",
       "    <tr>\n",
       "      <th>9752931</th>\n",
       "      <td>2ED01D09EF929AE3CA7564A2CB09DC2C</td>\n",
       "      <td>40F4775D64533EE66E3E20AE64228661</td>\n",
       "      <td>B706835DE79A2B4E80506F582AF3676A</td>\n",
       "      <td>62D462EFFD157E70C4301E555962D44B</td>\n",
       "      <td>Queued</td>\n",
       "      <td>2024-01-04 08:45:05</td>\n",
       "      <td>2024-01-04</td>\n",
       "      <td>2024-01-04 10:30:00</td>\n",
       "      <td>2024-01-04 10:45:00</td>\n",
       "      <td>Consultation</td>\n",
       "      <td>False</td>\n",
       "    </tr>\n",
       "  </tbody>\n",
       "</table>\n",
       "<p>1591655 rows × 11 columns</p>\n",
       "</div>"
      ],
      "text/plain": [
       "                                     pxid                          clinicid  \\\n",
       "1        EAE3C87D0B33351272F2E9B9B1B56217  1E0F65EB20ACBFB27EE05DDC000B50EC   \n",
       "2        7C5C93809D626CC702D08F33985B2B58  1E0F65EB20ACBFB27EE05DDC000B50EC   \n",
       "29       AEDCF41DC52D12E251432E7AD7F1B63D  E3D2B39D8BC215F6540218D20280232A   \n",
       "32       5A6901F2FA4BD45CAE61DBE9AF5C77E5  E3D2B39D8BC215F6540218D20280232A   \n",
       "34       4279B2E57C678E5D05055BB660037292  E3D2B39D8BC215F6540218D20280232A   \n",
       "...                                   ...                               ...   \n",
       "9752921  258FB9CE51FFBE5825A4EC0977E41ACF  CCFC2D538DDFF519D893A6B966A1C4F1   \n",
       "9752925  AF42EA190D0B573061C36AE96B4E9DFA  CCFC2D538DDFF519D893A6B966A1C4F1   \n",
       "9752929  84E3EB4A060096C3702D33F5A52E8B43  CCFC2D538DDFF519D893A6B966A1C4F1   \n",
       "9752930  2B9F701BED6F68800637ADB7EF4CACE2  CCFC2D538DDFF519D893A6B966A1C4F1   \n",
       "9752931  2ED01D09EF929AE3CA7564A2CB09DC2C  40F4775D64533EE66E3E20AE64228661   \n",
       "\n",
       "                                 doctorid                            apptid  \\\n",
       "1        82AA4B0AF34C2313A562076992E50AA3  6585A31C60A1886FBA1433C50012B504   \n",
       "2        82AA4B0AF34C2313A562076992E50AA3  7250DCFF615E6580295C7E6ED4322371   \n",
       "29       6EB887126D24E8F1CD8AD5033482C781  3C97ED8DEB47F647CCB03EBD4EF29454   \n",
       "32       6EB887126D24E8F1CD8AD5033482C781  BECFD8A5DE525178D6D6A1AF9F286DFC   \n",
       "34       6EB887126D24E8F1CD8AD5033482C781  164D322138305803002D9BC9E03059BF   \n",
       "...                                   ...                               ...   \n",
       "9752921  B706835DE79A2B4E80506F582AF3676A  E5868BC11C6F01CEF6D3DD1B414933BC   \n",
       "9752925  B706835DE79A2B4E80506F582AF3676A  7C0272E55A491A6161750CA41B053DB0   \n",
       "9752929  B706835DE79A2B4E80506F582AF3676A  EFE2DDFD855E2B4E1C67956CE1CE8A6E   \n",
       "9752930  B706835DE79A2B4E80506F582AF3676A  434410208F17F50143E1CE66E4CEF23F   \n",
       "9752931  B706835DE79A2B4E80506F582AF3676A  62D462EFFD157E70C4301E555962D44B   \n",
       "\n",
       "           status          TimeQueued  QueueDate           StartTime  \\\n",
       "1          Queued 2018-04-10 18:34:16 2018-04-09 2018-04-09 18:33:00   \n",
       "2          Queued 2018-04-03 23:26:19 2018-03-31 2018-03-31 23:25:00   \n",
       "29         Queued 2021-02-03 12:57:56 2021-02-03 2021-02-03 13:30:00   \n",
       "32       Complete 2021-05-04 12:45:32 2021-05-04 2021-05-04 19:00:00   \n",
       "34       Complete 2021-05-19 12:10:19 2021-05-19 2021-05-19 13:15:00   \n",
       "...           ...                 ...        ...                 ...   \n",
       "9752921    Queued 2023-11-11 14:51:52 2023-11-11 2023-11-11 15:30:00   \n",
       "9752925    Queued 2023-11-14 10:32:27 2023-11-14 2023-11-14 16:15:00   \n",
       "9752929    Queued 2024-01-04 14:11:06 2024-01-04 2024-01-04 16:00:00   \n",
       "9752930    Queued 2024-01-13 14:12:54 2024-01-13 2024-01-13 16:00:00   \n",
       "9752931    Queued 2024-01-04 08:45:05 2024-01-04 2024-01-04 10:30:00   \n",
       "\n",
       "                    EndTime          type Virtual  \n",
       "1       2018-04-12 13:29:57     Inpatient   False  \n",
       "2       2018-04-05 23:51:47     Inpatient   False  \n",
       "29      2021-02-03 13:45:00  Consultation    True  \n",
       "32      2021-05-04 19:15:00  Consultation    True  \n",
       "34      2021-05-19 13:30:00  Consultation   False  \n",
       "...                     ...           ...     ...  \n",
       "9752921 2023-11-11 15:45:00  Consultation   False  \n",
       "9752925 2023-11-14 16:30:00  Consultation   False  \n",
       "9752929 2024-01-04 16:15:00  Consultation   False  \n",
       "9752930 2024-01-13 16:15:00  Consultation   False  \n",
       "9752931 2024-01-04 10:45:00  Consultation   False  \n",
       "\n",
       "[1591655 rows x 11 columns]"
      ]
     },
     "execution_count": 74,
     "metadata": {},
     "output_type": "execute_result"
    }
   ],
   "source": [
    "appointments_df"
   ]
  },
  {
   "cell_type": "markdown",
   "id": "042a8b48-a109-4a0c-b2fd-1350aaa6c10d",
   "metadata": {},
   "source": [
    "## SETUP"
   ]
  },
  {
   "cell_type": "code",
   "execution_count": 1,
   "id": "4b9e8522-5859-42ea-8452-e62f8f192ec1",
   "metadata": {},
   "outputs": [],
   "source": [
    "import numpy as np\n",
    "import pandas as pd\n",
    "import matplotlib.pyplot as plt\n",
    "import seaborn as sns\n",
    "import pytz\n",
    "\n",
    "# sets the theme of the charts\n",
    "plt.style.use('seaborn-v0_8-darkgrid')\n",
    "\n",
    "%matplotlib inline"
   ]
  },
  {
   "cell_type": "code",
   "execution_count": 2,
   "id": "e0f4f1e3-31ba-4be1-b092-85dd125cbed8",
   "metadata": {},
   "outputs": [],
   "source": [
    "# imports the csv files\n",
    "appointments_df = pd.read_csv('appointments.csv', low_memory=False, encoding='unicode_escape')"
   ]
  },
  {
   "cell_type": "code",
   "execution_count": 76,
   "id": "2a8eff5b-908c-47bc-ae7a-9d66e1a41892",
   "metadata": {},
   "outputs": [],
   "source": [
    "final_appointments_df = appointments_df"
   ]
  },
  {
   "cell_type": "code",
   "execution_count": 77,
   "id": "6598aa4f-0415-40b5-8995-a44b149e40ee",
   "metadata": {},
   "outputs": [
    {
     "name": "stdout",
     "output_type": "stream",
     "text": [
      "<class 'pandas.core.frame.DataFrame'>\n",
      "Index: 1591655 entries, 1 to 9752931\n",
      "Data columns (total 11 columns):\n",
      " #   Column      Non-Null Count    Dtype         \n",
      "---  ------      --------------    -----         \n",
      " 0   pxid        1591655 non-null  object        \n",
      " 1   clinicid    1591655 non-null  object        \n",
      " 2   doctorid    1591655 non-null  object        \n",
      " 3   apptid      1591655 non-null  object        \n",
      " 4   status      1591655 non-null  object        \n",
      " 5   TimeQueued  1591655 non-null  datetime64[ns]\n",
      " 6   QueueDate   1591655 non-null  datetime64[ns]\n",
      " 7   StartTime   1591655 non-null  datetime64[ns]\n",
      " 8   EndTime     1591655 non-null  datetime64[ns]\n",
      " 9   type        1591655 non-null  object        \n",
      " 10  Virtual     1591655 non-null  object        \n",
      "dtypes: datetime64[ns](4), object(7)\n",
      "memory usage: 145.7+ MB\n"
     ]
    }
   ],
   "source": [
    "final_appointments_df.info()"
   ]
  },
  {
   "cell_type": "markdown",
   "id": "789142b6-87b5-4b4a-99f4-fb85bbf214f1",
   "metadata": {},
   "source": [
    "## `id` variables"
   ]
  },
  {
   "cell_type": "markdown",
   "id": "b46d635c-d346-489b-a572-954143feaece",
   "metadata": {
    "jp-MarkdownHeadingCollapsed": true
   },
   "source": [
    "### `pxid` variable"
   ]
  },
  {
   "cell_type": "code",
   "execution_count": null,
   "id": "ab000f8c-a396-44ec-b930-b8fce4584684",
   "metadata": {},
   "outputs": [],
   "source": [
    "# check values of pxid\n",
    "appointments_df['pxid']"
   ]
  },
  {
   "cell_type": "code",
   "execution_count": null,
   "id": "fc21783f-1c4f-45ea-96b7-8cd3214f0c27",
   "metadata": {},
   "outputs": [],
   "source": [
    "# check unique values of pxid\n",
    "appointments_df['pxid'].unique()"
   ]
  },
  {
   "cell_type": "code",
   "execution_count": null,
   "id": "3b1091f5-9f4c-49be-a592-2539cf9eb332",
   "metadata": {},
   "outputs": [],
   "source": [
    "# check value counts of pxid\n",
    "appointments_df['pxid'].value_counts()"
   ]
  },
  {
   "cell_type": "code",
   "execution_count": null,
   "id": "3e00f6f1-f26a-45af-9f8b-110c44a2b71c",
   "metadata": {},
   "outputs": [],
   "source": [
    "# check for null values of pxid\n",
    "pxid_count = appointments_df['pxid'].isnull().sum()"
   ]
  },
  {
   "cell_type": "markdown",
   "id": "83b3f27a-619d-463f-b2c2-f9e65860ea83",
   "metadata": {
    "jp-MarkdownHeadingCollapsed": true
   },
   "source": [
    "### `clinicid` variable"
   ]
  },
  {
   "cell_type": "code",
   "execution_count": null,
   "id": "990b5679-ca80-4ba3-bf9b-c1556a16d835",
   "metadata": {},
   "outputs": [],
   "source": [
    "# check values of clinicid\n",
    "appointments_df['clinicid']"
   ]
  },
  {
   "cell_type": "code",
   "execution_count": null,
   "id": "6af26979-b453-487f-9a27-79449299d551",
   "metadata": {},
   "outputs": [],
   "source": [
    "# check unique values of clinicid\n",
    "appointments_df['clinicid'].unique()"
   ]
  },
  {
   "cell_type": "code",
   "execution_count": null,
   "id": "eb8e45ee-ffc4-47c3-81b9-cf4f2c84a9c1",
   "metadata": {},
   "outputs": [],
   "source": [
    "# check value counts of clinicid\n",
    "appointments_df['clinicid'].value_counts()"
   ]
  },
  {
   "cell_type": "code",
   "execution_count": null,
   "id": "be343974-ebf7-41f8-bde0-e70231a79d6f",
   "metadata": {},
   "outputs": [],
   "source": [
    "# check for null values of clinicid\n",
    "appointments_df['clinicid'].isnull().sum()"
   ]
  },
  {
   "cell_type": "markdown",
   "id": "2f93f1b8-ad3a-470d-b743-3e82adc0ce88",
   "metadata": {
    "jp-MarkdownHeadingCollapsed": true
   },
   "source": [
    "### `doctorid` variable"
   ]
  },
  {
   "cell_type": "code",
   "execution_count": null,
   "id": "793d74f7-e517-42a9-a7bd-8ca5b3419d6e",
   "metadata": {},
   "outputs": [],
   "source": [
    "# check values of doctorid\n",
    "appointments_df['doctorid']"
   ]
  },
  {
   "cell_type": "code",
   "execution_count": null,
   "id": "85e17b1a-34c5-430e-80fc-667d38d34968",
   "metadata": {},
   "outputs": [],
   "source": [
    "# check unique values of doctorid\n",
    "appointments_df['doctorid'].unique()"
   ]
  },
  {
   "cell_type": "code",
   "execution_count": null,
   "id": "aded244f-9cef-42be-9b43-89af321888f3",
   "metadata": {},
   "outputs": [],
   "source": [
    "# check value counts of doctorid\n",
    "appointments_df['doctorid'].value_counts()"
   ]
  },
  {
   "cell_type": "code",
   "execution_count": null,
   "id": "248d397d-87dc-4eaf-af5b-2fc17791a285",
   "metadata": {},
   "outputs": [],
   "source": [
    "# check null values of doctorid\n",
    "appointments_df['doctorid'].isnull().sum()"
   ]
  },
  {
   "cell_type": "markdown",
   "id": "b511c31c-139a-4ff9-a574-e7e7bba3a1d1",
   "metadata": {
    "jp-MarkdownHeadingCollapsed": true
   },
   "source": [
    "### `apptid` variable"
   ]
  },
  {
   "cell_type": "code",
   "execution_count": null,
   "id": "a3cc4970-c56d-444c-b8e3-638c525d6d5b",
   "metadata": {},
   "outputs": [],
   "source": [
    "# check values of apptid\n",
    "appointments_df['apptid']"
   ]
  },
  {
   "cell_type": "code",
   "execution_count": null,
   "id": "3293edf8-521e-448b-b287-86051fb7578c",
   "metadata": {},
   "outputs": [],
   "source": [
    "# check unique values of apptid\n",
    "appointments_df['apptid'].unique()"
   ]
  },
  {
   "cell_type": "code",
   "execution_count": null,
   "id": "4501bcd2-6a7f-45b2-ae39-6d0e3a4aab53",
   "metadata": {},
   "outputs": [],
   "source": [
    "# check value counts of apptid\n",
    "appointments_df['apptid'].value_counts()"
   ]
  },
  {
   "cell_type": "code",
   "execution_count": null,
   "id": "3df5000d-1b14-48ea-a6d6-50f55083d59e",
   "metadata": {},
   "outputs": [],
   "source": [
    "# check null values of apptid\n",
    "appointments_df['apptid'].isnull().sum()"
   ]
  },
  {
   "cell_type": "markdown",
   "id": "50121d1b-d6f3-46ec-bde1-8cdeb7563b7c",
   "metadata": {},
   "source": [
    "## TO CLEAN"
   ]
  },
  {
   "cell_type": "markdown",
   "id": "255c08b1-0bac-432a-852e-2bff4ebb4ced",
   "metadata": {
    "jp-MarkdownHeadingCollapsed": true
   },
   "source": [
    "### `status` variable"
   ]
  },
  {
   "cell_type": "code",
   "execution_count": 8,
   "id": "3ab94113-1131-446e-b0d0-b6a36848c091",
   "metadata": {},
   "outputs": [
    {
     "data": {
      "text/plain": [
       "0          Complete\n",
       "1            Queued\n",
       "2            Queued\n",
       "3            Queued\n",
       "4            Queued\n",
       "             ...   \n",
       "9752927      Queued\n",
       "9752928      Queued\n",
       "9752929      Queued\n",
       "9752930      Queued\n",
       "9752931      Queued\n",
       "Name: status, Length: 9752932, dtype: object"
      ]
     },
     "execution_count": 8,
     "metadata": {},
     "output_type": "execute_result"
    }
   ],
   "source": [
    "# check values of status\n",
    "appointments_df['status']"
   ]
  },
  {
   "cell_type": "code",
   "execution_count": 9,
   "id": "6d1446b2-583f-487c-b44b-2216ed78200f",
   "metadata": {},
   "outputs": [
    {
     "data": {
      "text/plain": [
       "array(['Complete', 'Queued', 'NoShow', 'Serving', 'Cancel', 'Skip',\n",
       "       'Completed', 'Admitted'], dtype=object)"
      ]
     },
     "execution_count": 9,
     "metadata": {},
     "output_type": "execute_result"
    }
   ],
   "source": [
    "# check unique values of status\n",
    "appointments_df['status'].unique()"
   ]
  },
  {
   "cell_type": "code",
   "execution_count": 10,
   "id": "3d5f9006-5611-4b8b-99fc-65268b9375eb",
   "metadata": {},
   "outputs": [
    {
     "data": {
      "text/plain": [
       "status\n",
       "Complete     6473675\n",
       "Queued       2523855\n",
       "Serving       284774\n",
       "NoShow        230048\n",
       "Cancel        213270\n",
       "Skip           27298\n",
       "Completed         10\n",
       "Admitted           2\n",
       "Name: count, dtype: int64"
      ]
     },
     "execution_count": 10,
     "metadata": {},
     "output_type": "execute_result"
    }
   ],
   "source": [
    "# check count for status since there are two values for 'Complete'\n",
    "appointments_df['status'].value_counts()"
   ]
  },
  {
   "cell_type": "code",
   "execution_count": 11,
   "id": "ecaa5a27-ac49-42f4-afbf-7f8c820917ef",
   "metadata": {},
   "outputs": [
    {
     "name": "stdout",
     "output_type": "stream",
     "text": [
      "status\n",
      "Complete    6473685\n",
      "Queued      2523855\n",
      "Serving      284774\n",
      "NoShow       230048\n",
      "Cancel       213270\n",
      "Skip          27298\n",
      "Admitted          2\n",
      "Name: count, dtype: int64\n"
     ]
    }
   ],
   "source": [
    "# replace Completed with Complete\n",
    "appointments_df['status'] = appointments_df['status'].replace({'Completed': 'Complete'}, regex=True)\n",
    "status_vc = appointments_df['status'].value_counts()\n",
    "print(status_vc)"
   ]
  },
  {
   "cell_type": "code",
   "execution_count": 12,
   "id": "520c1552-352b-432f-aac3-2b346c238f98",
   "metadata": {},
   "outputs": [
    {
     "data": {
      "text/plain": [
       "0"
      ]
     },
     "execution_count": 12,
     "metadata": {},
     "output_type": "execute_result"
    }
   ],
   "source": [
    "# check null values of status\n",
    "appointments_df['status'].isnull().sum()"
   ]
  },
  {
   "cell_type": "markdown",
   "id": "9bb3daa4-f521-4ae8-b30c-ba5b70577547",
   "metadata": {
    "jp-MarkdownHeadingCollapsed": true
   },
   "source": [
    "### `QueueDate` variable"
   ]
  },
  {
   "cell_type": "code",
   "execution_count": 16,
   "id": "8b0a4124-6355-463a-8e12-0c7b79038ef4",
   "metadata": {},
   "outputs": [
    {
     "data": {
      "text/plain": [
       "0         2018-04-10 16:00:00\n",
       "1         2018-04-08 16:00:00\n",
       "2         2018-03-30 16:00:00\n",
       "3                         NaT\n",
       "4                         NaT\n",
       "                  ...        \n",
       "9752927   2023-11-22 16:00:00\n",
       "9752928   2023-12-04 16:00:00\n",
       "9752929   2024-01-03 16:00:00\n",
       "9752930   2024-01-12 16:00:00\n",
       "9752931   2024-01-03 16:00:00\n",
       "Name: QueueDate, Length: 9752932, dtype: datetime64[ns]"
      ]
     },
     "execution_count": 16,
     "metadata": {},
     "output_type": "execute_result"
    }
   ],
   "source": [
    "# check values of QueueDate\n",
    "appointments_df['QueueDate']"
   ]
  },
  {
   "cell_type": "code",
   "execution_count": 13,
   "id": "fc23053b-08d8-4dc9-b75f-cb0f2e6b70c6",
   "metadata": {},
   "outputs": [],
   "source": [
    "# convert to datetime data type\n",
    "appointments_df['QueueDate'] = pd.to_datetime(appointments_df['QueueDate'], format='mixed', errors='coerce')"
   ]
  },
  {
   "cell_type": "code",
   "execution_count": 15,
   "id": "f5801457-93af-4613-b277-5297e92254a6",
   "metadata": {},
   "outputs": [],
   "source": [
    "appointments_df['QueueDate'] = appointments_df['QueueDate'].dt.floor('s')"
   ]
  },
  {
   "cell_type": "code",
   "execution_count": 65,
   "id": "88a45f6a-42ac-43c3-b18c-3367cd24a590",
   "metadata": {},
   "outputs": [
    {
     "data": {
      "text/plain": [
       "0"
      ]
     },
     "execution_count": 65,
     "metadata": {},
     "output_type": "execute_result"
    }
   ],
   "source": [
    "# check null values of QueueDate\n",
    "appointments_df['QueueDate'].isnull().sum()"
   ]
  },
  {
   "cell_type": "code",
   "execution_count": 18,
   "id": "51ca1bf1-1574-47e0-bd72-651246472587",
   "metadata": {},
   "outputs": [],
   "source": [
    "# drop rows that have invalid Queuedate\n",
    "appointments_df = appointments_df.dropna(subset=['QueueDate'])"
   ]
  },
  {
   "cell_type": "code",
   "execution_count": 19,
   "id": "ed1771a8-a672-43af-8ae4-e84b6e040025",
   "metadata": {},
   "outputs": [
    {
     "name": "stderr",
     "output_type": "stream",
     "text": [
      "C:\\Users\\Anne Sulit\\AppData\\Local\\Temp\\ipykernel_21772\\2623430957.py:4: SettingWithCopyWarning: \n",
      "A value is trying to be set on a copy of a slice from a DataFrame.\n",
      "Try using .loc[row_indexer,col_indexer] = value instead\n",
      "\n",
      "See the caveats in the documentation: https://pandas.pydata.org/pandas-docs/stable/user_guide/indexing.html#returning-a-view-versus-a-copy\n",
      "  appointments_df['QueueDate'] = appointments_df['QueueDate'].dt.tz_localize('UTC').dt.tz_convert(asian_tz)\n"
     ]
    }
   ],
   "source": [
    "# Set the timezone to GMT+8 (Asia/Singapore)\n",
    "asian_tz = pytz.timezone('Asia/Singapore')\n",
    "# Convert the 'QueueDate' column to the new timezone\n",
    "appointments_df['QueueDate'] = appointments_df['QueueDate'].dt.tz_localize('UTC').dt.tz_convert(asian_tz)"
   ]
  },
  {
   "cell_type": "markdown",
   "id": "31fe6f52-92d5-4421-9d6d-c974d5ad9538",
   "metadata": {
    "jp-MarkdownHeadingCollapsed": true
   },
   "source": [
    "### `TimeQueued` variable"
   ]
  },
  {
   "cell_type": "code",
   "execution_count": 25,
   "id": "22bf1593-1ecc-41f8-9950-ca217815f8ce",
   "metadata": {},
   "outputs": [
    {
     "data": {
      "text/plain": [
       "0         2018-04-11 01:59:58\n",
       "1         2018-04-10 10:34:16\n",
       "2         2018-04-03 15:26:19\n",
       "21        2020-08-03 02:05:14\n",
       "22        2020-08-07 04:39:30\n",
       "                  ...        \n",
       "9752927   2023-11-20 00:34:25\n",
       "9752928   2023-12-05 07:51:25\n",
       "9752929   2024-01-04 06:11:06\n",
       "9752930   2024-01-13 06:12:54\n",
       "9752931   2024-01-04 00:45:05\n",
       "Name: TimeQueued, Length: 9752833, dtype: datetime64[ns]"
      ]
     },
     "execution_count": 25,
     "metadata": {},
     "output_type": "execute_result"
    }
   ],
   "source": [
    "# check values of TimeQueued\n",
    "appointments_df['TimeQueued']"
   ]
  },
  {
   "cell_type": "code",
   "execution_count": 21,
   "id": "eb36e9e1-7594-409f-b593-4b8b4feae3f0",
   "metadata": {},
   "outputs": [
    {
     "name": "stderr",
     "output_type": "stream",
     "text": [
      "C:\\Users\\Anne Sulit\\AppData\\Local\\Temp\\ipykernel_21772\\2290302318.py:2: SettingWithCopyWarning: \n",
      "A value is trying to be set on a copy of a slice from a DataFrame.\n",
      "Try using .loc[row_indexer,col_indexer] = value instead\n",
      "\n",
      "See the caveats in the documentation: https://pandas.pydata.org/pandas-docs/stable/user_guide/indexing.html#returning-a-view-versus-a-copy\n",
      "  appointments_df['TimeQueued'] = pd.to_datetime(appointments_df['TimeQueued'], format='mixed', errors='coerce')\n"
     ]
    }
   ],
   "source": [
    "# convert to datetime data type\n",
    "appointments_df['TimeQueued'] = pd.to_datetime(appointments_df['TimeQueued'], format='mixed', errors='coerce')"
   ]
  },
  {
   "cell_type": "code",
   "execution_count": 23,
   "id": "953df4a9-d5f3-42d5-9154-e31feab9e069",
   "metadata": {},
   "outputs": [
    {
     "name": "stderr",
     "output_type": "stream",
     "text": [
      "C:\\Users\\Anne Sulit\\AppData\\Local\\Temp\\ipykernel_21772\\2897577045.py:1: SettingWithCopyWarning: \n",
      "A value is trying to be set on a copy of a slice from a DataFrame.\n",
      "Try using .loc[row_indexer,col_indexer] = value instead\n",
      "\n",
      "See the caveats in the documentation: https://pandas.pydata.org/pandas-docs/stable/user_guide/indexing.html#returning-a-view-versus-a-copy\n",
      "  appointments_df['TimeQueued'] = appointments_df['TimeQueued'].dt.floor('s')\n"
     ]
    }
   ],
   "source": [
    "appointments_df['TimeQueued'] = appointments_df['TimeQueued'].dt.floor('s')"
   ]
  },
  {
   "cell_type": "code",
   "execution_count": 66,
   "id": "3dcab03b-b282-4681-a6a5-a9d6c8850fa4",
   "metadata": {},
   "outputs": [
    {
     "data": {
      "text/plain": [
       "0"
      ]
     },
     "execution_count": 66,
     "metadata": {},
     "output_type": "execute_result"
    }
   ],
   "source": [
    "# check null values of TimeQueued\n",
    "appointments_df['TimeQueued'].isnull().sum()"
   ]
  },
  {
   "cell_type": "code",
   "execution_count": 27,
   "id": "6aacbd88-eefb-4016-9910-aaa9f1bdaf25",
   "metadata": {},
   "outputs": [],
   "source": [
    "# drop rows that have invalid TimeQueued\n",
    "appointments_df = appointments_df.dropna(subset=['TimeQueued'])"
   ]
  },
  {
   "cell_type": "code",
   "execution_count": 28,
   "id": "1723a270-efe0-45eb-86f6-b1a04340796f",
   "metadata": {},
   "outputs": [],
   "source": [
    "# Set the timezone to GMT+8 (Asia/Singapore)\n",
    "asian_tz = pytz.timezone('Asia/Singapore')\n",
    "\n",
    "# Convert the 'QueueDate' column to the new timezone\n",
    "appointments_df['TimeQueued'] = appointments_df['TimeQueued'].dt.tz_localize('UTC').dt.tz_convert(asian_tz)"
   ]
  },
  {
   "cell_type": "code",
   "execution_count": 29,
   "id": "908a9052-819b-441b-8615-31dff6149f21",
   "metadata": {},
   "outputs": [
    {
     "data": {
      "text/plain": [
       "3606012"
      ]
     },
     "execution_count": 29,
     "metadata": {},
     "output_type": "execute_result"
    }
   ],
   "source": [
    "len(appointments_df.loc[appointments_df['TimeQueued'] < appointments_df['QueueDate'], 'TimeQueued'])"
   ]
  },
  {
   "cell_type": "code",
   "execution_count": 30,
   "id": "e41e046e-502f-4443-a937-88449a111c7f",
   "metadata": {},
   "outputs": [],
   "source": [
    "# drop rows whose timequeued is earlier than Queue Date\n",
    "appointments_df.loc[appointments_df['TimeQueued'] < appointments_df['QueueDate'], 'TimeQueued'] = pd.NaT\n",
    "appointments_df = appointments_df.dropna(subset=['TimeQueued'])"
   ]
  },
  {
   "cell_type": "markdown",
   "id": "b875726f-e4d6-4db3-96f8-fdfa0c6500d0",
   "metadata": {
    "jp-MarkdownHeadingCollapsed": true
   },
   "source": [
    "### `StartTime` variable"
   ]
  },
  {
   "cell_type": "code",
   "execution_count": 34,
   "id": "b914bd66-7dca-4f40-b5c7-ede44287efe1",
   "metadata": {},
   "outputs": [
    {
     "data": {
      "text/plain": [
       "0                         NaT\n",
       "1         2018-04-09 10:33:00\n",
       "2         2018-03-31 15:25:00\n",
       "27                        NaT\n",
       "29        2021-02-03 05:30:00\n",
       "                  ...        \n",
       "9752926                   NaT\n",
       "9752928                   NaT\n",
       "9752929   2024-01-04 08:00:00\n",
       "9752930   2024-01-13 08:00:00\n",
       "9752931   2024-01-04 02:30:00\n",
       "Name: StartTime, Length: 6146821, dtype: datetime64[ns]"
      ]
     },
     "execution_count": 34,
     "metadata": {},
     "output_type": "execute_result"
    }
   ],
   "source": [
    "# check values of StartTime\n",
    "appointments_df['StartTime']"
   ]
  },
  {
   "cell_type": "code",
   "execution_count": 32,
   "id": "e05ac944-aeed-40bf-9db0-bea2384b8778",
   "metadata": {},
   "outputs": [],
   "source": [
    "# convert to datetime data type\n",
    "appointments_df['StartTime'] = pd.to_datetime(appointments_df['StartTime'], format='mixed', errors='coerce')"
   ]
  },
  {
   "cell_type": "code",
   "execution_count": 33,
   "id": "9632cc78-56df-42e0-bf97-46e77b1b8210",
   "metadata": {},
   "outputs": [],
   "source": [
    "appointments_df['StartTime'] = appointments_df['StartTime'].dt.floor('s')"
   ]
  },
  {
   "cell_type": "code",
   "execution_count": 67,
   "id": "5f892ded-8c69-43e4-aff4-4e1899cbd8cd",
   "metadata": {},
   "outputs": [
    {
     "data": {
      "text/plain": [
       "0"
      ]
     },
     "execution_count": 67,
     "metadata": {},
     "output_type": "execute_result"
    }
   ],
   "source": [
    "# check null values of StartTime\n",
    "appointments_df['StartTime'].isnull().sum()"
   ]
  },
  {
   "cell_type": "code",
   "execution_count": 36,
   "id": "1ff3e97b-8b20-4aa9-8354-d56b8a4292d1",
   "metadata": {},
   "outputs": [],
   "source": [
    "# drop rows that have invalid TimeQueued\n",
    "appointments_df = appointments_df.dropna(subset=['StartTime'])"
   ]
  },
  {
   "cell_type": "code",
   "execution_count": 37,
   "id": "d24601a6-de6d-4596-8ba0-047303d71a04",
   "metadata": {},
   "outputs": [],
   "source": [
    "# Set the timezone to GMT+8 (Asia/Singapore)\n",
    "asian_tz = pytz.timezone('Asia/Singapore')\n",
    "\n",
    "# Convert the 'QueueDate' column to the new timezone\n",
    "appointments_df['StartTime'] = appointments_df['StartTime'].dt.tz_localize('UTC').dt.tz_convert(asian_tz)"
   ]
  },
  {
   "cell_type": "code",
   "execution_count": null,
   "id": "c173c907-8df1-4d00-8653-8cfa5179a701",
   "metadata": {},
   "outputs": [],
   "source": [
    "# drop rows whose StartTime is earlier than TimeQueued\n",
    "appointments_df.loc[appointments_df['StartTime'] < appointments_df['TimeQueued'], 'StartTime'] = pd.NaT\n",
    "appointments_df = appointments_df.dropna(subset=['StartTime'])"
   ]
  },
  {
   "cell_type": "markdown",
   "id": "3269e99e-3a20-4f08-8e54-a551dd0a9c83",
   "metadata": {
    "jp-MarkdownHeadingCollapsed": true
   },
   "source": [
    "### `EndTime` variable"
   ]
  },
  {
   "cell_type": "code",
   "execution_count": 42,
   "id": "0680be02-c383-44a0-a514-f2b44719af50",
   "metadata": {},
   "outputs": [
    {
     "data": {
      "text/plain": [
       "1         2018-04-12 05:29:57\n",
       "2         2018-04-05 15:51:47\n",
       "29        2021-02-03 05:45:00\n",
       "32        2021-05-04 11:15:00\n",
       "34        2021-05-19 05:30:00\n",
       "                  ...        \n",
       "9752921   2023-11-11 07:45:00\n",
       "9752925   2023-11-14 08:30:00\n",
       "9752929   2024-01-04 08:15:00\n",
       "9752930   2024-01-13 08:15:00\n",
       "9752931   2024-01-04 02:45:00\n",
       "Name: EndTime, Length: 1888235, dtype: datetime64[ns]"
      ]
     },
     "execution_count": 42,
     "metadata": {},
     "output_type": "execute_result"
    }
   ],
   "source": [
    "# check values of EndTime\n",
    "appointments_df['EndTime']"
   ]
  },
  {
   "cell_type": "code",
   "execution_count": 39,
   "id": "cf0cba19-29c2-4d18-af21-67a39c738baf",
   "metadata": {},
   "outputs": [],
   "source": [
    "# convert to datetime data type\n",
    "appointments_df['EndTime'] = pd.to_datetime(appointments_df['EndTime'], format='mixed', errors='coerce')"
   ]
  },
  {
   "cell_type": "code",
   "execution_count": 41,
   "id": "d096fbf0-b64d-4e21-b908-47ba75255a34",
   "metadata": {},
   "outputs": [],
   "source": [
    "appointments_df['EndTime'] = appointments_df['EndTime'].dt.floor('s')"
   ]
  },
  {
   "cell_type": "code",
   "execution_count": 68,
   "id": "7a032e0e-41b2-4c2f-a397-d343d2b21f32",
   "metadata": {},
   "outputs": [
    {
     "data": {
      "text/plain": [
       "0"
      ]
     },
     "execution_count": 68,
     "metadata": {},
     "output_type": "execute_result"
    }
   ],
   "source": [
    "# check null values of EndTime\n",
    "appointments_df['EndTime'].isnull().sum()"
   ]
  },
  {
   "cell_type": "code",
   "execution_count": 44,
   "id": "34ccac18-9fbb-4366-992d-76654e5f05bd",
   "metadata": {},
   "outputs": [],
   "source": [
    "# drop rows that have invalid TimeQueued\n",
    "appointments_df = appointments_df.dropna(subset=['EndTime'])"
   ]
  },
  {
   "cell_type": "code",
   "execution_count": 45,
   "id": "1c5c6aae-2f47-4f17-ada5-af6016cdc531",
   "metadata": {},
   "outputs": [],
   "source": [
    "# Set the timezone to GMT+8 (Asia/Singapore)\n",
    "asian_tz = pytz.timezone('Asia/Singapore')\n",
    "\n",
    "# Convert the 'QueueDate' column to the new timezone\n",
    "appointments_df['EndTime'] = appointments_df['EndTime'].dt.tz_localize('UTC').dt.tz_convert(asian_tz)"
   ]
  },
  {
   "cell_type": "code",
   "execution_count": 47,
   "id": "bd531dee-bb91-4437-b909-f7ea8657ec87",
   "metadata": {},
   "outputs": [],
   "source": [
    "# drop rows whose EndTime is earlier than StartTime\n",
    "appointments_df['InvalidDuration'] = np.where(appointments_df['EndTime'] < appointments_df['StartTime'], 'Invalid', 'ok')\n",
    "appointments_df = appointments_df[appointments_df['InvalidDuration'] != 'Invalid']\n",
    "appointments_df = appointments_df.drop(columns=['InvalidDuration'])"
   ]
  },
  {
   "cell_type": "code",
   "execution_count": 49,
   "id": "9d3b3016-59a8-4686-98a0-ff9cb0975131",
   "metadata": {},
   "outputs": [],
   "source": [
    "#drop rows where status is complete but there is no endtime\n",
    "mask = (appointments_df['status'] == 'Complete') & (appointments_df['EndTime'].isna())\n",
    "appointments_df = appointments_df[~mask]"
   ]
  },
  {
   "cell_type": "code",
   "execution_count": 50,
   "id": "7af71ee9-76e9-4a7d-ac66-7902ee8409a3",
   "metadata": {},
   "outputs": [],
   "source": [
    "# drop rows where type is consultation and there is no end time\n",
    "mask = (appointments_df['type'] == 'Consultation') & (appointments_df['EndTime'].isna())\n",
    "appointments_df = appointments_df[~mask]"
   ]
  },
  {
   "cell_type": "markdown",
   "id": "8916a120-8717-4b3e-95ae-c6184e697918",
   "metadata": {},
   "source": [
    "### `type` variable"
   ]
  },
  {
   "cell_type": "code",
   "execution_count": 52,
   "id": "6a83d793-2586-4284-8af7-ca68a11c4535",
   "metadata": {},
   "outputs": [
    {
     "data": {
      "text/plain": [
       "1             Inpatient\n",
       "2             Inpatient\n",
       "29         Consultation\n",
       "32         Consultation\n",
       "34         Consultation\n",
       "               ...     \n",
       "9752921    Consultation\n",
       "9752925    Consultation\n",
       "9752929    Consultation\n",
       "9752930    Consultation\n",
       "9752931    Consultation\n",
       "Name: type, Length: 1730594, dtype: object"
      ]
     },
     "execution_count": 52,
     "metadata": {},
     "output_type": "execute_result"
    }
   ],
   "source": [
    "# check values of type\n",
    "appointments_df['type']"
   ]
  },
  {
   "cell_type": "code",
   "execution_count": 53,
   "id": "f90437d5-1464-43e4-a9ea-669be5dff986",
   "metadata": {},
   "outputs": [
    {
     "data": {
      "text/plain": [
       "array(['Inpatient', 'Consultation'], dtype=object)"
      ]
     },
     "execution_count": 53,
     "metadata": {},
     "output_type": "execute_result"
    }
   ],
   "source": [
    "# check unique values of type\n",
    "appointments_df['type'].unique()"
   ]
  },
  {
   "cell_type": "code",
   "execution_count": 54,
   "id": "8c0d03a4-c0eb-436d-82e3-f5f951d70933",
   "metadata": {},
   "outputs": [
    {
     "name": "stdout",
     "output_type": "stream",
     "text": [
      "type\n",
      "Consultation    1625059\n",
      "Inpatient        105535\n",
      "Name: count, dtype: int64\n"
     ]
    }
   ],
   "source": [
    "type_vc = appointments_df['type'].value_counts()\n",
    "print(type_vc)"
   ]
  },
  {
   "cell_type": "code",
   "execution_count": 55,
   "id": "eebbd13b-fbbb-424c-a779-c79a924813db",
   "metadata": {},
   "outputs": [
    {
     "data": {
      "text/plain": [
       "0"
      ]
     },
     "execution_count": 55,
     "metadata": {},
     "output_type": "execute_result"
    }
   ],
   "source": [
    "# check null values of type\n",
    "appointments_df['type'].isnull().sum()"
   ]
  },
  {
   "cell_type": "markdown",
   "id": "b0a84da7-f652-4410-80a2-29f84c5e2077",
   "metadata": {
    "jp-MarkdownHeadingCollapsed": true
   },
   "source": [
    "### `Virtual` variable"
   ]
  },
  {
   "cell_type": "code",
   "execution_count": 56,
   "id": "6e53d58c-b0c0-492c-be11-bb219ea41d42",
   "metadata": {},
   "outputs": [
    {
     "data": {
      "text/plain": [
       "1            NaN\n",
       "2            NaN\n",
       "29          True\n",
       "32          True\n",
       "34         False\n",
       "           ...  \n",
       "9752921    False\n",
       "9752925    False\n",
       "9752929    False\n",
       "9752930    False\n",
       "9752931    False\n",
       "Name: Virtual, Length: 1730594, dtype: object"
      ]
     },
     "execution_count": 56,
     "metadata": {},
     "output_type": "execute_result"
    }
   ],
   "source": [
    "# check values of Virtual\n",
    "appointments_df['Virtual']"
   ]
  },
  {
   "cell_type": "code",
   "execution_count": 57,
   "id": "4be47a7a-a264-46f4-ab3f-878202126a76",
   "metadata": {},
   "outputs": [
    {
     "data": {
      "text/plain": [
       "array([nan, True, False], dtype=object)"
      ]
     },
     "execution_count": 57,
     "metadata": {},
     "output_type": "execute_result"
    }
   ],
   "source": [
    "# check unique values of Virtual\n",
    "appointments_df['Virtual'].unique()"
   ]
  },
  {
   "cell_type": "code",
   "execution_count": 58,
   "id": "8796ca80-ef03-42c7-85c6-ff14f2f539fa",
   "metadata": {},
   "outputs": [
    {
     "name": "stdout",
     "output_type": "stream",
     "text": [
      "Virtual\n",
      "False    985573\n",
      "True     500549\n",
      "Name: count, dtype: int64\n"
     ]
    }
   ],
   "source": [
    "virtual_vc = appointments_df['Virtual'].value_counts()\n",
    "print(virtual_vc)"
   ]
  },
  {
   "cell_type": "code",
   "execution_count": 69,
   "id": "512626f4-1b1c-4b7f-ad08-a8b07ebdc0d1",
   "metadata": {},
   "outputs": [
    {
     "data": {
      "text/plain": [
       "0"
      ]
     },
     "execution_count": 69,
     "metadata": {},
     "output_type": "execute_result"
    }
   ],
   "source": [
    "# check null values of Virtual\n",
    "appointments_df['Virtual'].isnull().sum()"
   ]
  },
  {
   "cell_type": "code",
   "execution_count": 60,
   "id": "ba138b5c-1d02-40a2-a254-a0dc8d30c4a3",
   "metadata": {},
   "outputs": [],
   "source": [
    "# all inpatient appointments are set to False\n",
    "appointments_df.loc[appointments_df['type'] == 'Inpatient', 'Virtual'] = False"
   ]
  },
  {
   "cell_type": "code",
   "execution_count": 61,
   "id": "45d83ca7-a4ef-45bb-9c18-656f5394da7b",
   "metadata": {},
   "outputs": [],
   "source": [
    "# drop all rows where Virtual == NaN\n",
    "appointments_df = appointments_df.dropna(subset=['Virtual'])"
   ]
  },
  {
   "cell_type": "markdown",
   "id": "ce2b61ed-3313-4c8d-be67-2e84fe287569",
   "metadata": {
    "jp-MarkdownHeadingCollapsed": true
   },
   "source": [
    "### New Columns"
   ]
  },
  {
   "cell_type": "code",
   "execution_count": null,
   "id": "c4f769b0-113a-46aa-b7f8-58f22795588b",
   "metadata": {},
   "outputs": [],
   "source": [
    "check_df['QueueDifference'] = check_df['TimeQueued'] - check_df['QueueDate']"
   ]
  },
  {
   "cell_type": "code",
   "execution_count": null,
   "id": "123f3b2d-3257-46d8-81fd-b7e12013c095",
   "metadata": {},
   "outputs": [],
   "source": [
    "check_df['WaitingTime'] = check_df['StartTime'] - check_df['TimeQueued']"
   ]
  },
  {
   "cell_type": "code",
   "execution_count": null,
   "id": "8e10daaf-8b4c-4fbc-9686-0f95e4150123",
   "metadata": {},
   "outputs": [],
   "source": [
    "appointments_df['Duration'] = appointments_df['EndTime'] - appointments_df['StartTime']"
   ]
  },
  {
   "cell_type": "code",
   "execution_count": null,
   "id": "1141827d-e799-4d79-8170-35011c176998",
   "metadata": {},
   "outputs": [],
   "source": [
    "# drop rows whose EndTime is earlier than StartTime\n",
    "#appointments_df['Valid'] = np.where(appointments_df['QueueDate'].dt.date == appointments_df['TimeQueued'].dt.date, '1', '0')\n",
    "\n",
    "\n",
    "# Condition  1: QueueDate and TimeQueued are on the same date\n",
    "condition1 = (appointments_df['QueueDate'].dt.date == appointments_df['TimeQueued'].dt.date)\n",
    "\n",
    "# Condition  2: TimeQueued is later than QueueDate and type is 'inpatient'\n",
    "condition2 = ((appointments_df['QueueDate'].dt.date == appointments_df['StartTime'].dt.date)) & (appointments_df['type'] == 'Inpatient')\n",
    "\n",
    "# Use numpy.select to create the 'Valid' column with '1' where conditions are met\n",
    "appointments_df['Valid'] = np.select([condition1, condition2], ['1', '1'], default='0')"
   ]
  },
  {
   "cell_type": "markdown",
   "id": "20d388b1-0254-4aff-abd6-a8e91b906cb6",
   "metadata": {
    "jp-MarkdownHeadingCollapsed": true
   },
   "source": [
    "### Checkers"
   ]
  },
  {
   "cell_type": "code",
   "execution_count": null,
   "id": "8bde959e-6cca-47a5-b81b-6845fa42570a",
   "metadata": {},
   "outputs": [],
   "source": [
    "check_df = appointments_df[appointments_df['EndTime'].isna()]"
   ]
  },
  {
   "cell_type": "code",
   "execution_count": null,
   "id": "13d8a747-87b7-4eba-ac23-732857f3ab89",
   "metadata": {},
   "outputs": [],
   "source": [
    "check_df "
   ]
  },
  {
   "cell_type": "code",
   "execution_count": null,
   "id": "1ff92e34-3c82-43e0-b2ec-8e061ed22106",
   "metadata": {},
   "outputs": [],
   "source": [
    "check_df['status'].value_counts()"
   ]
  },
  {
   "cell_type": "code",
   "execution_count": null,
   "id": "cdd8b019-fe0d-41e3-a8e9-6f713aa4aef2",
   "metadata": {},
   "outputs": [],
   "source": [
    "check_df[(check_df['TimeQueued'].dt.date > check_df['QueueDate'].dt.date)].shape[0]\n",
    "\n",
    "#check_df[(check_df['QueueDate'].dt.date == check_df['StartTime'].dt.date)].shape[0]"
   ]
  },
  {
   "cell_type": "code",
   "execution_count": null,
   "id": "caabd920-c93b-48a4-bed3-7dedcb9406e5",
   "metadata": {},
   "outputs": [],
   "source": [
    "consultations_df = appointments_df[(appointments_df['type'] == 'Consultation')&(appointments_df['Virtual'] == True)]"
   ]
  },
  {
   "cell_type": "code",
   "execution_count": null,
   "id": "bae39e36-5597-4c38-a103-f1c3659413ca",
   "metadata": {},
   "outputs": [],
   "source": [
    "consultations_df['Duration'].value_counts()"
   ]
  },
  {
   "cell_type": "code",
   "execution_count": null,
   "id": "b29aaa47-bcf5-4834-9693-68fd6cfbf084",
   "metadata": {},
   "outputs": [],
   "source": [
    "appointments_df[appointments_df['type'] == 'Consultation']['Duration'].dt.days.value_counts()"
   ]
  },
  {
   "cell_type": "code",
   "execution_count": null,
   "id": "0ae57395-052c-4d90-a9fd-e04a40b249d8",
   "metadata": {},
   "outputs": [],
   "source": [
    "appointments_df[(appointments_df['type'] == 'Consultation') & (appointments_df['Duration'].dt.time > 15)].shape[0]"
   ]
  },
  {
   "cell_type": "code",
   "execution_count": null,
   "id": "b205409d-8c53-4350-8073-91d80e29b7b1",
   "metadata": {},
   "outputs": [],
   "source": [
    "count = appointments_df[(appointments_df['type'] == 'Inpatient') & (appointments_df['Virtual'].isna())].shape[0]\n",
    "count1 = appointments_df[(appointments_df['type'] == 'Inpatient') & (appointments_df['Virtual'].notna())].shape[0]\n",
    "\n",
    "print(\"Number of appointments where type is 'Inpatient' and 'Virtual' is NaN:\", count)\n",
    "print(\"Number of appointments where type is 'Inpatient' and 'Virtual' is not NaN:\", count1)"
   ]
  },
  {
   "cell_type": "code",
   "execution_count": null,
   "id": "b1f57dd9-24d9-4592-8ee3-6990a1f1ea15",
   "metadata": {},
   "outputs": [],
   "source": [
    "final_appointments_df['status'].value_counts()"
   ]
  },
  {
   "cell_type": "code",
   "execution_count": null,
   "id": "1cf68a4f-da01-472e-82ad-072c48d6b55f",
   "metadata": {},
   "outputs": [],
   "source": []
  },
  {
   "cell_type": "code",
   "execution_count": null,
   "id": "67cd335d-6733-40e8-8bb9-38fceaf1c5d1",
   "metadata": {},
   "outputs": [],
   "source": [
    "final_appointments_df[final_appointments_df['status'] == 'Admitted']"
   ]
  },
  {
   "cell_type": "code",
   "execution_count": null,
   "id": "a0f7388c-63ce-4279-893a-fb2dbd0132da",
   "metadata": {},
   "outputs": [],
   "source": [
    "appointments_df['status'].value_counts()"
   ]
  },
  {
   "cell_type": "code",
   "execution_count": null,
   "id": "ea64dd0c-0dee-4cda-a54d-09955fde9ec8",
   "metadata": {},
   "outputs": [],
   "source": [
    "appointments_df = appointments_df[((appointments_df['status'] != 'Complete') | (appointments_df['EndTime'].notna()))]\n",
    "# appointments_df = appointments_df[((appointments_df['status'] != 'NoShow') | (appointments_df['EndTime'].notna()))]"
   ]
  },
  {
   "cell_type": "markdown",
   "id": "bdbcf435-8558-4d87-800b-486573c27214",
   "metadata": {
    "jp-MarkdownHeadingCollapsed": true
   },
   "source": [
    "### FORMATTING TIMES VARIABLES"
   ]
  },
  {
   "cell_type": "code",
   "execution_count": null,
   "id": "2d831738-de9d-4f3a-ac7a-1cd0909060d1",
   "metadata": {},
   "outputs": [],
   "source": [
    "# get date\n",
    "appointments_df['QueueDate'] = pd.to_datetime(appointments_df['QueueDate'], errors='coerce').dt.date\n",
    "# convert to datetime data type\n",
    "appointments_df['QueueDate'] = pd.to_datetime(appointments_df['QueueDate'], errors='coerce')"
   ]
  },
  {
   "cell_type": "code",
   "execution_count": null,
   "id": "8b9af8cc-d1a9-455b-bbc5-beb625d8820a",
   "metadata": {},
   "outputs": [],
   "source": [
    "# Remove the date component\n",
    "appointmeznts_df['TimeQueued'] = appointments_df['TimeQueued'].dt.time\n",
    "appointments_dfZ"
   ]
  },
  {
   "cell_type": "markdown",
   "id": "45121e32-12e7-4998-b7a8-af48ffbd28a0",
   "metadata": {},
   "source": [
    "## Exporting Files"
   ]
  },
  {
   "cell_type": "code",
   "execution_count": 78,
   "id": "12973279-878f-4a86-84b5-ca55f73942b3",
   "metadata": {},
   "outputs": [],
   "source": [
    "# Select the column you want to export\n",
    "selected_column = final_appointments_df\n",
    "\n",
    "# Write the selected column to a new CSV file\n",
    "selected_column.to_csv('final-appointments.csv', index=False)"
   ]
  },
  {
   "cell_type": "code",
   "execution_count": null,
   "id": "a714fa44-0208-4f9d-ba32-f9af48074f39",
   "metadata": {},
   "outputs": [],
   "source": [
    "appointments_df[(appointments_df['type'] == 'Inpatient') & (appointments_df['Virtual'].notna())]"
   ]
  },
  {
   "cell_type": "code",
   "execution_count": null,
   "id": "2ac82be8-1ed2-43d5-8d69-3c1f41fc8094",
   "metadata": {},
   "outputs": [],
   "source": [
    "count = appointments_df[(appointments_df['type'] == 'Inpatient') & (appointments_df['Valid'] == '0')].shape[0]\n",
    "\n",
    "print(\"Number of appointments where type is 'Inpatient' and 'valid' is NaN:\", count)"
   ]
  },
  {
   "cell_type": "code",
   "execution_count": null,
   "id": "cd3dbb5c-829a-462d-bcd7-11ceb6daa7ff",
   "metadata": {},
   "outputs": [],
   "source": [
    "consultations_df = appointments_df[(appointments_df['type'] == 'Consultation')&(appointments_df['Virtual'] == True)]"
   ]
  },
  {
   "cell_type": "code",
   "execution_count": null,
   "id": "f604f80c-629f-4783-830c-c33081e66139",
   "metadata": {},
   "outputs": [],
   "source": [
    "dff = appointments_df[(appointments_df['TimeQueued'].dt.date > appointments_df['QueueDate'].dt.date) & (appointments_df['type'] == 'Inpatient')]\n",
    "\n",
    "dff['status'].value_counts()"
   ]
  },
  {
   "cell_type": "code",
   "execution_count": null,
   "id": "c13df9de-23dc-4819-b2b1-86f608a8055d",
   "metadata": {},
   "outputs": [],
   "source": [
    "#Complete', 'Queued', 'NoShow', 'Serving', 'Cancel', 'Skip','Completed', 'Admitted\n",
    "\n",
    "specific_status_rows = appointments_df[appointments_df['type'] == 'Inpatient']\n",
    "specific_status_rows\n"
   ]
  },
  {
   "cell_type": "code",
   "execution_count": null,
   "id": "f66be0c2-8615-4069-97e0-ca975bc27c55",
   "metadata": {},
   "outputs": [],
   "source": [
    "appointments_df[appointments_df['Virtual'].isna()]"
   ]
  },
  {
   "cell_type": "code",
   "execution_count": null,
   "id": "afa36471-baa3-44fd-874e-6b71f1a78bf4",
   "metadata": {},
   "outputs": [],
   "source": [
    "consultations_df['Duration'].value_counts()"
   ]
  },
  {
   "cell_type": "code",
   "execution_count": null,
   "id": "da52e016-1e97-4029-9dfd-bb6347987861",
   "metadata": {},
   "outputs": [],
   "source": [
    "appointments_df['status'].value_counts()"
   ]
  },
  {
   "cell_type": "code",
   "execution_count": null,
   "id": "3bad3620-9c37-4a61-b5d4-8149508487a8",
   "metadata": {},
   "outputs": [],
   "source": [
    "extraappt_df = appointments_df\n",
    "extraappt_df"
   ]
  },
  {
   "cell_type": "code",
   "execution_count": null,
   "id": "33654094-a44f-4031-9a26-1e75507e28d8",
   "metadata": {},
   "outputs": [],
   "source": [
    "extraappt_df"
   ]
  },
  {
   "cell_type": "code",
   "execution_count": null,
   "id": "09210077-aaad-40e9-94da-d47ce7587397",
   "metadata": {},
   "outputs": [],
   "source": [
    "consults_df"
   ]
  },
  {
   "cell_type": "code",
   "execution_count": null,
   "id": "da5cc95c-d3cc-4ec0-b8e4-e9fae8b0ffe2",
   "metadata": {},
   "outputs": [],
   "source": [
    "extraappt_df['Valid'].value_counts()"
   ]
  },
  {
   "cell_type": "code",
   "execution_count": null,
   "id": "e4b6e406-7b12-4582-8854-4bb2d5ec3ff4",
   "metadata": {},
   "outputs": [],
   "source": [
    "extraappt_df['type'] == 'Inpatient']"
   ]
  },
  {
   "cell_type": "code",
   "execution_count": null,
   "id": "b36b988c-ba93-447a-9099-6fc8a9b14205",
   "metadata": {},
   "outputs": [],
   "source": [
    "count = extraappt_df[(extraappt_df['Valid'] == '0') & (appointments_df['type'] == 'Consultation')].shape[0]\n",
    "count1 = extraappt_df[(extraappt_df['Valid'] == '0') & (appointments_df['type'] == 'Inpatient')].shape[0]\n",
    "\n",
    "print(\"Number of appointments where type is 'Consultation' and 'Virtual' is NaN:\", count)\n",
    "print(\"Number of appointments where type is 'Consultation' and 'Virtual' is NaN:\", count1)"
   ]
  },
  {
   "cell_type": "code",
   "execution_count": null,
   "id": "8c5bb908-0ad0-4772-9861-2574d399061f",
   "metadata": {},
   "outputs": [],
   "source": [
    "consults_df['QueueDifference'] = consults_df['QueueDifference'].dt.days"
   ]
  },
  {
   "cell_type": "code",
   "execution_count": null,
   "id": "04b9ea8f-cf8e-421d-906d-29432b09ebbd",
   "metadata": {
    "scrolled": true
   },
   "outputs": [],
   "source": [
    "consults_df['QueueDifference'].value_counts()"
   ]
  },
  {
   "cell_type": "code",
   "execution_count": null,
   "id": "1617f4e9-6f20-4788-a9f4-9de102c620d9",
   "metadata": {},
   "outputs": [],
   "source": [
    "consults_df['Duration'].dt.days.value_counts()"
   ]
  },
  {
   "cell_type": "code",
   "execution_count": null,
   "id": "008554e7-a702-4ac7-aab8-e2b5cabc9c80",
   "metadata": {},
   "outputs": [],
   "source": [
    "consults_df['WaitingTime'].dt.days.value_counts().sort_index()"
   ]
  },
  {
   "cell_type": "code",
   "execution_count": null,
   "id": "726bed7f-46de-44cc-a7ff-576c3e03d23e",
   "metadata": {},
   "outputs": [],
   "source": [
    "consults_df[consults_df['WaitingTime'].dt.days == 0]"
   ]
  },
  {
   "cell_type": "code",
   "execution_count": null,
   "id": "158da4cc-2955-49f0-9cd5-1cbc3b80a07c",
   "metadata": {},
   "outputs": [],
   "source": [
    "consults_df = extraappt_df[(extraappt_df['Valid'] == '0') & (appointments_df['type'] == 'Consultation')]\n",
    "\n",
    "count = extraappt_df[(extraappt_df['Valid'] == '0') & (appointments_df['type'] == 'Consultation')].shape[0]\n",
    "print(\"Number of appointments where type is 'Consultation' and 'Virtual' is NaN:\", count)"
   ]
  },
  {
   "cell_type": "code",
   "execution_count": null,
   "id": "983c5e43-0e57-4b3b-bed2-2234aa709b0d",
   "metadata": {},
   "outputs": [],
   "source": [
    "appointments_df = appointments_df.drop(columns=['QueueDifference', 'WaitingTime', 'Duration', 'Valid'])"
   ]
  },
  {
   "cell_type": "code",
   "execution_count": null,
   "id": "cfc3c4d7-de5f-4662-80f5-46a696a744a7",
   "metadata": {},
   "outputs": [],
   "source": [
    "appointments_df"
   ]
  },
  {
   "cell_type": "code",
   "execution_count": null,
   "id": "e3f57adf-ba2b-4392-88aa-2d992e4e5a01",
   "metadata": {},
   "outputs": [],
   "source": [
    "appointments_df = extraappt_df\n",
    "appointments_df"
   ]
  },
  {
   "cell_type": "code",
   "execution_count": null,
   "id": "dcba52e2-85f2-4738-8421-bcffa9456089",
   "metadata": {},
   "outputs": [],
   "source": []
  }
 ],
 "metadata": {
  "kernelspec": {
   "display_name": "Python 3 (ipykernel)",
   "language": "python",
   "name": "python3"
  },
  "language_info": {
   "codemirror_mode": {
    "name": "ipython",
    "version": 3
   },
   "file_extension": ".py",
   "mimetype": "text/x-python",
   "name": "python",
   "nbconvert_exporter": "python",
   "pygments_lexer": "ipython3",
   "version": "3.9.5"
  }
 },
 "nbformat": 4,
 "nbformat_minor": 5
}
